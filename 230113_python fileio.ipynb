{
  "nbformat": 4,
  "nbformat_minor": 0,
  "metadata": {
    "colab": {
      "provenance": []
    },
    "kernelspec": {
      "name": "python3",
      "display_name": "Python 3"
    },
    "language_info": {
      "name": "python"
    }
  },
  "cells": [
    {
      "cell_type": "markdown",
      "source": [
        "## File I/O"
      ],
      "metadata": {
        "id": "l-hGhSl345ML"
      }
    },
    {
      "cell_type": "code",
      "source": [
        "import pandas as pd\n",
        "import json\n",
        "import requests\n",
        "import lxml # html.parser가 파이썬에 이미 내장되어있으나, 성능이 좋지 않아 lxml 사용\n",
        "from bs4 import BeautifulSoup\n",
        "from random import randint"
      ],
      "metadata": {
        "id": "X_HEcyksYlH5"
      },
      "execution_count": 1,
      "outputs": []
    },
    {
      "cell_type": "code",
      "execution_count": 2,
      "metadata": {
        "id": "9Jryw8ffORxV"
      },
      "outputs": [],
      "source": [
        "f = open(\"./sample_data/users.txt\", 'r')"
      ]
    },
    {
      "cell_type": "code",
      "source": [
        "f"
      ],
      "metadata": {
        "colab": {
          "base_uri": "https://localhost:8080/"
        },
        "id": "l-XgAvqEPwau",
        "outputId": "7ba918af-1805-4444-9587-42fd9407b108"
      },
      "execution_count": 3,
      "outputs": [
        {
          "output_type": "execute_result",
          "data": {
            "text/plain": [
              "<_io.TextIOWrapper name='./sample_data/users.txt' mode='r' encoding='UTF-8'>"
            ]
          },
          "metadata": {},
          "execution_count": 3
        }
      ]
    },
    {
      "cell_type": "code",
      "source": [
        "f.readline()  # read a line"
      ],
      "metadata": {
        "colab": {
          "base_uri": "https://localhost:8080/",
          "height": 35
        },
        "id": "TSzuP5uLPzJL",
        "outputId": "7fb76aa6-ea47-4c34-ac45-fec7011f49da"
      },
      "execution_count": 4,
      "outputs": [
        {
          "output_type": "execute_result",
          "data": {
            "text/plain": [
              "''"
            ],
            "application/vnd.google.colaboratory.intrinsic+json": {
              "type": "string"
            }
          },
          "metadata": {},
          "execution_count": 4
        }
      ]
    },
    {
      "cell_type": "code",
      "source": [
        "f = open(\"./sample_data/README.md\", \"r\")"
      ],
      "metadata": {
        "id": "hISNke35P9qS"
      },
      "execution_count": 5,
      "outputs": []
    },
    {
      "cell_type": "code",
      "source": [
        "f"
      ],
      "metadata": {
        "colab": {
          "base_uri": "https://localhost:8080/"
        },
        "id": "34crBigNQNE3",
        "outputId": "0e77e8f1-7d8d-4526-86bb-d7ade5f07eaa"
      },
      "execution_count": 6,
      "outputs": [
        {
          "output_type": "execute_result",
          "data": {
            "text/plain": [
              "<_io.TextIOWrapper name='./sample_data/README.md' mode='r' encoding='UTF-8'>"
            ]
          },
          "metadata": {},
          "execution_count": 6
        }
      ]
    },
    {
      "cell_type": "code",
      "source": [
        "f.readline()"
      ],
      "metadata": {
        "colab": {
          "base_uri": "https://localhost:8080/",
          "height": 35
        },
        "id": "PAiT2iowQPbC",
        "outputId": "b6b6ea0f-0e32-419c-fb49-d50eed8c7438"
      },
      "execution_count": 7,
      "outputs": [
        {
          "output_type": "execute_result",
          "data": {
            "text/plain": [
              "'This directory includes a few sample datasets to get you started.\\n'"
            ],
            "application/vnd.google.colaboratory.intrinsic+json": {
              "type": "string"
            }
          },
          "metadata": {},
          "execution_count": 7
        }
      ]
    },
    {
      "cell_type": "code",
      "source": [
        "f.readlines() # read lines and return as list"
      ],
      "metadata": {
        "colab": {
          "base_uri": "https://localhost:8080/"
        },
        "id": "NCW9K_FZQQs6",
        "outputId": "0a36b62f-4a09-49cf-887b-181109b79c00"
      },
      "execution_count": 8,
      "outputs": [
        {
          "output_type": "execute_result",
          "data": {
            "text/plain": [
              "['\\n',\n",
              " '*   `california_housing_data*.csv` is California housing data from the 1990 US\\n',\n",
              " '    Census; more information is available at:\\n',\n",
              " '    https://developers.google.com/machine-learning/crash-course/california-housing-data-description\\n',\n",
              " '\\n',\n",
              " '*   `mnist_*.csv` is a small sample of the\\n',\n",
              " '    [MNIST database](https://en.wikipedia.org/wiki/MNIST_database), which is\\n',\n",
              " '    described at: http://yann.lecun.com/exdb/mnist/\\n',\n",
              " '\\n',\n",
              " '*   `anscombe.json` contains a copy of\\n',\n",
              " \"    [Anscombe's quartet](https://en.wikipedia.org/wiki/Anscombe%27s_quartet); it\\n\",\n",
              " '    was originally described in\\n',\n",
              " '\\n',\n",
              " \"    Anscombe, F. J. (1973). 'Graphs in Statistical Analysis'. American\\n\",\n",
              " '    Statistician. 27 (1): 17-21. JSTOR 2682899.\\n',\n",
              " '\\n',\n",
              " '    and our copy was prepared by the\\n',\n",
              " '    [vega_datasets library](https://github.com/altair-viz/vega_datasets/blob/4f67bdaad10f45e3549984e17e1b3088c731503d/vega_datasets/_data/anscombe.json).\\n']"
            ]
          },
          "metadata": {},
          "execution_count": 8
        }
      ]
    },
    {
      "cell_type": "code",
      "source": [
        "f.close()"
      ],
      "metadata": {
        "id": "8Xc7wPtPQcZD"
      },
      "execution_count": 9,
      "outputs": []
    },
    {
      "cell_type": "code",
      "source": [
        "f = open('./hello.txt', 'w')"
      ],
      "metadata": {
        "id": "L5zhwZn3QnUd"
      },
      "execution_count": 10,
      "outputs": []
    },
    {
      "cell_type": "code",
      "source": [
        "f.write('file I/O class\\n')"
      ],
      "metadata": {
        "colab": {
          "base_uri": "https://localhost:8080/"
        },
        "id": "V0SQDfdJQ5et",
        "outputId": "8372284d-420a-4c95-9455-1667696b026b"
      },
      "execution_count": 11,
      "outputs": [
        {
          "output_type": "execute_result",
          "data": {
            "text/plain": [
              "15"
            ]
          },
          "metadata": {},
          "execution_count": 11
        }
      ]
    },
    {
      "cell_type": "code",
      "source": [
        "f.write('contents')\n",
        "f.write('- How to start')\n",
        "f.write('- Installation')\n",
        "f.write('-Features')"
      ],
      "metadata": {
        "colab": {
          "base_uri": "https://localhost:8080/"
        },
        "id": "Ep4onN_nRIyP",
        "outputId": "8115eb08-cd83-4d22-ca75-0efa9501f773"
      },
      "execution_count": 12,
      "outputs": [
        {
          "output_type": "execute_result",
          "data": {
            "text/plain": [
              "9"
            ]
          },
          "metadata": {},
          "execution_count": 12
        }
      ]
    },
    {
      "cell_type": "code",
      "source": [
        "f.close()"
      ],
      "metadata": {
        "id": "WeYKSvL5RYla"
      },
      "execution_count": 13,
      "outputs": []
    },
    {
      "cell_type": "code",
      "source": [
        "f = open('./hello.txt', 'r')\n",
        "f.readlines()"
      ],
      "metadata": {
        "colab": {
          "base_uri": "https://localhost:8080/"
        },
        "id": "-eJec7G4Rab7",
        "outputId": "4b21b084-6f4a-49c8-b2d8-179c6f5c77f0"
      },
      "execution_count": 14,
      "outputs": [
        {
          "output_type": "execute_result",
          "data": {
            "text/plain": [
              "['file I/O class\\n', 'contents- How to start- Installation-Features']"
            ]
          },
          "metadata": {},
          "execution_count": 14
        }
      ]
    },
    {
      "cell_type": "code",
      "source": [
        "f = open('./hello.txt', 'a')\n",
        "for i in range(1, 10 + 1):\n",
        "  f.write(f'{i}')"
      ],
      "metadata": {
        "id": "AY1WnUxyRrck"
      },
      "execution_count": 15,
      "outputs": []
    },
    {
      "cell_type": "code",
      "source": [
        "f.close()"
      ],
      "metadata": {
        "id": "-sMWwkiHS-RE"
      },
      "execution_count": 16,
      "outputs": []
    },
    {
      "cell_type": "code",
      "source": [
        "f = open('./hello.txt', 'a')\n",
        "for i in range(11, 20 + 1):\n",
        "  f.write(f'{i}\\n')\n",
        "\n",
        "f.close()"
      ],
      "metadata": {
        "id": "QQlbI8XRTC58"
      },
      "execution_count": 17,
      "outputs": []
    },
    {
      "cell_type": "code",
      "source": [
        "f = open('./hello.txt', 'r')\n",
        "f.readlines()"
      ],
      "metadata": {
        "colab": {
          "base_uri": "https://localhost:8080/"
        },
        "id": "ZkGGVa6ZTOdF",
        "outputId": "0f2c5a44-99e3-4e4b-d159-fa3449cd4c4a"
      },
      "execution_count": 18,
      "outputs": [
        {
          "output_type": "execute_result",
          "data": {
            "text/plain": [
              "['file I/O class\\n',\n",
              " 'contents- How to start- Installation-Features1234567891011\\n',\n",
              " '12\\n',\n",
              " '13\\n',\n",
              " '14\\n',\n",
              " '15\\n',\n",
              " '16\\n',\n",
              " '17\\n',\n",
              " '18\\n',\n",
              " '19\\n',\n",
              " '20\\n']"
            ]
          },
          "metadata": {},
          "execution_count": 18
        }
      ]
    },
    {
      "cell_type": "code",
      "source": [
        "f = open('./hello.txt', 'a')\n",
        "for i in range(21, 30 + 1):\n",
        "  f.write(f'{i}\\n')\n",
        "\n",
        "f.close()"
      ],
      "metadata": {
        "id": "aCIkk2FKTUMi"
      },
      "execution_count": 19,
      "outputs": []
    },
    {
      "cell_type": "code",
      "source": [
        "f = open('./hello.txt', 'r')\n",
        "text_lines = f.readlines()\n",
        "for line in text_lines:\n",
        "  print(line)\n",
        "f.close()"
      ],
      "metadata": {
        "colab": {
          "base_uri": "https://localhost:8080/"
        },
        "id": "vtlOsKVsTxEe",
        "outputId": "2f530a04-5592-4e40-d12b-c726ab643faa"
      },
      "execution_count": 20,
      "outputs": [
        {
          "output_type": "stream",
          "name": "stdout",
          "text": [
            "file I/O class\n",
            "\n",
            "contents- How to start- Installation-Features1234567891011\n",
            "\n",
            "12\n",
            "\n",
            "13\n",
            "\n",
            "14\n",
            "\n",
            "15\n",
            "\n",
            "16\n",
            "\n",
            "17\n",
            "\n",
            "18\n",
            "\n",
            "19\n",
            "\n",
            "20\n",
            "\n",
            "21\n",
            "\n",
            "22\n",
            "\n",
            "23\n",
            "\n",
            "24\n",
            "\n",
            "25\n",
            "\n",
            "26\n",
            "\n",
            "27\n",
            "\n",
            "28\n",
            "\n",
            "29\n",
            "\n",
            "30\n",
            "\n"
          ]
        }
      ]
    },
    {
      "cell_type": "code",
      "source": [
        "with open('./hello.txt', 'r') as f:\n",
        "  result = []\n",
        "  while True:\n",
        "    line = f.readline()\n",
        "    if not line: break\n",
        "    result.append(line)\n",
        "result"
      ],
      "metadata": {
        "colab": {
          "base_uri": "https://localhost:8080/"
        },
        "id": "yYkH3Iv0TyWJ",
        "outputId": "72c3779a-c2c2-4456-de0f-35136af2ea15"
      },
      "execution_count": 21,
      "outputs": [
        {
          "output_type": "execute_result",
          "data": {
            "text/plain": [
              "['file I/O class\\n',\n",
              " 'contents- How to start- Installation-Features1234567891011\\n',\n",
              " '12\\n',\n",
              " '13\\n',\n",
              " '14\\n',\n",
              " '15\\n',\n",
              " '16\\n',\n",
              " '17\\n',\n",
              " '18\\n',\n",
              " '19\\n',\n",
              " '20\\n',\n",
              " '21\\n',\n",
              " '22\\n',\n",
              " '23\\n',\n",
              " '24\\n',\n",
              " '25\\n',\n",
              " '26\\n',\n",
              " '27\\n',\n",
              " '28\\n',\n",
              " '29\\n',\n",
              " '30\\n']"
            ]
          },
          "metadata": {},
          "execution_count": 21
        }
      ]
    },
    {
      "cell_type": "code",
      "source": [
        "with open('./learn-korean.txt', 'w', encoding='CP949') as f:\n",
        "  f.write('안녕하세요\\n')"
      ],
      "metadata": {
        "id": "24pKL9RtWBgw"
      },
      "execution_count": 22,
      "outputs": []
    },
    {
      "cell_type": "code",
      "source": [
        "with open('./learn-korean.txt', 'r', encoding='CP949') as f:\n",
        "  res = f.readlines()"
      ],
      "metadata": {
        "id": "gKqhDCm0XId7"
      },
      "execution_count": 23,
      "outputs": []
    },
    {
      "cell_type": "code",
      "source": [
        "res"
      ],
      "metadata": {
        "colab": {
          "base_uri": "https://localhost:8080/"
        },
        "id": "PjM2rZAIXMCr",
        "outputId": "f4244120-6fb5-4652-8d38-c13adf8afda2"
      },
      "execution_count": 24,
      "outputs": [
        {
          "output_type": "execute_result",
          "data": {
            "text/plain": [
              "['안녕하세요\\n']"
            ]
          },
          "metadata": {},
          "execution_count": 24
        }
      ]
    },
    {
      "cell_type": "code",
      "source": [
        "comma_spread = 'John Doe, 26, CA, Student'"
      ],
      "metadata": {
        "id": "bwlNU8q7XQer"
      },
      "execution_count": 25,
      "outputs": []
    },
    {
      "cell_type": "code",
      "source": [
        "print(comma_spread.split(','))"
      ],
      "metadata": {
        "colab": {
          "base_uri": "https://localhost:8080/"
        },
        "id": "6MtOTHKiYvQI",
        "outputId": "4f3cc984-634d-4d0c-f7a2-83f94f82ba71"
      },
      "execution_count": 26,
      "outputs": [
        {
          "output_type": "stream",
          "name": "stdout",
          "text": [
            "['John Doe', ' 26', ' CA', ' Student']\n"
          ]
        }
      ]
    },
    {
      "cell_type": "code",
      "source": [
        "df = pd.read_csv('./sample_data/california_housing_test.csv')\n",
        "df"
      ],
      "metadata": {
        "colab": {
          "base_uri": "https://localhost:8080/",
          "height": 487
        },
        "id": "dZZnW9OFYyBR",
        "outputId": "023453a4-63cf-4252-9f90-a4a64ec01ef7"
      },
      "execution_count": 27,
      "outputs": [
        {
          "output_type": "execute_result",
          "data": {
            "text/plain": [
              "      longitude  latitude  housing_median_age  total_rooms  total_bedrooms  \\\n",
              "0       -122.05     37.37                27.0       3885.0           661.0   \n",
              "1       -118.30     34.26                43.0       1510.0           310.0   \n",
              "2       -117.81     33.78                27.0       3589.0           507.0   \n",
              "3       -118.36     33.82                28.0         67.0            15.0   \n",
              "4       -119.67     36.33                19.0       1241.0           244.0   \n",
              "...         ...       ...                 ...          ...             ...   \n",
              "2995    -119.86     34.42                23.0       1450.0           642.0   \n",
              "2996    -118.14     34.06                27.0       5257.0          1082.0   \n",
              "2997    -119.70     36.30                10.0        956.0           201.0   \n",
              "2998    -117.12     34.10                40.0         96.0            14.0   \n",
              "2999    -119.63     34.42                42.0       1765.0           263.0   \n",
              "\n",
              "      population  households  median_income  median_house_value  \n",
              "0         1537.0       606.0         6.6085            344700.0  \n",
              "1          809.0       277.0         3.5990            176500.0  \n",
              "2         1484.0       495.0         5.7934            270500.0  \n",
              "3           49.0        11.0         6.1359            330000.0  \n",
              "4          850.0       237.0         2.9375             81700.0  \n",
              "...          ...         ...            ...                 ...  \n",
              "2995      1258.0       607.0         1.1790            225000.0  \n",
              "2996      3496.0      1036.0         3.3906            237200.0  \n",
              "2997       693.0       220.0         2.2895             62000.0  \n",
              "2998        46.0        14.0         3.2708            162500.0  \n",
              "2999       753.0       260.0         8.5608            500001.0  \n",
              "\n",
              "[3000 rows x 9 columns]"
            ],
            "text/html": [
              "\n",
              "  <div id=\"df-f2d19fb4-875a-4e7e-ae69-c9cec5140740\">\n",
              "    <div class=\"colab-df-container\">\n",
              "      <div>\n",
              "<style scoped>\n",
              "    .dataframe tbody tr th:only-of-type {\n",
              "        vertical-align: middle;\n",
              "    }\n",
              "\n",
              "    .dataframe tbody tr th {\n",
              "        vertical-align: top;\n",
              "    }\n",
              "\n",
              "    .dataframe thead th {\n",
              "        text-align: right;\n",
              "    }\n",
              "</style>\n",
              "<table border=\"1\" class=\"dataframe\">\n",
              "  <thead>\n",
              "    <tr style=\"text-align: right;\">\n",
              "      <th></th>\n",
              "      <th>longitude</th>\n",
              "      <th>latitude</th>\n",
              "      <th>housing_median_age</th>\n",
              "      <th>total_rooms</th>\n",
              "      <th>total_bedrooms</th>\n",
              "      <th>population</th>\n",
              "      <th>households</th>\n",
              "      <th>median_income</th>\n",
              "      <th>median_house_value</th>\n",
              "    </tr>\n",
              "  </thead>\n",
              "  <tbody>\n",
              "    <tr>\n",
              "      <th>0</th>\n",
              "      <td>-122.05</td>\n",
              "      <td>37.37</td>\n",
              "      <td>27.0</td>\n",
              "      <td>3885.0</td>\n",
              "      <td>661.0</td>\n",
              "      <td>1537.0</td>\n",
              "      <td>606.0</td>\n",
              "      <td>6.6085</td>\n",
              "      <td>344700.0</td>\n",
              "    </tr>\n",
              "    <tr>\n",
              "      <th>1</th>\n",
              "      <td>-118.30</td>\n",
              "      <td>34.26</td>\n",
              "      <td>43.0</td>\n",
              "      <td>1510.0</td>\n",
              "      <td>310.0</td>\n",
              "      <td>809.0</td>\n",
              "      <td>277.0</td>\n",
              "      <td>3.5990</td>\n",
              "      <td>176500.0</td>\n",
              "    </tr>\n",
              "    <tr>\n",
              "      <th>2</th>\n",
              "      <td>-117.81</td>\n",
              "      <td>33.78</td>\n",
              "      <td>27.0</td>\n",
              "      <td>3589.0</td>\n",
              "      <td>507.0</td>\n",
              "      <td>1484.0</td>\n",
              "      <td>495.0</td>\n",
              "      <td>5.7934</td>\n",
              "      <td>270500.0</td>\n",
              "    </tr>\n",
              "    <tr>\n",
              "      <th>3</th>\n",
              "      <td>-118.36</td>\n",
              "      <td>33.82</td>\n",
              "      <td>28.0</td>\n",
              "      <td>67.0</td>\n",
              "      <td>15.0</td>\n",
              "      <td>49.0</td>\n",
              "      <td>11.0</td>\n",
              "      <td>6.1359</td>\n",
              "      <td>330000.0</td>\n",
              "    </tr>\n",
              "    <tr>\n",
              "      <th>4</th>\n",
              "      <td>-119.67</td>\n",
              "      <td>36.33</td>\n",
              "      <td>19.0</td>\n",
              "      <td>1241.0</td>\n",
              "      <td>244.0</td>\n",
              "      <td>850.0</td>\n",
              "      <td>237.0</td>\n",
              "      <td>2.9375</td>\n",
              "      <td>81700.0</td>\n",
              "    </tr>\n",
              "    <tr>\n",
              "      <th>...</th>\n",
              "      <td>...</td>\n",
              "      <td>...</td>\n",
              "      <td>...</td>\n",
              "      <td>...</td>\n",
              "      <td>...</td>\n",
              "      <td>...</td>\n",
              "      <td>...</td>\n",
              "      <td>...</td>\n",
              "      <td>...</td>\n",
              "    </tr>\n",
              "    <tr>\n",
              "      <th>2995</th>\n",
              "      <td>-119.86</td>\n",
              "      <td>34.42</td>\n",
              "      <td>23.0</td>\n",
              "      <td>1450.0</td>\n",
              "      <td>642.0</td>\n",
              "      <td>1258.0</td>\n",
              "      <td>607.0</td>\n",
              "      <td>1.1790</td>\n",
              "      <td>225000.0</td>\n",
              "    </tr>\n",
              "    <tr>\n",
              "      <th>2996</th>\n",
              "      <td>-118.14</td>\n",
              "      <td>34.06</td>\n",
              "      <td>27.0</td>\n",
              "      <td>5257.0</td>\n",
              "      <td>1082.0</td>\n",
              "      <td>3496.0</td>\n",
              "      <td>1036.0</td>\n",
              "      <td>3.3906</td>\n",
              "      <td>237200.0</td>\n",
              "    </tr>\n",
              "    <tr>\n",
              "      <th>2997</th>\n",
              "      <td>-119.70</td>\n",
              "      <td>36.30</td>\n",
              "      <td>10.0</td>\n",
              "      <td>956.0</td>\n",
              "      <td>201.0</td>\n",
              "      <td>693.0</td>\n",
              "      <td>220.0</td>\n",
              "      <td>2.2895</td>\n",
              "      <td>62000.0</td>\n",
              "    </tr>\n",
              "    <tr>\n",
              "      <th>2998</th>\n",
              "      <td>-117.12</td>\n",
              "      <td>34.10</td>\n",
              "      <td>40.0</td>\n",
              "      <td>96.0</td>\n",
              "      <td>14.0</td>\n",
              "      <td>46.0</td>\n",
              "      <td>14.0</td>\n",
              "      <td>3.2708</td>\n",
              "      <td>162500.0</td>\n",
              "    </tr>\n",
              "    <tr>\n",
              "      <th>2999</th>\n",
              "      <td>-119.63</td>\n",
              "      <td>34.42</td>\n",
              "      <td>42.0</td>\n",
              "      <td>1765.0</td>\n",
              "      <td>263.0</td>\n",
              "      <td>753.0</td>\n",
              "      <td>260.0</td>\n",
              "      <td>8.5608</td>\n",
              "      <td>500001.0</td>\n",
              "    </tr>\n",
              "  </tbody>\n",
              "</table>\n",
              "<p>3000 rows × 9 columns</p>\n",
              "</div>\n",
              "      <button class=\"colab-df-convert\" onclick=\"convertToInteractive('df-f2d19fb4-875a-4e7e-ae69-c9cec5140740')\"\n",
              "              title=\"Convert this dataframe to an interactive table.\"\n",
              "              style=\"display:none;\">\n",
              "        \n",
              "  <svg xmlns=\"http://www.w3.org/2000/svg\" height=\"24px\"viewBox=\"0 0 24 24\"\n",
              "       width=\"24px\">\n",
              "    <path d=\"M0 0h24v24H0V0z\" fill=\"none\"/>\n",
              "    <path d=\"M18.56 5.44l.94 2.06.94-2.06 2.06-.94-2.06-.94-.94-2.06-.94 2.06-2.06.94zm-11 1L8.5 8.5l.94-2.06 2.06-.94-2.06-.94L8.5 2.5l-.94 2.06-2.06.94zm10 10l.94 2.06.94-2.06 2.06-.94-2.06-.94-.94-2.06-.94 2.06-2.06.94z\"/><path d=\"M17.41 7.96l-1.37-1.37c-.4-.4-.92-.59-1.43-.59-.52 0-1.04.2-1.43.59L10.3 9.45l-7.72 7.72c-.78.78-.78 2.05 0 2.83L4 21.41c.39.39.9.59 1.41.59.51 0 1.02-.2 1.41-.59l7.78-7.78 2.81-2.81c.8-.78.8-2.07 0-2.86zM5.41 20L4 18.59l7.72-7.72 1.47 1.35L5.41 20z\"/>\n",
              "  </svg>\n",
              "      </button>\n",
              "      \n",
              "  <style>\n",
              "    .colab-df-container {\n",
              "      display:flex;\n",
              "      flex-wrap:wrap;\n",
              "      gap: 12px;\n",
              "    }\n",
              "\n",
              "    .colab-df-convert {\n",
              "      background-color: #E8F0FE;\n",
              "      border: none;\n",
              "      border-radius: 50%;\n",
              "      cursor: pointer;\n",
              "      display: none;\n",
              "      fill: #1967D2;\n",
              "      height: 32px;\n",
              "      padding: 0 0 0 0;\n",
              "      width: 32px;\n",
              "    }\n",
              "\n",
              "    .colab-df-convert:hover {\n",
              "      background-color: #E2EBFA;\n",
              "      box-shadow: 0px 1px 2px rgba(60, 64, 67, 0.3), 0px 1px 3px 1px rgba(60, 64, 67, 0.15);\n",
              "      fill: #174EA6;\n",
              "    }\n",
              "\n",
              "    [theme=dark] .colab-df-convert {\n",
              "      background-color: #3B4455;\n",
              "      fill: #D2E3FC;\n",
              "    }\n",
              "\n",
              "    [theme=dark] .colab-df-convert:hover {\n",
              "      background-color: #434B5C;\n",
              "      box-shadow: 0px 1px 3px 1px rgba(0, 0, 0, 0.15);\n",
              "      filter: drop-shadow(0px 1px 2px rgba(0, 0, 0, 0.3));\n",
              "      fill: #FFFFFF;\n",
              "    }\n",
              "  </style>\n",
              "\n",
              "      <script>\n",
              "        const buttonEl =\n",
              "          document.querySelector('#df-f2d19fb4-875a-4e7e-ae69-c9cec5140740 button.colab-df-convert');\n",
              "        buttonEl.style.display =\n",
              "          google.colab.kernel.accessAllowed ? 'block' : 'none';\n",
              "\n",
              "        async function convertToInteractive(key) {\n",
              "          const element = document.querySelector('#df-f2d19fb4-875a-4e7e-ae69-c9cec5140740');\n",
              "          const dataTable =\n",
              "            await google.colab.kernel.invokeFunction('convertToInteractive',\n",
              "                                                     [key], {});\n",
              "          if (!dataTable) return;\n",
              "\n",
              "          const docLinkHtml = 'Like what you see? Visit the ' +\n",
              "            '<a target=\"_blank\" href=https://colab.research.google.com/notebooks/data_table.ipynb>data table notebook</a>'\n",
              "            + ' to learn more about interactive tables.';\n",
              "          element.innerHTML = '';\n",
              "          dataTable['output_type'] = 'display_data';\n",
              "          await google.colab.output.renderOutput(dataTable, element);\n",
              "          const docLink = document.createElement('div');\n",
              "          docLink.innerHTML = docLinkHtml;\n",
              "          element.appendChild(docLink);\n",
              "        }\n",
              "      </script>\n",
              "    </div>\n",
              "  </div>\n",
              "  "
            ]
          },
          "metadata": {},
          "execution_count": 27
        }
      ]
    },
    {
      "cell_type": "code",
      "source": [
        "df[['longitude', 'latitude']]"
      ],
      "metadata": {
        "colab": {
          "base_uri": "https://localhost:8080/",
          "height": 423
        },
        "id": "oURMogwfY_2O",
        "outputId": "3df4b48b-b03c-4e78-a850-2f55fd72dc61"
      },
      "execution_count": 28,
      "outputs": [
        {
          "output_type": "execute_result",
          "data": {
            "text/plain": [
              "      longitude  latitude\n",
              "0       -122.05     37.37\n",
              "1       -118.30     34.26\n",
              "2       -117.81     33.78\n",
              "3       -118.36     33.82\n",
              "4       -119.67     36.33\n",
              "...         ...       ...\n",
              "2995    -119.86     34.42\n",
              "2996    -118.14     34.06\n",
              "2997    -119.70     36.30\n",
              "2998    -117.12     34.10\n",
              "2999    -119.63     34.42\n",
              "\n",
              "[3000 rows x 2 columns]"
            ],
            "text/html": [
              "\n",
              "  <div id=\"df-7779c45c-76e9-40f1-a5cb-5be9b036902a\">\n",
              "    <div class=\"colab-df-container\">\n",
              "      <div>\n",
              "<style scoped>\n",
              "    .dataframe tbody tr th:only-of-type {\n",
              "        vertical-align: middle;\n",
              "    }\n",
              "\n",
              "    .dataframe tbody tr th {\n",
              "        vertical-align: top;\n",
              "    }\n",
              "\n",
              "    .dataframe thead th {\n",
              "        text-align: right;\n",
              "    }\n",
              "</style>\n",
              "<table border=\"1\" class=\"dataframe\">\n",
              "  <thead>\n",
              "    <tr style=\"text-align: right;\">\n",
              "      <th></th>\n",
              "      <th>longitude</th>\n",
              "      <th>latitude</th>\n",
              "    </tr>\n",
              "  </thead>\n",
              "  <tbody>\n",
              "    <tr>\n",
              "      <th>0</th>\n",
              "      <td>-122.05</td>\n",
              "      <td>37.37</td>\n",
              "    </tr>\n",
              "    <tr>\n",
              "      <th>1</th>\n",
              "      <td>-118.30</td>\n",
              "      <td>34.26</td>\n",
              "    </tr>\n",
              "    <tr>\n",
              "      <th>2</th>\n",
              "      <td>-117.81</td>\n",
              "      <td>33.78</td>\n",
              "    </tr>\n",
              "    <tr>\n",
              "      <th>3</th>\n",
              "      <td>-118.36</td>\n",
              "      <td>33.82</td>\n",
              "    </tr>\n",
              "    <tr>\n",
              "      <th>4</th>\n",
              "      <td>-119.67</td>\n",
              "      <td>36.33</td>\n",
              "    </tr>\n",
              "    <tr>\n",
              "      <th>...</th>\n",
              "      <td>...</td>\n",
              "      <td>...</td>\n",
              "    </tr>\n",
              "    <tr>\n",
              "      <th>2995</th>\n",
              "      <td>-119.86</td>\n",
              "      <td>34.42</td>\n",
              "    </tr>\n",
              "    <tr>\n",
              "      <th>2996</th>\n",
              "      <td>-118.14</td>\n",
              "      <td>34.06</td>\n",
              "    </tr>\n",
              "    <tr>\n",
              "      <th>2997</th>\n",
              "      <td>-119.70</td>\n",
              "      <td>36.30</td>\n",
              "    </tr>\n",
              "    <tr>\n",
              "      <th>2998</th>\n",
              "      <td>-117.12</td>\n",
              "      <td>34.10</td>\n",
              "    </tr>\n",
              "    <tr>\n",
              "      <th>2999</th>\n",
              "      <td>-119.63</td>\n",
              "      <td>34.42</td>\n",
              "    </tr>\n",
              "  </tbody>\n",
              "</table>\n",
              "<p>3000 rows × 2 columns</p>\n",
              "</div>\n",
              "      <button class=\"colab-df-convert\" onclick=\"convertToInteractive('df-7779c45c-76e9-40f1-a5cb-5be9b036902a')\"\n",
              "              title=\"Convert this dataframe to an interactive table.\"\n",
              "              style=\"display:none;\">\n",
              "        \n",
              "  <svg xmlns=\"http://www.w3.org/2000/svg\" height=\"24px\"viewBox=\"0 0 24 24\"\n",
              "       width=\"24px\">\n",
              "    <path d=\"M0 0h24v24H0V0z\" fill=\"none\"/>\n",
              "    <path d=\"M18.56 5.44l.94 2.06.94-2.06 2.06-.94-2.06-.94-.94-2.06-.94 2.06-2.06.94zm-11 1L8.5 8.5l.94-2.06 2.06-.94-2.06-.94L8.5 2.5l-.94 2.06-2.06.94zm10 10l.94 2.06.94-2.06 2.06-.94-2.06-.94-.94-2.06-.94 2.06-2.06.94z\"/><path d=\"M17.41 7.96l-1.37-1.37c-.4-.4-.92-.59-1.43-.59-.52 0-1.04.2-1.43.59L10.3 9.45l-7.72 7.72c-.78.78-.78 2.05 0 2.83L4 21.41c.39.39.9.59 1.41.59.51 0 1.02-.2 1.41-.59l7.78-7.78 2.81-2.81c.8-.78.8-2.07 0-2.86zM5.41 20L4 18.59l7.72-7.72 1.47 1.35L5.41 20z\"/>\n",
              "  </svg>\n",
              "      </button>\n",
              "      \n",
              "  <style>\n",
              "    .colab-df-container {\n",
              "      display:flex;\n",
              "      flex-wrap:wrap;\n",
              "      gap: 12px;\n",
              "    }\n",
              "\n",
              "    .colab-df-convert {\n",
              "      background-color: #E8F0FE;\n",
              "      border: none;\n",
              "      border-radius: 50%;\n",
              "      cursor: pointer;\n",
              "      display: none;\n",
              "      fill: #1967D2;\n",
              "      height: 32px;\n",
              "      padding: 0 0 0 0;\n",
              "      width: 32px;\n",
              "    }\n",
              "\n",
              "    .colab-df-convert:hover {\n",
              "      background-color: #E2EBFA;\n",
              "      box-shadow: 0px 1px 2px rgba(60, 64, 67, 0.3), 0px 1px 3px 1px rgba(60, 64, 67, 0.15);\n",
              "      fill: #174EA6;\n",
              "    }\n",
              "\n",
              "    [theme=dark] .colab-df-convert {\n",
              "      background-color: #3B4455;\n",
              "      fill: #D2E3FC;\n",
              "    }\n",
              "\n",
              "    [theme=dark] .colab-df-convert:hover {\n",
              "      background-color: #434B5C;\n",
              "      box-shadow: 0px 1px 3px 1px rgba(0, 0, 0, 0.15);\n",
              "      filter: drop-shadow(0px 1px 2px rgba(0, 0, 0, 0.3));\n",
              "      fill: #FFFFFF;\n",
              "    }\n",
              "  </style>\n",
              "\n",
              "      <script>\n",
              "        const buttonEl =\n",
              "          document.querySelector('#df-7779c45c-76e9-40f1-a5cb-5be9b036902a button.colab-df-convert');\n",
              "        buttonEl.style.display =\n",
              "          google.colab.kernel.accessAllowed ? 'block' : 'none';\n",
              "\n",
              "        async function convertToInteractive(key) {\n",
              "          const element = document.querySelector('#df-7779c45c-76e9-40f1-a5cb-5be9b036902a');\n",
              "          const dataTable =\n",
              "            await google.colab.kernel.invokeFunction('convertToInteractive',\n",
              "                                                     [key], {});\n",
              "          if (!dataTable) return;\n",
              "\n",
              "          const docLinkHtml = 'Like what you see? Visit the ' +\n",
              "            '<a target=\"_blank\" href=https://colab.research.google.com/notebooks/data_table.ipynb>data table notebook</a>'\n",
              "            + ' to learn more about interactive tables.';\n",
              "          element.innerHTML = '';\n",
              "          dataTable['output_type'] = 'display_data';\n",
              "          await google.colab.output.renderOutput(dataTable, element);\n",
              "          const docLink = document.createElement('div');\n",
              "          docLink.innerHTML = docLinkHtml;\n",
              "          element.appendChild(docLink);\n",
              "        }\n",
              "      </script>\n",
              "    </div>\n",
              "  </div>\n",
              "  "
            ]
          },
          "metadata": {},
          "execution_count": 28
        }
      ]
    },
    {
      "cell_type": "code",
      "source": [
        "# dict -> DataFrame -> csv\n",
        "\n",
        "users = [{\n",
        "        'name': 'Jane',\n",
        "        'age': 15,\n",
        "        'locale': 'CA'\n",
        "    },\n",
        "    {\n",
        "        'name': 'Jessie',\n",
        "        'age': 19,\n",
        "        'locale': 'NY'\n",
        "    },\n",
        "    {\n",
        "        'name': 'Ava',\n",
        "        'age': 24,\n",
        "        'locale': 'CA'\n",
        "    },\n",
        "]"
      ],
      "metadata": {
        "id": "ds-TZBGBbseZ"
      },
      "execution_count": 29,
      "outputs": []
    },
    {
      "cell_type": "code",
      "source": [
        "df = df.from_dict(users)"
      ],
      "metadata": {
        "id": "LutrIwHmcrZ8"
      },
      "execution_count": 30,
      "outputs": []
    },
    {
      "cell_type": "code",
      "source": [
        "df.to_csv('./users.csv')"
      ],
      "metadata": {
        "id": "FauIQ1E4dGDd"
      },
      "execution_count": 31,
      "outputs": []
    },
    {
      "cell_type": "code",
      "source": [
        "with open('./users.csv') as f:\n",
        "  for line in f.readlines():\n",
        "    print(line)"
      ],
      "metadata": {
        "colab": {
          "base_uri": "https://localhost:8080/"
        },
        "id": "AUvL2Lz2dhO5",
        "outputId": "bf563c3d-0c18-477b-e320-2e7cdc78d6f5"
      },
      "execution_count": 32,
      "outputs": [
        {
          "output_type": "stream",
          "name": "stdout",
          "text": [
            ",name,age,locale\n",
            "\n",
            "0,Jane,15,CA\n",
            "\n",
            "1,Jessie,19,NY\n",
            "\n",
            "2,Ava,24,CA\n",
            "\n"
          ]
        }
      ]
    },
    {
      "cell_type": "code",
      "source": [
        "with open('users.json', 'w') as f:\n",
        "  user_dict = {}\n",
        "  user_dict.setdefault('users', []).append({\n",
        "      'name': 'John Doe',\n",
        "      'age': 40,\n",
        "      'locale': 'LA, USA',\n",
        "  })\n",
        "  json.dump(user_dict, f) # when you make json, append mode is not recommended"
      ],
      "metadata": {
        "id": "UbxQlMExdqbg"
      },
      "execution_count": 33,
      "outputs": []
    },
    {
      "cell_type": "code",
      "source": [
        "with open('users.json') as f:\n",
        "  result = f.readlines()\n",
        "  print(result)"
      ],
      "metadata": {
        "colab": {
          "base_uri": "https://localhost:8080/"
        },
        "id": "xeoH5YOvfFQ5",
        "outputId": "19a9f117-0ba1-4f88-8ffd-1463cf60bd15"
      },
      "execution_count": 34,
      "outputs": [
        {
          "output_type": "stream",
          "name": "stdout",
          "text": [
            "['{\"users\": [{\"name\": \"John Doe\", \"age\": 40, \"locale\": \"LA, USA\"}]}']\n"
          ]
        }
      ]
    },
    {
      "cell_type": "code",
      "source": [
        "type(result[0])"
      ],
      "metadata": {
        "colab": {
          "base_uri": "https://localhost:8080/"
        },
        "id": "dE5xGE_pfOz3",
        "outputId": "f59b58f8-0a88-4e0b-f082-bb6dd8681987"
      },
      "execution_count": 35,
      "outputs": [
        {
          "output_type": "execute_result",
          "data": {
            "text/plain": [
              "str"
            ]
          },
          "metadata": {},
          "execution_count": 35
        }
      ]
    },
    {
      "cell_type": "code",
      "source": [
        "with open('users.json') as f:\n",
        "  from_json = json.load(f)"
      ],
      "metadata": {
        "id": "zJLtebjlf1-2"
      },
      "execution_count": 36,
      "outputs": []
    },
    {
      "cell_type": "code",
      "source": [
        "from_json['users'][0]['name']"
      ],
      "metadata": {
        "colab": {
          "base_uri": "https://localhost:8080/",
          "height": 35
        },
        "id": "RJtk03ejf_o9",
        "outputId": "5f219894-a6af-4da2-e86a-7c2a0d2d35be"
      },
      "execution_count": 37,
      "outputs": [
        {
          "output_type": "execute_result",
          "data": {
            "text/plain": [
              "'John Doe'"
            ],
            "application/vnd.google.colaboratory.intrinsic+json": {
              "type": "string"
            }
          },
          "metadata": {},
          "execution_count": 37
        }
      ]
    },
    {
      "cell_type": "code",
      "source": [
        "response = requests.get('https://www.rottentomatoes.com/')\n",
        "response.status_code"
      ],
      "metadata": {
        "colab": {
          "base_uri": "https://localhost:8080/"
        },
        "id": "NBUBxhHrgAuM",
        "outputId": "15092e09-2147-43c1-c5ee-2bdf3dec4a39"
      },
      "execution_count": 38,
      "outputs": [
        {
          "output_type": "execute_result",
          "data": {
            "text/plain": [
              "200"
            ]
          },
          "metadata": {},
          "execution_count": 38
        }
      ]
    },
    {
      "cell_type": "code",
      "source": [
        "response.text"
      ],
      "metadata": {
        "colab": {
          "base_uri": "https://localhost:8080/",
          "height": 236
        },
        "id": "-uTzXZuxi9FB",
        "outputId": "e20435f2-72bd-4a0c-9404-0e5ccb5627f7"
      },
      "execution_count": 39,
      "outputs": [
        {
          "output_type": "execute_result",
          "data": {
            "text/plain": [
              "'<!DOCTYPE html>\\n<html lang=\"en\" dir=\"ltr\" xmlns=\"http://www.w3.org/1999/xhtml\" prefix=\"fb: http://www.facebook.com/2008/fbml og: http://opengraphprotocol.org/schema/\">\\n    <head prefix=\"og: http://ogp.me/ns# flixstertomatoes: http://ogp.me/ns/apps/flixstertomatoes#\">\\n        \\n        <script src=\"https://cdn.cookielaw.org/consent/7e979733-6841-4fce-9182-515fac69187f/otSDKStub.js\"\\n            type=\"text/javascript\"\\n            charset=\"UTF-8\"\\n            data-domain-script=\"7e979733-6841-4fce-9182-515fac69187f\"\\n            integrity=\"sha384-WEHwEli88wqOiQd913F1utFZiwisa8XhCkbjLnbKEpFa/WbFcPKeGg7h4fdsv0Z/\"\\n            crossorigin=\"anonymous\">\\n        </script>\\n        <script type=\"text/javascript\">\\n        function OptanonWrapper() { }\\n        </script>\\n        \\n        \\n        <script src=\"https://cdn.cookielaw.org/opt-out/otCCPAiab.js\"\\n            type=\"text/javascript\"\\n            charset=\"UTF-8\"\\n            ccpa-opt-out-ids=\"dummy\"\\n            ccpa-opt-out-geo=\"US\"\\n            ccpa-opt-out-lspa=\"false\">\\n        </script>\\n        \\n\\n        \\n            <script src=\"/assets/pizza-pie/javascripts/bundles/roma/rt-common.js?single\"></script>\\n        \\n        <meta http-equiv=\"Content-Type\" content=\"text/html; charset=utf-8\" />\\n        <meta http-equiv=\"x-ua-compatible\" content=\"ie=edge\">\\n        <meta name=\"viewport\" content=\"width=device-width, initial-scale=1\">\\n\\n        <title>Rotten Tomatoes: Movies | TV Shows | Movie Trailers | Reviews - Rotten Tomatoes</title>\\n        <meta name=\"description\" content=\"Rotten Tomatoes, home of the Tomatometer, is the most trusted measurement of quality for Movies & TV. The definitive site for Reviews, Trailers, Showtimes, and Tickets\">\\n\\n        \\n            <link rel=\"canonical\" href=\"https://www.rottentomatoes.com/\">\\n        \\n\\n        \\n            \\n        \\n\\n        <link rel=\"shortcut icon\" sizes=\"76x76\" type=\"image/x-icon\" href=\"https://www.rottentomatoes.com/assets/pizza-pie/images/favicon.ico\" />\\n        \\n\\n        \\n            <meta property=\"fb:app_id\" content=\"326803741017\">\\n            <meta property=\"og:site_name\" content=\"Rotten Tomatoes\">\\n            <meta property=\"og:title\" content=\"Rotten Tomatoes: Movies | TV Shows | Movie Trailers | Reviews\">\\n            <meta property=\"og:description\" content=\"Rotten Tomatoes, home of the Tomatometer, is the most trusted measurement of quality for Movies & TV. The definitive site for Reviews, Trailers, Showtimes, and Tickets\">\\n            <meta property=\"og:type\" content=\"website\">\\n            <meta property=\"og:url\" content=\"https://www.rottentomatoes.com/\">\\n            <meta property=\"og:image\" content=\"https://www.rottentomatoes.com/assets/pizza-pie/head-assets/images/RT_TwitterCard_2018.jpg\">\\n            <meta property=\"og:locale\" content=\"en_US\">\\n        \\n\\n        <meta name=\"twitter:card\" content=\"summary_large_image\">\\n        <meta name=\"twitter:image\" content=\"https://www.rottentomatoes.com/assets/pizza-pie/head-assets/images/RT_TwitterCard_2018.jpg\">\\n        <meta name=\"twitter:title\" content=\"Rotten Tomatoes: Movies | TV Shows | Movie Trailers | Reviews\">\\n        <meta name=\"twitter:text:title\" content=\"Rotten Tomatoes: Movies | TV Shows | Movie Trailers | Reviews\">\\n        <meta name=\"twitter:description\" content=\"Rotten Tomatoes, home of the Tomatometer, is the most trusted measurement of quality for Movies & TV. The definitive site for Reviews, Trailers, Showtimes, and Tickets\">\\n        <meta name=\"twitter:site\" content=\"@rottentomatoes\">\\n\\n        <link rel=\"manifest\" href=\"https://www.rottentomatoes.com/assets/pizza-pie/manifest/manifest.json\" />\\n\\n        <link rel=\"apple-touch-icon\" href=\"https://www.rottentomatoes.com/assets/pizza-pie/head-assets/images/apple-touch-icon-60.jpg\" />\\n        <link rel=\"apple-touch-icon\" sizes=\"152x152\" href=\"https://www.rottentomatoes.com/assets/pizza-pie/head-assets/images/apple-touch-icon-152.jpg\" />\\n        <link rel=\"apple-touch-icon\" sizes=\"167x167\" href=\"https://www.rottentomatoes.com/assets/pizza-pie/head-assets/images/apple-touch-icon-167.jpg\" />\\n        <link rel=\"apple-touch-icon\" sizes=\"180x180\" href=\"https://www.rottentomatoes.com/assets/pizza-pie/head-assets/images/apple-touch-icon-180.jpg\" />\\n\\n        <!-- JSON+LD -->\\n        \\n\\n        \\n        \\n\\n        \\n        <meta name=\"google-site-verification\" content=\"VPPXtECgUUeuATBacnqnCm4ydGO99reF-xgNklSbNbc\" />\\n\\n        \\n        <meta name=\"msvalidate.01\" content=\"034F16304017CA7DCF45D43850915323\" />\\n        <meta name=\"theme-color\" content=\"#FA320A\">\\n\\n        <!-- DNS prefetch -->\\n        <meta http-equiv=\"x-dns-prefetch-control\" content=\"on\">\\n        \\n            <link rel=\"dns-prefetch\" href=\"//www.rottentomatoes.com\" />\\n        \\n        \\n            <link rel=\"preconnect\" href=\"//www.rottentomatoes.com\" />\\n        \\n\\n        \\n        \\n\\n        \\n        \\n\\n        \\n\\n    \\n        <link rel=\"preload\" href=\"/assets/pizza-pie/stylesheets/bundles/roma/layouts/default.31ac150c884.css\" as=\"style\" onload=\"this.onload=null;this.rel=\\'stylesheet\\'\">\\n\\n        \\n\\n    <link rel=\"preload\" href=\"/assets/pizza-pie/stylesheets/bundles/roma/pages/home.876fcc2aa18.css\" as=\"style\" onload=\"this.onload=null;this.rel=\\'stylesheet\\'\">\\n\\n\\n\\n        <script>\\n        !function(t){\"use strict\";t.loadCSS||(t.loadCSS=function(){});var e=loadCSS.relpreload={};if(e.support=function(){var e;try{e=t.document.createElement(\"link\").relList.supports(\"preload\")}catch(t){e=!1}return function(){return e}}(),e.bindMediaToggle=function(t){var e=t.media||\"all\";function a(){t.media=e}t.addEventListener?t.addEventListener(\"load\",a):t.attachEvent&&t.attachEvent(\"onload\",a),setTimeout(function(){t.rel=\"stylesheet\",t.media=\"only x\"}),setTimeout(a,3e3)},e.poly=function(){if(!e.support())for(var a=t.document.getElementsByTagName(\"link\"),n=0;n<a.length;n++){var o=a[n];\"preload\"!==o.rel||\"style\"!==o.getAttribute(\"as\")||o.getAttribute(\"data-loadcss\")||(o.setAttribute(\"data-loadcss\",!0),e.bindMediaToggle(o))}},!e.support()){e.poly();var a=t.setInterval(e.poly,500);t.addEventListener?t.addEventListener(\"load\",function(){e.poly(),t.clearInterval(a)}):t.attachEvent&&t.attachEvent(\"onload\",function(){e.poly(),t.clearInterval(a)})}\"undefined\"!=typeof exports?exports.loadCSS=loadCSS:t.loadCSS=loadCSS}(\"undefined\"!=typeof global?global:this);\\n        </script>\\n\\n        <script>\\n            window.RottenTomatoes = {};\\n            window.RTLocals = {};\\n        </script>\\n\\n        <script>var dataLayer = dataLayer || [];</script>\\n\\n        \\n        \\n    <script id=\"mps-page-integration\">\\n      window.mpscall = {\"adunits\":\"Multi Logo|Box Ad|Marquee Banner|Top Banner\",\"cag[score]\":null,\"cag[certified_fresh]\":null,\"cag[fresh_rotten]\":null,\"cag[rating]\":null,\"cag[release]\":null,\"cag[movieshow]\":null,\"cag[genre]\":null,\"cag[urlid]\":null,\"cat\":\"home\",\"field[env]\":\"production\",\"field[rtid]\":null,\"path\":\"/\",\"site\":\"rottentomatoes-web\",\"title\":\"Rotten Tomatoes: Movies | TV Shows | Movie Trailers | Reviews\",\"type\":\"index\"};\\n      var mpsopts={\\'host\\':\\'mps.nbcuni.com\\', \\'updatecorrelator\\':1};\\n      var mps=mps||{};mps._ext=mps._ext||{};mps._adsheld=[];mps._queue=mps._queue||{};mps._queue.mpsloaded=mps._queue.mpsloaded||[];mps._queue.mpsinit=mps._queue.mpsinit||[];mps._queue.gptloaded=mps._queue.gptloaded||[];mps._queue.adload=mps._queue.adload||[];mps._queue.adclone=mps._queue.adclone||[];mps._queue.adview=mps._queue.adview||[];mps._queue.refreshads=mps._queue.refreshads||[];mps.__timer=Date.now||function(){return+new Date};mps.__intcode=\"v2\";if(typeof mps.getAd!=\"function\")mps.getAd=function(adunit){if(typeof adunit!=\"string\")return false;var slotid=\"mps-getad-\"+adunit.replace(/\\\\W/g,\"\");if(!mps._ext||!mps._ext.loaded){mps._queue.gptloaded.push(function(){typeof mps._gptfirst==\"function\"&&mps._gptfirst(adunit,slotid);mps.insertAd(\"#\"+slotid,adunit)});mps._adsheld.push(adunit)}return\\'<div id=\"\\'+slotid+\\'\" class=\"mps-wrapper\" data-mps-fill-slot=\"\\'+adunit+\\'\"></div>\\'};(function(){head=document.head||document.getElementsByTagName(\"head\")[0],mpsload=document.createElement(\"script\");mpsload.src=\"//\"+mpsopts.host+\"/fetch/ext/load-\"+mpscall.site+\".js?nowrite=2\";mpsload.id=\"mps-load\";head.insertBefore(mpsload,head.firstChild)})();\\n    </script>\\n\\n        \\n    <script>\\n        function endsWith(str, suffix) {\\n            return str.indexOf(suffix, str.length - suffix.length) !== -1;\\n        }\\n    \\n        //--Ad Unit Loaded (called for each ad loaded)\\n        var mps = mps||{}; mps._queue = mps._queue||{}; mps._queue.adload = mps._queue.adload||[];\\n        mps._queue.adload.push(function (eo) {\\n            if (!eo.isEmpty) {\\n                var slotName = eo._mps._slot;\\n    \\n                if (\\'topbanner\\' === slotName) {\\n                    var leaderboardHeight = eo.size[1];\\n                    if (leaderboardHeight > 50){\\n                        \\n\\n                        if (leaderboardHeight < 90){\\n                            $(\\'.leaderboard_wrapper\\').css(\\'min-height\\', leaderboardHeight);\\n                        }\\n                        \\n                        $(\\'#top_leaderboard_wrapper\\').animate({ height: (leaderboardHeight + 10) },1000);\\n                    }\\n                }\\n    \\n                if (\\'trendinggraphic\\' === slotName) {\\n                    //Hide Trending bar social section\\n                    $(\\'#trending_bar_social\\').hide();\\n                    // Roma version\\n                    $(\\'.trending-bar__social\\').hide();\\n                    //Removing padding for trending bar ad\\n                    $(\\'.trendingBar > .trendingEl\\').css(\\'padding\\',\\'0px\\');\\n                    $(\\'#trending_bar_ad\\').show();\\n    \\n                    $(\\'a.trendingLink\\').addClass(\\'trending-link-truncate\\');\\n                    // Roma version\\n                    $(\\'.trending-bar__link\\').addClass(\\'trending-link--truncate\\');\\n                }\\n    \\n                if (\\'tomatometer\\' === slotName) {\\n                    if (eo.size[0] == 524 && eo.size[1] == 40) {\\n                        //Increase score panel margin\\n                        $(\\'#scorePanel\\').css(\\'margin-bottom\\', \\'20px\\');\\n                    }\\n                    // Only show Tomatometer Sponsorship div if rendered\\n                    $(\\'#tomatometer_sponsorship_ad\\').show();\\n                }\\n            }\\n        });\\n    </script>\\n\\n\\n\\n\\n        \\n        <script>\\n            dataLayer.push({\"webVersion\":\"node\",\"rtVersion\":3.1,\"loggedInStatus\":\"\",\"customerId\":\"\",\"pageName\":\"rt | homepage\"});\\n        </script>\\n\\n        \\n\\n        \\n    \\n\\n    </head>\\n    \\n    <body class=\"body no-touch js-mptd-layout\">\\n        <analytics-manager></analytics-manager>\\n\\n        <auth-initiate-manager></auth-initiate-manager>\\n<auth-profile-manager></auth-profile-manager>\\n<overlay-base class=\"\" hidden>\\n    <overlay-flows slot=\"content\">\\n        <button slot=\"close\" class=\"auth-overlay__icon-button auth-overlay__icon-button--close\" aria-label=\"Close\" data-qa=\"close-overlay-btn\">\\n            <rt-icon image icon=\"close\"></rt-icon>\\n        </button>\\n    </overlay-flows>\\n</overlay-base>\\n\\n<notification-alert class=\"js-auth-success \" animate hidden>\\n    <rt-icon icon=\"check-circled\"></rt-icon>\\n    <span>Signed in</span>\\n</notification-alert>\\n\\n<div id=\"auth-templates\">\\n    <template slot=\"screens\" id=\"cognito-loading\">\\n    <div>\\n        <loading-spinner id=\"cognito-auth-loading-spinner\"></loading-spinner>\\n        <style>\\n            #cognito-auth-loading-spinner {\\n                font-size: 2em;\\n                transform: translate(calc(100% - 1em), 250px);\\n                width: 50%;\\n            }\\n        </style>\\n    </div>\\n</template>\\n\\n    <template slot=\"screens\" id=\"cognito-signup-form\">\\r\\n<auth-signup-screen data-qa=\"auth-signup-screen\">\\r\\n    <h2 slot=\"header\" class=\"cognito-signup-form__header\" data-qa=\"auth-signup-screen-title\">Log in or sign up for Rotten Tomatoes</h2>\\r\\n    \\r\\n    <rt-button slot=\"signup-option\" theme=\"light\" class=\"cognito-signup-form__option\" value=\"google\" data-qa=\"auth-signup-screen-google-btn\">\\r\\n        <div class=\"cognito-signup-form__option__container\">\\r\\n            <span class=\"cognito-signup-form__option__icon cognito-signup-form__option__icon--google\"></span>\\r\\n            <span class=\"cognito-signup-form__option__text\">Continue with Google</span>\\r\\n        </div>\\r\\n    </rt-button>\\r\\n    <rt-button slot=\"signup-option\" theme=\"light\" class=\"cognito-signup-form__option\" value=\"email\" data-qa=\"auth-signup-screen-email-btn\">\\r\\n        <div class=\"cognito-signup-form__option__container\">\\r\\n            <rt-icon image icon=\"mail\" class=\"cognito-signup-form__option__icon cognito-signup-form__option__icon--mail\"></rt-icon>\\r\\n            <span class=\"cognito-signup-form__option__text\">Continue with Email</span>\\r\\n        </div>\\r\\n    </rt-button>\\r\\n        \\r\\n    <input-label slot=\"email\">\\r\\n        <label slot=\"label\" for=\"cognito-email-input\" class=\"auth-form__control__label\">Email</label>\\r\\n        <input slot=\"input\" id=\"cognito-email-input\" type=\"email\" data-qa=\"auth-signup-screen-email\">\\r\\n    </input-label>\\r\\n\\r\\n    <div slot=\"info\">\\r\\n        <div class=\"no-password-container\">\\r\\n            <rt-badge>New</rt-badge>\\r\\n            <span class=\"no-password\">Where is the password field?</span>\\r\\n            <tool-tip\\r\\n                class=\"cognito-signup-form__tooltip\"\\r\\n                title=\"Where is the password field?\"\\r\\n                description=\"Rotten Tomatoes now offers passwordless authentication for all user accounts, making it easier for you to access your information. Simply enter the email address you previously used and hit continue to complete your log-in.\"\\r\\n                slot=\"tooltip\"\\r\\n                nomobilefooter\\r\\n            >\\r\\n                <button slot=\"tool-tip-btn\" class=\"button--link\">\\r\\n                    <rt-icon icon=\"question-circled\" image></rt-icon>\\r\\n                </button>\\r\\n            </tool-tip>\\r\\n        </div>\\r\\n    </div>\\r\\n    \\r\\n    <button slot=\"continue\" class=\"auth-form__button\" data-qa=\"auth-signup-screen-continue-btn\">Continue</button>\\r\\n\\r\\n    <p slot=\"help\" class=\"cognito-signup-form-help\">\\r\\n        <a href=\"/reset-client\" data-qa=\"auth-signup-screen-reset-client-link\">Trouble logging in?</a>\\r\\n    </p>\\r\\n    \\r\\n    <p slot=\"terms-and-policies\" class=\"cognito-signup-form__terms-and-policies\">\\r\\n        By continuing, you agree to the <a href=\"https://www.fandango.com/policies/privacy-policy\" target=\"_blank\" data-qa=\"auth-signup-screen-privacy-policy-link\">Privacy Policy</a> and \\r\\n        the <a href=\"https://www.fandango.com/policies/terms-and-policies\" target=\"_blank\" data-qa=\"auth-signup-screen-terms-policies-link\">Terms and Policies</a>, and to receive email from Rotten Tomatoes.\\r\\n    </p>\\r\\n</auth-signup-screen>\\r\\n</template>\\n    <template slot=\"screens\" id=\"cognito-name-form\">\\r\\n  <auth-name-screen data-qa=\"auth-name-screen\">\\r\\n    <input-label slot=\"first-name\">\\r\\n      <label slot=\"label\" for=\"cognito-first-name-input\" class=\"auth-form__control__label\">First name (Required)</label>\\r\\n      <input slot=\"input\" id=\"cognito-first-name-input\" data-qa=\"auth-name-screen-first-name\">\\r\\n    </input-label>\\r\\n    <input-label slot=\"last-name\">\\r\\n      <label slot=\"label\" for=\"cognito-last-name-input\" class=\"auth-form__control__label\">Last name (Required)</label>\\r\\n      <input slot=\"input\" id=\"cognito-last-name-input\" data-qa=\"auth-name-screen-last-name\">\\r\\n    </input-label>\\r\\n    <button slot=\"create-account\" class=\"auth-form__button\">Create my account</button>\\r\\n    <p slot=\"terms-and-policies\" class=\"cognito-signup-form__terms-and-policies\">\\r\\n      By creating an account, you agree to the \\r\\n      <a href=\"https://www.fandango.com/policies/privacy-policy\" target=\"_blank\" data-qa=\"auth-name-screen-privacy-policy-link\"> Privacy Policy </a> \\r\\n      and the<br>\\r\\n      <a href=\"https://www.fandango.com/policies/terms-and-policies\" target=\"_blank\" data-qa=\"auth-name-screen-terms-policies-link\"> Terms and Policies</a>\\r\\n      , and to receive email from Rotten Tomatoes.\\r\\n    </p>\\r\\n  </auth-name-screen>\\r\\n</template>\\n    <template slot=\"screens\" id=\"cognito-checkemail\">\\n    <auth-checkemail-screen data-qa=\"auth-check-email-screen\">\\n        <span slot=\"email-icon\" class=\"cognito-check-email__icon--email\"></span>\\n        <span slot=\"mobile-icon\" class=\"cognito-check-email__icon--mobile\"></span>\\n        <button slot=\"learn-more\" class=\"text-button\" tabindex=\"0\" data-qa=\"auth-check-email-screen-learn-more-link\">LEARN MORE</button>\\n        <a slot=\"help\" tabindex=\"0\" target=\"_blank\" href=\"/help_desk\" data-qa=\"auth-check-email-screen-help-link\">HELP</a>\\n    </auth-checkemail-screen>\\n</template>\\n\\n    <template slot=\"screens\" id=\"cognito-learn-more\">\\r\\n  <auth-learn-more-screen data-qa=\"auth-learn-more-screen\">\\r\\n    <button slot=\"back\" class=\"auth-overlay__icon-button auth-overlay__icon-button--back\">\\r\\n      <rt-icon icon=\"left-arrow-stem\" image></rt-icon>\\r\\n    </button>\\r\\n  </auth-learn-more-screen>\\r\\n</template>\\n    <template slot=\"screens\" id=\"cognito-error\">\\n    <auth-error-screen data-qa=\"auth-error-screen\">\\n        <h2 slot=\"heading\" class=\"cognito-error__heading\" data-qa=\"auth-error-screen-title\">\\n            <rt-icon image icon=\"exclamation-circled\" class=\"cognito-error__icon--exclamation-circled\"></rt-icon>\\n            <span class=\"js-cognito-error-heading-txt\">Email not verified</span>\\n        </h2>\\n        <p slot=\"error-message\" class=\"js-cognito-error-message cognito-error__error-message\" data-qa=\"auth-error-screen-message\">\\n            <!-- error message is set from auth-error-screen WC-->\\n        </p>\\n        <p slot=\"error-code\" class=\"js-cognito-error-code cognito-error__error-message\" data-qa=\"auth-error-screen-code\">\\n            <!-- error code is set from auth-error-screen WC-->\\n        </p>\\n        <rt-button slot=\"tryAgainBtn\" class=\"cognito-error__try-again-btn\"><span class=\"cognito-error__btn-text\" data-qa=\"auth-error-screen-try-again-btn\">TRY AGAIN</span></rt-button>\\n        <rt-button slot=\"cancelBtn\" class=\"cognito-error__cancel-btn\" theme=\"light\"><span class=\"cognito-error__btn-text\" data-qa=\"auth-error-screen-cancel-btn\">CANCEL</span></rt-button>\\n    </auth-error-screen>\\n</template>\\n\\n    <template slot=\"screens\" id=\"cognito-opt-in\">\\n  <auth-optin-screen data-qa=\"auth-opt-in-screen\">\\n    <div slot=\"newsletterText\">\\n      <h2 class=\"cognito-optin-form__header unset\">Let\\'s keep in touch</h2>\\n      <p>\\n        Stay up-to-date on all the latest Rotten Tomatoes news! \\n        Tap \"Sign me up\" below to receive our weekly newsletter \\n        with updates on movies, TV shows, Rotten Tomatoes podcast and more.\\n      </p>\\n    </div>\\n    <button slot=\"optInButton\" data-qa=\"auth-opt-in-screen-opt-in-btn\">\\n      Sign me up\\n    </button>\\n    <button slot=\"optOutButton\" class=\"button--outline\" data-qa=\"auth-opt-in-screen-opt-out-btn\">\\n        No thanks\\n    </button>\\n  </auth-optin-screen>\\n</template>\\n\\n    <template slot=\"screens\" id=\"cognito-opt-in-success\">\\n    <auth-verify-screen>\\n        <rt-icon icon=\"check-circled\" slot=\"icon\"></rt-icon>\\n        <p class=\"h3\" slot=\"status\">OK, got it!</p>\\n    </auth-verify-screen>\\n</template>\\n\\n</div>\\n\\n\\n        <div id=\"emptyPlaceholder\"></div> \\n\\n        \\n            <script ASYNC src=\"//assets.adobedtm.com/launch-EN549327edc13e414a9beb5d61bfd9aac6.min.js\"></script>\\n        \\n\\n        <div class=\"container roma-layout__body\">\\n            <div id=\"header_and_leaderboard\">\\n                \\n    \\n    \\n    \\n    <div id=\"top_leaderboard_wrapper\" class=\"leaderboard_wrapper homepage_leaderboard\">\\n        <div id=\"top_leaderboard_helper\" class=\"leaderboard_helper\">\\n            <div id=\"leaderboard_top_ad\"></div>\\n            <script>\\n                //--RESPONSIVE AD SWITCHING (DIFFERENT CONTAINERS)\\n                var mps = mps||{}; mps._queue = mps._queue||{}; mps._queue.gptloaded = mps._queue.gptloaded||[];\\n                mps._queue.gptloaded.push(function () {\\n                    if (mps.getResponsiveSet() == \\'0\\') { //MOBILE\\n                        mps.insertAd(\\'#leaderboard_top_ad\\',\\'mbanner\\');\\n                    } else { //DESKTOP or TABLET\\n                        mps.insertAd(\\'#leaderboard_top_ad\\',\\'topbanner\\');\\n                    }\\n                });\\n            </script>\\n        </div>\\n    </div>\\n\\n\\n            </div>\\n\\n            \\n\\n  <rt-header-manager></rt-header-manager>\\n\\n  <rt-header\\n    aria-label=\"navigation bar\"\\n    class=\"navbar\"\\n    data-qa=\"header-nav-bar\"\\n    id=\"header-main\"\\n    skeleton=\"panel\"\\n    \\n  >\\n  <a slot=\"skip-link\" href=\"#main-page-content\" class=\"skip-link\">Skip to Main Content</a>\\n\\n  <a id=\"navbar\" slot=\"logo\" href=\"/\" class=\"logo-wrap\">\\n    <img\\n      alt=\"Rotten Tomatoes\"\\n      data-qa=\"header-logo\"\\n      src=\"/assets/pizza-pie/images/rtlogo.9b892cff3fd.png\"\\n    />\\n    \\n    \\n    \\n        \\n    \\n    <div id=\"new_logo_ad\" style=\"display:none;\"></div>\\n    <script>\\n        var mps = mps||{}; mps._queue = mps._queue||{}; mps._queue.gptloaded = mps._queue.gptloaded||[];\\n        mps._queue.gptloaded.push(function () {\\n            mps.rt.insertlogo(\\'#new_logo_ad\\', \\'ploc=rtlogo;\\');\\n        });\\n    </script>\\n\\n\\n  </a>\\n\\n  <search-algolia slot=\"desktop-search\" skeleton=\"transparent\">\\n    <search-algolia-controls slot=\"search-controls\">\\n      <input\\n        class=\"search-text\"\\n        aria-label=\"Search\"\\n        data-qa=\"search-input\"\\n        placeholder=\"Search movies, TV, actors, more..\"\\n        slot=\"search-input\"\\n        type=\"text\"\\n      />\\n      <button\\n        class=\"search-clear\"\\n        data-qa=\"search-clear\"\\n        slot=\"search-clear\"\\n      >\\n        <rt-icon icon=\"close\" image></rt-icon>\\n      </button>\\n      <a\\n        class=\"search-submit\"\\n        aria-label=\"Submit search\"\\n        data-qa=\"search-submit\"\\n        href=\"/search\"\\n        slot=\"search-submit\"\\n      >\\n        <rt-icon icon=\"search\" image></rt-icon>\\n      </a>\\n      <button\\n        class=\"search-cancel\"\\n        data-qa=\"search-cancel\"\\n        slot=\"search-cancel\"\\n      >\\n        Cancel\\n      </button>\\n    </search-algolia-controls>\\n    <search-algolia-results slot=\"search-results\" data-qa=\"search-results-overlay\">\\n      <search-algolia-results-category slot=\"content\" data-qa=\"search-results-category\">\\n        <h2 slot=\"title\" data-qa=\"search-category-header\" class=\"h2\">Movies / TV</h2>\\n        <ul slot=\"results\"></ul>\\n      </search-algolia-results-category>\\n      <search-algolia-results-category slot=\"celebrity\" data-qa=\"search-results-category\">\\n        <h2 slot=\"title\" data-qa=\"search-category-header\" class=\"h2\">Celebrity</h2>\\n        <ul slot=\"results\"></ul>\\n      </search-algolia-results-category>\\n      <search-algolia-results-category slot=\"none\">\\n        <h2 slot=\"title\" data-qa=\"search-no-results\" class=\"h2\">No Results Found</h2>\\n      </search-algolia-results-category>\\n      <a slot=\"view-all\" href=\"/\" data-qa=\"search-view-all\">View All</a>\\n    </search-algolia-results>\\n  </search-algolia>\\n\\n  <mobile-search-algolia slot=\"mobile-search\" logoselector=\"#navbar .logo-wrap\" navselector=\"#navbar\" data-qa=\"mobile-search-algolia\"></mobile-search-algolia>\\n\\n  <ul slot=\"nav-links\">\\n    <li><a href=\"/about#whatisthetomatometer\" data-qa=\"header:link-whats-tmeter\">What\\'s the Tomatometer&reg;?</a></li>\\n    <li><a href=\"/critics\" data-qa=\"header:link-critics-home\">Critics</a></li>\\n    <li data-RtHeaderManager=\"loginLink\">\\n      <ul>\\n        <li>\\n          <button id=\"masthead-show-login-btn\" class=\"js-cognito-signin button--link\" data-qa=\"header:login-btn\">Login/signup</button>\\n        </li>\\n      </ul>\\n    </li>\\n    <li data-RtHeaderManager=\"userItem:keydown,keyup,mouseenter\" data-qa=\"header:user\"></li>\\n  </ul>\\n\\n  <rt-header-nav slot=\"nav-dropdowns\">\\n    <rt-header-nav-item slot=\"movies\" data-qa=\"masthead:movies-dvds\">\\n      <a class=\"unset\" slot=\"link\" href=\"/browse/movies_in_theaters\" data-qa=\"masthead:movies-dvds-link\">Movies</a>\\n      <rt-header-nav-item-dropdown aria-expanded=\"false\" slot=\"dropdown\">\\n        <rt-header-nav-item-dropdown-list slot=\"column\" data-qa=\"header-movies-in-theaters\">\\n          <p slot=\"title\" class=\"h4\" data-qa=\"movies-in-theaters-main-link\"><a class=\"unset\" href=\"/browse/movies_in_theaters\">Movies in theaters</a></p>\\n          <ul slot=\"links\">\\n            <li data-qa=\"in-theaters-item\">\\n              <a href=\"/browse/opening\" data-qa=\"opening-this-week-link\">Opening this week</a>\\n            </li>\\n            <li data-qa=\"in-theaters-item\">\\n              <a href=\"/browse/upcoming\" data-qa=\"coming-soon-link\">Coming soon to theaters</a>\\n            </li>\\n            <li data-qa=\"in-theaters-item\">\\n              <a href=\"/browse/cf-in-theaters\" data-qa=\"certified-fresh-link\">Certified fresh movies</a>\\n            </li>\\n          </ul>\\n        </rt-header-nav-item-dropdown-list>\\n        <rt-header-nav-item-dropdown-list slot=\"column\" data-qa=\"header-on-dvd-streaming\">\\n          <p slot=\"title\" class=\"h4\" data-qa=\"dvd-streaming-main-link\"><a class=\"unset\" href=\"/browse/movies_at_home\">Movies at home</a></p>\\n          <ul slot=\"links\">\\n            <li data-qa=\"dvd-streaming-item\">\\n              <a href=\"/browse/movies_at_home/affiliates:vudu\" data-qa=\"vudu-link\">Vudu</a>\\n            </li>\\n            <li data-qa=\"dvd-streaming-item\">\\n              <a href=\"/browse/movies_at_home/affiliates:netflix\" data-qa=\"netflix-link\">Netflix streaming</a>\\n            </li>\\n            <li data-qa=\"dvd-streaming-item\">\\n              <a href=\"/browse/movies_at_home/affiliates:apple_tv\" data-qa=\"itunes-link\">iTunes</a>\\n            </li>\\n            <li data-qa=\"dvd-streaming-item\">\\n              <a href=\"/browse/movies_at_home/affiliates:amazon_prime\" data-qa=\"amazon-link\">Amazon and amazon prime</a>\\n            </li>\\n            <li data-qa=\"dvd-streaming-item\">\\n              <a href=\"/browse/movies_at_home/sort:popular\" data-qa=\"most-popular-link\">Most popular streaming movies</a>\\n            </li>\\n            <li data-qa=\"dvd-streaming-item\">\\n              <a href=\"/browse/movies_at_home/critics:certified_fresh\" data-qa=\"certified-fresh-link\">Certified fresh movies</a>\\n            </li>\\n            <li data-qa=\"dvd-streaming-item\">\\n              <a href=\"/browse/movies_at_home\" data-qa=\"browse-all-link\">Browse all</a>\\n            </li>\\n          </ul>\\n        </rt-header-nav-item-dropdown-list>\\n        <rt-header-nav-item-dropdown-list slot=\"column\" data-qa=\"header-movies-more\">\\n          <p slot=\"title\" class=\"h4\">More</p>\\n          <ul slot=\"links\">\\n            <li data-qa=\"movies-more-item\">\\n              <a href=\"/top\" data-qa=\"movies-more-link\">Top movies</a>\\n            </li>\\n            <li data-qa=\"movies-more-item\">\\n              <a href=\"/trailers\" data-qa=\"movies-more-link\">Trailers</a>\\n            </li>\\n          </ul>\\n        </rt-header-nav-item-dropdown-list>\\n        \\n          <rt-header-nav-item-dropdown-list slot=\"column\" cfp>\\n            <p slot=\"title\" class=\"h4\">Certified fresh picks</p>\\n            <ul slot=\"links\" class=\"cfp-wrap\" data-qa=\"header-certified-fresh-picks\" data-curation=\"rt-nav-list-cf-picks\">\\n              \\n                <li data-qa=\"cert-fresh-item\">\\n                  \\n                  <a class=\"cfp-tile\" href=\"/m/m3gan\" data-qa=\"cert-fresh-link\">\\n    <tile-dynamic data-qa=\"tile\">\\n        <img\\n            alt=\"M3GAN poster image\"\\n            slot=\"image\"\\n            src=\"https://resizing.flixster.com/LMbScjDLUzsQLgeeoOF0FAhNcC8=/fit-in/180x240/v2/https://resizing.flixster.com/rPJASTXFjLpmiVTi3D6RGcq-skM=/ems.cHJkLWVtcy1hc3NldHMvbW92aWVzLzhjYjA0ODBiLTNlNmUtNDlhOS05ZWRlLThlOGQ2MmEyZjlmYS5qcGc=\"\\n            loading=\"lazy\"\\n        />\\n        <div slot=\"caption\" data-track=\"scores\">\\n            <score-icon-critic\\n                alignment=\"left\"\\n                percentage=\"95\"\\n                state=\"certified_fresh\"\\n            ></score-icon-critic>\\n            <span class=\"p--small\">M3GAN</span>\\n            <span class=\"sr-only\">Link to M3GAN</span>\\n        </div>\\n    </tile-dynamic>\\n</a>\\n                </li>\\n              \\n              \\n                <li data-qa=\"cert-fresh-item\">\\n                  \\n                  <a class=\"cfp-tile\" href=\"/m/alcarras\" data-qa=\"cert-fresh-link\">\\n    <tile-dynamic data-qa=\"tile\">\\n        <img\\n            alt=\"Alcarràs poster image\"\\n            slot=\"image\"\\n            src=\"https://resizing.flixster.com/H5I6FWEXKIZcT_qxE0bG-xLomFY=/fit-in/180x240/v2/https://resizing.flixster.com/PbbehNpv3rq_TDm3xvFqgqqNo54=/ems.cHJkLWVtcy1hc3NldHMvbW92aWVzLzY5ZTBlNjBmLThiMDMtNGJiMC1hNTViLWRkZDkxZjMwMDcwOC5wbmc=\"\\n            loading=\"lazy\"\\n        />\\n        <div slot=\"caption\" data-track=\"scores\">\\n            <score-icon-critic\\n                alignment=\"left\"\\n                percentage=\"90\"\\n                state=\"certified_fresh\"\\n            ></score-icon-critic>\\n            <span class=\"p--small\">Alcarràs</span>\\n            <span class=\"sr-only\">Link to Alcarràs</span>\\n        </div>\\n    </tile-dynamic>\\n</a>\\n                </li>\\n              \\n              \\n                <li data-qa=\"cert-fresh-item\">\\n                  \\n                  <a class=\"cfp-tile\" href=\"/m/is_that_black_enough_for_you\" data-qa=\"cert-fresh-link\">\\n    <tile-dynamic data-qa=\"tile\">\\n        <img\\n            alt=\"Is That Black Enough for You?!? poster image\"\\n            slot=\"image\"\\n            src=\"https://resizing.flixster.com/jgszf6xabwUB5kLm3NAxAIUfew8=/fit-in/180x240/v2/https://resizing.flixster.com/FMOmi-6s3a-yNNpLZlZeS7UL9uo=/ems.cHJkLWVtcy1hc3NldHMvbW92aWVzLzBlM2IyNmExLTM2NzYtNGNkZi1iNjE1LTQ0MTBlZmEyZGM1ZS5qcGc=\"\\n            loading=\"lazy\"\\n        />\\n        <div slot=\"caption\" data-track=\"scores\">\\n            <score-icon-critic\\n                alignment=\"left\"\\n                percentage=\"100\"\\n                state=\"certified_fresh\"\\n            ></score-icon-critic>\\n            <span class=\"p--small\">Is That Black Enough for You?!?</span>\\n            <span class=\"sr-only\">Link to Is That Black Enough for You?!?</span>\\n        </div>\\n    </tile-dynamic>\\n</a>\\n                </li>\\n              \\n            </ul>\\n          </rt-header-nav-item-dropdown-list>\\n        \\n      </rt-header-nav-item-dropdown>\\n    </rt-header-nav-item>\\n\\n    <rt-header-nav-item slot=\"tv\" data-qa=\"masthead:tv\">\\n      <a class=\"unset\" slot=\"link\" href=\"/browse/tv_series_browse/sort:popular\" data-qa=\"masthead:tv-link\">Tv shows</a>\\n      <rt-header-nav-item-dropdown aria-expanded=\"false\" slot=\"dropdown\">\\n        \\n          <rt-header-nav-item-dropdown-list slot=\"column\" data-qa=\"header-tv-list1\">\\n            <p slot=\"title\" class=\"h4\" data-curation=\"rt-hp-text-list-new-tv-this-week\">\\n              New TV Tonight\\n            </p>\\n            <ul slot=\"links\" class=\"score-list-wrap\">\\n              \\n                <li data-qa=\"list-item\">\\n                  <a class=\"score-list-item\" href=\"/tv/vikings_valhalla/s02\" data-qa=\"list-item-link\">\\n    <score-icon-critic\\n        alignment=\"left\"\\n        percentage=\"\"\\n        state=\"\"\\n    ></score-icon-critic>\\n    <span>\\n        \\n            Vikings: Valhalla: Season 2\\n        \\n    </span>\\n</a>\\n                </li>\\n              \\n                <li data-qa=\"list-item\">\\n                  <a class=\"score-list-item\" href=\"/tv/hunters-2020/s02\" data-qa=\"list-item-link\">\\n    <score-icon-critic\\n        alignment=\"left\"\\n        percentage=\"50\"\\n        state=\"rotten\"\\n    ></score-icon-critic>\\n    <span>\\n        \\n            Hunters: Season 2\\n        \\n    </span>\\n</a>\\n                </li>\\n              \\n                <li data-qa=\"list-item\">\\n                  <a class=\"score-list-item\" href=\"/tv/servant/s04\" data-qa=\"list-item-link\">\\n    <score-icon-critic\\n        alignment=\"left\"\\n        percentage=\"100\"\\n        state=\"fresh\"\\n    ></score-icon-critic>\\n    <span>\\n        \\n            Servant: Season 4\\n        \\n    </span>\\n</a>\\n                </li>\\n              \\n                <li data-qa=\"list-item\">\\n                  <a class=\"score-list-item\" href=\"/tv/mayfair_witches/s01\" data-qa=\"list-item-link\">\\n    <score-icon-critic\\n        alignment=\"left\"\\n        percentage=\"42\"\\n        state=\"rotten\"\\n    ></score-icon-critic>\\n    <span>\\n        \\n            Mayfair Witches: Season 1\\n        \\n    </span>\\n</a>\\n                </li>\\n              \\n                <li data-qa=\"list-item\">\\n                  <a class=\"score-list-item\" href=\"/tv/your_honor_2020/s02\" data-qa=\"list-item-link\">\\n    <score-icon-critic\\n        alignment=\"left\"\\n        percentage=\"\"\\n        state=\"\"\\n    ></score-icon-critic>\\n    <span>\\n        \\n            Your Honor: Season 2\\n        \\n    </span>\\n</a>\\n                </li>\\n              \\n                <li data-qa=\"list-item\">\\n                  <a class=\"score-list-item\" href=\"/tv/all_creatures_great_and_small/s03\" data-qa=\"list-item-link\">\\n    <score-icon-critic\\n        alignment=\"left\"\\n        percentage=\"\"\\n        state=\"\"\\n    ></score-icon-critic>\\n    <span>\\n        \\n            All Creatures Great and Small: Season 3\\n        \\n    </span>\\n</a>\\n                </li>\\n              \\n                <li data-qa=\"list-item\">\\n                  <a class=\"score-list-item\" href=\"/tv/miss_scarlet_and_the_duke/s03\" data-qa=\"list-item-link\">\\n    <score-icon-critic\\n        alignment=\"left\"\\n        percentage=\"\"\\n        state=\"\"\\n    ></score-icon-critic>\\n    <span>\\n        \\n            Miss Scarlet and the Duke: Season 3\\n        \\n    </span>\\n</a>\\n                </li>\\n              \\n                <li data-qa=\"list-item\">\\n                  <a class=\"score-list-item\" href=\"/tv/vienna_blood/s03\" data-qa=\"list-item-link\">\\n    <score-icon-critic\\n        alignment=\"left\"\\n        percentage=\"\"\\n        state=\"\"\\n    ></score-icon-critic>\\n    <span>\\n        \\n            Vienna Blood: Season 3\\n        \\n    </span>\\n</a>\\n                </li>\\n              \\n                <li data-qa=\"list-item\">\\n                  <a class=\"score-list-item\" href=\"/tv/velma/s01\" data-qa=\"list-item-link\">\\n    <score-icon-critic\\n        alignment=\"left\"\\n        percentage=\"50\"\\n        state=\"rotten\"\\n    ></score-icon-critic>\\n    <span>\\n        \\n            Velma: Season 1\\n        \\n    </span>\\n</a>\\n                </li>\\n              \\n                <li data-qa=\"list-item\">\\n                  <a class=\"score-list-item\" href=\"/tv/koala_man/s01\" data-qa=\"list-item-link\">\\n    <score-icon-critic\\n        alignment=\"left\"\\n        percentage=\"60\"\\n        state=\"fresh\"\\n    ></score-icon-critic>\\n    <span>\\n        \\n            Koala Man: Season 1\\n        \\n    </span>\\n</a>\\n                </li>\\n              \\n                <li data-qa=\"list-item\">\\n                  <a class=\"score-list-item\" href=\"/tv/the_climb_2022/s01\" data-qa=\"list-item-link\">\\n    <score-icon-critic\\n        alignment=\"left\"\\n        percentage=\"\"\\n        state=\"\"\\n    ></score-icon-critic>\\n    <span>\\n        \\n            The Climb: Season 1\\n        \\n    </span>\\n</a>\\n                </li>\\n              \\n            </ul>\\n            <a\\n              class=\"a--short\"\\n              data-qa=\"tv-list1-view-all-link\"\\n              href=\"/browse/tv_series_browse/sort:newest\"\\n              slot=\"view-all-link\"\\n            >\\n                View All\\n            </a>\\n          </rt-header-nav-item-dropdown-list>\\n        \\n\\n        \\n          <rt-header-nav-item-dropdown-list slot=\"column\" data-qa=\"header-tv-list2\"]>\\n            <p slot=\"title\" class=\"h4\" data-curation=\"rt-hp-text-list-most-popular-tv-on-rt\">\\n              Most Popular TV on RT\\n            </p>\\n            <ul slot=\"links\" class=\"score-list-wrap\">\\n              \\n                <li data-qa=\"list-item\">\\n                  <a class=\"score-list-item\" href=\"/tv/the_last_of_us/s01\" data-qa=\"list-item-link\">\\n    <score-icon-critic\\n        alignment=\"left\"\\n        percentage=\"97\"\\n        state=\"certified_fresh\"\\n    ></score-icon-critic>\\n    <span>\\n        \\n            The Last of Us: Season 1\\n        \\n    </span>\\n</a>\\n                </li>\\n              \\n                <li data-qa=\"list-item\">\\n                  <a class=\"score-list-item\" href=\"/tv/the_white_lotus/s02\" data-qa=\"list-item-link\">\\n    <score-icon-critic\\n        alignment=\"left\"\\n        percentage=\"94\"\\n        state=\"certified_fresh\"\\n    ></score-icon-critic>\\n    <span>\\n        \\n            The White Lotus: Season 2\\n        \\n    </span>\\n</a>\\n                </li>\\n              \\n                <li data-qa=\"list-item\">\\n                  <a class=\"score-list-item\" href=\"/tv/will_trent/s01\" data-qa=\"list-item-link\">\\n    <score-icon-critic\\n        alignment=\"left\"\\n        percentage=\"100\"\\n        state=\"fresh\"\\n    ></score-icon-critic>\\n    <span>\\n        \\n            Will Trent: Season 1\\n        \\n    </span>\\n</a>\\n                </li>\\n              \\n                <li data-qa=\"list-item\">\\n                  <a class=\"score-list-item\" href=\"/tv/kaleidoscope/s01\" data-qa=\"list-item-link\">\\n    <score-icon-critic\\n        alignment=\"left\"\\n        percentage=\"48\"\\n        state=\"rotten\"\\n    ></score-icon-critic>\\n    <span>\\n        \\n            Kaleidoscope: Season 1\\n        \\n    </span>\\n</a>\\n                </li>\\n              \\n                <li data-qa=\"list-item\">\\n                  <a class=\"score-list-item\" href=\"/tv/velma/s01\" data-qa=\"list-item-link\">\\n    <score-icon-critic\\n        alignment=\"left\"\\n        percentage=\"50\"\\n        state=\"rotten\"\\n    ></score-icon-critic>\\n    <span>\\n        \\n            Velma: Season 1\\n        \\n    </span>\\n</a>\\n                </li>\\n              \\n                <li data-qa=\"list-item\">\\n                  <a class=\"score-list-item\" href=\"/tv/willow/s01\" data-qa=\"list-item-link\">\\n    <score-icon-critic\\n        alignment=\"left\"\\n        percentage=\"86\"\\n        state=\"certified_fresh\"\\n    ></score-icon-critic>\\n    <span>\\n        \\n            Willow: Season 1\\n        \\n    </span>\\n</a>\\n                </li>\\n              \\n                <li data-qa=\"list-item\">\\n                  <a class=\"score-list-item\" href=\"/tv/servant/s04\" data-qa=\"list-item-link\">\\n    <score-icon-critic\\n        alignment=\"left\"\\n        percentage=\"100\"\\n        state=\"fresh\"\\n    ></score-icon-critic>\\n    <span>\\n        \\n            Servant: Season 4\\n        \\n    </span>\\n</a>\\n                </li>\\n              \\n                <li data-qa=\"list-item\">\\n                  <a class=\"score-list-item\" href=\"/tv/ginny_and_georgia/s02\" data-qa=\"list-item-link\">\\n    <score-icon-critic\\n        alignment=\"left\"\\n        percentage=\"75\"\\n        state=\"fresh\"\\n    ></score-icon-critic>\\n    <span>\\n        \\n            Ginny &amp; Georgia: Season 2\\n        \\n    </span>\\n</a>\\n                </li>\\n              \\n                <li data-qa=\"list-item\">\\n                  <a class=\"score-list-item\" href=\"/tv/woman_of_the_dead/s01\" data-qa=\"list-item-link\">\\n    <score-icon-critic\\n        alignment=\"left\"\\n        percentage=\"\"\\n        state=\"\"\\n    ></score-icon-critic>\\n    <span>\\n        \\n            Woman of the Dead: Season 1\\n        \\n    </span>\\n</a>\\n                </li>\\n              \\n                <li data-qa=\"list-item\">\\n                  <a class=\"score-list-item\" href=\"/tv/the_rig/s01\" data-qa=\"list-item-link\">\\n    <score-icon-critic\\n        alignment=\"left\"\\n        percentage=\"64\"\\n        state=\"fresh\"\\n    ></score-icon-critic>\\n    <span>\\n        \\n            The Rig: Season 1\\n        \\n    </span>\\n</a>\\n                </li>\\n              \\n            </ul>\\n            <a\\n              class=\"a--short\"\\n              data-qa=\"tv-list2-view-all-link\"\\n              href=\"/browse/tv_series_browse/sort:popular?\"\\n              slot=\"view-all-link\"\\n            >\\n                View All\\n            </a>\\n          </rt-header-nav-item-dropdown-list>\\n        \\n\\n        <rt-header-nav-item-dropdown-list slot=\"column\" data-qa=\"header-tv-more\">\\n          <p slot=\"title\" class=\"h4\">More</p>\\n          <ul slot=\"links\">\\n            <li data-qa=\"tv-more-item\">\\n              <a href=\"/browse/tv_series_browse/sort:popular\" data-qa=\"tv-more-link\">\\n                <span>Top TV Shows</span>\\n              </a>\\n            </li>\\n            <li data-qa=\"tv-more-item\">\\n              <a href=\"/browse/tv_series_browse/critics:fresh\" data-qa=\"tv-more-link\">\\n                <span>Certified Fresh TV</span>\\n              </a>\\n            </li>\\n          </ul>\\n          <p slot=\"title2\" class=\"h4\" data-curation=\"rt-nav-list-tv-episodic-reviews\">\\n            Episodic Reviews\\n          </p>\\n          <ul slot=\"links2\" class=\"score-list-wrap\">\\n            \\n              <li data-qa=\"tv-media-list-item\" data-qa=\"tv-media-list-item\">\\n                <a href=\"/tv/andor/s01#desktopEpisodeList\" data-qa=\"tv-media-list-link\">\\n                  <span>Andor: Season 1</span>\\n                </a>\\n              </li>\\n            \\n              <li data-qa=\"tv-media-list-item\" data-qa=\"tv-media-list-item\">\\n                <a href=\"/tv/she_hulk_attorney_at_law/s01#desktopEpisodeList\" data-qa=\"tv-media-list-link\">\\n                  <span>She-Hulk: Attorney at Law: Season 1</span>\\n                </a>\\n              </li>\\n            \\n              <li data-qa=\"tv-media-list-item\" data-qa=\"tv-media-list-item\">\\n                <a href=\"/tv/house_of_the_dragon/s01#desktopEpisodeList\" data-qa=\"tv-media-list-link\">\\n                  <span>House of the Dragon: Season 1</span>\\n                </a>\\n              </li>\\n            \\n              <li data-qa=\"tv-media-list-item\" data-qa=\"tv-media-list-item\">\\n                <a href=\"/tv/the_lord_of_the_rings_the_rings_of_power/s01#desktopEpisodeList\" data-qa=\"tv-media-list-link\">\\n                  <span>The Lord of the Rings: The Rings of Power: Season 1</span>\\n                </a>\\n              </li>\\n            \\n              <li data-qa=\"tv-media-list-item\" data-qa=\"tv-media-list-item\">\\n                <a href=\"/tv/atlanta/s04#desktopEpisodeList\" data-qa=\"tv-media-list-link\">\\n                  <span>Atlanta: Season 4</span>\\n                </a>\\n              </li>\\n            \\n          </ul>\\n        </rt-header-nav-item-dropdown-list>\\n\\n        \\n          <rt-header-nav-item-dropdown-list slot=\"column\" cfp data-qa=\"header-certified-fresh-pick\">\\n            <p slot=\"title\" class=\"h4\">\\n              Certified fresh pick\\n            </p>\\n            <ul slot=\"links\" class=\"cfp-wrap\" data-curation=\"rt-nav-list-cf-picks\">\\n              <li>\\n                \\n                <a class=\"cfp-tile\" href=\"/tv/the_last_of_us/s01\" data-qa=\"cert-fresh-link\">\\n    <tile-dynamic data-qa=\"tile\">\\n        <img\\n            alt=\"The Last of Us: Season 1 poster image\"\\n            slot=\"image\"\\n            src=\"https://resizing.flixster.com/EQwjsJzvAePoD3yc8_F4tnKxepw=/fit-in/180x240/v2/https://resizing.flixster.com/1t3h8KAxIMmKUCU09OoqpfqD6R0=/ems.cHJkLWVtcy1hc3NldHMvdHZzZWFzb24vZjU3YTRlYjItOTAzNC00MzFjLTg0NGQtODA1ZGU2OWY1NzY1LmpwZw==\"\\n            loading=\"lazy\"\\n        />\\n        <div slot=\"caption\" data-track=\"scores\">\\n            <score-icon-critic\\n                alignment=\"left\"\\n                percentage=\"97\"\\n                state=\"certified_fresh\"\\n            ></score-icon-critic>\\n            <span class=\"p--small\">The Last of Us: Season 1</span>\\n            <span class=\"sr-only\">Link to The Last of Us: Season 1</span>\\n        </div>\\n    </tile-dynamic>\\n</a>\\n              </li>\\n            </ul>\\n          </rt-header-nav-item-dropdown-list>\\n        \\n      </rt-header-nav-item-dropdown>\\n    </rt-header-nav-item>\\n\\n    <rt-header-nav-item slot=\"trivia\">\\n      <a class=\"unset\"\\n          slot=\"link\"\\n          href=\"https://rottentomatoes.com/daily\"\\n          data-qa=\"masthead:trivia-link\"\\n      >\\n          Movie Trivia\\n          <temporary-display\\n            slot=\"temporary-display\"\\n            key=\"trivia\"\\n            element=\"#triviaLink\"\\n            event=\"click\"\\n          >\\n            <rt-badge hidden>New</rt-badge>\\n          </temporary-display>\\n      </a>\\n    </rt-header-nav-item>\\n\\n    <rt-header-nav-item slot=\"news\" data-qa=\"masthead:news\">\\n      <a class=\"unset\" slot=\"link\" href=\"https://editorial.rottentomatoes.com/\" data-qa=\"masthead:news-link\">News</a>\\n      <rt-header-nav-item-dropdown aria-expanded=\"false\" slot=\"dropdown\">\\n        <rt-header-nav-item-dropdown-list slot=\"column\" data-qa=\"header-news-columns\">\\n          <p slot=\"title\" class=\"h4\">Columns</p>\\n          <ul slot=\"links\">\\n            <li data-qa=\"column-item\">\\n              <a href=\"https://editorial.rottentomatoes.com/24-frames/\" data-pageheader=\"24 Frames\" data-qa=\"column-link\">\\n                24 Frames\\n              </a>\\n            </li>\\n            <li data-qa=\"column-item\">\\n              <a href=\"https://editorial.rottentomatoes.com/all-time-lists/\" data-pageheader=\"All-Time Lists\" data-qa=\"column-link\">\\n                All-Time Lists\\n              </a>\\n            </li>\\n            <li data-qa=\"column-item\">\\n              <a href=\"https://editorial.rottentomatoes.com/binge-guide/\" data-pageheader=\"Binge Guide\" data-qa=\"column-link\">\\n                Binge Guide\\n              </a>\\n            </li>\\n            <li data-qa=\"column-item\">\\n              <a href=\"https://editorial.rottentomatoes.com/comics-on-tv/\" data-pageheader=\"Comics on TV\" data-qa=\"column-link\">\\n                Comics on TV\\n              </a>\\n            </li>\\n            <li data-qa=\"column-item\">\\n              <a href=\"https://editorial.rottentomatoes.com/countdown/\" data-pageheader=\"Countdown\" data-qa=\"column-link\">\\n                Countdown\\n              </a>\\n            </li>\\n            <li data-qa=\"column-item\">\\n              <a href=\"https://editorial.rottentomatoes.com/critics-consensus/\" data-pageheader=\"Critics Consensus\" data-qa=\"column-link\">\\n                Critics Consensus\\n              </a>\\n            </li>\\n            <li data-qa=\"column-item\">\\n              <a href=\"https://editorial.rottentomatoes.com/five-favorite-films/\" data-pageheader=\"Five Favorite Films\" data-qa=\"column-link\">\\n                Five Favorite Films\\n              </a>\\n            </li>\\n            <li data-qa=\"column-item\">\\n              <a href=\"https://editorial.rottentomatoes.com/now-streaming/\" data-pageheader=\"Now Streaming\" data-qa=\"column-link\"\\n              >Now Streaming\\n            </a>\\n            </li>\\n            <li data-qa=\"column-item\">\\n              <a href=\"https://editorial.rottentomatoes.com/parental-guidance/\" data-pageheader=\"Parental Guidance\" data-qa=\"column-link\">\\n                Parental Guidance\\n              </a>\\n            </li>\\n            <li data-qa=\"column-item\">\\n              <a href=\"https://editorial.rottentomatoes.com/red-carpet-roundup/\" data-pageheader=\"Red Carpet Roundup\" data-qa=\"column-link\">\\n                Red Carpet Roundup\\n              </a>\\n            </li>\\n            <li data-qa=\"column-item\">\\n              <a href=\"https://editorial.rottentomatoes.com/movie-tv-scorecards/\" data-pageheader=\"Scorecards\" data-qa=\"column-link\">\\n                Scorecards\\n              </a>\\n            </li>\\n            <li data-qa=\"column-item\">\\n              <a href=\"https://editorial.rottentomatoes.com/sub-cult/\" data-pageheader=\"Sub-Cult\" data-qa=\"column-link\">\\n                Sub-Cult\\n              </a>\\n            </li>\\n            <li data-qa=\"column-item\">\\n              <a href=\"https://editorial.rottentomatoes.com/total-recall/\" data-pageheader=\"Total Recall\" data-qa=\"column-link\"\\n              >Total Recall\\n            </a>\\n            </li>\\n            <li data-qa=\"column-item\">\\n              <a href=\"https://editorial.rottentomatoes.com/video-interviews/\" data-pageheader=\"Video Interviews\" data-qa=\"column-link\">\\n                Video Interviews\\n              </a>\\n            </li>\\n            <li data-qa=\"column-item\">\\n              <a href=\"https://editorial.rottentomatoes.com/weekend-box-office/\" data-pageheader=\"Weekend Box Office\" data-qa=\"column-link\"\\n              >Weekend Box Office\\n            </a>\\n            </li>\\n            <li data-qa=\"column-item\">\\n              <a href=\"https://editorial.rottentomatoes.com/weekly-ketchup/\" data-pageheader=\"Weekly Ketchup\" data-qa=\"column-link\">\\n                Weekly Ketchup\\n              </a>\\n            </li>\\n            <li data-qa=\"column-item\">\\n              <a href=\"https://editorial.rottentomatoes.com/what-to-watch/\" data-pageheader=\"What to Watch\" data-qa=\"column-link\">\\n                What to Watch\\n              </a>\\n            </li>\\n            <li data-qa=\"column-item\">\\n              <a href=\"https://editorial.rottentomatoes.com/the-zeros/\" data-pageheader=\"The Zeros\" data-qa=\"column-link\">\\n                The Zeros\\n              </a>\\n              </li>\\n          </ul>\\n        </rt-header-nav-item-dropdown-list>\\n\\n        \\n          <rt-header-nav-item-dropdown-list slot=\"column\" data-qa=\"header-news-best-worst\">\\n            <p slot=\"title\" class=\"h4\">Best and Worst</p>\\n            <ul slot=\"links\" class=\"news-wrap\">\\n              \\n                <li data-qa=\"best-worst-item\">\\n                  <a class=\"news-tile\" href=\"https://editorial.rottentomatoes.com/guide/all-marvel-cinematic-universe-movies-ranked/\" data-qa=\"news-link\">\\n    <tile-dynamic\\n        data-qa=\"tile\"\\n        orientation=\"landscape\"\\n    >\\n        <img\\n            alt=\"Marvel Movies Ranked Worst to Best by Tomatometer poster image\"\\n            slot=\"image\"\\n            src=\"https://prd-rteditorial.s3.us-west-2.amazonaws.com/wp-content/uploads/2018/02/14193805/Marvel-Movies-Recall2.jpg\"\\n            loading=\"lazy\"\\n        />\\n        <div slot=\"caption\">\\n            <p>Marvel Movies Ranked Worst to Best by Tomatometer</p>\\n            <span class=\"sr-only\">Link to Marvel Movies Ranked Worst to Best by Tomatometer</span>\\n        </div>\\n    </tile-dynamic>\\n</a>\\n                </li>\\n              \\n                <li data-qa=\"best-worst-item\">\\n                  <a class=\"news-tile\" href=\"https://editorial.rottentomatoes.com/guide/jurassic-park-world-movies/\" data-qa=\"news-link\">\\n    <tile-dynamic\\n        data-qa=\"tile\"\\n        orientation=\"landscape\"\\n    >\\n        <img\\n            alt=\"<em>Jurassic Park</em> Movies Ranked By Tomatometer poster image\"\\n            slot=\"image\"\\n            src=\"https://prd-rteditorial.s3.us-west-2.amazonaws.com/wp-content/uploads/2015/06/19171851/Jurassic-Park-Franchise-Recall.jpg\"\\n            loading=\"lazy\"\\n        />\\n        <div slot=\"caption\">\\n            <p><em>Jurassic Park</em> Movies Ranked By Tomatometer</p>\\n            <span class=\"sr-only\">Link to <em>Jurassic Park</em> Movies Ranked By Tomatometer</span>\\n        </div>\\n    </tile-dynamic>\\n</a>\\n                </li>\\n              \\n            </ul>\\n            <a\\n              class=\"a--short\"\\n              data-qa=\"best-worst-view-all-link\"\\n              href=\"https://editorial.rottentomatoes.com/total-recall\"\\n              slot=\"view-all-link\"\\n            >\\n              View All\\n            </a>\\n          </rt-header-nav-item-dropdown-list>\\n        \\n\\n        \\n          <rt-header-nav-item-dropdown-list slot=\"column\" data-qa=\"header-news-guides\">\\n            <p slot=\"title\" class=\"h4\">Guides</p>\\n            <ul slot=\"links\" class=\"news-wrap\">\\n              \\n                <li data-qa=\"guides-item\">\\n                  <a class=\"news-tile\" href=\"https://editorial.rottentomatoes.com/rt-hub/golden-tomato-awards-2022/\" data-qa=\"news-link\">\\n    <tile-dynamic\\n        data-qa=\"tile\"\\n        orientation=\"landscape\"\\n    >\\n        <img\\n            alt=\"Golden Tomato Awards: Best Movies &#038; TV of 2022 poster image\"\\n            slot=\"image\"\\n            src=\"https://prd-rteditorial.s3.us-west-2.amazonaws.com/wp-content/uploads/2022/01/12130451/660GTA.jpg\"\\n            loading=\"lazy\"\\n        />\\n        <div slot=\"caption\">\\n            <p>Golden Tomato Awards: Best Movies &#038; TV of 2022</p>\\n            <span class=\"sr-only\">Link to Golden Tomato Awards: Best Movies &#038; TV of 2022</span>\\n        </div>\\n    </tile-dynamic>\\n</a>\\n                </li>\\n              \\n                <li data-qa=\"guides-item\">\\n                  <a class=\"news-tile\" href=\"https://editorial.rottentomatoes.com/rt-hub/awards-tour/\" data-qa=\"news-link\">\\n    <tile-dynamic\\n        data-qa=\"tile\"\\n        orientation=\"landscape\"\\n    >\\n        <img\\n            alt=\"Awards Tour poster image\"\\n            slot=\"image\"\\n            src=\"https://prd-rteditorial.s3.us-west-2.amazonaws.com/wp-content/uploads/2022/09/12091739/RT_AwardsTour_Thumbnail_600x314_Gradient.jpg\"\\n            loading=\"lazy\"\\n        />\\n        <div slot=\"caption\">\\n            <p>Awards Tour</p>\\n            <span class=\"sr-only\">Link to Awards Tour</span>\\n        </div>\\n    </tile-dynamic>\\n</a>\\n                </li>\\n              \\n            </ul>\\n            <a\\n              class=\"a--short\"\\n              data-qa=\"guides-view-all-link\"\\n              href=\"https://editorial.rottentomatoes.com/rt-hubs\"\\n              slot=\"view-all-link\"\\n            >\\n              View All\\n            </a>\\n          </rt-header-nav-item-dropdown-list>\\n        \\n\\n        \\n          <rt-header-nav-item-dropdown-list slot=\"column\" data-qa=\"header-news-rt-news\">\\n            <p slot=\"title\" class=\"h4\">RT News</p>\\n            <ul slot=\"links\" class=\"news-wrap\">\\n              \\n                <li data-qa=\"rt-news-item\">\\n                  <a class=\"news-tile\" href=\"https://editorial.rottentomatoes.com/article/2023-directors-guild-awards-nominations-the-full-list/\" data-qa=\"news-link\">\\n    <tile-dynamic\\n        data-qa=\"tile\"\\n        orientation=\"landscape\"\\n    >\\n        <img\\n            alt=\"2023 Directors Guild Awards Nominations: The Full List poster image\"\\n            slot=\"image\"\\n            src=\"https://prd-rteditorial.s3.us-west-2.amazonaws.com/wp-content/uploads/2022/05/12144145/Top_Gun_Maverick_Reviews-Rep.jpg\"\\n            loading=\"lazy\"\\n        />\\n        <div slot=\"caption\">\\n            <p>2023 Directors Guild Awards Nominations: The Full List</p>\\n            <span class=\"sr-only\">Link to 2023 Directors Guild Awards Nominations: The Full List</span>\\n        </div>\\n    </tile-dynamic>\\n</a>\\n                </li>\\n              \\n                <li data-qa=\"rt-news-item\">\\n                  <a class=\"news-tile\" href=\"https://editorial.rottentomatoes.com/article/hunters-star-logan-lerman-series-creator-david-weil-preview-season-2/\" data-qa=\"news-link\">\\n    <tile-dynamic\\n        data-qa=\"tile\"\\n        orientation=\"landscape\"\\n    >\\n        <img\\n            alt=\"<em>Hunters</em> Star Logan Lerman &amp; Series Creator David Weil on the Resurrection of Al Pacino for Season 2 poster image\"\\n            slot=\"image\"\\n            src=\"https://prd-rteditorial.s3.us-west-2.amazonaws.com/wp-content/uploads/2023/01/12151829/HUNTERS_S2_IMG_1_600x314.jpg\"\\n            loading=\"lazy\"\\n        />\\n        <div slot=\"caption\">\\n            <p><em>Hunters</em> Star Logan Lerman &amp; Series Creator David Weil on the Resurrection of Al Pacino for Season 2</p>\\n            <span class=\"sr-only\">Link to <em>Hunters</em> Star Logan Lerman &amp; Series Creator David Weil on the Resurrection of Al Pacino for Season 2</span>\\n        </div>\\n    </tile-dynamic>\\n</a>\\n                </li>\\n              \\n            </ul>\\n            <a\\n              class=\"a--short\"\\n              data-qa=\"rt-news-view-all-link\"\\n              href=\"https://editorial.rottentomatoes.com/news\"\\n              slot=\"view-all-link\"\\n            >\\n              View All\\n            </a>\\n          </rt-header-nav-item-dropdown-list>\\n        \\n      </rt-header-nav-item-dropdown>\\n    </rt-header-nav-item>\\n\\n    <rt-header-nav-item slot=\"showtimes\">\\n      <a\\n        class=\"unset\"\\n        slot=\"link\"\\n        href=\"https://www.fandango.com/movies-in-theaters\"\\n        target=\"_blank\"\\n        data-qa=\"masthead:tickets-showtimes-link\"\\n      >\\n        Showtimes\\n      </a>\\n    </rt-header-nav-item>\\n  </rt-header-nav>\\n\\n</rt-header>\\n<section class=\"trending-bar\">\\n    \\n    \\n    <div id=\"trending_bar_ad\" style=\"display: none;\"></div>\\n    <script>\\n        var mps = mps||{}; mps._queue = mps._queue||{}; mps._queue.gptloaded = mps._queue.gptloaded||[];\\n        mps._queue.gptloaded.push(function () {\\n            if (mps.getResponsiveSet() != \\'0\\') { //DESKTOP or TABLET\\n                mps.insertAd(\\'#trending_bar_ad\\',\\'trendinggraphic\\');\\n            }\\n        });\\n    </script>\\n\\n\\n    <div id=\"trending-bar-start\" class=\"trending-list-wrap\" data-qa=\"trending-bar\">\\n        <ul\\n            class=\"list-inline trending-bar__list\"\\n            data-curation=\"rt-nav-trending\"\\n            data-qa=\"trending-bar-list\">\\n            <li class=\"trending-bar__header\">Trending on RT</li>\\n            \\n                <li><a class=\"trending-bar__link\" href=\"https://www.rottentomatoes.com/tv/the_last_of_us\"  data-qa=\"trending-bar-item\"> The Last Of Us </a></li>\\n            \\n                <li><a class=\"trending-bar__link\" href=\"https://www.rottentomatoes.com/m/m3gan\"  data-qa=\"trending-bar-item\"> M3GAN </a></li>\\n            \\n                <li><a class=\"trending-bar__link\" href=\"https://www.rottentomatoes.com/m/plane\"  data-qa=\"trending-bar-item\"> Plane </a></li>\\n            \\n                <li><a class=\"trending-bar__link\" href=\"https://www.rottentomatoes.com/m/a_man_called_otto\"  data-qa=\"trending-bar-item\"> A Man Called Otto </a></li>\\n            \\n        </ul>\\n        <div class=\"list-inline trending-bar__social\" data-qa=\"trending-bar-social-list\">\\n            <a id=\"header-facebook-social-link\" class=\"trending-bar__social-link\" href=\"//www.facebook.com/rottentomatoes\" target=\"_blank\" rel=\"noopener\" aria-label=\"Facebook\" data-qa=\"trending-bar-social-facebook\">\\n                <rt-icon icon=\"facebook-squared\"></rt-icon>\\n            </a>\\n            <a id=\"header-twitter-social-link\" class=\"trending-bar__social-link\" href=\"//twitter.com/rottentomatoes\" target=\"_blank\" rel=\"noopener\" aria-label=\"Twitter\" data-qa=\"trending-bar-social-twitter\">\\n                <rt-icon icon=\"twitter\"></rt-icon>\\n            </a>\\n            <a id=\"header-instagram-social-link\" class=\"trending-bar__social-link\" href=\"//www.instagram.com/rottentomatoes/\" target=\"_blank\" rel=\"noopener\" aria-label=\"Instagram\" data-qa=\"trending-bar-social-instagram\">\\n                <rt-icon icon=\"instagram\"></rt-icon>\\n            </a>\\n            <a id=\"header-pinterest-social-link\" class=\"trending-bar__social-link\" href=\"https://www.pinterest.com/rottentomatoes\" target=\"_blank\" rel=\"noopener\" aria-label=\"Pinterest\" data-qa=\"contact-us-pinterest\">\\n                <rt-icon icon=\"pinterest\"></rt-icon>\\n            </a>\\n            <a id=\"header-youtube-social-link\" class=\"trending-bar__social-link\" href=\"//www.youtube.com/user/rottentomatoes\" target=\"_blank\" rel=\"noopener\" aria-label=\"Youtube\" data-qa=\"trending-bar-social-youtube\">\\n                <rt-icon icon=\"youtube-play\"></rt-icon>\\n            </a>\\n        </div>\\n    </div>\\n</section>\\n\\n\\n\\n\\n            <main id=\"main_container\" class=\"container roma-layout__content\">\\n                <bottom-nav data-qa=\"bottom-nav\">\\n                    <a slot=\"template\">\\n                        <bottom-nav-item></bottom-nav-item>\\n                    </a>\\n                </bottom-nav>\\n                <div id=\"main-page-content\">\\n                    \\n\\n    \\n\\n    \\n                    \\n\\n    <!-- salt=home-sticky-wicket-88 -->\\n    <section class=\"home-body\">\\n        \\n            <section class=\"js-rtv2-home-spotlight legacy-home-spotlight\">\\n                \\n<div id=\"banner\" class=\"homepage-banner\">\\n    <section class=\"headline col-sm-12\" data-qa=\"section:headline\">\\n        <div id=\"headliners\" class=\"headliners carousel slide js-carousel\" data-ride=\"carousel\">\\n            <ul class=\"carousel-indicators\">\\n                \\n                    <li data-target=\"#headliners\" data-slide-to=\"0\" class=\"active\" data-qa=\"carousel-indicator\"></li>\\n                \\n                    <li data-target=\"#headliners\" data-slide-to=\"1\"  data-qa=\"carousel-indicator\"></li>\\n                \\n                    <li data-target=\"#headliners\" data-slide-to=\"2\"  data-qa=\"carousel-indicator\"></li>\\n                \\n                    <li data-target=\"#headliners\" data-slide-to=\"3\"  data-qa=\"carousel-indicator\"></li>\\n                \\n                    <li data-target=\"#headliners\" data-slide-to=\"4\"  data-qa=\"carousel-indicator\"></li>\\n                \\n                    <li data-target=\"#headliners\" data-slide-to=\"5\"  data-qa=\"carousel-indicator\"></li>\\n                \\n                    <li data-target=\"#headliners\" data-slide-to=\"6\"  data-qa=\"carousel-indicator\"></li>\\n                \\n                    <li data-target=\"#headliners\" data-slide-to=\"7\"  data-qa=\"carousel-indicator\"></li>\\n                \\n            </ul>\\n            <div class=\"carousel-inner spotlight-item-wrap\" data-qa=\"carousel-items\">\\n                \\n                    \\n                    \\n                    \\n                    \\n                    \\n                    \\n<section id=\"\" class=\"js-headline headlineItem item active\">\\n    <aside class=\"sponsored-tag\">\\n        <p class=\"sponsored-tag-text\"></p>\\n        <div class=\"sponsored-tag-bg\"></div>\\n    </aside>\\n\\n    \\n        <a\\n            href=\"https://editorial.rottentomatoes.com/rt-hub/golden-tomato-awards-2022/\"\\n            data-slide-index=\"0\"\\n            \\n            data-qa=\"headline-item-link\"\\n        >\\n    \\n            <img \\n                class=\"bannerPic home-slide\"\\n                src=\"https://resizing.flixster.com/j7BmNKghwvzJGQfLdvVW-8W_zXE=/550x310/v2/https://images.fandango.com/cms/assets/d25c0c10-92bf-11ed-83f2-4f600722b564--rt-gta-2023-featured-700x350-010623.jpeg\" />\\n            <div class=\"bannerCaption subPanel\">\\n                <h2>Golden Tomato Awards</h2>\\n                <p>We\\'re honoring the best-reviewed movies and TV shows of 2022</p>\\n            </div>\\n        </a>\\n</section>\\n\\n                \\n                    \\n                    \\n                    \\n                    \\n                    \\n                    \\n<section id=\"\" class=\"js-headline headlineItem item \">\\n    <aside class=\"sponsored-tag\">\\n        <p class=\"sponsored-tag-text\"></p>\\n        <div class=\"sponsored-tag-bg\"></div>\\n    </aside>\\n\\n    \\n        <a\\n            href=\"https://editorial.rottentomatoes.com/article/7-things-to-know-about-vikings-valhalla-season-2-from-the-stars-and-creator/\"\\n            data-slide-index=\"1\"\\n            \\n            data-qa=\"headline-item-link\"\\n        >\\n    \\n            <img \\n                class=\"bannerPic home-slide\"\\n                src=\"https://resizing.flixster.com/FXPT4ZmNuN1BLNZpnMX2VnoeFaw=/550x310/v2/https://images.fandango.com/cms/assets/f9ffac70-92b2-11ed-83f2-4f600722b564--vikings-valhalla-s2-550x310.jpg\" />\\n            <div class=\"bannerCaption subPanel\">\\n                <h2><em>Vikings: Valhalla</em>: 7 Things To Know About Season 2</h2>\\n                <p>Frida Gustavsson, Sam Corlett, Leo Suter, and Jeb Stuart on 11th century life, love, and bloody Viking reckonings</p>\\n            </div>\\n        </a>\\n</section>\\n\\n                \\n                    \\n                    \\n                    \\n                    \\n                    \\n                    \\n<section id=\"\" class=\"js-headline headlineItem item \">\\n    <aside class=\"sponsored-tag\">\\n        <p class=\"sponsored-tag-text\"></p>\\n        <div class=\"sponsored-tag-bg\"></div>\\n    </aside>\\n\\n    \\n        <a\\n            href=\"https://editorial.rottentomatoes.com/article/2023-directors-guild-awards-nominations-the-full-list/\"\\n            data-slide-index=\"2\"\\n            \\n            data-qa=\"headline-item-link\"\\n        >\\n    \\n            <img \\n                class=\"bannerPic home-slide\"\\n                src=\"https://resizing.flixster.com/5gPryLoQXgrqBhPOD0mS16VVj1w=/550x310/v2/https://images.fandango.com/cms/assets/cfab0f50-92df-11ed-b2f6-e1f3892e3f59--top-gun-maverick-reviews-rep.jpeg\" />\\n            <div class=\"bannerCaption subPanel\">\\n                <h2>2023 Directors Guild Awards Nominations</h2>\\n                <p><em>Top Gun: Maverick</em> director Joseph Kosinski earns a surprise nod alongside Steven Spielberg and Martin Mcdonagh </p>\\n            </div>\\n        </a>\\n</section>\\n\\n                \\n                    \\n                    \\n                    \\n                    \\n                    \\n                    \\n<section id=\"\" class=\"js-headline headlineItem item \">\\n    <aside class=\"sponsored-tag\">\\n        <p class=\"sponsored-tag-text\"></p>\\n        <div class=\"sponsored-tag-bg\"></div>\\n    </aside>\\n\\n    \\n        <a\\n            href=\"https://editorial.rottentomatoes.com/article/renewed-and-cancelled-tv-shows-2023/\"\\n            data-slide-index=\"3\"\\n            \\n            data-qa=\"headline-item-link\"\\n        >\\n    \\n            <img \\n                class=\"bannerPic home-slide\"\\n                src=\"https://resizing.flixster.com/EMATj41Sshh9vwZerlu3U9qaZ1M=/550x310/v2/https://images.fandango.com/cms/assets/7023f8c0-9209-11ed-bbb0-99bdf247c629--abbott-elementary-600x314-1.jpeg\" />\\n            <div class=\"bannerCaption subPanel\">\\n                <h2>Renewed & Cancelled TV</h2>\\n                <p>ABC\\'s Golden Globes & Emmy-winning <em>Abbott Elementary</em> is back in session for a third season</p>\\n            </div>\\n        </a>\\n</section>\\n\\n                \\n                    \\n                    \\n                    \\n                    \\n                    \\n                    \\n<section id=\"\" class=\"js-headline headlineItem item \">\\n    <aside class=\"sponsored-tag\">\\n        <p class=\"sponsored-tag-text\"></p>\\n        <div class=\"sponsored-tag-bg\"></div>\\n    </aside>\\n\\n    \\n        <a\\n            href=\"https://editorial.rottentomatoes.com/article/2023-golden-globes-best-moments-diversity-was-the-big-winner/\"\\n            data-slide-index=\"4\"\\n            \\n            data-qa=\"headline-item-link\"\\n        >\\n    \\n            <img \\n                class=\"bannerPic home-slide\"\\n                src=\"https://resizing.flixster.com/aD3bzp7aR9aO5nbPrKTIMT8-qFw=/550x310/v2/https://images.fandango.com/cms/assets/639e3cc0-9171-11ed-90fe-f325d9bf4959--golden-globes-abbott-elementary-550x310.jpg\" />\\n            <div class=\"bannerCaption subPanel\">\\n                <h2>2023 Golden Globes Best Moments</h2>\\n                <p>Diversity was the big winner at the 80th annual awards ceremony</p>\\n            </div>\\n        </a>\\n</section>\\n\\n                \\n                    \\n                    \\n                    \\n                    \\n                    \\n                    \\n<section id=\"\" class=\"js-headline headlineItem item \">\\n    <aside class=\"sponsored-tag\">\\n        <p class=\"sponsored-tag-text\"></p>\\n        <div class=\"sponsored-tag-bg\"></div>\\n    </aside>\\n\\n    \\n        <a\\n            href=\"https://editorial.rottentomatoes.com/article/2023-golden-globe-winners/\"\\n            data-slide-index=\"5\"\\n            \\n            data-qa=\"headline-item-link\"\\n        >\\n    \\n            <img \\n                class=\"bannerPic home-slide\"\\n                src=\"https://resizing.flixster.com/IwxE2NotgwCw7PJcWZBVaPloYiM=/550x310/v2/https://images.fandango.com/cms/assets/6100dac0-915f-11ed-83f2-4f600722b564--550goldenglobes-steven-spielberg.jpg\" />\\n            <div class=\"bannerCaption subPanel\">\\n                <h2>Golden Globe Winners 2023 Winners</h2>\\n                <p><em>The Fabelmans</em>, <em>The Banshees of Inisherin</em> and <em>Abbott Elementary</em> win big at the Golden Globes </p>\\n            </div>\\n        </a>\\n</section>\\n\\n                \\n                    \\n                    \\n                    \\n                    \\n                    \\n                    \\n<section id=\"\" class=\"js-headline headlineItem item \">\\n    <aside class=\"sponsored-tag\">\\n        <p class=\"sponsored-tag-text\"></p>\\n        <div class=\"sponsored-tag-bg\"></div>\\n    </aside>\\n\\n    \\n        <a\\n            href=\"https://editorial.rottentomatoes.com/guide/fan-favorite-movies-2022/\"\\n            data-slide-index=\"6\"\\n            \\n            data-qa=\"headline-item-link\"\\n        >\\n    \\n            <img \\n                class=\"bannerPic home-slide\"\\n                src=\"https://resizing.flixster.com/n9crKp1F7V88mGXZeQosyWMSYWg=/550x310/v2/https://images.fandango.com/cms/assets/accfbe80-92c2-11ed-bbb0-99bdf247c629--gtamovie.jpeg\" />\\n            <div class=\"bannerCaption subPanel\">\\n                <h2>Fan Favorite Movies 2022</h2>\\n                <p>Vote to determine the Fan Favorite Movie of the year!</p>\\n            </div>\\n        </a>\\n</section>\\n\\n                \\n                    \\n                    \\n                    \\n                    \\n                    \\n                    \\n<section id=\"\" class=\"js-headline headlineItem item \">\\n    <aside class=\"sponsored-tag\">\\n        <p class=\"sponsored-tag-text\"></p>\\n        <div class=\"sponsored-tag-bg\"></div>\\n    </aside>\\n\\n    \\n        <a\\n            href=\"https://editorial.rottentomatoes.com/article/the-last-of-us-first-reviews/\"\\n            data-slide-index=\"7\"\\n            \\n            data-qa=\"headline-item-link\"\\n        >\\n    \\n            <img \\n                class=\"bannerPic home-slide\"\\n                src=\"https://resizing.flixster.com/vRdGgn46mC1mmCMraJr42fWgLdY=/550x310/v2/https://images.fandango.com/cms/assets/93ae6310-911a-11ed-bbb0-99bdf247c629--the-last-of-us-key-art-image-550x310.jpg\" />\\n            <div class=\"bannerCaption subPanel\">\\n                <h2><em>The Last of Us</em> First Reviews</h2>\\n                <p>A top-notch cast, sharp writing, and respect for the original subject matter make the HBO series the first must-watch show of 2023</p>\\n            </div>\\n        </a>\\n</section>\\n\\n                \\n            </div>\\n            <div class=\"carousel-navigation\" data-curation=\"rt-hp-spotlight\">\\n                <button class=\"carousel-navigation__control\" data-target=\"#headliners\" data-slide=\"prev\">\\n                    <rt-icon image icon=\"left-chevron\" class=\"carousel-navigation__control__icon carousel-navigation__control__icon--left\"></rt-icon>\\n                </button>\\n                <button class=\"carousel-navigation__control\" data-target=\"#headliners\" data-slide=\"next\">\\n                    <rt-icon image icon=\"right-chevron\" class=\"carousel-navigation__control__icon carousel-navigation__control__icon--right\"></rt-icon>\\n                </button>\\n            </div>\\n        </div>\\n    </section>\\n\\n    \\n        \\n        \\n        \\n        \\n        \\n        \\n        \\n<section id=\"homepage-spotlight1\" class=\"js-headline headlineItem headline col-sm-6 mobile-hidden homepage-spotlight active\">\\n    <aside class=\"sponsored-tag\">\\n        <p class=\"sponsored-tag-text\"></p>\\n        <div class=\"sponsored-tag-bg\"></div>\\n    </aside>\\n\\n    \\n        <a\\n            href=\"https://editorial.rottentomatoes.com/article/awards-leaderboard-top-movies-of-2022/\"\\n            \\n            data-qa=\"spotlight-item-link\"\\n        >\\n    \\n            <img \\n                class=\"bannerPic home-slide\"\\n                src=\"https://resizing.flixster.com/mOc_VbE4xJoop9H1tyISEKlXEg4=/540x610/v2/https://images.fandango.com/cms/assets/d399b3e0-9209-11ed-b2f6-e1f3892e3f59--everything-everywhere-all-at-once.jpg\" />\\n            <div class=\"bannerCaption subPanel\">\\n                <h2>Awards Leaderboard</h2>\\n                <p>Top movies of 2022</p>\\n            </div>\\n        </a>\\n</section>\\n\\n    \\n\\n    \\n        \\n        \\n        \\n        \\n        \\n        \\n        \\n<section id=\"homepage-spotlight2\" class=\"js-headline headlineItem headline col-sm-6 mobile-hidden homepage-spotlight active\">\\n    <aside class=\"sponsored-tag\">\\n        <p class=\"sponsored-tag-text\"></p>\\n        <div class=\"sponsored-tag-bg\"></div>\\n    </aside>\\n\\n    \\n        <a\\n            href=\"https://editorial.rottentomatoes.com/guide/golden-globes-best-film-winners-by-tomatometer/\"\\n            \\n            data-qa=\"spotlight-item-link\"\\n        >\\n    \\n            <img \\n                class=\"bannerPic home-slide\"\\n                src=\"https://resizing.flixster.com/ORXvENOcPjeGNTp7n8-VLHi3tto=/540x610/v2/https://images.fandango.com/cms/assets/29e5fce0-920a-11ed-83f2-4f600722b564--thefabelmans.jpg\" />\\n            <div class=\"bannerCaption subPanel\">\\n                <h2>Golden Globes </h2>\\n                <p>Best Pictures ranked by Tomatometer</p>\\n            </div>\\n        </a>\\n</section>\\n\\n    \\n\\n    \\n    \\n    \\n        \\n    \\n    <div id=\"spotlight_ad\" style=\"height:0px\"></div>\\n    <script>\\n        var mps = mps||{}; mps._queue = mps._queue||{}; mps._queue.gptloaded = mps._queue.gptloaded||[];\\n        mps._queue.gptloaded.push(function () {\\n            if (mps.getResponsiveSet() != \\'0\\') { //DESKTOP or TABLET\\n                mps.insertAd(\\'#spotlight_ad\\',\\'spotlight\\');\\n            }\\n        });\\n    </script>\\n\\n\\n</div>\\n\\n            </section>\\n        \\n\\n        <section id=\"media-lists\" data-qa=\"section:media-lists\">\\r\\n    \\r\\n    \\r\\n        <div class=\"ordered-layout__list ordered-layout__list--carousel\" data-curation=\"rt-hp-poster-list-coming-soon\">\\n  \\n  \\r\\n  <section class=\"dynamic-poster-list\" data-qa=\"dynamic-poster-list\">\\r\\n    <div class=\"dynamic-poster-list__header-container--hide-h3\">\\r\\n      <div>\\r\\n        \\r\\n          <h2 data-qa=\"title\">New &amp; Upcoming Movies</h2>\\r\\n        \\r\\n\\r\\n        \\r\\n          <a href=\"https://www.rottentomatoes.com/browse/movies_in_theaters/sort:newest?page=1\" class=\"a--short\" data-track=\"showmore\">View all</a>\\r\\n        \\r\\n      </div>\\r\\n\\r\\n      \\r\\n    </div>\\r\\n    \\r\\n    \\r\\n\\r\\n    <tiles-carousel-responsive skeleton=\"panel\">\\r\\n\\r\\n      <button slot=\"scroll-left\">\\r\\n        <rt-icon slot=\"icon-arrow-left\" image icon=\"left-chevron\"></rt-icon>\\r\\n      </button>\\r\\n\\r\\n      \\r\\n        <tiles-carousel-responsive-item slot=\"tile\">\\r\\n          \\r\\n            \\r\\n            <tile-dynamic isvideo data-qa=\"tile\">\\r\\n              <img\\r\\n                slot=\"image\"\\r\\n                loading=\"lazy\"\\r\\n                src=\"https://resizing.flixster.com/96gGzEOuV_fOYF8NKCANgRXH3SI=/ems.cHJkLWVtcy1hc3NldHMvbW92aWVzLzUzN2ViMzg3LWNjNGUtNDFjZC1hMzZiLTgyYWEwOWIzZTdlZi5qcGc=\"\\r\\n                alt=\"Plane poster\"\\r\\n              />\\r\\n              \\r\\n                <button\\r\\n                  slot=\"imageAction\"\\r\\n                  \\r\\n                  class=\"transparent unset\"\\r\\n                  data-content-type=\"movie\"\\r\\n                  data-mpx-fwsite=\"\"\\r\\n                  data-title=\"Plane\"\\r\\n                  data-video-id=\"\"\\r\\n                  data-video-list=\"rt-hp-poster-list-coming-soon\"\\r\\n                  data-track=\"poster\"\\r\\n                  data-position=\"1\"\\r\\n                  data-media-id=\"\"\\r\\n                  \\r\\n                    data-video-player-overlay-url=\"https://player.theplatform.com/p/NGweTC/pdk6_y__7B0iQTi4P/embed/select/media/w7LCRh0gUu_v\"\\r\\n                    data-video-player-overlay-media-url=\"/m/plane\"\\r\\n                  \\r\\n                  aria-label=\"Play Plane trailer\"\\r\\n                >\\r\\n                  <span class=\"sr-only\">Plane</span>\\r\\n                </button>\\r\\n                \\r\\n                <a slot=\"caption\" href=\"/m/plane\" data-track=\"scores\">\\r\\n              \\r\\n                <score-pairs\\r\\n                  audiencesentiment=\"hide\"\\r\\n                  audiencescore=\"hide\"\\r\\n                  criticssentiment=\"positive\"\\r\\n                  criticsscore=\"73\"\\r\\n                  criticscertified=\"false\"\\r\\n                >\\r\\n                </score-pairs>\\r\\n                <span class=\"p--small\">Plane</span>\\r\\n              \\r\\n                </a>\\r\\n              \\r\\n            </tile-dynamic>\\r\\n          \\r\\n        </tiles-carousel-responsive-item>\\r\\n      \\r\\n        <tiles-carousel-responsive-item slot=\"tile\">\\r\\n          \\r\\n            \\r\\n            <tile-dynamic isvideo data-qa=\"tile\">\\r\\n              <img\\r\\n                slot=\"image\"\\r\\n                loading=\"lazy\"\\r\\n                src=\"https://resizing.flixster.com/gWWM2Ov0VLAuazwELZCVc9grUQI=/ems.cHJkLWVtcy1hc3NldHMvbW92aWVzLzgyMGM0ZDJiLWNmYjAtNGI3NS1hYTgzLTQ5YmU2ZjQwZWE0ZC5qcGc=\"\\r\\n                alt=\"Avatar: The Way of Water poster\"\\r\\n              />\\r\\n              \\r\\n                <button\\r\\n                  slot=\"imageAction\"\\r\\n                  \\r\\n                  class=\"transparent unset\"\\r\\n                  data-content-type=\"movie\"\\r\\n                  data-mpx-fwsite=\"\"\\r\\n                  data-title=\"Avatar: The Way of Water\"\\r\\n                  data-video-id=\"\"\\r\\n                  data-video-list=\"rt-hp-poster-list-coming-soon\"\\r\\n                  data-track=\"poster\"\\r\\n                  data-position=\"2\"\\r\\n                  data-media-id=\"\"\\r\\n                  \\r\\n                    data-video-player-overlay-url=\"https://player.theplatform.com/p/NGweTC/pdk6_y__7B0iQTi4P/embed/select/media/knCBWVtdpB_y\"\\r\\n                    data-video-player-overlay-media-url=\"/m/avatar_the_way_of_water\"\\r\\n                  \\r\\n                  aria-label=\"Play Avatar: The Way of Water trailer\"\\r\\n                >\\r\\n                  <span class=\"sr-only\">Avatar: The Way of Water</span>\\r\\n                </button>\\r\\n                \\r\\n                <a slot=\"caption\" href=\"/m/avatar_the_way_of_water\" data-track=\"scores\">\\r\\n              \\r\\n                <score-pairs\\r\\n                  audiencesentiment=\"hide\"\\r\\n                  audiencescore=\"hide\"\\r\\n                  criticssentiment=\"positive\"\\r\\n                  criticsscore=\"77\"\\r\\n                  criticscertified=\"criticscertified\"\\r\\n                >\\r\\n                </score-pairs>\\r\\n                <span class=\"p--small\">Avatar: The Way of Water</span>\\r\\n              \\r\\n                </a>\\r\\n              \\r\\n            </tile-dynamic>\\r\\n          \\r\\n        </tiles-carousel-responsive-item>\\r\\n      \\r\\n        <tiles-carousel-responsive-item slot=\"tile\">\\r\\n          \\r\\n            \\r\\n            <tile-dynamic isvideo data-qa=\"tile\">\\r\\n              <img\\r\\n                slot=\"image\"\\r\\n                loading=\"lazy\"\\r\\n                src=\"https://resizing.flixster.com/rPJASTXFjLpmiVTi3D6RGcq-skM=/ems.cHJkLWVtcy1hc3NldHMvbW92aWVzLzhjYjA0ODBiLTNlNmUtNDlhOS05ZWRlLThlOGQ2MmEyZjlmYS5qcGc=\"\\r\\n                alt=\"M3GAN poster\"\\r\\n              />\\r\\n              \\r\\n                <button\\r\\n                  slot=\"imageAction\"\\r\\n                  \\r\\n                  class=\"transparent unset\"\\r\\n                  data-content-type=\"movie\"\\r\\n                  data-mpx-fwsite=\"\"\\r\\n                  data-title=\"M3GAN\"\\r\\n                  data-video-id=\"\"\\r\\n                  data-video-list=\"rt-hp-poster-list-coming-soon\"\\r\\n                  data-track=\"poster\"\\r\\n                  data-position=\"3\"\\r\\n                  data-media-id=\"\"\\r\\n                  \\r\\n                    data-video-player-overlay-url=\"https://player.theplatform.com/p/NGweTC/pdk6_y__7B0iQTi4P/embed/select/media/ylRnxYtCODKE\"\\r\\n                    data-video-player-overlay-media-url=\"/m/m3gan\"\\r\\n                  \\r\\n                  aria-label=\"Play M3GAN trailer\"\\r\\n                >\\r\\n                  <span class=\"sr-only\">M3GAN</span>\\r\\n                </button>\\r\\n                \\r\\n                <a slot=\"caption\" href=\"/m/m3gan\" data-track=\"scores\">\\r\\n              \\r\\n                <score-pairs\\r\\n                  audiencesentiment=\"hide\"\\r\\n                  audiencescore=\"hide\"\\r\\n                  criticssentiment=\"positive\"\\r\\n                  criticsscore=\"95\"\\r\\n                  criticscertified=\"criticscertified\"\\r\\n                >\\r\\n                </score-pairs>\\r\\n                <span class=\"p--small\">M3GAN</span>\\r\\n              \\r\\n                </a>\\r\\n              \\r\\n            </tile-dynamic>\\r\\n          \\r\\n        </tiles-carousel-responsive-item>\\r\\n      \\r\\n        <tiles-carousel-responsive-item slot=\"tile\">\\r\\n          \\r\\n            \\r\\n            <tile-dynamic isvideo data-qa=\"tile\">\\r\\n              <img\\r\\n                slot=\"image\"\\r\\n                loading=\"lazy\"\\r\\n                src=\"https://resizing.flixster.com/l3hMOt6cWOpnE-s2f9ryvvFRwdM=/ems.cHJkLWVtcy1hc3NldHMvbW92aWVzLzQxYjJlNGIwLWE1YWMtNDU0NC05NDc3LTVkMTUwYWMyZGIyNy5qcGc=\"\\r\\n                alt=\"A Man Called Otto poster\"\\r\\n              />\\r\\n              \\r\\n                <button\\r\\n                  slot=\"imageAction\"\\r\\n                  \\r\\n                  class=\"transparent unset\"\\r\\n                  data-content-type=\"movie\"\\r\\n                  data-mpx-fwsite=\"\"\\r\\n                  data-title=\"A Man Called Otto\"\\r\\n                  data-video-id=\"\"\\r\\n                  data-video-list=\"rt-hp-poster-list-coming-soon\"\\r\\n                  data-track=\"poster\"\\r\\n                  data-position=\"4\"\\r\\n                  data-media-id=\"\"\\r\\n                  \\r\\n                    data-video-player-overlay-url=\"https://player.theplatform.com/p/NGweTC/pdk6_y__7B0iQTi4P/embed/select/media/G2l4dlRPXT7M\"\\r\\n                    data-video-player-overlay-media-url=\"/m/a_man_called_otto\"\\r\\n                  \\r\\n                  aria-label=\"Play A Man Called Otto trailer\"\\r\\n                >\\r\\n                  <span class=\"sr-only\">A Man Called Otto</span>\\r\\n                </button>\\r\\n                \\r\\n                <a slot=\"caption\" href=\"/m/a_man_called_otto\" data-track=\"scores\">\\r\\n              \\r\\n                <score-pairs\\r\\n                  audiencesentiment=\"hide\"\\r\\n                  audiencescore=\"hide\"\\r\\n                  criticssentiment=\"positive\"\\r\\n                  criticsscore=\"69\"\\r\\n                  criticscertified=\"false\"\\r\\n                >\\r\\n                </score-pairs>\\r\\n                <span class=\"p--small\">A Man Called Otto</span>\\r\\n              \\r\\n                </a>\\r\\n              \\r\\n            </tile-dynamic>\\r\\n          \\r\\n        </tiles-carousel-responsive-item>\\r\\n      \\r\\n        <tiles-carousel-responsive-item slot=\"tile\">\\r\\n          \\r\\n            \\r\\n            <tile-dynamic isvideo data-qa=\"tile\">\\r\\n              <img\\r\\n                slot=\"image\"\\r\\n                loading=\"lazy\"\\r\\n                src=\"https://resizing.flixster.com/0TL7sj2wtlYft1rd39GkrOvtNRk=/ems.cHJkLWVtcy1hc3NldHMvbW92aWVzL2Y2NWNhYWYwLWFhNmQtNGRmOS05YTY3LWE0NTA0MGU1ZDRmOC5qcGc=\"\\r\\n                alt=\"House Party poster\"\\r\\n              />\\r\\n              \\r\\n                <button\\r\\n                  slot=\"imageAction\"\\r\\n                  \\r\\n                  class=\"transparent unset\"\\r\\n                  data-content-type=\"movie\"\\r\\n                  data-mpx-fwsite=\"\"\\r\\n                  data-title=\"House Party\"\\r\\n                  data-video-id=\"\"\\r\\n                  data-video-list=\"rt-hp-poster-list-coming-soon\"\\r\\n                  data-track=\"poster\"\\r\\n                  data-position=\"5\"\\r\\n                  data-media-id=\"\"\\r\\n                  \\r\\n                    data-video-player-overlay-url=\"https://player.theplatform.com/p/NGweTC/pdk6_y__7B0iQTi4P/embed/select/media/zpxSF4Q2iy1g\"\\r\\n                    data-video-player-overlay-media-url=\"/m/house_party_2023\"\\r\\n                  \\r\\n                  aria-label=\"Play House Party trailer\"\\r\\n                >\\r\\n                  <span class=\"sr-only\">House Party</span>\\r\\n                </button>\\r\\n                \\r\\n                <a slot=\"caption\" href=\"/m/house_party_2023\" data-track=\"scores\">\\r\\n              \\r\\n                <score-pairs\\r\\n                  audiencesentiment=\"hide\"\\r\\n                  audiencescore=\"hide\"\\r\\n                  criticssentiment=\"negative\"\\r\\n                  criticsscore=\"23\"\\r\\n                  criticscertified=\"false\"\\r\\n                >\\r\\n                </score-pairs>\\r\\n                <span class=\"p--small\">House Party</span>\\r\\n              \\r\\n                </a>\\r\\n              \\r\\n            </tile-dynamic>\\r\\n          \\r\\n        </tiles-carousel-responsive-item>\\r\\n      \\r\\n        <tiles-carousel-responsive-item slot=\"tile\">\\r\\n          \\r\\n            \\r\\n            <tile-dynamic isvideo data-qa=\"tile\">\\r\\n              <img\\r\\n                slot=\"image\"\\r\\n                loading=\"lazy\"\\r\\n                src=\"https://resizing.flixster.com/vtIcjOYiM-QBXQyXhTFFgQoRkDw=/ems.cHJkLWVtcy1hc3NldHMvbW92aWVzL2JmNjM3ZTc2LTk5ZmMtNGJhNy04MDAzLWI3M2IxNmExNDNkYi5qcGc=\"\\r\\n                alt=\"Puss in Boots: The Last Wish poster\"\\r\\n              />\\r\\n              \\r\\n                <button\\r\\n                  slot=\"imageAction\"\\r\\n                  \\r\\n                  class=\"transparent unset\"\\r\\n                  data-content-type=\"movie\"\\r\\n                  data-mpx-fwsite=\"\"\\r\\n                  data-title=\"Puss in Boots: The Last Wish\"\\r\\n                  data-video-id=\"\"\\r\\n                  data-video-list=\"rt-hp-poster-list-coming-soon\"\\r\\n                  data-track=\"poster\"\\r\\n                  data-position=\"6\"\\r\\n                  data-media-id=\"\"\\r\\n                  \\r\\n                    data-video-player-overlay-url=\"https://player.theplatform.com/p/NGweTC/pdk6_y__7B0iQTi4P/embed/select/media/G3eStXA54JGr\"\\r\\n                    data-video-player-overlay-media-url=\"/m/puss_in_boots_the_last_wish\"\\r\\n                  \\r\\n                  aria-label=\"Play Puss in Boots: The Last Wish trailer\"\\r\\n                >\\r\\n                  <span class=\"sr-only\">Puss in Boots: The Last Wish</span>\\r\\n                </button>\\r\\n                \\r\\n                <a slot=\"caption\" href=\"/m/puss_in_boots_the_last_wish\" data-track=\"scores\">\\r\\n              \\r\\n                <score-pairs\\r\\n                  audiencesentiment=\"hide\"\\r\\n                  audiencescore=\"hide\"\\r\\n                  criticssentiment=\"positive\"\\r\\n                  criticsscore=\"96\"\\r\\n                  criticscertified=\"criticscertified\"\\r\\n                >\\r\\n                </score-pairs>\\r\\n                <span class=\"p--small\">Puss in Boots: The Last Wish</span>\\r\\n              \\r\\n                </a>\\r\\n              \\r\\n            </tile-dynamic>\\r\\n          \\r\\n        </tiles-carousel-responsive-item>\\r\\n      \\r\\n        <tiles-carousel-responsive-item slot=\"tile\">\\r\\n          \\r\\n            \\r\\n            <tile-dynamic isvideo data-qa=\"tile\">\\r\\n              <img\\r\\n                slot=\"image\"\\r\\n                loading=\"lazy\"\\r\\n                src=\"https://resizing.flixster.com/YK7EnYmnlr7njPaqZ_x-mdAI86A=/ems.cHJkLWVtcy1hc3NldHMvbW92aWVzL2FmZDQxZTlhLTYyN2ItNDc5ZS04NjEzLWU2NmY3Y2JkNTkwMi5qcGc=\"\\r\\n                alt=\"Women Talking poster\"\\r\\n              />\\r\\n              \\r\\n                <button\\r\\n                  slot=\"imageAction\"\\r\\n                  \\r\\n                  class=\"transparent unset\"\\r\\n                  data-content-type=\"movie\"\\r\\n                  data-mpx-fwsite=\"\"\\r\\n                  data-title=\"Women Talking\"\\r\\n                  data-video-id=\"\"\\r\\n                  data-video-list=\"rt-hp-poster-list-coming-soon\"\\r\\n                  data-track=\"poster\"\\r\\n                  data-position=\"7\"\\r\\n                  data-media-id=\"\"\\r\\n                  \\r\\n                    data-video-player-overlay-url=\"https://player.theplatform.com/p/NGweTC/pdk6_y__7B0iQTi4P/embed/select/media/1OdupGe0FRoh\"\\r\\n                    data-video-player-overlay-media-url=\"/m/women_talking\"\\r\\n                  \\r\\n                  aria-label=\"Play Women Talking trailer\"\\r\\n                >\\r\\n                  <span class=\"sr-only\">Women Talking</span>\\r\\n                </button>\\r\\n                \\r\\n                <a slot=\"caption\" href=\"/m/women_talking\" data-track=\"scores\">\\r\\n              \\r\\n                <score-pairs\\r\\n                  audiencesentiment=\"hide\"\\r\\n                  audiencescore=\"hide\"\\r\\n                  criticssentiment=\"positive\"\\r\\n                  criticsscore=\"90\"\\r\\n                  criticscertified=\"criticscertified\"\\r\\n                >\\r\\n                </score-pairs>\\r\\n                <span class=\"p--small\">Women Talking</span>\\r\\n              \\r\\n                </a>\\r\\n              \\r\\n            </tile-dynamic>\\r\\n          \\r\\n        </tiles-carousel-responsive-item>\\r\\n      \\r\\n        <tiles-carousel-responsive-item slot=\"tile\">\\r\\n          \\r\\n            \\r\\n            <tile-dynamic isvideo data-qa=\"tile\">\\r\\n              <img\\r\\n                slot=\"image\"\\r\\n                loading=\"lazy\"\\r\\n                src=\"https://resizing.flixster.com/XccbPK0hKM-917UbwumcDIV2Y-8=/ems.cHJkLWVtcy1hc3NldHMvbW92aWVzLzE0MmUzM2M2LWIyYzktNDU1Zi1iOTU1LTUwODI0ZjA5ZTU3My5qcGc=\"\\r\\n                alt=\"Broker poster\"\\r\\n              />\\r\\n              \\r\\n                <button\\r\\n                  slot=\"imageAction\"\\r\\n                  \\r\\n                  class=\"transparent unset\"\\r\\n                  data-content-type=\"movie\"\\r\\n                  data-mpx-fwsite=\"\"\\r\\n                  data-title=\"Broker\"\\r\\n                  data-video-id=\"\"\\r\\n                  data-video-list=\"rt-hp-poster-list-coming-soon\"\\r\\n                  data-track=\"poster\"\\r\\n                  data-position=\"8\"\\r\\n                  data-media-id=\"\"\\r\\n                  \\r\\n                    data-video-player-overlay-url=\"https://player.theplatform.com/p/NGweTC/pdk6_y__7B0iQTi4P/embed/select/media/4bNc9biIgc6m\"\\r\\n                    data-video-player-overlay-media-url=\"/m/broker\"\\r\\n                  \\r\\n                  aria-label=\"Play Broker trailer\"\\r\\n                >\\r\\n                  <span class=\"sr-only\">Broker</span>\\r\\n                </button>\\r\\n                \\r\\n                <a slot=\"caption\" href=\"/m/broker\" data-track=\"scores\">\\r\\n              \\r\\n                <score-pairs\\r\\n                  audiencesentiment=\"hide\"\\r\\n                  audiencescore=\"hide\"\\r\\n                  criticssentiment=\"positive\"\\r\\n                  criticsscore=\"93\"\\r\\n                  criticscertified=\"criticscertified\"\\r\\n                >\\r\\n                </score-pairs>\\r\\n                <span class=\"p--small\">Broker</span>\\r\\n              \\r\\n                </a>\\r\\n              \\r\\n            </tile-dynamic>\\r\\n          \\r\\n        </tiles-carousel-responsive-item>\\r\\n      \\r\\n        <tiles-carousel-responsive-item slot=\"tile\">\\r\\n          \\r\\n            \\r\\n            <tile-dynamic isvideo data-qa=\"tile\">\\r\\n              <img\\r\\n                slot=\"image\"\\r\\n                loading=\"lazy\"\\r\\n                src=\"https://resizing.flixster.com/Jl1mljC7CIs0nrNRwdhmqsyAY_s=/ems.cHJkLWVtcy1hc3NldHMvbW92aWVzLzNjZTViODM4LTlhNmQtNDI5Zi04NzcyLWNjNTU0NWZlOTQ5Ny5qcGc=\"\\r\\n                alt=\"White Noise poster\"\\r\\n              />\\r\\n              \\r\\n                <button\\r\\n                  slot=\"imageAction\"\\r\\n                  \\r\\n                  class=\"transparent unset\"\\r\\n                  data-content-type=\"movie\"\\r\\n                  data-mpx-fwsite=\"\"\\r\\n                  data-title=\"White Noise\"\\r\\n                  data-video-id=\"\"\\r\\n                  data-video-list=\"rt-hp-poster-list-coming-soon\"\\r\\n                  data-track=\"poster\"\\r\\n                  data-position=\"9\"\\r\\n                  data-media-id=\"\"\\r\\n                  \\r\\n                    data-video-player-overlay-url=\"https://player.theplatform.com/p/NGweTC/pdk6_y__7B0iQTi4P/embed/select/media/AD4aPHb9WliX\"\\r\\n                    data-video-player-overlay-media-url=\"/m/white_noise_2022\"\\r\\n                  \\r\\n                  aria-label=\"Play White Noise trailer\"\\r\\n                >\\r\\n                  <span class=\"sr-only\">White Noise</span>\\r\\n                </button>\\r\\n                \\r\\n                <a slot=\"caption\" href=\"/m/white_noise_2022\" data-track=\"scores\">\\r\\n              \\r\\n                <score-pairs\\r\\n                  audiencesentiment=\"hide\"\\r\\n                  audiencescore=\"hide\"\\r\\n                  criticssentiment=\"positive\"\\r\\n                  criticsscore=\"63\"\\r\\n                  criticscertified=\"false\"\\r\\n                >\\r\\n                </score-pairs>\\r\\n                <span class=\"p--small\">White Noise</span>\\r\\n              \\r\\n                </a>\\r\\n              \\r\\n            </tile-dynamic>\\r\\n          \\r\\n        </tiles-carousel-responsive-item>\\r\\n      \\r\\n        <tiles-carousel-responsive-item slot=\"tile\">\\r\\n          \\r\\n            \\r\\n            <tile-dynamic isvideo data-qa=\"tile\">\\r\\n              <img\\r\\n                slot=\"image\"\\r\\n                loading=\"lazy\"\\r\\n                src=\"https://resizing.flixster.com/LtlkxklT_aql6vLllzIOmaWGUGI=/ems.cHJkLWVtcy1hc3NldHMvbW92aWVzL2NjYzEwMzA2LWMyZTAtNDU5OC04Zjk2LTFiYWM5NjY3NWMwOS5qcGc=\"\\r\\n                alt=\"The Old Way poster\"\\r\\n              />\\r\\n              \\r\\n                <button\\r\\n                  slot=\"imageAction\"\\r\\n                  \\r\\n                  class=\"transparent unset\"\\r\\n                  data-content-type=\"movie\"\\r\\n                  data-mpx-fwsite=\"\"\\r\\n                  data-title=\"The Old Way\"\\r\\n                  data-video-id=\"\"\\r\\n                  data-video-list=\"rt-hp-poster-list-coming-soon\"\\r\\n                  data-track=\"poster\"\\r\\n                  data-position=\"10\"\\r\\n                  data-media-id=\"\"\\r\\n                  \\r\\n                    data-video-player-overlay-url=\"https://player.theplatform.com/p/NGweTC/pdk6_y__7B0iQTi4P/embed/select/media/8sZlNdHGxIpT\"\\r\\n                    data-video-player-overlay-media-url=\"/m/the_old_way\"\\r\\n                  \\r\\n                  aria-label=\"Play The Old Way trailer\"\\r\\n                >\\r\\n                  <span class=\"sr-only\">The Old Way</span>\\r\\n                </button>\\r\\n                \\r\\n                <a slot=\"caption\" href=\"/m/the_old_way\" data-track=\"scores\">\\r\\n              \\r\\n                <score-pairs\\r\\n                  audiencesentiment=\"hide\"\\r\\n                  audiencescore=\"hide\"\\r\\n                  criticssentiment=\"negative\"\\r\\n                  criticsscore=\"35\"\\r\\n                  criticscertified=\"false\"\\r\\n                >\\r\\n                </score-pairs>\\r\\n                <span class=\"p--small\">The Old Way</span>\\r\\n              \\r\\n                </a>\\r\\n              \\r\\n            </tile-dynamic>\\r\\n          \\r\\n        </tiles-carousel-responsive-item>\\r\\n      \\r\\n        <tiles-carousel-responsive-item slot=\"tile\">\\r\\n          \\r\\n            \\r\\n            <tile-dynamic isvideo data-qa=\"tile\">\\r\\n              <img\\r\\n                slot=\"image\"\\r\\n                loading=\"lazy\"\\r\\n                src=\"https://resizing.flixster.com/oyaLeulxABzyMRREKtKjJUS4Pn8=/ems.cHJkLWVtcy1hc3NldHMvbW92aWVzLzM0OTExOWJkLWI4MDktNGFhMy1hNTI5LTgyZWYyYWZjODRjMi5qcGc=\"\\r\\n                alt=\"Alice, Darling poster\"\\r\\n              />\\r\\n              \\r\\n                <button\\r\\n                  slot=\"imageAction\"\\r\\n                  \\r\\n                  class=\"transparent unset\"\\r\\n                  data-content-type=\"movie\"\\r\\n                  data-mpx-fwsite=\"\"\\r\\n                  data-title=\"Alice, Darling\"\\r\\n                  data-video-id=\"\"\\r\\n                  data-video-list=\"rt-hp-poster-list-coming-soon\"\\r\\n                  data-track=\"poster\"\\r\\n                  data-position=\"11\"\\r\\n                  data-media-id=\"\"\\r\\n                  \\r\\n                    data-video-player-overlay-url=\"https://player.theplatform.com/p/NGweTC/pdk6_y__7B0iQTi4P/embed/select/media/4gMqACvDkifg\"\\r\\n                    data-video-player-overlay-media-url=\"/m/alice_darling\"\\r\\n                  \\r\\n                  aria-label=\"Play Alice, Darling trailer\"\\r\\n                >\\r\\n                  <span class=\"sr-only\">Alice, Darling</span>\\r\\n                </button>\\r\\n                \\r\\n                <a slot=\"caption\" href=\"/m/alice_darling\" data-track=\"scores\">\\r\\n              \\r\\n                <score-pairs\\r\\n                  audiencesentiment=\"hide\"\\r\\n                  audiencescore=\"hide\"\\r\\n                  criticssentiment=\"positive\"\\r\\n                  criticsscore=\"78\"\\r\\n                  criticscertified=\"false\"\\r\\n                >\\r\\n                </score-pairs>\\r\\n                <span class=\"p--small\">Alice, Darling</span>\\r\\n              \\r\\n                </a>\\r\\n              \\r\\n            </tile-dynamic>\\r\\n          \\r\\n        </tiles-carousel-responsive-item>\\r\\n      \\r\\n        <tiles-carousel-responsive-item slot=\"tile\">\\r\\n          \\r\\n            \\r\\n            <tile-dynamic isvideo data-qa=\"tile\">\\r\\n              <img\\r\\n                slot=\"image\"\\r\\n                loading=\"lazy\"\\r\\n                src=\"https://resizing.flixster.com/QJkeIM6LIvwmRGiLKrNBcpZIk8M=/ems.cHJkLWVtcy1hc3NldHMvbW92aWVzLzAwYzExZjlmLWJlODQtNDY4Mi1iNDhkLWU2YWNmMGIyMDgwMi5qcGc=\"\\r\\n                alt=\"Black Panther: Wakanda Forever poster\"\\r\\n              />\\r\\n              \\r\\n                <button\\r\\n                  slot=\"imageAction\"\\r\\n                  \\r\\n                  class=\"transparent unset\"\\r\\n                  data-content-type=\"movie\"\\r\\n                  data-mpx-fwsite=\"\"\\r\\n                  data-title=\"Black Panther: Wakanda Forever\"\\r\\n                  data-video-id=\"\"\\r\\n                  data-video-list=\"rt-hp-poster-list-coming-soon\"\\r\\n                  data-track=\"poster\"\\r\\n                  data-position=\"12\"\\r\\n                  data-media-id=\"\"\\r\\n                  \\r\\n                    data-video-player-overlay-url=\"https://player.theplatform.com/p/NGweTC/pdk6_y__7B0iQTi4P/embed/select/media/uMGYgU_G1AM4\"\\r\\n                    data-video-player-overlay-media-url=\"/m/black_panther_wakanda_forever\"\\r\\n                  \\r\\n                  aria-label=\"Play Black Panther: Wakanda Forever trailer\"\\r\\n                >\\r\\n                  <span class=\"sr-only\">Black Panther: Wakanda Forever</span>\\r\\n                </button>\\r\\n                \\r\\n                <a slot=\"caption\" href=\"/m/black_panther_wakanda_forever\" data-track=\"scores\">\\r\\n              \\r\\n                <score-pairs\\r\\n                  audiencesentiment=\"hide\"\\r\\n                  audiencescore=\"hide\"\\r\\n                  criticssentiment=\"positive\"\\r\\n                  criticsscore=\"84\"\\r\\n                  criticscertified=\"criticscertified\"\\r\\n                >\\r\\n                </score-pairs>\\r\\n                <span class=\"p--small\">Black Panther: Wakanda Forever</span>\\r\\n              \\r\\n                </a>\\r\\n              \\r\\n            </tile-dynamic>\\r\\n          \\r\\n        </tiles-carousel-responsive-item>\\r\\n      \\r\\n        <tiles-carousel-responsive-item slot=\"tile\">\\r\\n          \\r\\n            \\r\\n            <tile-dynamic isvideo data-qa=\"tile\">\\r\\n              <img\\r\\n                slot=\"image\"\\r\\n                loading=\"lazy\"\\r\\n                src=\"https://resizing.flixster.com/QInTTcanAR_N_d3GRmDV_3BkGlE=/ems.cHJkLWVtcy1hc3NldHMvbW92aWVzLzNjODkyZmVlLTE1YzgtNDBmNC1iNjkzLThiNjBkZWQ3ZDExNC5qcGc=\"\\r\\n                alt=\"The Subtle Art of Not Giving a #@%! poster\"\\r\\n              />\\r\\n              \\r\\n                <button\\r\\n                  slot=\"imageAction\"\\r\\n                  \\r\\n                  class=\"transparent unset\"\\r\\n                  data-content-type=\"movie\"\\r\\n                  data-mpx-fwsite=\"\"\\r\\n                  data-title=\"The Subtle Art of Not Giving a #@%!\"\\r\\n                  data-video-id=\"\"\\r\\n                  data-video-list=\"rt-hp-poster-list-coming-soon\"\\r\\n                  data-track=\"poster\"\\r\\n                  data-position=\"13\"\\r\\n                  data-media-id=\"\"\\r\\n                  \\r\\n                    data-video-player-overlay-url=\"https://player.theplatform.com/p/NGweTC/pdk6_y__7B0iQTi4P/embed/select/media/irZBPDtySFtg\"\\r\\n                    data-video-player-overlay-media-url=\"/m/the_subtle_art_of_not_giving_a_at_percent\"\\r\\n                  \\r\\n                  aria-label=\"Play The Subtle Art of Not Giving a #@%! trailer\"\\r\\n                >\\r\\n                  <span class=\"sr-only\">The Subtle Art of Not Giving a #@%!</span>\\r\\n                </button>\\r\\n                \\r\\n                <a slot=\"caption\" href=\"/m/the_subtle_art_of_not_giving_a_at_percent\" data-track=\"scores\">\\r\\n              \\r\\n                <score-pairs\\r\\n                  audiencesentiment=\"hide\"\\r\\n                  audiencescore=\"hide\"\\r\\n                  criticssentiment=\"positive\"\\r\\n                  criticsscore=\"80\"\\r\\n                  criticscertified=\"false\"\\r\\n                >\\r\\n                </score-pairs>\\r\\n                <span class=\"p--small\">The Subtle Art of Not Giving a #@%!</span>\\r\\n              \\r\\n                </a>\\r\\n              \\r\\n            </tile-dynamic>\\r\\n          \\r\\n        </tiles-carousel-responsive-item>\\r\\n      \\r\\n        <tiles-carousel-responsive-item slot=\"tile\">\\r\\n          \\r\\n            \\r\\n            <tile-dynamic isvideo data-qa=\"tile\">\\r\\n              <img\\r\\n                slot=\"image\"\\r\\n                loading=\"lazy\"\\r\\n                src=\"https://resizing.flixster.com/Mtg-vEUajN8oamKcLLI7hZT-Rhs=/ems.cHJkLWVtcy1hc3NldHMvbW92aWVzL2FhYTcxNzNkLTExYzItNDk1NC1iNDNmLWViMDRlYjg5NzliNC5qcGc=\"\\r\\n                alt=\"Glass Onion: A Knives Out Mystery poster\"\\r\\n              />\\r\\n              \\r\\n                <button\\r\\n                  slot=\"imageAction\"\\r\\n                  \\r\\n                  class=\"transparent unset\"\\r\\n                  data-content-type=\"movie\"\\r\\n                  data-mpx-fwsite=\"\"\\r\\n                  data-title=\"Glass Onion: A Knives Out Mystery\"\\r\\n                  data-video-id=\"\"\\r\\n                  data-video-list=\"rt-hp-poster-list-coming-soon\"\\r\\n                  data-track=\"poster\"\\r\\n                  data-position=\"14\"\\r\\n                  data-media-id=\"\"\\r\\n                  \\r\\n                    data-video-player-overlay-url=\"https://player.theplatform.com/p/NGweTC/pdk6_y__7B0iQTi4P/embed/select/media/G0WI3edXMiy0\"\\r\\n                    data-video-player-overlay-media-url=\"/m/glass_onion_a_knives_out_mystery\"\\r\\n                  \\r\\n                  aria-label=\"Play Glass Onion: A Knives Out Mystery trailer\"\\r\\n                >\\r\\n                  <span class=\"sr-only\">Glass Onion: A Knives Out Mystery</span>\\r\\n                </button>\\r\\n                \\r\\n                <a slot=\"caption\" href=\"/m/glass_onion_a_knives_out_mystery\" data-track=\"scores\">\\r\\n              \\r\\n                <score-pairs\\r\\n                  audiencesentiment=\"hide\"\\r\\n                  audiencescore=\"hide\"\\r\\n                  criticssentiment=\"positive\"\\r\\n                  criticsscore=\"92\"\\r\\n                  criticscertified=\"criticscertified\"\\r\\n                >\\r\\n                </score-pairs>\\r\\n                <span class=\"p--small\">Glass Onion: A Knives Out Mystery</span>\\r\\n              \\r\\n                </a>\\r\\n              \\r\\n            </tile-dynamic>\\r\\n          \\r\\n        </tiles-carousel-responsive-item>\\r\\n      \\r\\n        <tiles-carousel-responsive-item slot=\"tile\">\\r\\n          \\r\\n            \\r\\n            <tile-dynamic isvideo data-qa=\"tile\">\\r\\n              <img\\r\\n                slot=\"image\"\\r\\n                loading=\"lazy\"\\r\\n                src=\"https://resizing.flixster.com/3nj0Hz_CMmALKqaMCcFqAkZuY3Q=/ems.cHJkLWVtcy1hc3NldHMvbW92aWVzLzg0ZmZhYTY1LTg3ZmItNGEzMC1hMzQ3LTdkMjNjYjgyZGU5ZS5wbmc=\"\\r\\n                alt=\"The Devil Conspiracy poster\"\\r\\n              />\\r\\n              \\r\\n                <button\\r\\n                  slot=\"imageAction\"\\r\\n                  \\r\\n                  class=\"transparent unset\"\\r\\n                  data-content-type=\"movie\"\\r\\n                  data-mpx-fwsite=\"\"\\r\\n                  data-title=\"The Devil Conspiracy\"\\r\\n                  data-video-id=\"\"\\r\\n                  data-video-list=\"rt-hp-poster-list-coming-soon\"\\r\\n                  data-track=\"poster\"\\r\\n                  data-position=\"15\"\\r\\n                  data-media-id=\"\"\\r\\n                  \\r\\n                    data-video-player-overlay-url=\"https://player.theplatform.com/p/NGweTC/pdk6_y__7B0iQTi4P/embed/select/media/L5VqE2KZIaaL\"\\r\\n                    data-video-player-overlay-media-url=\"/m/the_devil_conspiracy\"\\r\\n                  \\r\\n                  aria-label=\"Play The Devil Conspiracy trailer\"\\r\\n                >\\r\\n                  <span class=\"sr-only\">The Devil Conspiracy</span>\\r\\n                </button>\\r\\n                \\r\\n                <a slot=\"caption\" href=\"/m/the_devil_conspiracy\" data-track=\"scores\">\\r\\n              \\r\\n                <score-pairs\\r\\n                  audiencesentiment=\"hide\"\\r\\n                  audiencescore=\"hide\"\\r\\n                  criticssentiment=\"negative\"\\r\\n                  criticsscore=\"33\"\\r\\n                  criticscertified=\"false\"\\r\\n                >\\r\\n                </score-pairs>\\r\\n                <span class=\"p--small\">The Devil Conspiracy</span>\\r\\n              \\r\\n                </a>\\r\\n              \\r\\n            </tile-dynamic>\\r\\n          \\r\\n        </tiles-carousel-responsive-item>\\r\\n      \\r\\n        <tiles-carousel-responsive-item slot=\"tile\">\\r\\n          \\r\\n            \\r\\n            <tile-dynamic isvideo data-qa=\"tile\">\\r\\n              <img\\r\\n                slot=\"image\"\\r\\n                loading=\"lazy\"\\r\\n                src=\"https://resizing.flixster.com/dEbrJa07LETKJiiO54Tqxb-ImXk=/ems.cHJkLWVtcy1hc3NldHMvbW92aWVzL2U5OTE0OTdhLWQ1MTAtNDgyMS04M2YzLTdkNmVjZDYxNmZlMy5qcGc=\"\\r\\n                alt=\"Babylon poster\"\\r\\n              />\\r\\n              \\r\\n                <button\\r\\n                  slot=\"imageAction\"\\r\\n                  \\r\\n                  class=\"transparent unset\"\\r\\n                  data-content-type=\"movie\"\\r\\n                  data-mpx-fwsite=\"\"\\r\\n                  data-title=\"Babylon\"\\r\\n                  data-video-id=\"\"\\r\\n                  data-video-list=\"rt-hp-poster-list-coming-soon\"\\r\\n                  data-track=\"poster\"\\r\\n                  data-position=\"16\"\\r\\n                  data-media-id=\"\"\\r\\n                  \\r\\n                    data-video-player-overlay-url=\"https://player.theplatform.com/p/NGweTC/pdk6_y__7B0iQTi4P/embed/select/media/yQtRSEksY5Z_\"\\r\\n                    data-video-player-overlay-media-url=\"/m/babylon_2022\"\\r\\n                  \\r\\n                  aria-label=\"Play Babylon trailer\"\\r\\n                >\\r\\n                  <span class=\"sr-only\">Babylon</span>\\r\\n                </button>\\r\\n                \\r\\n                <a slot=\"caption\" href=\"/m/babylon_2022\" data-track=\"scores\">\\r\\n              \\r\\n                <score-pairs\\r\\n                  audiencesentiment=\"hide\"\\r\\n                  audiencescore=\"hide\"\\r\\n                  criticssentiment=\"negative\"\\r\\n                  criticsscore=\"55\"\\r\\n                  criticscertified=\"false\"\\r\\n                >\\r\\n                </score-pairs>\\r\\n                <span class=\"p--small\">Babylon</span>\\r\\n              \\r\\n                </a>\\r\\n              \\r\\n            </tile-dynamic>\\r\\n          \\r\\n        </tiles-carousel-responsive-item>\\r\\n      \\r\\n        <tiles-carousel-responsive-item slot=\"tile\">\\r\\n          \\r\\n            \\r\\n            <tile-dynamic isvideo data-qa=\"tile\">\\r\\n              <img\\r\\n                slot=\"image\"\\r\\n                loading=\"lazy\"\\r\\n                src=\"https://resizing.flixster.com/6xmuDLr8iHznjPJyfW_FVxZbTl4=/ems.cHJkLWVtcy1hc3NldHMvbW92aWVzLzE2MmNhOWExLWI2ZmYtNDE4OC04YjM3LWMyYjIyMmI0OWYxZC5qcGc=\"\\r\\n                alt=\"Whitney Houston: I Wanna Dance with Somebody poster\"\\r\\n              />\\r\\n              \\r\\n                <button\\r\\n                  slot=\"imageAction\"\\r\\n                  \\r\\n                  class=\"transparent unset\"\\r\\n                  data-content-type=\"movie\"\\r\\n                  data-mpx-fwsite=\"\"\\r\\n                  data-title=\"Whitney Houston: I Wanna Dance with Somebody\"\\r\\n                  data-video-id=\"\"\\r\\n                  data-video-list=\"rt-hp-poster-list-coming-soon\"\\r\\n                  data-track=\"poster\"\\r\\n                  data-position=\"17\"\\r\\n                  data-media-id=\"\"\\r\\n                  \\r\\n                    data-video-player-overlay-url=\"https://player.theplatform.com/p/NGweTC/pdk6_y__7B0iQTi4P/embed/select/media/UxcNlZicLCo0\"\\r\\n                    data-video-player-overlay-media-url=\"/m/whitney_houston_i_wanna_dance_with_somebody\"\\r\\n                  \\r\\n                  aria-label=\"Play Whitney Houston: I Wanna Dance with Somebody trailer\"\\r\\n                >\\r\\n                  <span class=\"sr-only\">Whitney Houston: I Wanna Dance with Somebody</span>\\r\\n                </button>\\r\\n                \\r\\n                <a slot=\"caption\" href=\"/m/whitney_houston_i_wanna_dance_with_somebody\" data-track=\"scores\">\\r\\n              \\r\\n                <score-pairs\\r\\n                  audiencesentiment=\"hide\"\\r\\n                  audiencescore=\"hide\"\\r\\n                  criticssentiment=\"negative\"\\r\\n                  criticsscore=\"45\"\\r\\n                  criticscertified=\"false\"\\r\\n                >\\r\\n                </score-pairs>\\r\\n                <span class=\"p--small\">Whitney Houston: I Wanna Dance with Somebody</span>\\r\\n              \\r\\n                </a>\\r\\n              \\r\\n            </tile-dynamic>\\r\\n          \\r\\n        </tiles-carousel-responsive-item>\\r\\n      \\r\\n        <tiles-carousel-responsive-item slot=\"tile\">\\r\\n          \\r\\n            \\r\\n            <tile-dynamic isvideo data-qa=\"tile\">\\r\\n              <img\\r\\n                slot=\"image\"\\r\\n                loading=\"lazy\"\\r\\n                src=\"https://resizing.flixster.com/M34yKDaJFaEss3V9A0qibNdgcRQ=/ems.cHJkLWVtcy1hc3NldHMvbW92aWVzL2MzMDVlYmZmLTlmNDUtNDU2Yy1iNmQ5LTYxMWFiNDMxNDc2Mi5qcGc=\"\\r\\n                alt=\"Living poster\"\\r\\n              />\\r\\n              \\r\\n                <button\\r\\n                  slot=\"imageAction\"\\r\\n                  \\r\\n                  class=\"transparent unset\"\\r\\n                  data-content-type=\"movie\"\\r\\n                  data-mpx-fwsite=\"\"\\r\\n                  data-title=\"Living\"\\r\\n                  data-video-id=\"\"\\r\\n                  data-video-list=\"rt-hp-poster-list-coming-soon\"\\r\\n                  data-track=\"poster\"\\r\\n                  data-position=\"18\"\\r\\n                  data-media-id=\"\"\\r\\n                  \\r\\n                    data-video-player-overlay-url=\"https://player.theplatform.com/p/NGweTC/pdk6_y__7B0iQTi4P/embed/select/media/42DyQ1NlQ0kA\"\\r\\n                    data-video-player-overlay-media-url=\"/m/living_2022\"\\r\\n                  \\r\\n                  aria-label=\"Play Living trailer\"\\r\\n                >\\r\\n                  <span class=\"sr-only\">Living</span>\\r\\n                </button>\\r\\n                \\r\\n                <a slot=\"caption\" href=\"/m/living_2022\" data-track=\"scores\">\\r\\n              \\r\\n                <score-pairs\\r\\n                  audiencesentiment=\"hide\"\\r\\n                  audiencescore=\"hide\"\\r\\n                  criticssentiment=\"positive\"\\r\\n                  criticsscore=\"94\"\\r\\n                  criticscertified=\"criticscertified\"\\r\\n                >\\r\\n                </score-pairs>\\r\\n                <span class=\"p--small\">Living</span>\\r\\n              \\r\\n                </a>\\r\\n              \\r\\n            </tile-dynamic>\\r\\n          \\r\\n        </tiles-carousel-responsive-item>\\r\\n      \\r\\n        <tiles-carousel-responsive-item slot=\"tile\">\\r\\n          \\r\\n            \\r\\n            <tile-dynamic isvideo data-qa=\"tile\">\\r\\n              <img\\r\\n                slot=\"image\"\\r\\n                loading=\"lazy\"\\r\\n                src=\"https://resizing.flixster.com/zHNGBsas3_aRsBnBAlLRdxdg3lA=/ems.cHJkLWVtcy1hc3NldHMvbW92aWVzL2JlNTZkMzljLTQ2ZDctNGQ2Yy04ZGNlLWU4ZTNjNGZkZmQxNi5qcGc=\"\\r\\n                alt=\"Empire of Light poster\"\\r\\n              />\\r\\n              \\r\\n                <button\\r\\n                  slot=\"imageAction\"\\r\\n                  \\r\\n                  class=\"transparent unset\"\\r\\n                  data-content-type=\"movie\"\\r\\n                  data-mpx-fwsite=\"\"\\r\\n                  data-title=\"Empire of Light\"\\r\\n                  data-video-id=\"\"\\r\\n                  data-video-list=\"rt-hp-poster-list-coming-soon\"\\r\\n                  data-track=\"poster\"\\r\\n                  data-position=\"19\"\\r\\n                  data-media-id=\"\"\\r\\n                  \\r\\n                    data-video-player-overlay-url=\"https://player.theplatform.com/p/NGweTC/pdk6_y__7B0iQTi4P/embed/select/media/4986kKDJnuOd\"\\r\\n                    data-video-player-overlay-media-url=\"/m/empire_of_light\"\\r\\n                  \\r\\n                  aria-label=\"Play Empire of Light trailer\"\\r\\n                >\\r\\n                  <span class=\"sr-only\">Empire of Light</span>\\r\\n                </button>\\r\\n                \\r\\n                <a slot=\"caption\" href=\"/m/empire_of_light\" data-track=\"scores\">\\r\\n              \\r\\n                <score-pairs\\r\\n                  audiencesentiment=\"hide\"\\r\\n                  audiencescore=\"hide\"\\r\\n                  criticssentiment=\"negative\"\\r\\n                  criticsscore=\"45\"\\r\\n                  criticscertified=\"false\"\\r\\n                >\\r\\n                </score-pairs>\\r\\n                <span class=\"p--small\">Empire of Light</span>\\r\\n              \\r\\n                </a>\\r\\n              \\r\\n            </tile-dynamic>\\r\\n          \\r\\n        </tiles-carousel-responsive-item>\\r\\n      \\r\\n        <tiles-carousel-responsive-item slot=\"tile\">\\r\\n          \\r\\n            \\r\\n            <tile-dynamic isvideo data-qa=\"tile\">\\r\\n              <img\\r\\n                slot=\"image\"\\r\\n                loading=\"lazy\"\\r\\n                src=\"https://resizing.flixster.com/t-5hlOXsc8bPO9RuAOKgb7xf8qo=/ems.cHJkLWVtcy1hc3NldHMvbW92aWVzL2NhMWE0YWNlLTY1YmUtNDg1Yi1iZGZjLWU4OTliMGVlMTUzZC5qcGc=\"\\r\\n                alt=\"The Pale Blue Eye poster\"\\r\\n              />\\r\\n              \\r\\n                <button\\r\\n                  slot=\"imageAction\"\\r\\n                  \\r\\n                  class=\"transparent unset\"\\r\\n                  data-content-type=\"movie\"\\r\\n                  data-mpx-fwsite=\"\"\\r\\n                  data-title=\"The Pale Blue Eye\"\\r\\n                  data-video-id=\"\"\\r\\n                  data-video-list=\"rt-hp-poster-list-coming-soon\"\\r\\n                  data-track=\"poster\"\\r\\n                  data-position=\"20\"\\r\\n                  data-media-id=\"\"\\r\\n                  \\r\\n                    data-video-player-overlay-url=\"https://player.theplatform.com/p/NGweTC/pdk6_y__7B0iQTi4P/embed/select/media/EFJYUbO0pAOg\"\\r\\n                    data-video-player-overlay-media-url=\"/m/the_pale_blue_eye\"\\r\\n                  \\r\\n                  aria-label=\"Play The Pale Blue Eye trailer\"\\r\\n                >\\r\\n                  <span class=\"sr-only\">The Pale Blue Eye</span>\\r\\n                </button>\\r\\n                \\r\\n                <a slot=\"caption\" href=\"/m/the_pale_blue_eye\" data-track=\"scores\">\\r\\n              \\r\\n                <score-pairs\\r\\n                  audiencesentiment=\"hide\"\\r\\n                  audiencescore=\"hide\"\\r\\n                  criticssentiment=\"positive\"\\r\\n                  criticsscore=\"64\"\\r\\n                  criticscertified=\"false\"\\r\\n                >\\r\\n                </score-pairs>\\r\\n                <span class=\"p--small\">The Pale Blue Eye</span>\\r\\n              \\r\\n                </a>\\r\\n              \\r\\n            </tile-dynamic>\\r\\n          \\r\\n        </tiles-carousel-responsive-item>\\r\\n      \\r\\n\\r\\n      <button slot=\"scroll-right\">\\r\\n        <rt-icon slot=\"icon-arrow-right\" image icon=\"right-chevron\"></rt-icon>\\r\\n      </button>\\r\\n      \\r\\n    </tiles-carousel-responsive>\\r\\n  </section>\\r\\n\\n</div>\\n\\r\\n\\r\\n        \\r\\n            \\n\\r\\n        \\r\\n    \\r\\n        <div class=\"layout media-lists\">\\n\\n  <div class=\"layout__column layout__column--main\">\\n    \\n      \\n\\n      <div class=\"js-scores-list js-scores-advertorial ordered-layout__list ordered-layout__list--score\" data-ad=\"featuredMedia\" hidden></div>\\n    \\n    <div class=\"js-scores-lists-wrapper ordered-layout__scores-wrap\">\\n\\n      \\n      \\n\\n      \\n      <div\\n        class=\"js-scores-list ordered-layout__list ordered-layout__list--score\"\\n        data-curation=\"rt-hp-text-list-popular-streaming-movies\">\\n\\n        \\r\\n  \\r\\n  \\n    <section class=\"dynamic-text-list \">\\n        <text-list>\\n            <h2 slot=\"header\">Popular Streaming Movies</h2>\\n            \\n                <a slot=\"view-all\" href=\"https://www.rottentomatoes.com/browse/top-dvd-streaming/\" class=\"dynamic-text-list__see-all-link a--short\" hidden>View all</a>\\n            \\n            \\n            \\n            <ul slot=\"list-items\">\\n                \\n                    <li>\\n                        <a href=\"/m/the_menu\">\\n                            <span class=\"dynamic-text-list__item-title clamp clamp-1\">The Menu</span>\\n                        </a>\\n                        <a href=\"/m/the_menu\" class=\"dynamic-text-list__tomatometer-group\">\\n                            <span slot=\"tomatometer-icon\" class=\"icon icon--tiny icon__certified-fresh\"></span>\\n                            <span slot=\"tomatometer-value\" class=\"b--medium \">\\n                                \\n                                    89%\\n                                \\n                            </span>\\n                        </a>\\n                    </li>\\n                \\n                    <li>\\n                        <a href=\"/m/puss_in_boots_the_last_wish\">\\n                            <span class=\"dynamic-text-list__item-title clamp clamp-1\">Puss in Boots: The Last Wish</span>\\n                        </a>\\n                        <a href=\"/m/puss_in_boots_the_last_wish\" class=\"dynamic-text-list__tomatometer-group\">\\n                            <span slot=\"tomatometer-icon\" class=\"icon icon--tiny icon__certified-fresh\"></span>\\n                            <span slot=\"tomatometer-value\" class=\"b--medium \">\\n                                \\n                                    96%\\n                                \\n                            </span>\\n                        </a>\\n                    </li>\\n                \\n                    <li>\\n                        <a href=\"/m/the_pale_blue_eye\">\\n                            <span class=\"dynamic-text-list__item-title clamp clamp-1\">The Pale Blue Eye</span>\\n                        </a>\\n                        <a href=\"/m/the_pale_blue_eye\" class=\"dynamic-text-list__tomatometer-group\">\\n                            <span slot=\"tomatometer-icon\" class=\"icon icon--tiny icon__fresh\"></span>\\n                            <span slot=\"tomatometer-value\" class=\"b--medium \">\\n                                \\n                                    64%\\n                                \\n                            </span>\\n                        </a>\\n                    </li>\\n                \\n                    <li>\\n                        <a href=\"/m/the_banshees_of_inisherin\">\\n                            <span class=\"dynamic-text-list__item-title clamp clamp-1\">The Banshees of Inisherin</span>\\n                        </a>\\n                        <a href=\"/m/the_banshees_of_inisherin\" class=\"dynamic-text-list__tomatometer-group\">\\n                            <span slot=\"tomatometer-icon\" class=\"icon icon--tiny icon__certified-fresh\"></span>\\n                            <span slot=\"tomatometer-value\" class=\"b--medium \">\\n                                \\n                                    97%\\n                                \\n                            </span>\\n                        </a>\\n                    </li>\\n                \\n                    <li>\\n                        <a href=\"/m/the_fabelmans\">\\n                            <span class=\"dynamic-text-list__item-title clamp clamp-1\">The Fabelmans</span>\\n                        </a>\\n                        <a href=\"/m/the_fabelmans\" class=\"dynamic-text-list__tomatometer-group\">\\n                            <span slot=\"tomatometer-icon\" class=\"icon icon--tiny icon__certified-fresh\"></span>\\n                            <span slot=\"tomatometer-value\" class=\"b--medium \">\\n                                \\n                                    92%\\n                                \\n                            </span>\\n                        </a>\\n                    </li>\\n                \\n                    <li>\\n                        <a href=\"/m/everything_everywhere_all_at_once\">\\n                            <span class=\"dynamic-text-list__item-title clamp clamp-1\">Everything Everywhere All at Once</span>\\n                        </a>\\n                        <a href=\"/m/everything_everywhere_all_at_once\" class=\"dynamic-text-list__tomatometer-group\">\\n                            <span slot=\"tomatometer-icon\" class=\"icon icon--tiny icon__certified-fresh\"></span>\\n                            <span slot=\"tomatometer-value\" class=\"b--medium \">\\n                                \\n                                    95%\\n                                \\n                            </span>\\n                        </a>\\n                    </li>\\n                \\n                    <li>\\n                        <a href=\"/m/glass_onion_a_knives_out_mystery\">\\n                            <span class=\"dynamic-text-list__item-title clamp clamp-1\">Glass Onion: A Knives Out Mystery</span>\\n                        </a>\\n                        <a href=\"/m/glass_onion_a_knives_out_mystery\" class=\"dynamic-text-list__tomatometer-group\">\\n                            <span slot=\"tomatometer-icon\" class=\"icon icon--tiny icon__certified-fresh\"></span>\\n                            <span slot=\"tomatometer-value\" class=\"b--medium \">\\n                                \\n                                    92%\\n                                \\n                            </span>\\n                        </a>\\n                    </li>\\n                \\n                    <li>\\n                        <a href=\"/m/mars_one\">\\n                            <span class=\"dynamic-text-list__item-title clamp clamp-1\">Mars One</span>\\n                        </a>\\n                        <a href=\"/m/mars_one\" class=\"dynamic-text-list__tomatometer-group\">\\n                            <span slot=\"tomatometer-icon\" class=\"icon icon--tiny icon__fresh\"></span>\\n                            <span slot=\"tomatometer-value\" class=\"b--medium \">\\n                                \\n                                    97%\\n                                \\n                            </span>\\n                        </a>\\n                    </li>\\n                \\n                    <li>\\n                        <a href=\"/m/the_hatchet_wielding_hitchhiker\">\\n                            <span class=\"dynamic-text-list__item-title clamp clamp-1\">The Hatchet Wielding Hitchhiker</span>\\n                        </a>\\n                        <a href=\"/m/the_hatchet_wielding_hitchhiker\" class=\"dynamic-text-list__tomatometer-group\">\\n                            <span slot=\"tomatometer-icon\" class=\"icon icon--tiny icon__tomatometer-empty\"></span>\\n                            <span slot=\"tomatometer-value\" class=\"b--medium dynamic-text-list__no-score\">\\n                                \\n                                    - -\\n                                \\n                            </span>\\n                        </a>\\n                    </li>\\n                \\n                    <li>\\n                        <a href=\"/m/devotion_2022\">\\n                            <span class=\"dynamic-text-list__item-title clamp clamp-1\">Devotion</span>\\n                        </a>\\n                        <a href=\"/m/devotion_2022\" class=\"dynamic-text-list__tomatometer-group\">\\n                            <span slot=\"tomatometer-icon\" class=\"icon icon--tiny icon__certified-fresh\"></span>\\n                            <span slot=\"tomatometer-value\" class=\"b--medium \">\\n                                \\n                                    81%\\n                                \\n                            </span>\\n                        </a>\\n                    </li>\\n                \\n            </ul>\\n        </text-list>\\n    </section>\\n\\n\\r\\n\\n\\n        \\n          \\r\\n\\r\\n  \\r\\n  \\n    \\n    \\n    \\n        \\n    \\n    <aside id=\"interscroller_ad\" class=\"interscroller_ad visible-xs center mobile-interscroller \" style=\"width:300px\"></aside>\\n    <script>\\n        var mps = mps || {};\\n        mps._queue = mps._queue || {};\\n        mps._queue.gptloaded = mps._queue.gptloaded || [];\\n        mps._queue.adload = mps._queue.adload || [];\\n\\n        mps._queue.gptloaded.push(function() {\\n            if (mps.getResponsiveSet() ==\\'0\\') { //MOBILE\\n                mps.insertAd(\\'#interscroller_ad\\',\\'interscroller\\');\\n            }\\n        });\\n        mps._queue.adload.push(function(eo) {\\n            if (eo._mps._slot === \\'interscroller\\' && eo.isEmpty) {\\n                document.querySelector(\\'.mobile-interscroller\\').classList.add(\\'isEmpty\\');\\n            }\\n        });\\n    </script>\\n\\n\\r\\n\\r\\n\\n        \\n\\n      </div>\\n      \\n      <div\\n        class=\"js-scores-list ordered-layout__list ordered-layout__list--score\"\\n        data-curation=\"rt-hp-text-list-most-popular-tv-on-rt\">\\n\\n        \\r\\n  \\r\\n  \\n    <section class=\"dynamic-text-list \">\\n        <text-list>\\n            <h2 slot=\"header\">Most Popular TV on RT </h2>\\n            \\n                <a slot=\"view-all\" href=\"https://www.rottentomatoes.com/browse/tv-list-2\" class=\"dynamic-text-list__see-all-link a--short\" hidden>View all</a>\\n            \\n            \\n            \\n                <div slot=\"streaming-links\" class=\"dynamic-text-list__streaming-links\">\\n                    <a id=\"vudu-affililate-link\" class=\"p--small\" href=\"/browse/dvd-streaming-all?services=vudu\">Vudu</a> |\\n                    <a id=\"netflix-affiliate-link\" class=\"p--small\" href=\"/browse/dvd-streaming-all?services=netflix_iw\">Netflix</a> |\\n                    <a id=\"amazon-affiliate-link\" class=\"p--small\" href=\"/browse/dvd-streaming-all?services=amazon_prime;amazon\">Amazon</a> |\\n                    <a id=\"hbo-affiliate-link\" class=\"p--small\" href=\"/browse/dvd-streaming-all?services=hbo_go\">HBO</a> |\\n                    <a id=\"all-affiliates-link\" class=\"p--small\" href=\"/browse/dvd-streaming-all\">More...</a>\\n                </div>\\n            \\n            <ul slot=\"list-items\">\\n                \\n                    <li>\\n                        <a href=\"/tv/the_last_of_us/s01\">\\n                            <span class=\"dynamic-text-list__item-title clamp clamp-1\">The Last of Us</span>\\n                        </a>\\n                        <a href=\"/tv/the_last_of_us/s01\" class=\"dynamic-text-list__tomatometer-group\">\\n                            <span slot=\"tomatometer-icon\" class=\"icon icon--tiny icon__certified-fresh\"></span>\\n                            <span slot=\"tomatometer-value\" class=\"b--medium \">\\n                                \\n                                    97%\\n                                \\n                            </span>\\n                        </a>\\n                    </li>\\n                \\n                    <li>\\n                        <a href=\"/tv/the_white_lotus/s02\">\\n                            <span class=\"dynamic-text-list__item-title clamp clamp-1\">The White Lotus</span>\\n                        </a>\\n                        <a href=\"/tv/the_white_lotus/s02\" class=\"dynamic-text-list__tomatometer-group\">\\n                            <span slot=\"tomatometer-icon\" class=\"icon icon--tiny icon__certified-fresh\"></span>\\n                            <span slot=\"tomatometer-value\" class=\"b--medium \">\\n                                \\n                                    94%\\n                                \\n                            </span>\\n                        </a>\\n                    </li>\\n                \\n                    <li>\\n                        <a href=\"/tv/will_trent/s01\">\\n                            <span class=\"dynamic-text-list__item-title clamp clamp-1\">Will Trent</span>\\n                        </a>\\n                        <a href=\"/tv/will_trent/s01\" class=\"dynamic-text-list__tomatometer-group\">\\n                            <span slot=\"tomatometer-icon\" class=\"icon icon--tiny icon__fresh\"></span>\\n                            <span slot=\"tomatometer-value\" class=\"b--medium \">\\n                                \\n                                    100%\\n                                \\n                            </span>\\n                        </a>\\n                    </li>\\n                \\n                    <li>\\n                        <a href=\"/tv/kaleidoscope/s01\">\\n                            <span class=\"dynamic-text-list__item-title clamp clamp-1\">Kaleidoscope</span>\\n                        </a>\\n                        <a href=\"/tv/kaleidoscope/s01\" class=\"dynamic-text-list__tomatometer-group\">\\n                            <span slot=\"tomatometer-icon\" class=\"icon icon--tiny icon__rotten\"></span>\\n                            <span slot=\"tomatometer-value\" class=\"b--medium \">\\n                                \\n                                    48%\\n                                \\n                            </span>\\n                        </a>\\n                    </li>\\n                \\n                    <li>\\n                        <a href=\"/tv/velma/s01\">\\n                            <span class=\"dynamic-text-list__item-title clamp clamp-1\">Velma</span>\\n                        </a>\\n                        <a href=\"/tv/velma/s01\" class=\"dynamic-text-list__tomatometer-group\">\\n                            <span slot=\"tomatometer-icon\" class=\"icon icon--tiny icon__rotten\"></span>\\n                            <span slot=\"tomatometer-value\" class=\"b--medium \">\\n                                \\n                                    50%\\n                                \\n                            </span>\\n                        </a>\\n                    </li>\\n                \\n                    <li>\\n                        <a href=\"/tv/willow/s01\">\\n                            <span class=\"dynamic-text-list__item-title clamp clamp-1\">Willow</span>\\n                        </a>\\n                        <a href=\"/tv/willow/s01\" class=\"dynamic-text-list__tomatometer-group\">\\n                            <span slot=\"tomatometer-icon\" class=\"icon icon--tiny icon__certified-fresh\"></span>\\n                            <span slot=\"tomatometer-value\" class=\"b--medium \">\\n                                \\n                                    86%\\n                                \\n                            </span>\\n                        </a>\\n                    </li>\\n                \\n                    <li>\\n                        <a href=\"/tv/servant/s04\">\\n                            <span class=\"dynamic-text-list__item-title clamp clamp-1\">Servant</span>\\n                        </a>\\n                        <a href=\"/tv/servant/s04\" class=\"dynamic-text-list__tomatometer-group\">\\n                            <span slot=\"tomatometer-icon\" class=\"icon icon--tiny icon__fresh\"></span>\\n                            <span slot=\"tomatometer-value\" class=\"b--medium \">\\n                                \\n                                    100%\\n                                \\n                            </span>\\n                        </a>\\n                    </li>\\n                \\n                    <li>\\n                        <a href=\"/tv/ginny_and_georgia/s02\">\\n                            <span class=\"dynamic-text-list__item-title clamp clamp-1\">Ginny &amp; Georgia</span>\\n                        </a>\\n                        <a href=\"/tv/ginny_and_georgia/s02\" class=\"dynamic-text-list__tomatometer-group\">\\n                            <span slot=\"tomatometer-icon\" class=\"icon icon--tiny icon__fresh\"></span>\\n                            <span slot=\"tomatometer-value\" class=\"b--medium \">\\n                                \\n                                    75%\\n                                \\n                            </span>\\n                        </a>\\n                    </li>\\n                \\n                    <li>\\n                        <a href=\"/tv/woman_of_the_dead/s01\">\\n                            <span class=\"dynamic-text-list__item-title clamp clamp-1\">Woman of the Dead</span>\\n                        </a>\\n                        <a href=\"/tv/woman_of_the_dead/s01\" class=\"dynamic-text-list__tomatometer-group\">\\n                            <span slot=\"tomatometer-icon\" class=\"icon icon--tiny icon__tomatometer-empty\"></span>\\n                            <span slot=\"tomatometer-value\" class=\"b--medium dynamic-text-list__no-score\">\\n                                \\n                                    - -\\n                                \\n                            </span>\\n                        </a>\\n                    </li>\\n                \\n                    <li>\\n                        <a href=\"/tv/the_rig/s01\">\\n                            <span class=\"dynamic-text-list__item-title clamp clamp-1\">The Rig</span>\\n                        </a>\\n                        <a href=\"/tv/the_rig/s01\" class=\"dynamic-text-list__tomatometer-group\">\\n                            <span slot=\"tomatometer-icon\" class=\"icon icon--tiny icon__fresh\"></span>\\n                            <span slot=\"tomatometer-value\" class=\"b--medium \">\\n                                \\n                                    64%\\n                                \\n                            </span>\\n                        </a>\\n                    </li>\\n                \\n            </ul>\\n        </text-list>\\n    </section>\\n\\n\\r\\n\\n\\n        \\n          \\r\\n\\r\\n  \\r\\n  \\r\\n  \\n    \\n        \\n    \\n    \\n    \\n    <div id=\"sharethrough_bottom_ad\"></div>\\n    <script>\\n        var mps = mps||{}; mps._queue = mps._queue||{}; mps._queue.gptloaded = mps._queue.gptloaded||[];\\n        mps._queue.gptloaded.push(function () {\\n            if (mps.getResponsiveSet() == \\'0\\') { //MOBILE\\n                mps.insertAd(\\'#sharethrough_bottom_ad\\',\\'sharethrough\\',\\'strnativekey=kNF58ebeAUneyUk61UVo2yLu;pos=bottom;\\');\\n            }\\n        });\\n    </script>\\n\\n\\r\\n\\r\\n\\n        \\n\\n      </div>\\n      \\n      <div\\n        class=\"js-scores-list ordered-layout__list ordered-layout__list--score\"\\n        data-curation=\"rt-hp-text-list-new-tv-this-week\">\\n\\n        \\r\\n  \\r\\n  \\n    <section class=\"dynamic-text-list \">\\n        <text-list>\\n            <h2 slot=\"header\">New TV This Week</h2>\\n            \\n                <a slot=\"view-all\" href=\"https://www.rottentomatoes.com/browse/tv-list-1/\" class=\"dynamic-text-list__see-all-link a--short\" hidden>What&#39;s On Tonight</a>\\n            \\n            \\n            \\n            <ul slot=\"list-items\">\\n                \\n                    <li>\\n                        <a href=\"/tv/vikings_valhalla/s02\">\\n                            <span class=\"dynamic-text-list__item-title clamp clamp-1\">Vikings: Valhalla</span>\\n                        </a>\\n                        <a href=\"/tv/vikings_valhalla/s02\" class=\"dynamic-text-list__tomatometer-group\">\\n                            <span slot=\"tomatometer-icon\" class=\"icon icon--tiny icon__tomatometer-empty\"></span>\\n                            <span slot=\"tomatometer-value\" class=\"b--medium dynamic-text-list__no-score\">\\n                                \\n                                    - -\\n                                \\n                            </span>\\n                        </a>\\n                    </li>\\n                \\n                    <li>\\n                        <a href=\"/tv/hunters-2020/s02\">\\n                            <span class=\"dynamic-text-list__item-title clamp clamp-1\">Hunters</span>\\n                        </a>\\n                        <a href=\"/tv/hunters-2020/s02\" class=\"dynamic-text-list__tomatometer-group\">\\n                            <span slot=\"tomatometer-icon\" class=\"icon icon--tiny icon__rotten\"></span>\\n                            <span slot=\"tomatometer-value\" class=\"b--medium \">\\n                                \\n                                    50%\\n                                \\n                            </span>\\n                        </a>\\n                    </li>\\n                \\n                    <li>\\n                        <a href=\"/tv/servant/s04\">\\n                            <span class=\"dynamic-text-list__item-title clamp clamp-1\">Servant</span>\\n                        </a>\\n                        <a href=\"/tv/servant/s04\" class=\"dynamic-text-list__tomatometer-group\">\\n                            <span slot=\"tomatometer-icon\" class=\"icon icon--tiny icon__fresh\"></span>\\n                            <span slot=\"tomatometer-value\" class=\"b--medium \">\\n                                \\n                                    100%\\n                                \\n                            </span>\\n                        </a>\\n                    </li>\\n                \\n                    <li>\\n                        <a href=\"/tv/mayfair_witches/s01\">\\n                            <span class=\"dynamic-text-list__item-title clamp clamp-1\">Mayfair Witches</span>\\n                        </a>\\n                        <a href=\"/tv/mayfair_witches/s01\" class=\"dynamic-text-list__tomatometer-group\">\\n                            <span slot=\"tomatometer-icon\" class=\"icon icon--tiny icon__rotten\"></span>\\n                            <span slot=\"tomatometer-value\" class=\"b--medium \">\\n                                \\n                                    42%\\n                                \\n                            </span>\\n                        </a>\\n                    </li>\\n                \\n                    <li>\\n                        <a href=\"/tv/your_honor_2020/s02\">\\n                            <span class=\"dynamic-text-list__item-title clamp clamp-1\">Your Honor</span>\\n                        </a>\\n                        <a href=\"/tv/your_honor_2020/s02\" class=\"dynamic-text-list__tomatometer-group\">\\n                            <span slot=\"tomatometer-icon\" class=\"icon icon--tiny icon__tomatometer-empty\"></span>\\n                            <span slot=\"tomatometer-value\" class=\"b--medium dynamic-text-list__no-score\">\\n                                \\n                                    - -\\n                                \\n                            </span>\\n                        </a>\\n                    </li>\\n                \\n                    <li>\\n                        <a href=\"/tv/all_creatures_great_and_small/s03\">\\n                            <span class=\"dynamic-text-list__item-title clamp clamp-1\">All Creatures Great and Small</span>\\n                        </a>\\n                        <a href=\"/tv/all_creatures_great_and_small/s03\" class=\"dynamic-text-list__tomatometer-group\">\\n                            <span slot=\"tomatometer-icon\" class=\"icon icon--tiny icon__tomatometer-empty\"></span>\\n                            <span slot=\"tomatometer-value\" class=\"b--medium dynamic-text-list__no-score\">\\n                                \\n                                    - -\\n                                \\n                            </span>\\n                        </a>\\n                    </li>\\n                \\n                    <li>\\n                        <a href=\"/tv/miss_scarlet_and_the_duke/s03\">\\n                            <span class=\"dynamic-text-list__item-title clamp clamp-1\">Miss Scarlet and the Duke</span>\\n                        </a>\\n                        <a href=\"/tv/miss_scarlet_and_the_duke/s03\" class=\"dynamic-text-list__tomatometer-group\">\\n                            <span slot=\"tomatometer-icon\" class=\"icon icon--tiny icon__tomatometer-empty\"></span>\\n                            <span slot=\"tomatometer-value\" class=\"b--medium dynamic-text-list__no-score\">\\n                                \\n                                    - -\\n                                \\n                            </span>\\n                        </a>\\n                    </li>\\n                \\n                    <li>\\n                        <a href=\"/tv/vienna_blood/s03\">\\n                            <span class=\"dynamic-text-list__item-title clamp clamp-1\">Vienna Blood</span>\\n                        </a>\\n                        <a href=\"/tv/vienna_blood/s03\" class=\"dynamic-text-list__tomatometer-group\">\\n                            <span slot=\"tomatometer-icon\" class=\"icon icon--tiny icon__tomatometer-empty\"></span>\\n                            <span slot=\"tomatometer-value\" class=\"b--medium dynamic-text-list__no-score\">\\n                                \\n                                    - -\\n                                \\n                            </span>\\n                        </a>\\n                    </li>\\n                \\n                    <li>\\n                        <a href=\"/tv/velma/s01\">\\n                            <span class=\"dynamic-text-list__item-title clamp clamp-1\">Velma</span>\\n                        </a>\\n                        <a href=\"/tv/velma/s01\" class=\"dynamic-text-list__tomatometer-group\">\\n                            <span slot=\"tomatometer-icon\" class=\"icon icon--tiny icon__rotten\"></span>\\n                            <span slot=\"tomatometer-value\" class=\"b--medium \">\\n                                \\n                                    50%\\n                                \\n                            </span>\\n                        </a>\\n                    </li>\\n                \\n                    <li>\\n                        <a href=\"/tv/koala_man/s01\">\\n                            <span class=\"dynamic-text-list__item-title clamp clamp-1\">Koala Man</span>\\n                        </a>\\n                        <a href=\"/tv/koala_man/s01\" class=\"dynamic-text-list__tomatometer-group\">\\n                            <span slot=\"tomatometer-icon\" class=\"icon icon--tiny icon__fresh\"></span>\\n                            <span slot=\"tomatometer-value\" class=\"b--medium \">\\n                                \\n                                    60%\\n                                \\n                            </span>\\n                        </a>\\n                    </li>\\n                \\n                    <li>\\n                        <a href=\"/tv/the_climb_2022/s01\">\\n                            <span class=\"dynamic-text-list__item-title clamp clamp-1\">The Climb</span>\\n                        </a>\\n                        <a href=\"/tv/the_climb_2022/s01\" class=\"dynamic-text-list__tomatometer-group\">\\n                            <span slot=\"tomatometer-icon\" class=\"icon icon--tiny icon__tomatometer-empty\"></span>\\n                            <span slot=\"tomatometer-value\" class=\"b--medium dynamic-text-list__no-score\">\\n                                \\n                                    - -\\n                                \\n                            </span>\\n                        </a>\\n                    </li>\\n                \\n            </ul>\\n        </text-list>\\n    </section>\\n\\n\\r\\n\\n\\n        \\n          \\r\\n\\r\\n  \\r\\n  \\n    \\n    \\n    \\n        \\n    \\n    <aside id=\"medrec_mobileTBO_ad\" class=\"medrec_ad visible-xs center mobile-medrec\" style=\"width:300px\"></aside>\\n        \\n        \\n        \\n            <script>\\n                var mps = mps||{}; mps._queue = mps._queue||{}; mps._queue.gptloaded = mps._queue.gptloaded||[];\\n                mps._queue.gptloaded.push(function () {\\n                    if (mps.getResponsiveSet() == \\'0\\') { //MOBILE\\n                        mps.insertAd(\\'#medrec_mobileTBO_ad\\',\\'mboxadone\\');\\n                    }\\n                });\\n            </script>\\n        \\n        \\n\\n\\r\\n  \\r\\n\\n        \\n\\n      </div>\\n      \\n    </div>\\n\\n    <div class=\"layout__column layout__column--sidebar\">\\n      \\n    \\n    \\n    \\n        \\n    \\n    <div id=\"sponsored_media_hp_one_ad\" style=\"display:none;\"></div>\\n    <script>\\n        var mps = mps||{}; mps._queue = mps._queue||{}; mps._queue.gptloaded = mps._queue.gptloaded||[];\\n        mps._queue.gptloaded.push(function () {\\n            mps.insertAd(\\'#sponsored_media_hp_one_ad\\',\\'featuredmediaone\\');\\n        });\\n    </script>\\n\\n    <div id=\"sponsored_media_hp_two_ad\" style=\"display:none;\"></div>\\n    <script>\\n        var mps = mps||{}; mps._queue = mps._queue||{}; mps._queue.gptloaded = mps._queue.gptloaded||[];\\n        mps._queue.gptloaded.push(function () {\\n            mps.insertAd(\\'#sponsored_media_hp_two_ad\\',\\'featuredmediatwo\\');\\n        });\\n    </script>\\n\\n\\n    </div>\\n\\n  </div>\\n\\n  <aside class=\"adColumn col-sm-7 hidden-xs\">\\n    \\n      \\n      \\n      \\n      \\n      <div class=\"adColumn__content\">\\n          \\n    \\n    \\n    \\n    <aside id=\"medrec_top_ad\" class=\"medrec_ad \" style=\"width:300px\"></aside>\\n        \\n        \\n            <script>\\n                var mps = mps||{}; mps._queue = mps._queue||{}; mps._queue.gptloaded = mps._queue.gptloaded||[];\\n                mps._queue.gptloaded.push(function () {\\n                    if (mps.getResponsiveSet() != \\'0\\') { //DESKTOP or TABLET\\n                        mps.insertAd(\\'#medrec_top_ad\\',\\'topmulti\\');\\n                    }\\n                });\\n\\n                // check for presence of ad via iframe height\\n                var observer = new MutationObserver((mutationList, observer) => {\\n                    for (var mutation of mutationList) {\\n                        if (mutation.type === \\'childList\\') {\\n                            var elAdIframe = mutation.target.querySelector(\\'iframe\\');\\n                            if (Boolean(elAdIframe)) {\\n                                if (Number(elAdIframe.height) > 1) {\\n                                    var elAdvertiseWithUsLink = document.querySelector(\\'#medrec_top_ad ~ .advertise-with-us-link\\');\\n                                    elAdvertiseWithUsLink.classList.remove(\\'hide\\');\\n                                    observer.disconnect();\\n                                }\\n                            }\\n                        }\\n                    }\\n                });\\n\\n                var targetNode = document.getElementById(\\'medrec_top_ad\\');\\n                var config = { attributes: true, childList: true, subtree: true };\\n                observer.observe(targetNode, config);\\n            </script>\\n\\n            \\n            <a href=\"https://together.nbcuni.com/advertise/?utm_source=rotten_tomatoes&amp;utm_medium=referral&amp;utm_campaign=property_ad_pages&amp;utm_content=header&amp;utm_content=header\" target=\"_blank\" data-qa=\"header:link-ads\" class=\"advertise-with-us-link hide\">Advertise With Us</a>\\n        \\n        \\n        \\n\\n\\n      </div>\\n      <div id=\"native_ad_slot\"></div>\\n    \\n  </aside>\\n\\n</div>\\n\\r\\n\\r\\n        \\r\\n    \\r\\n        <div class=\"ordered-layout__list ordered-layout__list--carousel\" data-curation=\"rt-hp-poster-list-popular-in-theaters\">\\n  \\n  \\r\\n  <section class=\"dynamic-poster-list\" data-qa=\"dynamic-poster-list\">\\r\\n    <div class=\"dynamic-poster-list__header-container\">\\r\\n      <div>\\r\\n        \\r\\n          <h2 data-qa=\"title\">Popular In Theaters</h2>\\r\\n        \\r\\n\\r\\n        \\r\\n          <a href=\"https://www.rottentomatoes.com/browse/movies_in_theaters/sort:popular?page=1\" class=\"a--short\" data-track=\"showmore\">View All</a>\\r\\n        \\r\\n      </div>\\r\\n\\r\\n      \\r\\n        <h3 class=\"p\">Availability may vary, check your <a href=\"https://www.fandango.com/movies-in-theaters\">local showtimes</a> for details.</h3>\\r\\n      \\r\\n    </div>\\r\\n    \\r\\n    \\r\\n\\r\\n    <tiles-carousel-responsive skeleton=\"panel\">\\r\\n\\r\\n      <button slot=\"scroll-left\">\\r\\n        <rt-icon slot=\"icon-arrow-left\" image icon=\"left-chevron\"></rt-icon>\\r\\n      </button>\\r\\n\\r\\n      \\r\\n        <tiles-carousel-responsive-item slot=\"tile\">\\r\\n          \\r\\n            \\r\\n            <tile-dynamic isvideo data-qa=\"tile\">\\r\\n              <img\\r\\n                slot=\"image\"\\r\\n                loading=\"lazy\"\\r\\n                src=\"https://resizing.flixster.com/gWWM2Ov0VLAuazwELZCVc9grUQI=/ems.cHJkLWVtcy1hc3NldHMvbW92aWVzLzgyMGM0ZDJiLWNmYjAtNGI3NS1hYTgzLTQ5YmU2ZjQwZWE0ZC5qcGc=\"\\r\\n                alt=\"Avatar: The Way of Water poster\"\\r\\n              />\\r\\n              \\r\\n                <button\\r\\n                  slot=\"imageAction\"\\r\\n                  \\r\\n                  class=\"transparent unset\"\\r\\n                  data-content-type=\"movie\"\\r\\n                  data-mpx-fwsite=\"\"\\r\\n                  data-title=\"Avatar: The Way of Water\"\\r\\n                  data-video-id=\"\"\\r\\n                  data-video-list=\"rt-hp-poster-list-popular-in-theaters\"\\r\\n                  data-track=\"poster\"\\r\\n                  data-position=\"1\"\\r\\n                  data-media-id=\"\"\\r\\n                  \\r\\n                    data-video-player-overlay-url=\"https://player.theplatform.com/p/NGweTC/pdk6_y__7B0iQTi4P/embed/select/media/knCBWVtdpB_y\"\\r\\n                    data-video-player-overlay-media-url=\"/m/avatar_the_way_of_water\"\\r\\n                  \\r\\n                  aria-label=\"Play Avatar: The Way of Water trailer\"\\r\\n                >\\r\\n                  <span class=\"sr-only\">Avatar: The Way of Water</span>\\r\\n                </button>\\r\\n                \\r\\n                <a slot=\"caption\" href=\"/m/avatar_the_way_of_water\" data-track=\"scores\">\\r\\n              \\r\\n                <score-pairs\\r\\n                  audiencesentiment=\"hide\"\\r\\n                  audiencescore=\"hide\"\\r\\n                  criticssentiment=\"positive\"\\r\\n                  criticsscore=\"77\"\\r\\n                  criticscertified=\"criticscertified\"\\r\\n                >\\r\\n                </score-pairs>\\r\\n                <span class=\"p--small\">Avatar: The Way of Water</span>\\r\\n              \\r\\n                </a>\\r\\n              \\r\\n            </tile-dynamic>\\r\\n          \\r\\n        </tiles-carousel-responsive-item>\\r\\n      \\r\\n        <tiles-carousel-responsive-item slot=\"tile\">\\r\\n          \\r\\n            \\r\\n            <tile-dynamic isvideo data-qa=\"tile\">\\r\\n              <img\\r\\n                slot=\"image\"\\r\\n                loading=\"lazy\"\\r\\n                src=\"https://resizing.flixster.com/rPJASTXFjLpmiVTi3D6RGcq-skM=/ems.cHJkLWVtcy1hc3NldHMvbW92aWVzLzhjYjA0ODBiLTNlNmUtNDlhOS05ZWRlLThlOGQ2MmEyZjlmYS5qcGc=\"\\r\\n                alt=\"M3GAN poster\"\\r\\n              />\\r\\n              \\r\\n                <button\\r\\n                  slot=\"imageAction\"\\r\\n                  \\r\\n                  class=\"transparent unset\"\\r\\n                  data-content-type=\"movie\"\\r\\n                  data-mpx-fwsite=\"\"\\r\\n                  data-title=\"M3GAN\"\\r\\n                  data-video-id=\"\"\\r\\n                  data-video-list=\"rt-hp-poster-list-popular-in-theaters\"\\r\\n                  data-track=\"poster\"\\r\\n                  data-position=\"2\"\\r\\n                  data-media-id=\"\"\\r\\n                  \\r\\n                    data-video-player-overlay-url=\"https://player.theplatform.com/p/NGweTC/pdk6_y__7B0iQTi4P/embed/select/media/ylRnxYtCODKE\"\\r\\n                    data-video-player-overlay-media-url=\"/m/m3gan\"\\r\\n                  \\r\\n                  aria-label=\"Play M3GAN trailer\"\\r\\n                >\\r\\n                  <span class=\"sr-only\">M3GAN</span>\\r\\n                </button>\\r\\n                \\r\\n                <a slot=\"caption\" href=\"/m/m3gan\" data-track=\"scores\">\\r\\n              \\r\\n                <score-pairs\\r\\n                  audiencesentiment=\"hide\"\\r\\n                  audiencescore=\"hide\"\\r\\n                  criticssentiment=\"positive\"\\r\\n                  criticsscore=\"95\"\\r\\n                  criticscertified=\"criticscertified\"\\r\\n                >\\r\\n                </score-pairs>\\r\\n                <span class=\"p--small\">M3GAN</span>\\r\\n              \\r\\n                </a>\\r\\n              \\r\\n            </tile-dynamic>\\r\\n          \\r\\n        </tiles-carousel-responsive-item>\\r\\n      \\r\\n        <tiles-carousel-responsive-item slot=\"tile\">\\r\\n          \\r\\n            \\r\\n            <tile-dynamic isvideo data-qa=\"tile\">\\r\\n              <img\\r\\n                slot=\"image\"\\r\\n                loading=\"lazy\"\\r\\n                src=\"https://resizing.flixster.com/vtIcjOYiM-QBXQyXhTFFgQoRkDw=/ems.cHJkLWVtcy1hc3NldHMvbW92aWVzL2JmNjM3ZTc2LTk5ZmMtNGJhNy04MDAzLWI3M2IxNmExNDNkYi5qcGc=\"\\r\\n                alt=\"Puss in Boots: The Last Wish poster\"\\r\\n              />\\r\\n              \\r\\n                <button\\r\\n                  slot=\"imageAction\"\\r\\n                  \\r\\n                  class=\"transparent unset\"\\r\\n                  data-content-type=\"movie\"\\r\\n                  data-mpx-fwsite=\"\"\\r\\n                  data-title=\"Puss in Boots: The Last Wish\"\\r\\n                  data-video-id=\"\"\\r\\n                  data-video-list=\"rt-hp-poster-list-popular-in-theaters\"\\r\\n                  data-track=\"poster\"\\r\\n                  data-position=\"3\"\\r\\n                  data-media-id=\"\"\\r\\n                  \\r\\n                    data-video-player-overlay-url=\"https://player.theplatform.com/p/NGweTC/pdk6_y__7B0iQTi4P/embed/select/media/G3eStXA54JGr\"\\r\\n                    data-video-player-overlay-media-url=\"/m/puss_in_boots_the_last_wish\"\\r\\n                  \\r\\n                  aria-label=\"Play Puss in Boots: The Last Wish trailer\"\\r\\n                >\\r\\n                  <span class=\"sr-only\">Puss in Boots: The Last Wish</span>\\r\\n                </button>\\r\\n                \\r\\n                <a slot=\"caption\" href=\"/m/puss_in_boots_the_last_wish\" data-track=\"scores\">\\r\\n              \\r\\n                <score-pairs\\r\\n                  audiencesentiment=\"hide\"\\r\\n                  audiencescore=\"hide\"\\r\\n                  criticssentiment=\"positive\"\\r\\n                  criticsscore=\"96\"\\r\\n                  criticscertified=\"criticscertified\"\\r\\n                >\\r\\n                </score-pairs>\\r\\n                <span class=\"p--small\">Puss in Boots: The Last Wish</span>\\r\\n              \\r\\n                </a>\\r\\n              \\r\\n            </tile-dynamic>\\r\\n          \\r\\n        </tiles-carousel-responsive-item>\\r\\n      \\r\\n        <tiles-carousel-responsive-item slot=\"tile\">\\r\\n          \\r\\n            \\r\\n            <tile-dynamic isvideo data-qa=\"tile\">\\r\\n              <img\\r\\n                slot=\"image\"\\r\\n                loading=\"lazy\"\\r\\n                src=\"https://resizing.flixster.com/l3hMOt6cWOpnE-s2f9ryvvFRwdM=/ems.cHJkLWVtcy1hc3NldHMvbW92aWVzLzQxYjJlNGIwLWE1YWMtNDU0NC05NDc3LTVkMTUwYWMyZGIyNy5qcGc=\"\\r\\n                alt=\"A Man Called Otto poster\"\\r\\n              />\\r\\n              \\r\\n                <button\\r\\n                  slot=\"imageAction\"\\r\\n                  \\r\\n                  class=\"transparent unset\"\\r\\n                  data-content-type=\"movie\"\\r\\n                  data-mpx-fwsite=\"\"\\r\\n                  data-title=\"A Man Called Otto\"\\r\\n                  data-video-id=\"\"\\r\\n                  data-video-list=\"rt-hp-poster-list-popular-in-theaters\"\\r\\n                  data-track=\"poster\"\\r\\n                  data-position=\"4\"\\r\\n                  data-media-id=\"\"\\r\\n                  \\r\\n                    data-video-player-overlay-url=\"https://player.theplatform.com/p/NGweTC/pdk6_y__7B0iQTi4P/embed/select/media/G2l4dlRPXT7M\"\\r\\n                    data-video-player-overlay-media-url=\"/m/a_man_called_otto\"\\r\\n                  \\r\\n                  aria-label=\"Play A Man Called Otto trailer\"\\r\\n                >\\r\\n                  <span class=\"sr-only\">A Man Called Otto</span>\\r\\n                </button>\\r\\n                \\r\\n                <a slot=\"caption\" href=\"/m/a_man_called_otto\" data-track=\"scores\">\\r\\n              \\r\\n                <score-pairs\\r\\n                  audiencesentiment=\"hide\"\\r\\n                  audiencescore=\"hide\"\\r\\n                  criticssentiment=\"positive\"\\r\\n                  criticsscore=\"69\"\\r\\n                  criticscertified=\"false\"\\r\\n                >\\r\\n                </score-pairs>\\r\\n                <span class=\"p--small\">A Man Called Otto</span>\\r\\n              \\r\\n                </a>\\r\\n              \\r\\n            </tile-dynamic>\\r\\n          \\r\\n        </tiles-carousel-responsive-item>\\r\\n      \\r\\n        <tiles-carousel-responsive-item slot=\"tile\">\\r\\n          \\r\\n            \\r\\n            <tile-dynamic isvideo data-qa=\"tile\">\\r\\n              <img\\r\\n                slot=\"image\"\\r\\n                loading=\"lazy\"\\r\\n                src=\"https://resizing.flixster.com/QJkeIM6LIvwmRGiLKrNBcpZIk8M=/ems.cHJkLWVtcy1hc3NldHMvbW92aWVzLzAwYzExZjlmLWJlODQtNDY4Mi1iNDhkLWU2YWNmMGIyMDgwMi5qcGc=\"\\r\\n                alt=\"Black Panther: Wakanda Forever poster\"\\r\\n              />\\r\\n              \\r\\n                <button\\r\\n                  slot=\"imageAction\"\\r\\n                  \\r\\n                  class=\"transparent unset\"\\r\\n                  data-content-type=\"movie\"\\r\\n                  data-mpx-fwsite=\"\"\\r\\n                  data-title=\"Black Panther: Wakanda Forever\"\\r\\n                  data-video-id=\"\"\\r\\n                  data-video-list=\"rt-hp-poster-list-popular-in-theaters\"\\r\\n                  data-track=\"poster\"\\r\\n                  data-position=\"5\"\\r\\n                  data-media-id=\"\"\\r\\n                  \\r\\n                    data-video-player-overlay-url=\"https://player.theplatform.com/p/NGweTC/pdk6_y__7B0iQTi4P/embed/select/media/uMGYgU_G1AM4\"\\r\\n                    data-video-player-overlay-media-url=\"/m/black_panther_wakanda_forever\"\\r\\n                  \\r\\n                  aria-label=\"Play Black Panther: Wakanda Forever trailer\"\\r\\n                >\\r\\n                  <span class=\"sr-only\">Black Panther: Wakanda Forever</span>\\r\\n                </button>\\r\\n                \\r\\n                <a slot=\"caption\" href=\"/m/black_panther_wakanda_forever\" data-track=\"scores\">\\r\\n              \\r\\n                <score-pairs\\r\\n                  audiencesentiment=\"hide\"\\r\\n                  audiencescore=\"hide\"\\r\\n                  criticssentiment=\"positive\"\\r\\n                  criticsscore=\"84\"\\r\\n                  criticscertified=\"criticscertified\"\\r\\n                >\\r\\n                </score-pairs>\\r\\n                <span class=\"p--small\">Black Panther: Wakanda Forever</span>\\r\\n              \\r\\n                </a>\\r\\n              \\r\\n            </tile-dynamic>\\r\\n          \\r\\n        </tiles-carousel-responsive-item>\\r\\n      \\r\\n        <tiles-carousel-responsive-item slot=\"tile\">\\r\\n          \\r\\n            \\r\\n            <tile-dynamic isvideo data-qa=\"tile\">\\r\\n              <img\\r\\n                slot=\"image\"\\r\\n                loading=\"lazy\"\\r\\n                src=\"https://resizing.flixster.com/6xmuDLr8iHznjPJyfW_FVxZbTl4=/ems.cHJkLWVtcy1hc3NldHMvbW92aWVzLzE2MmNhOWExLWI2ZmYtNDE4OC04YjM3LWMyYjIyMmI0OWYxZC5qcGc=\"\\r\\n                alt=\"Whitney Houston: I Wanna Dance with Somebody poster\"\\r\\n              />\\r\\n              \\r\\n                <button\\r\\n                  slot=\"imageAction\"\\r\\n                  \\r\\n                  class=\"transparent unset\"\\r\\n                  data-content-type=\"movie\"\\r\\n                  data-mpx-fwsite=\"\"\\r\\n                  data-title=\"Whitney Houston: I Wanna Dance with Somebody\"\\r\\n                  data-video-id=\"\"\\r\\n                  data-video-list=\"rt-hp-poster-list-popular-in-theaters\"\\r\\n                  data-track=\"poster\"\\r\\n                  data-position=\"6\"\\r\\n                  data-media-id=\"\"\\r\\n                  \\r\\n                    data-video-player-overlay-url=\"https://player.theplatform.com/p/NGweTC/pdk6_y__7B0iQTi4P/embed/select/media/UxcNlZicLCo0\"\\r\\n                    data-video-player-overlay-media-url=\"/m/whitney_houston_i_wanna_dance_with_somebody\"\\r\\n                  \\r\\n                  aria-label=\"Play Whitney Houston: I Wanna Dance with Somebody trailer\"\\r\\n                >\\r\\n                  <span class=\"sr-only\">Whitney Houston: I Wanna Dance with Somebody</span>\\r\\n                </button>\\r\\n                \\r\\n                <a slot=\"caption\" href=\"/m/whitney_houston_i_wanna_dance_with_somebody\" data-track=\"scores\">\\r\\n              \\r\\n                <score-pairs\\r\\n                  audiencesentiment=\"hide\"\\r\\n                  audiencescore=\"hide\"\\r\\n                  criticssentiment=\"negative\"\\r\\n                  criticsscore=\"45\"\\r\\n                  criticscertified=\"false\"\\r\\n                >\\r\\n                </score-pairs>\\r\\n                <span class=\"p--small\">Whitney Houston: I Wanna Dance with Somebody</span>\\r\\n              \\r\\n                </a>\\r\\n              \\r\\n            </tile-dynamic>\\r\\n          \\r\\n        </tiles-carousel-responsive-item>\\r\\n      \\r\\n        <tiles-carousel-responsive-item slot=\"tile\">\\r\\n          \\r\\n            \\r\\n            <tile-dynamic isvideo data-qa=\"tile\">\\r\\n              <img\\r\\n                slot=\"image\"\\r\\n                loading=\"lazy\"\\r\\n                src=\"https://resizing.flixster.com/k4O2dPmx9brEPScWUiuFiayMHpo=/ems.cHJkLWVtcy1hc3NldHMvbW92aWVzL2M3ODEzY2Q4LTc4YWEtNDQ0OC1hNGQ0LTU0NGQzZWJjMzNhMy5qcGc=\"\\r\\n                alt=\"The Whale poster\"\\r\\n              />\\r\\n              \\r\\n                <button\\r\\n                  slot=\"imageAction\"\\r\\n                  \\r\\n                  class=\"transparent unset\"\\r\\n                  data-content-type=\"movie\"\\r\\n                  data-mpx-fwsite=\"\"\\r\\n                  data-title=\"The Whale\"\\r\\n                  data-video-id=\"\"\\r\\n                  data-video-list=\"rt-hp-poster-list-popular-in-theaters\"\\r\\n                  data-track=\"poster\"\\r\\n                  data-position=\"7\"\\r\\n                  data-media-id=\"\"\\r\\n                  \\r\\n                    data-video-player-overlay-url=\"https://player.theplatform.com/p/NGweTC/pdk6_y__7B0iQTi4P/embed/select/media/nyrCqnPby3Y4\"\\r\\n                    data-video-player-overlay-media-url=\"/m/the_whale_2022\"\\r\\n                  \\r\\n                  aria-label=\"Play The Whale trailer\"\\r\\n                >\\r\\n                  <span class=\"sr-only\">The Whale</span>\\r\\n                </button>\\r\\n                \\r\\n                <a slot=\"caption\" href=\"/m/the_whale_2022\" data-track=\"scores\">\\r\\n              \\r\\n                <score-pairs\\r\\n                  audiencesentiment=\"hide\"\\r\\n                  audiencescore=\"hide\"\\r\\n                  criticssentiment=\"positive\"\\r\\n                  criticsscore=\"65\"\\r\\n                  criticscertified=\"false\"\\r\\n                >\\r\\n                </score-pairs>\\r\\n                <span class=\"p--small\">The Whale</span>\\r\\n              \\r\\n                </a>\\r\\n              \\r\\n            </tile-dynamic>\\r\\n          \\r\\n        </tiles-carousel-responsive-item>\\r\\n      \\r\\n        <tiles-carousel-responsive-item slot=\"tile\">\\r\\n          \\r\\n            \\r\\n            <tile-dynamic isvideo data-qa=\"tile\">\\r\\n              <img\\r\\n                slot=\"image\"\\r\\n                loading=\"lazy\"\\r\\n                src=\"https://resizing.flixster.com/dEbrJa07LETKJiiO54Tqxb-ImXk=/ems.cHJkLWVtcy1hc3NldHMvbW92aWVzL2U5OTE0OTdhLWQ1MTAtNDgyMS04M2YzLTdkNmVjZDYxNmZlMy5qcGc=\"\\r\\n                alt=\"Babylon poster\"\\r\\n              />\\r\\n              \\r\\n                <button\\r\\n                  slot=\"imageAction\"\\r\\n                  \\r\\n                  class=\"transparent unset\"\\r\\n                  data-content-type=\"movie\"\\r\\n                  data-mpx-fwsite=\"\"\\r\\n                  data-title=\"Babylon\"\\r\\n                  data-video-id=\"\"\\r\\n                  data-video-list=\"rt-hp-poster-list-popular-in-theaters\"\\r\\n                  data-track=\"poster\"\\r\\n                  data-position=\"8\"\\r\\n                  data-media-id=\"\"\\r\\n                  \\r\\n                    data-video-player-overlay-url=\"https://player.theplatform.com/p/NGweTC/pdk6_y__7B0iQTi4P/embed/select/media/yQtRSEksY5Z_\"\\r\\n                    data-video-player-overlay-media-url=\"/m/babylon_2022\"\\r\\n                  \\r\\n                  aria-label=\"Play Babylon trailer\"\\r\\n                >\\r\\n                  <span class=\"sr-only\">Babylon</span>\\r\\n                </button>\\r\\n                \\r\\n                <a slot=\"caption\" href=\"/m/babylon_2022\" data-track=\"scores\">\\r\\n              \\r\\n                <score-pairs\\r\\n                  audiencesentiment=\"hide\"\\r\\n                  audiencescore=\"hide\"\\r\\n                  criticssentiment=\"negative\"\\r\\n                  criticsscore=\"55\"\\r\\n                  criticscertified=\"false\"\\r\\n                >\\r\\n                </score-pairs>\\r\\n                <span class=\"p--small\">Babylon</span>\\r\\n              \\r\\n                </a>\\r\\n              \\r\\n            </tile-dynamic>\\r\\n          \\r\\n        </tiles-carousel-responsive-item>\\r\\n      \\r\\n        <tiles-carousel-responsive-item slot=\"tile\">\\r\\n          \\r\\n            \\r\\n            <tile-dynamic isvideo data-qa=\"tile\">\\r\\n              <img\\r\\n                slot=\"image\"\\r\\n                loading=\"lazy\"\\r\\n                src=\"https://resizing.flixster.com/nifeYuz3wPgP583Gtef3bTSwfI0=/ems.cHJkLWVtcy1hc3NldHMvbW92aWVzLzRjMjhmYTMwLWViM2EtNDZjYy1iMWRmLTAxNmQ3MzZiMTUyNS5qcGc=\"\\r\\n                alt=\"Violent Night poster\"\\r\\n              />\\r\\n              \\r\\n                <button\\r\\n                  slot=\"imageAction\"\\r\\n                  \\r\\n                  class=\"transparent unset\"\\r\\n                  data-content-type=\"movie\"\\r\\n                  data-mpx-fwsite=\"\"\\r\\n                  data-title=\"Violent Night\"\\r\\n                  data-video-id=\"\"\\r\\n                  data-video-list=\"rt-hp-poster-list-popular-in-theaters\"\\r\\n                  data-track=\"poster\"\\r\\n                  data-position=\"9\"\\r\\n                  data-media-id=\"\"\\r\\n                  \\r\\n                    data-video-player-overlay-url=\"https://player.theplatform.com/p/NGweTC/pdk6_y__7B0iQTi4P/embed/select/media/E1RvSzoc53aR\"\\r\\n                    data-video-player-overlay-media-url=\"/m/violent_night\"\\r\\n                  \\r\\n                  aria-label=\"Play Violent Night trailer\"\\r\\n                >\\r\\n                  <span class=\"sr-only\">Violent Night</span>\\r\\n                </button>\\r\\n                \\r\\n                <a slot=\"caption\" href=\"/m/violent_night\" data-track=\"scores\">\\r\\n              \\r\\n                <score-pairs\\r\\n                  audiencesentiment=\"hide\"\\r\\n                  audiencescore=\"hide\"\\r\\n                  criticssentiment=\"positive\"\\r\\n                  criticsscore=\"73\"\\r\\n                  criticscertified=\"false\"\\r\\n                >\\r\\n                </score-pairs>\\r\\n                <span class=\"p--small\">Violent Night</span>\\r\\n              \\r\\n                </a>\\r\\n              \\r\\n            </tile-dynamic>\\r\\n          \\r\\n        </tiles-carousel-responsive-item>\\r\\n      \\r\\n        <tiles-carousel-responsive-item slot=\"tile\">\\r\\n          \\r\\n            \\r\\n            <tile-dynamic isvideo data-qa=\"tile\">\\r\\n              <img\\r\\n                slot=\"image\"\\r\\n                loading=\"lazy\"\\r\\n                src=\"https://resizing.flixster.com/ThP55y9O__xdEFFCmmJ0pDy9FeI=/ems.cHJkLWVtcy1hc3NldHMvbW92aWVzL2FlZTkwYTAyLWNkNWYtNDA0ZS04N2FhLTE0NDUwZmM0ODdiOC5qcGc=\"\\r\\n                alt=\"The Menu poster\"\\r\\n              />\\r\\n              \\r\\n                <button\\r\\n                  slot=\"imageAction\"\\r\\n                  \\r\\n                  class=\"transparent unset\"\\r\\n                  data-content-type=\"movie\"\\r\\n                  data-mpx-fwsite=\"\"\\r\\n                  data-title=\"The Menu\"\\r\\n                  data-video-id=\"\"\\r\\n                  data-video-list=\"rt-hp-poster-list-popular-in-theaters\"\\r\\n                  data-track=\"poster\"\\r\\n                  data-position=\"10\"\\r\\n                  data-media-id=\"\"\\r\\n                  \\r\\n                    data-video-player-overlay-url=\"https://player.theplatform.com/p/NGweTC/pdk6_y__7B0iQTi4P/embed/select/media/GuvtDJHAeDS4\"\\r\\n                    data-video-player-overlay-media-url=\"/m/the_menu\"\\r\\n                  \\r\\n                  aria-label=\"Play The Menu trailer\"\\r\\n                >\\r\\n                  <span class=\"sr-only\">The Menu</span>\\r\\n                </button>\\r\\n                \\r\\n                <a slot=\"caption\" href=\"/m/the_menu\" data-track=\"scores\">\\r\\n              \\r\\n                <score-pairs\\r\\n                  audiencesentiment=\"hide\"\\r\\n                  audiencescore=\"hide\"\\r\\n                  criticssentiment=\"positive\"\\r\\n                  criticsscore=\"89\"\\r\\n                  criticscertified=\"criticscertified\"\\r\\n                >\\r\\n                </score-pairs>\\r\\n                <span class=\"p--small\">The Menu</span>\\r\\n              \\r\\n                </a>\\r\\n              \\r\\n            </tile-dynamic>\\r\\n          \\r\\n        </tiles-carousel-responsive-item>\\r\\n      \\r\\n        <tiles-carousel-responsive-item slot=\"tile\">\\r\\n          \\r\\n            \\r\\n            <tile-dynamic isvideo data-qa=\"tile\">\\r\\n              <img\\r\\n                slot=\"image\"\\r\\n                loading=\"lazy\"\\r\\n                src=\"https://resizing.flixster.com/sHWlKXB2LojbyFEGXuLICWYopdI=/ems.cHJkLWVtcy1hc3NldHMvbW92aWVzLzA3Y2Y3MTk3LWZkMWUtNGNjNS04YzY0LWI0YjNlNDNmYTRhNC5qcGc=\"\\r\\n                alt=\"The Fabelmans poster\"\\r\\n              />\\r\\n              \\r\\n                <button\\r\\n                  slot=\"imageAction\"\\r\\n                  \\r\\n                  class=\"transparent unset\"\\r\\n                  data-content-type=\"movie\"\\r\\n                  data-mpx-fwsite=\"\"\\r\\n                  data-title=\"The Fabelmans\"\\r\\n                  data-video-id=\"\"\\r\\n                  data-video-list=\"rt-hp-poster-list-popular-in-theaters\"\\r\\n                  data-track=\"poster\"\\r\\n                  data-position=\"11\"\\r\\n                  data-media-id=\"\"\\r\\n                  \\r\\n                    data-video-player-overlay-url=\"https://player.theplatform.com/p/NGweTC/pdk6_y__7B0iQTi4P/embed/select/media/L_BptakH3bM_\"\\r\\n                    data-video-player-overlay-media-url=\"/m/the_fabelmans\"\\r\\n                  \\r\\n                  aria-label=\"Play The Fabelmans trailer\"\\r\\n                >\\r\\n                  <span class=\"sr-only\">The Fabelmans</span>\\r\\n                </button>\\r\\n                \\r\\n                <a slot=\"caption\" href=\"/m/the_fabelmans\" data-track=\"scores\">\\r\\n              \\r\\n                <score-pairs\\r\\n                  audiencesentiment=\"hide\"\\r\\n                  audiencescore=\"hide\"\\r\\n                  criticssentiment=\"positive\"\\r\\n                  criticsscore=\"92\"\\r\\n                  criticscertified=\"criticscertified\"\\r\\n                >\\r\\n                </score-pairs>\\r\\n                <span class=\"p--small\">The Fabelmans</span>\\r\\n              \\r\\n                </a>\\r\\n              \\r\\n            </tile-dynamic>\\r\\n          \\r\\n        </tiles-carousel-responsive-item>\\r\\n      \\r\\n        <tiles-carousel-responsive-item slot=\"tile\">\\r\\n          \\r\\n            \\r\\n            <tile-dynamic isvideo data-qa=\"tile\">\\r\\n              <img\\r\\n                slot=\"image\"\\r\\n                loading=\"lazy\"\\r\\n                src=\"https://resizing.flixster.com/yyxVyKHQxrk4Xvdpo9kuZ7-T3Ls=/ems.cHJkLWVtcy1hc3NldHMvbW92aWVzL2NmOTkzYjhkLWI1YjItNGMzMS04NzA5LWFmZDg1MDBkYTU3ZC5qcGc=\"\\r\\n                alt=\"Corsage poster\"\\r\\n              />\\r\\n              \\r\\n                <button\\r\\n                  slot=\"imageAction\"\\r\\n                  \\r\\n                  class=\"transparent unset\"\\r\\n                  data-content-type=\"movie\"\\r\\n                  data-mpx-fwsite=\"\"\\r\\n                  data-title=\"Corsage\"\\r\\n                  data-video-id=\"\"\\r\\n                  data-video-list=\"rt-hp-poster-list-popular-in-theaters\"\\r\\n                  data-track=\"poster\"\\r\\n                  data-position=\"12\"\\r\\n                  data-media-id=\"\"\\r\\n                  \\r\\n                    data-video-player-overlay-url=\"https://player.theplatform.com/p/NGweTC/pdk6_y__7B0iQTi4P/embed/select/media/FaSyQJWOV8ar\"\\r\\n                    data-video-player-overlay-media-url=\"/m/corsage\"\\r\\n                  \\r\\n                  aria-label=\"Play Corsage trailer\"\\r\\n                >\\r\\n                  <span class=\"sr-only\">Corsage</span>\\r\\n                </button>\\r\\n                \\r\\n                <a slot=\"caption\" href=\"/m/corsage\" data-track=\"scores\">\\r\\n              \\r\\n                <score-pairs\\r\\n                  audiencesentiment=\"hide\"\\r\\n                  audiencescore=\"hide\"\\r\\n                  criticssentiment=\"positive\"\\r\\n                  criticsscore=\"85\"\\r\\n                  criticscertified=\"criticscertified\"\\r\\n                >\\r\\n                </score-pairs>\\r\\n                <span class=\"p--small\">Corsage</span>\\r\\n              \\r\\n                </a>\\r\\n              \\r\\n            </tile-dynamic>\\r\\n          \\r\\n        </tiles-carousel-responsive-item>\\r\\n      \\r\\n        <tiles-carousel-responsive-item slot=\"tile\">\\r\\n          \\r\\n            \\r\\n            <tile-dynamic isvideo data-qa=\"tile\">\\r\\n              <img\\r\\n                slot=\"image\"\\r\\n                loading=\"lazy\"\\r\\n                src=\"https://resizing.flixster.com/2xMkNqbnCcVFU3sEAhAblUFRJa8=/ems.cHJkLWVtcy1hc3NldHMvbW92aWVzLzk5ZjM1MDZlLWU4ZWEtNDRjMi05Y2ViLTk4ZmY1YmQ3NjU2MS5qcGc=\"\\r\\n                alt=\"Strange World poster\"\\r\\n              />\\r\\n              \\r\\n                <button\\r\\n                  slot=\"imageAction\"\\r\\n                  \\r\\n                  class=\"transparent unset\"\\r\\n                  data-content-type=\"movie\"\\r\\n                  data-mpx-fwsite=\"\"\\r\\n                  data-title=\"Strange World\"\\r\\n                  data-video-id=\"\"\\r\\n                  data-video-list=\"rt-hp-poster-list-popular-in-theaters\"\\r\\n                  data-track=\"poster\"\\r\\n                  data-position=\"13\"\\r\\n                  data-media-id=\"\"\\r\\n                  \\r\\n                    data-video-player-overlay-url=\"https://player.theplatform.com/p/NGweTC/pdk6_y__7B0iQTi4P/embed/select/media/mjMS0MuB42ym\"\\r\\n                    data-video-player-overlay-media-url=\"/m/strange_world\"\\r\\n                  \\r\\n                  aria-label=\"Play Strange World trailer\"\\r\\n                >\\r\\n                  <span class=\"sr-only\">Strange World</span>\\r\\n                </button>\\r\\n                \\r\\n                <a slot=\"caption\" href=\"/m/strange_world\" data-track=\"scores\">\\r\\n              \\r\\n                <score-pairs\\r\\n                  audiencesentiment=\"hide\"\\r\\n                  audiencescore=\"hide\"\\r\\n                  criticssentiment=\"positive\"\\r\\n                  criticsscore=\"72\"\\r\\n                  criticscertified=\"false\"\\r\\n                >\\r\\n                </score-pairs>\\r\\n                <span class=\"p--small\">Strange World</span>\\r\\n              \\r\\n                </a>\\r\\n              \\r\\n            </tile-dynamic>\\r\\n          \\r\\n        </tiles-carousel-responsive-item>\\r\\n      \\r\\n\\r\\n      <button slot=\"scroll-right\">\\r\\n        <rt-icon slot=\"icon-arrow-right\" image icon=\"right-chevron\"></rt-icon>\\r\\n      </button>\\r\\n      \\r\\n    </tiles-carousel-responsive>\\r\\n  </section>\\r\\n\\n</div>\\n\\r\\n\\r\\n        \\r\\n    \\r\\n        <div class=\"ordered-layout__list ordered-layout__list--carousel\" data-curation=\"rt-hp-poster-list-cfp\">\\n  \\n  \\r\\n  <section class=\"dynamic-poster-list\" data-qa=\"dynamic-poster-list\">\\r\\n    <div class=\"dynamic-poster-list__header-container--hide-h3\">\\r\\n      <div>\\r\\n        \\r\\n          <h2 data-qa=\"title\">Most Anticipated Movies 2023</h2>\\r\\n        \\r\\n\\r\\n        \\r\\n          <a href=\"https://editorial.rottentomatoes.com/article/most-anticipated-movies-of-2023/\" class=\"a--short\" data-track=\"showmore\">View all</a>\\r\\n        \\r\\n      </div>\\r\\n\\r\\n      \\r\\n    </div>\\r\\n    \\r\\n    \\r\\n\\r\\n    <tiles-carousel-responsive skeleton=\"panel\">\\r\\n\\r\\n      <button slot=\"scroll-left\">\\r\\n        <rt-icon slot=\"icon-arrow-left\" image icon=\"left-chevron\"></rt-icon>\\r\\n      </button>\\r\\n\\r\\n      \\r\\n        <tiles-carousel-responsive-item slot=\"tile\">\\r\\n          \\r\\n            \\r\\n            <tile-dynamic isvideo data-qa=\"tile\">\\r\\n              <img\\r\\n                slot=\"image\"\\r\\n                loading=\"lazy\"\\r\\n                src=\"https://resizing.flixster.com/TlTQh2CyPku840xaigFC6M7NtTE=/ems.cHJkLWVtcy1hc3NldHMvbW92aWVzLzYwMjkzOWJiLTZkNWUtNDFhNC1hYWJlLWU0NmMwOWQ0MTEwOS5qcGc=\"\\r\\n                alt=\"Spider-Man: Across the Spider-Verse poster\"\\r\\n              />\\r\\n              \\r\\n                <button\\r\\n                  slot=\"imageAction\"\\r\\n                  \\r\\n                  class=\"transparent unset\"\\r\\n                  data-content-type=\"movie\"\\r\\n                  data-mpx-fwsite=\"\"\\r\\n                  data-title=\"Spider-Man: Across the Spider-Verse\"\\r\\n                  data-video-id=\"\"\\r\\n                  data-video-list=\"rt-hp-poster-list-cfp\"\\r\\n                  data-track=\"poster\"\\r\\n                  data-position=\"1\"\\r\\n                  data-media-id=\"\"\\r\\n                  \\r\\n                    data-video-player-overlay-url=\"https://player.theplatform.com/p/NGweTC/pdk6_y__7B0iQTi4P/embed/select/media/XKCx6aEpXGtW\"\\r\\n                    data-video-player-overlay-media-url=\"/m/spider_man_across_the_spider_verse\"\\r\\n                  \\r\\n                  aria-label=\"Play Spider-Man: Across the Spider-Verse trailer\"\\r\\n                >\\r\\n                  <span class=\"sr-only\">Spider-Man: Across the Spider-Verse</span>\\r\\n                </button>\\r\\n                \\r\\n                <a slot=\"caption\" href=\"/m/spider_man_across_the_spider_verse\" data-track=\"scores\">\\r\\n              \\r\\n                <score-pairs\\r\\n                  audiencesentiment=\"hide\"\\r\\n                  audiencescore=\"hide\"\\r\\n                  criticssentiment=\"\"\\r\\n                  criticsscore=\"\"\\r\\n                  criticscertified=\"\"\\r\\n                >\\r\\n                </score-pairs>\\r\\n                <span class=\"p--small\">Spider-Man: Across the Spider-Verse</span>\\r\\n              \\r\\n                </a>\\r\\n              \\r\\n            </tile-dynamic>\\r\\n          \\r\\n        </tiles-carousel-responsive-item>\\r\\n      \\r\\n        <tiles-carousel-responsive-item slot=\"tile\">\\r\\n          \\r\\n            \\r\\n            <tile-dynamic isvideo data-qa=\"tile\">\\r\\n              <img\\r\\n                slot=\"image\"\\r\\n                loading=\"lazy\"\\r\\n                src=\"https://resizing.flixster.com/_0Mhf0W_vdhwlaqOaUDX6JiReKA=/ems.cHJkLWVtcy1hc3NldHMvbW92aWVzLzE0OGY2MTIxLTE1MDEtNDI5YS1hYzVlLWYyMzExYjBmZTlhMC5qcGc=\"\\r\\n                alt=\"Ant-Man and The Wasp: Quantumania poster\"\\r\\n              />\\r\\n              \\r\\n                <button\\r\\n                  slot=\"imageAction\"\\r\\n                  \\r\\n                  class=\"transparent unset\"\\r\\n                  data-content-type=\"movie\"\\r\\n                  data-mpx-fwsite=\"\"\\r\\n                  data-title=\"Ant-Man and The Wasp: Quantumania\"\\r\\n                  data-video-id=\"\"\\r\\n                  data-video-list=\"rt-hp-poster-list-cfp\"\\r\\n                  data-track=\"poster\"\\r\\n                  data-position=\"2\"\\r\\n                  data-media-id=\"\"\\r\\n                  \\r\\n                    data-video-player-overlay-url=\"https://player.theplatform.com/p/NGweTC/pdk6_y__7B0iQTi4P/embed/select/media/ro6qpgXit5X3\"\\r\\n                    data-video-player-overlay-media-url=\"/m/ant_man_and_the_wasp_quantumania\"\\r\\n                  \\r\\n                  aria-label=\"Play Ant-Man and The Wasp: Quantumania trailer\"\\r\\n                >\\r\\n                  <span class=\"sr-only\">Ant-Man and The Wasp: Quantumania</span>\\r\\n                </button>\\r\\n                \\r\\n                <a slot=\"caption\" href=\"/m/ant_man_and_the_wasp_quantumania\" data-track=\"scores\">\\r\\n              \\r\\n                <score-pairs\\r\\n                  audiencesentiment=\"hide\"\\r\\n                  audiencescore=\"hide\"\\r\\n                  criticssentiment=\"\"\\r\\n                  criticsscore=\"\"\\r\\n                  criticscertified=\"\"\\r\\n                >\\r\\n                </score-pairs>\\r\\n                <span class=\"p--small\">Ant-Man and The Wasp: Quantumania</span>\\r\\n              \\r\\n                </a>\\r\\n              \\r\\n            </tile-dynamic>\\r\\n          \\r\\n        </tiles-carousel-responsive-item>\\r\\n      \\r\\n        <tiles-carousel-responsive-item slot=\"tile\">\\r\\n          \\r\\n            \\r\\n            <tile-dynamic isvideo data-qa=\"tile\">\\r\\n              <img\\r\\n                slot=\"image\"\\r\\n                loading=\"lazy\"\\r\\n                src=\"https://resizing.flixster.com/Jv7-at8MiUsHASUiLFTwbHI3YJk=/ems.cHJkLWVtcy1hc3NldHMvbW92aWVzLzg0MGM2NjRjLWUxNDgtNDBhMy04ZDY3LTljMDU0YzhkODM2Yi5qcGc=\"\\r\\n                alt=\"The Little Mermaid poster\"\\r\\n              />\\r\\n              \\r\\n                <button\\r\\n                  slot=\"imageAction\"\\r\\n                  \\r\\n                  class=\"transparent unset\"\\r\\n                  data-content-type=\"movie\"\\r\\n                  data-mpx-fwsite=\"\"\\r\\n                  data-title=\"The Little Mermaid\"\\r\\n                  data-video-id=\"\"\\r\\n                  data-video-list=\"rt-hp-poster-list-cfp\"\\r\\n                  data-track=\"poster\"\\r\\n                  data-position=\"3\"\\r\\n                  data-media-id=\"\"\\r\\n                  \\r\\n                    data-video-player-overlay-url=\"https://player.theplatform.com/p/NGweTC/pdk6_y__7B0iQTi4P/embed/select/media/3e_Z4MN_zvlB\"\\r\\n                    data-video-player-overlay-media-url=\"/m/the_little_mermaid_2023\"\\r\\n                  \\r\\n                  aria-label=\"Play The Little Mermaid trailer\"\\r\\n                >\\r\\n                  <span class=\"sr-only\">The Little Mermaid</span>\\r\\n                </button>\\r\\n                \\r\\n                <a slot=\"caption\" href=\"/m/the_little_mermaid_2023\" data-track=\"scores\">\\r\\n              \\r\\n                <score-pairs\\r\\n                  audiencesentiment=\"hide\"\\r\\n                  audiencescore=\"hide\"\\r\\n                  criticssentiment=\"\"\\r\\n                  criticsscore=\"\"\\r\\n                  criticscertified=\"\"\\r\\n                >\\r\\n                </score-pairs>\\r\\n                <span class=\"p--small\">The Little Mermaid</span>\\r\\n              \\r\\n                </a>\\r\\n              \\r\\n            </tile-dynamic>\\r\\n          \\r\\n        </tiles-carousel-responsive-item>\\r\\n      \\r\\n        <tiles-carousel-responsive-item slot=\"tile\">\\r\\n          \\r\\n            \\r\\n            <tile-dynamic isvideo data-qa=\"tile\">\\r\\n              <img\\r\\n                slot=\"image\"\\r\\n                loading=\"lazy\"\\r\\n                src=\"https://resizing.flixster.com/ayiSi8HrUS3_i-Jkru1P2oMM58Q=/ems.cHJkLWVtcy1hc3NldHMvbW92aWVzLzhiODAwYWIyLTM1MmItNGI1ZS1iOWQzLTdjZjAzMzI1MDc2Yy5qcGc=\"\\r\\n                alt=\"John Wick: Chapter 4 poster\"\\r\\n              />\\r\\n              \\r\\n                <button\\r\\n                  slot=\"imageAction\"\\r\\n                  \\r\\n                  class=\"transparent unset\"\\r\\n                  data-content-type=\"movie\"\\r\\n                  data-mpx-fwsite=\"\"\\r\\n                  data-title=\"John Wick: Chapter 4\"\\r\\n                  data-video-id=\"\"\\r\\n                  data-video-list=\"rt-hp-poster-list-cfp\"\\r\\n                  data-track=\"poster\"\\r\\n                  data-position=\"4\"\\r\\n                  data-media-id=\"\"\\r\\n                  \\r\\n                    data-video-player-overlay-url=\"https://player.theplatform.com/p/NGweTC/pdk6_y__7B0iQTi4P/embed/select/media/UaYyrq44OAOE\"\\r\\n                    data-video-player-overlay-media-url=\"/m/john_wick_chapter_4\"\\r\\n                  \\r\\n                  aria-label=\"Play John Wick: Chapter 4 trailer\"\\r\\n                >\\r\\n                  <span class=\"sr-only\">John Wick: Chapter 4</span>\\r\\n                </button>\\r\\n                \\r\\n                <a slot=\"caption\" href=\"/m/john_wick_chapter_4\" data-track=\"scores\">\\r\\n              \\r\\n                <score-pairs\\r\\n                  audiencesentiment=\"hide\"\\r\\n                  audiencescore=\"hide\"\\r\\n                  criticssentiment=\"\"\\r\\n                  criticsscore=\"\"\\r\\n                  criticscertified=\"\"\\r\\n                >\\r\\n                </score-pairs>\\r\\n                <span class=\"p--small\">John Wick: Chapter 4</span>\\r\\n              \\r\\n                </a>\\r\\n              \\r\\n            </tile-dynamic>\\r\\n          \\r\\n        </tiles-carousel-responsive-item>\\r\\n      \\r\\n        <tiles-carousel-responsive-item slot=\"tile\">\\r\\n          \\r\\n            \\r\\n            <tile-dynamic isvideo data-qa=\"tile\">\\r\\n              <img\\r\\n                slot=\"image\"\\r\\n                loading=\"lazy\"\\r\\n                src=\"https://resizing.flixster.com/s5jpQ5Qjrm_-nj7jpxKOy_tnZlQ=/ems.cHJkLWVtcy1hc3NldHMvbW92aWVzL2E2NDEzZmIzLWIyZTEtNGNjNS1hZjg2LThjYTFmN2U2NzM2My5qcGc=\"\\r\\n                alt=\"The Super Mario Bros. Movie poster\"\\r\\n              />\\r\\n              \\r\\n                <button\\r\\n                  slot=\"imageAction\"\\r\\n                  \\r\\n                  class=\"transparent unset\"\\r\\n                  data-content-type=\"movie\"\\r\\n                  data-mpx-fwsite=\"\"\\r\\n                  data-title=\"The Super Mario Bros. Movie\"\\r\\n                  data-video-id=\"\"\\r\\n                  data-video-list=\"rt-hp-poster-list-cfp\"\\r\\n                  data-track=\"poster\"\\r\\n                  data-position=\"5\"\\r\\n                  data-media-id=\"\"\\r\\n                  \\r\\n                    data-video-player-overlay-url=\"https://player.theplatform.com/p/NGweTC/pdk6_y__7B0iQTi4P/embed/select/media/7TJafoWme0Ej\"\\r\\n                    data-video-player-overlay-media-url=\"/m/the_super_mario_bros_movie\"\\r\\n                  \\r\\n                  aria-label=\"Play The Super Mario Bros. Movie trailer\"\\r\\n                >\\r\\n                  <span class=\"sr-only\">The Super Mario Bros. Movie</span>\\r\\n                </button>\\r\\n                \\r\\n                <a slot=\"caption\" href=\"/m/the_super_mario_bros_movie\" data-track=\"scores\">\\r\\n              \\r\\n                <score-pairs\\r\\n                  audiencesentiment=\"hide\"\\r\\n                  audiencescore=\"hide\"\\r\\n                  criticssentiment=\"\"\\r\\n                  criticsscore=\"\"\\r\\n                  criticscertified=\"\"\\r\\n                >\\r\\n                </score-pairs>\\r\\n                <span class=\"p--small\">The Super Mario Bros. Movie</span>\\r\\n              \\r\\n                </a>\\r\\n              \\r\\n            </tile-dynamic>\\r\\n          \\r\\n        </tiles-carousel-responsive-item>\\r\\n      \\r\\n        <tiles-carousel-responsive-item slot=\"tile\">\\r\\n          \\r\\n            \\r\\n            <tile-dynamic isvideo data-qa=\"tile\">\\r\\n              <img\\r\\n                slot=\"image\"\\r\\n                loading=\"lazy\"\\r\\n                src=\"https://resizing.flixster.com/Z05usC09X04gL52gCfOqrtwHhT4=/ems.cHJkLWVtcy1hc3NldHMvbW92aWVzL2Y0YWM1NjY4LWY3M2ItNGM3MS04M2EzLTYxMTFjYjZmNmFiNS5qcGc=\"\\r\\n                alt=\"Creed III poster\"\\r\\n              />\\r\\n              \\r\\n                <button\\r\\n                  slot=\"imageAction\"\\r\\n                  \\r\\n                  class=\"transparent unset\"\\r\\n                  data-content-type=\"movie\"\\r\\n                  data-mpx-fwsite=\"\"\\r\\n                  data-title=\"Creed III\"\\r\\n                  data-video-id=\"\"\\r\\n                  data-video-list=\"rt-hp-poster-list-cfp\"\\r\\n                  data-track=\"poster\"\\r\\n                  data-position=\"6\"\\r\\n                  data-media-id=\"\"\\r\\n                  \\r\\n                    data-video-player-overlay-url=\"https://player.theplatform.com/p/NGweTC/pdk6_y__7B0iQTi4P/embed/select/media/183F7nYf6LUA\"\\r\\n                    data-video-player-overlay-media-url=\"/m/creed_iii\"\\r\\n                  \\r\\n                  aria-label=\"Play Creed III trailer\"\\r\\n                >\\r\\n                  <span class=\"sr-only\">Creed III</span>\\r\\n                </button>\\r\\n                \\r\\n                <a slot=\"caption\" href=\"/m/creed_iii\" data-track=\"scores\">\\r\\n              \\r\\n                <score-pairs\\r\\n                  audiencesentiment=\"hide\"\\r\\n                  audiencescore=\"hide\"\\r\\n                  criticssentiment=\"\"\\r\\n                  criticsscore=\"\"\\r\\n                  criticscertified=\"\"\\r\\n                >\\r\\n                </score-pairs>\\r\\n                <span class=\"p--small\">Creed III</span>\\r\\n              \\r\\n                </a>\\r\\n              \\r\\n            </tile-dynamic>\\r\\n          \\r\\n        </tiles-carousel-responsive-item>\\r\\n      \\r\\n        <tiles-carousel-responsive-item slot=\"tile\">\\r\\n          \\r\\n            \\r\\n            <tile-dynamic isvideo data-qa=\"tile\">\\r\\n              <img\\r\\n                slot=\"image\"\\r\\n                loading=\"lazy\"\\r\\n                src=\"https://resizing.flixster.com/dSyi0qq5pZSCRC1VH_oo02R4QRE=/ems.cHJkLWVtcy1hc3NldHMvbW92aWVzLzRhMWZhYmFhLWFmODgtNDg1MC1hMTk5LWMwOTcyMDhjY2Y1YS5qcGc=\"\\r\\n                alt=\"Magic Mike&#39;s Last Dance poster\"\\r\\n              />\\r\\n              \\r\\n                <button\\r\\n                  slot=\"imageAction\"\\r\\n                  \\r\\n                  class=\"transparent unset\"\\r\\n                  data-content-type=\"movie\"\\r\\n                  data-mpx-fwsite=\"\"\\r\\n                  data-title=\"Magic Mike&#39;s Last Dance\"\\r\\n                  data-video-id=\"\"\\r\\n                  data-video-list=\"rt-hp-poster-list-cfp\"\\r\\n                  data-track=\"poster\"\\r\\n                  data-position=\"7\"\\r\\n                  data-media-id=\"\"\\r\\n                  \\r\\n                    data-video-player-overlay-url=\"https://player.theplatform.com/p/NGweTC/pdk6_y__7B0iQTi4P/embed/select/media/otjbX3MxCCZO\"\\r\\n                    data-video-player-overlay-media-url=\"/m/magic_mikes_last_dance\"\\r\\n                  \\r\\n                  aria-label=\"Play Magic Mike&#39;s Last Dance trailer\"\\r\\n                >\\r\\n                  <span class=\"sr-only\">Magic Mike&#39;s Last Dance</span>\\r\\n                </button>\\r\\n                \\r\\n                <a slot=\"caption\" href=\"/m/magic_mikes_last_dance\" data-track=\"scores\">\\r\\n              \\r\\n                <score-pairs\\r\\n                  audiencesentiment=\"hide\"\\r\\n                  audiencescore=\"hide\"\\r\\n                  criticssentiment=\"\"\\r\\n                  criticsscore=\"\"\\r\\n                  criticscertified=\"\"\\r\\n                >\\r\\n                </score-pairs>\\r\\n                <span class=\"p--small\">Magic Mike&#39;s Last Dance</span>\\r\\n              \\r\\n                </a>\\r\\n              \\r\\n            </tile-dynamic>\\r\\n          \\r\\n        </tiles-carousel-responsive-item>\\r\\n      \\r\\n        <tiles-carousel-responsive-item slot=\"tile\">\\r\\n          \\r\\n            \\r\\n            <tile-dynamic isvideo data-qa=\"tile\">\\r\\n              <img\\r\\n                slot=\"image\"\\r\\n                loading=\"lazy\"\\r\\n                src=\"https://resizing.flixster.com/ptBiV8hGfZ454kPN9cAmLrh1-hE=/ems.cHJkLWVtcy1hc3NldHMvbW92aWVzL2EyNDkyYmE3LTYxM2UtNGNkNy05ZDU0LWNmYmNkOGY0OTAyMi5qcGc=\"\\r\\n                alt=\"Guardians of the Galaxy Vol. 3 poster\"\\r\\n              />\\r\\n              \\r\\n                <button\\r\\n                  slot=\"imageAction\"\\r\\n                  \\r\\n                  class=\"transparent unset\"\\r\\n                  data-content-type=\"movie\"\\r\\n                  data-mpx-fwsite=\"\"\\r\\n                  data-title=\"Guardians of the Galaxy Vol. 3\"\\r\\n                  data-video-id=\"\"\\r\\n                  data-video-list=\"rt-hp-poster-list-cfp\"\\r\\n                  data-track=\"poster\"\\r\\n                  data-position=\"8\"\\r\\n                  data-media-id=\"\"\\r\\n                  \\r\\n                    data-video-player-overlay-url=\"https://player.theplatform.com/p/NGweTC/pdk6_y__7B0iQTi4P/embed/select/media/rU_aHN5W6qI_\"\\r\\n                    data-video-player-overlay-media-url=\"/m/guardians_of_the_galaxy_vol_3\"\\r\\n                  \\r\\n                  aria-label=\"Play Guardians of the Galaxy Vol. 3 trailer\"\\r\\n                >\\r\\n                  <span class=\"sr-only\">Guardians of the Galaxy Vol. 3</span>\\r\\n                </button>\\r\\n                \\r\\n                <a slot=\"caption\" href=\"/m/guardians_of_the_galaxy_vol_3\" data-track=\"scores\">\\r\\n              \\r\\n                <score-pairs\\r\\n                  audiencesentiment=\"hide\"\\r\\n                  audiencescore=\"hide\"\\r\\n                  criticssentiment=\"\"\\r\\n                  criticsscore=\"\"\\r\\n                  criticscertified=\"\"\\r\\n                >\\r\\n                </score-pairs>\\r\\n                <span class=\"p--small\">Guardians of the Galaxy Vol. 3</span>\\r\\n              \\r\\n                </a>\\r\\n              \\r\\n            </tile-dynamic>\\r\\n          \\r\\n        </tiles-carousel-responsive-item>\\r\\n      \\r\\n        <tiles-carousel-responsive-item slot=\"tile\">\\r\\n          \\r\\n            <a href=\"/m/fast_x\">\\r\\n          \\r\\n            \\r\\n            <tile-dynamic  data-qa=\"tile\">\\r\\n              <img\\r\\n                slot=\"image\"\\r\\n                loading=\"lazy\"\\r\\n                src=\"https://resizing.flixster.com/tGNijXwQUjREnMH_Ncw64hHIWU4=/ems.cHJkLWVtcy1hc3NldHMvbW92aWVzLzk2NGEyNTlhLWVhMTEtNGRhNC1hOTFhLWU5YjcxN2RmZWVjNi5qcGc=\"\\r\\n                alt=\"Fast X poster\"\\r\\n              />\\r\\n              \\r\\n                <div slot=\"caption\" data-track=\"scores\">\\r\\n              \\r\\n                <score-pairs\\r\\n                  audiencesentiment=\"hide\"\\r\\n                  audiencescore=\"hide\"\\r\\n                  criticssentiment=\"\"\\r\\n                  criticsscore=\"\"\\r\\n                  criticscertified=\"\"\\r\\n                >\\r\\n                </score-pairs>\\r\\n                <span class=\"p--small\">Fast X</span>\\r\\n              \\r\\n                </div>\\r\\n              \\r\\n            </tile-dynamic>\\r\\n          \\r\\n            </a>\\r\\n          \\r\\n        </tiles-carousel-responsive-item>\\r\\n      \\r\\n\\r\\n      <button slot=\"scroll-right\">\\r\\n        <rt-icon slot=\"icon-arrow-right\" image icon=\"right-chevron\"></rt-icon>\\r\\n      </button>\\r\\n      \\r\\n    </tiles-carousel-responsive>\\r\\n  </section>\\r\\n\\n</div>\\n\\r\\n\\r\\n        \\r\\n    \\r\\n        <div class=\"ordered-layout__list ordered-layout__list--carousel\" data-curation=\"rt-hp-poster-list-streaming-service-2\">\\n  \\n  \\r\\n  <section class=\"dynamic-poster-list\" data-qa=\"dynamic-poster-list\">\\r\\n    <div class=\"dynamic-poster-list__header-container--hide-h3\">\\r\\n      <div>\\r\\n        \\r\\n          <h2 data-qa=\"title\">TV Premiere Dates 2023</h2>\\r\\n        \\r\\n\\r\\n        \\r\\n          <a href=\"https://editorial.rottentomatoes.com/article/tv-premiere-dates-2023/\" class=\"a--short\" data-track=\"showmore\">View all</a>\\r\\n        \\r\\n      </div>\\r\\n\\r\\n      \\r\\n    </div>\\r\\n    \\r\\n    \\r\\n\\r\\n    <tiles-carousel-responsive skeleton=\"panel\">\\r\\n\\r\\n      <button slot=\"scroll-left\">\\r\\n        <rt-icon slot=\"icon-arrow-left\" image icon=\"left-chevron\"></rt-icon>\\r\\n      </button>\\r\\n\\r\\n      \\r\\n        <tiles-carousel-responsive-item slot=\"tile\">\\r\\n          \\r\\n            <a href=\"/tv/the_last_of_us\">\\r\\n          \\r\\n            \\r\\n            <tile-dynamic  data-qa=\"tile\">\\r\\n              <img\\r\\n                slot=\"image\"\\r\\n                loading=\"lazy\"\\r\\n                src=\"https://resizing.flixster.com/2TwYzc7hklVW2s4fN1ypuyYWMj0=/ems.cHJkLWVtcy1hc3NldHMvdHZzZXJpZXMvYjBiZTZiODMtODQ1OC00MDY3LTkzNTItZjZlMzQ5ZGM1MzEwLmpwZw==\"\\r\\n                alt=\"The Last of Us poster\"\\r\\n              />\\r\\n              \\r\\n                <div slot=\"caption\" data-track=\"scores\">\\r\\n              \\r\\n                <score-pairs\\r\\n                  audiencesentiment=\"hide\"\\r\\n                  audiencescore=\"hide\"\\r\\n                  criticssentiment=\"positive\"\\r\\n                  criticsscore=\"97\"\\r\\n                  criticscertified=\"false\"\\r\\n                >\\r\\n                </score-pairs>\\r\\n                <span class=\"p--small\">The Last of Us</span>\\r\\n              \\r\\n                </div>\\r\\n              \\r\\n            </tile-dynamic>\\r\\n          \\r\\n            </a>\\r\\n          \\r\\n        </tiles-carousel-responsive-item>\\r\\n      \\r\\n        <tiles-carousel-responsive-item slot=\"tile\">\\r\\n          \\r\\n            <a href=\"/tv/vikings_valhalla\">\\r\\n          \\r\\n            \\r\\n            <tile-dynamic  data-qa=\"tile\">\\r\\n              <img\\r\\n                slot=\"image\"\\r\\n                loading=\"lazy\"\\r\\n                src=\"https://resizing.flixster.com/fMuGSi69iuWXuVlR-h9tXaS_SjQ=/ems.cHJkLWVtcy1hc3NldHMvdHZzZXJpZXMvOGNmNDQ5N2ItMTkzOC00Mzk1LWI4YmUtYjU3Yjk4YjczZmFlLmpwZw==\"\\r\\n                alt=\"Vikings: Valhalla poster\"\\r\\n              />\\r\\n              \\r\\n                <div slot=\"caption\" data-track=\"scores\">\\r\\n              \\r\\n                <score-pairs\\r\\n                  audiencesentiment=\"hide\"\\r\\n                  audiencescore=\"hide\"\\r\\n                  criticssentiment=\"positive\"\\r\\n                  criticsscore=\"90\"\\r\\n                  criticscertified=\"false\"\\r\\n                >\\r\\n                </score-pairs>\\r\\n                <span class=\"p--small\">Vikings: Valhalla</span>\\r\\n              \\r\\n                </div>\\r\\n              \\r\\n            </tile-dynamic>\\r\\n          \\r\\n            </a>\\r\\n          \\r\\n        </tiles-carousel-responsive-item>\\r\\n      \\r\\n        <tiles-carousel-responsive-item slot=\"tile\">\\r\\n          \\r\\n            <a href=\"/tv/that_90s_show\">\\r\\n          \\r\\n            \\r\\n            <tile-dynamic  data-qa=\"tile\">\\r\\n              <img\\r\\n                slot=\"image\"\\r\\n                loading=\"lazy\"\\r\\n                src=\"https://resizing.flixster.com/bO7gsGRqUFTVGX9G3f7VtYqwHT4=/ems.cHJkLWVtcy1hc3NldHMvdHZzZXJpZXMvODc0Y2QwYTYtMjI2NS00ZWE1LThiMGUtM2MzYzFkNGFjZWM4LmpwZw==\"\\r\\n                alt=\"That &#39;90s Show poster\"\\r\\n              />\\r\\n              \\r\\n                <div slot=\"caption\" data-track=\"scores\">\\r\\n              \\r\\n                <score-pairs\\r\\n                  audiencesentiment=\"hide\"\\r\\n                  audiencescore=\"hide\"\\r\\n                  criticssentiment=\"\"\\r\\n                  criticsscore=\"\"\\r\\n                  criticscertified=\"\"\\r\\n                >\\r\\n                </score-pairs>\\r\\n                <span class=\"p--small\">That &#39;90s Show</span>\\r\\n              \\r\\n                </div>\\r\\n              \\r\\n            </tile-dynamic>\\r\\n          \\r\\n            </a>\\r\\n          \\r\\n        </tiles-carousel-responsive-item>\\r\\n      \\r\\n        <tiles-carousel-responsive-item slot=\"tile\">\\r\\n          \\r\\n            <a href=\"/tv/velma\">\\r\\n          \\r\\n            \\r\\n            <tile-dynamic  data-qa=\"tile\">\\r\\n              <img\\r\\n                slot=\"image\"\\r\\n                loading=\"lazy\"\\r\\n                src=\"https://resizing.flixster.com/35xnoIxSBdQlI2Ai5oG0TYTkb3I=/ems.cHJkLWVtcy1hc3NldHMvdHZzZXJpZXMvNTExODY5ODAtYjI1Mi00Nzc3LWFkN2UtMDI5M2MzNTkxMTgxLmpwZw==\"\\r\\n                alt=\"Velma poster\"\\r\\n              />\\r\\n              \\r\\n                <div slot=\"caption\" data-track=\"scores\">\\r\\n              \\r\\n                <score-pairs\\r\\n                  audiencesentiment=\"hide\"\\r\\n                  audiencescore=\"hide\"\\r\\n                  criticssentiment=\"negative\"\\r\\n                  criticsscore=\"50\"\\r\\n                  criticscertified=\"false\"\\r\\n                >\\r\\n                </score-pairs>\\r\\n                <span class=\"p--small\">Velma</span>\\r\\n              \\r\\n                </div>\\r\\n              \\r\\n            </tile-dynamic>\\r\\n          \\r\\n            </a>\\r\\n          \\r\\n        </tiles-carousel-responsive-item>\\r\\n      \\r\\n        <tiles-carousel-responsive-item slot=\"tile\">\\r\\n          \\r\\n            \\r\\n            <tile-dynamic isvideo data-qa=\"tile\">\\r\\n              <img\\r\\n                slot=\"image\"\\r\\n                loading=\"lazy\"\\r\\n                src=\"https://flxt.tmsimg.com/assets/p17560244_b_v12_ad.jpg\"\\r\\n                alt=\"The Mandalorian poster\"\\r\\n              />\\r\\n              \\r\\n                <button\\r\\n                  slot=\"imageAction\"\\r\\n                  \\r\\n                  class=\"transparent unset\"\\r\\n                  data-content-type=\"tvSeries\"\\r\\n                  data-mpx-fwsite=\"\"\\r\\n                  data-title=\"The Mandalorian\"\\r\\n                  data-video-id=\"\"\\r\\n                  data-video-list=\"rt-hp-poster-list-streaming-service-2\"\\r\\n                  data-track=\"poster\"\\r\\n                  data-position=\"5\"\\r\\n                  data-media-id=\"\"\\r\\n                  \\r\\n                    data-video-player-overlay-url=\"https://player.theplatform.com/p/NGweTC/pdk6_y__7B0iQTi4P/embed/select/media/MXYyF1kuGoZn\"\\r\\n                    data-video-player-overlay-media-url=\"/tv/the_mandalorian\"\\r\\n                  \\r\\n                  aria-label=\"Play The Mandalorian trailer\"\\r\\n                >\\r\\n                  <span class=\"sr-only\">The Mandalorian</span>\\r\\n                </button>\\r\\n                \\r\\n                <a slot=\"caption\" href=\"/tv/the_mandalorian\" data-track=\"scores\">\\r\\n              \\r\\n                <score-pairs\\r\\n                  audiencesentiment=\"hide\"\\r\\n                  audiencescore=\"hide\"\\r\\n                  criticssentiment=\"positive\"\\r\\n                  criticsscore=\"93\"\\r\\n                  criticscertified=\"false\"\\r\\n                >\\r\\n                </score-pairs>\\r\\n                <span class=\"p--small\">The Mandalorian</span>\\r\\n              \\r\\n                </a>\\r\\n              \\r\\n            </tile-dynamic>\\r\\n          \\r\\n        </tiles-carousel-responsive-item>\\r\\n      \\r\\n        <tiles-carousel-responsive-item slot=\"tile\">\\r\\n          \\r\\n            <a href=\"/tv/you\">\\r\\n          \\r\\n            \\r\\n            <tile-dynamic  data-qa=\"tile\">\\r\\n              <img\\r\\n                slot=\"image\"\\r\\n                loading=\"lazy\"\\r\\n                src=\"https://resizing.flixster.com/g81COrwvWE7pqUEIVL0271ZsFT4=/ems.cHJkLWVtcy1hc3NldHMvdHZzZXJpZXMvMjVhYWZjMGMtY2I4MS00ZWE2LWE5NTEtNTVlZDRjMDE3ZGU1LmpwZw==\"\\r\\n                alt=\"You poster\"\\r\\n              />\\r\\n              \\r\\n                <div slot=\"caption\" data-track=\"scores\">\\r\\n              \\r\\n                <score-pairs\\r\\n                  audiencesentiment=\"hide\"\\r\\n                  audiencescore=\"hide\"\\r\\n                  criticssentiment=\"positive\"\\r\\n                  criticsscore=\"91\"\\r\\n                  criticscertified=\"false\"\\r\\n                >\\r\\n                </score-pairs>\\r\\n                <span class=\"p--small\">You</span>\\r\\n              \\r\\n                </div>\\r\\n              \\r\\n            </tile-dynamic>\\r\\n          \\r\\n            </a>\\r\\n          \\r\\n        </tiles-carousel-responsive-item>\\r\\n      \\r\\n        <tiles-carousel-responsive-item slot=\"tile\">\\r\\n          \\r\\n            <a href=\"/tv/bel_air\">\\r\\n          \\r\\n            \\r\\n            <tile-dynamic  data-qa=\"tile\">\\r\\n              <img\\r\\n                slot=\"image\"\\r\\n                loading=\"lazy\"\\r\\n                src=\"https://resizing.flixster.com/TtloySH1hISX4lHvX8AFu6h3XQM=/ems.cHJkLWVtcy1hc3NldHMvdHZzZXJpZXMvYmIzNzk4ZWItOWZhNi00MjQ2LWJkYjYtZTFjNTY3YTQwOGU3LmpwZw==\"\\r\\n                alt=\"Bel-Air poster\"\\r\\n              />\\r\\n              \\r\\n                <div slot=\"caption\" data-track=\"scores\">\\r\\n              \\r\\n                <score-pairs\\r\\n                  audiencesentiment=\"hide\"\\r\\n                  audiencescore=\"hide\"\\r\\n                  criticssentiment=\"positive\"\\r\\n                  criticsscore=\"65\"\\r\\n                  criticscertified=\"false\"\\r\\n                >\\r\\n                </score-pairs>\\r\\n                <span class=\"p--small\">Bel-Air</span>\\r\\n              \\r\\n                </div>\\r\\n              \\r\\n            </tile-dynamic>\\r\\n          \\r\\n            </a>\\r\\n          \\r\\n        </tiles-carousel-responsive-item>\\r\\n      \\r\\n        <tiles-carousel-responsive-item slot=\"tile\">\\r\\n          \\r\\n            <a href=\"/tv/hunters-2020\">\\r\\n          \\r\\n            \\r\\n            <tile-dynamic  data-qa=\"tile\">\\r\\n              <img\\r\\n                slot=\"image\"\\r\\n                loading=\"lazy\"\\r\\n                src=\"https://resizing.flixster.com/UsNJCo9BRiq7PdJHVszzl0ssOBI=/ems.cHJkLWVtcy1hc3NldHMvdHZzZXJpZXMvUlRUVjYzNTcyMS53ZWJw\"\\r\\n                alt=\"Hunters poster\"\\r\\n              />\\r\\n              \\r\\n                <div slot=\"caption\" data-track=\"scores\">\\r\\n              \\r\\n                <score-pairs\\r\\n                  audiencesentiment=\"hide\"\\r\\n                  audiencescore=\"hide\"\\r\\n                  criticssentiment=\"negative\"\\r\\n                  criticsscore=\"57\"\\r\\n                  criticscertified=\"false\"\\r\\n                >\\r\\n                </score-pairs>\\r\\n                <span class=\"p--small\">Hunters</span>\\r\\n              \\r\\n                </div>\\r\\n              \\r\\n            </tile-dynamic>\\r\\n          \\r\\n            </a>\\r\\n          \\r\\n        </tiles-carousel-responsive-item>\\r\\n      \\r\\n\\r\\n      <button slot=\"scroll-right\">\\r\\n        <rt-icon slot=\"icon-arrow-right\" image icon=\"right-chevron\"></rt-icon>\\r\\n      </button>\\r\\n      \\r\\n    </tiles-carousel-responsive>\\r\\n  </section>\\r\\n\\n</div>\\n\\r\\n\\r\\n        \\r\\n    \\r\\n        <div class=\"ordered-layout__list ordered-layout__list--carousel\" data-curation=\"rt-hp-poster-list-streaming-service-1\">\\n  \\n  \\r\\n  <section class=\"dynamic-poster-list\" data-qa=\"dynamic-poster-list\">\\r\\n    <div class=\"dynamic-poster-list__header-container--hide-h3\">\\r\\n      <div>\\r\\n        \\r\\n          <h2 data-qa=\"title\">Latest Certified Fresh Movies</h2>\\r\\n        \\r\\n\\r\\n        \\r\\n          <a href=\"/browse/movies_at_home/critics:certified_fresh\" class=\"a--short\" data-track=\"showmore\">View all</a>\\r\\n        \\r\\n      </div>\\r\\n\\r\\n      \\r\\n    </div>\\r\\n    \\r\\n    \\r\\n\\r\\n    <tiles-carousel-responsive skeleton=\"panel\">\\r\\n\\r\\n      <button slot=\"scroll-left\">\\r\\n        <rt-icon slot=\"icon-arrow-left\" image icon=\"left-chevron\"></rt-icon>\\r\\n      </button>\\r\\n\\r\\n      \\r\\n        <tiles-carousel-responsive-item slot=\"tile\">\\r\\n          \\r\\n            \\r\\n            <tile-dynamic isvideo data-qa=\"tile\">\\r\\n              <img\\r\\n                slot=\"image\"\\r\\n                loading=\"lazy\"\\r\\n                src=\"https://resizing.flixster.com/rPJASTXFjLpmiVTi3D6RGcq-skM=/ems.cHJkLWVtcy1hc3NldHMvbW92aWVzLzhjYjA0ODBiLTNlNmUtNDlhOS05ZWRlLThlOGQ2MmEyZjlmYS5qcGc=\"\\r\\n                alt=\"M3GAN poster\"\\r\\n              />\\r\\n              \\r\\n                <button\\r\\n                  slot=\"imageAction\"\\r\\n                  \\r\\n                  class=\"transparent unset\"\\r\\n                  data-content-type=\"movie\"\\r\\n                  data-mpx-fwsite=\"\"\\r\\n                  data-title=\"M3GAN\"\\r\\n                  data-video-id=\"\"\\r\\n                  data-video-list=\"rt-hp-poster-list-streaming-service-1\"\\r\\n                  data-track=\"poster\"\\r\\n                  data-position=\"1\"\\r\\n                  data-media-id=\"\"\\r\\n                  \\r\\n                    data-video-player-overlay-url=\"https://player.theplatform.com/p/NGweTC/pdk6_y__7B0iQTi4P/embed/select/media/ylRnxYtCODKE\"\\r\\n                    data-video-player-overlay-media-url=\"/m/m3gan\"\\r\\n                  \\r\\n                  aria-label=\"Play M3GAN trailer\"\\r\\n                >\\r\\n                  <span class=\"sr-only\">M3GAN</span>\\r\\n                </button>\\r\\n                \\r\\n                <a slot=\"caption\" href=\"/m/m3gan\" data-track=\"scores\">\\r\\n              \\r\\n                <score-pairs\\r\\n                  audiencesentiment=\"hide\"\\r\\n                  audiencescore=\"hide\"\\r\\n                  criticssentiment=\"positive\"\\r\\n                  criticsscore=\"95\"\\r\\n                  criticscertified=\"criticscertified\"\\r\\n                >\\r\\n                </score-pairs>\\r\\n                <span class=\"p--small\">M3GAN</span>\\r\\n              \\r\\n                </a>\\r\\n              \\r\\n            </tile-dynamic>\\r\\n          \\r\\n        </tiles-carousel-responsive-item>\\r\\n      \\r\\n        <tiles-carousel-responsive-item slot=\"tile\">\\r\\n          \\r\\n            <a href=\"/m/wildcat_2022\">\\r\\n          \\r\\n            \\r\\n            <tile-dynamic  data-qa=\"tile\">\\r\\n              <img\\r\\n                slot=\"image\"\\r\\n                loading=\"lazy\"\\r\\n                src=\"https://resizing.flixster.com/LdA-MSk-v6nXWBm3GNKevb6jUsA=/ems.cHJkLWVtcy1hc3NldHMvbW92aWVzLzIzZDAxNTQ3LTkyOGYtNGY0YS1iOWQzLTg1NWI3NzMzNmM0Mi5qcGc=\"\\r\\n                alt=\"Wildcat poster\"\\r\\n              />\\r\\n              \\r\\n                <div slot=\"caption\" data-track=\"scores\">\\r\\n              \\r\\n                <score-pairs\\r\\n                  audiencesentiment=\"hide\"\\r\\n                  audiencescore=\"hide\"\\r\\n                  criticssentiment=\"positive\"\\r\\n                  criticsscore=\"93\"\\r\\n                  criticscertified=\"criticscertified\"\\r\\n                >\\r\\n                </score-pairs>\\r\\n                <span class=\"p--small\">Wildcat</span>\\r\\n              \\r\\n                </div>\\r\\n              \\r\\n            </tile-dynamic>\\r\\n          \\r\\n            </a>\\r\\n          \\r\\n        </tiles-carousel-responsive-item>\\r\\n      \\r\\n        <tiles-carousel-responsive-item slot=\"tile\">\\r\\n          \\r\\n            \\r\\n            <tile-dynamic isvideo data-qa=\"tile\">\\r\\n              <img\\r\\n                slot=\"image\"\\r\\n                loading=\"lazy\"\\r\\n                src=\"https://resizing.flixster.com/8SL1M-z8tuZXLaAZoteokJmfidY=/ems.cHJkLWVtcy1hc3NldHMvbW92aWVzLzU0YWJjMTFiLTQ2MDQtNGQ2YS05YmVmLWM4NjI4MDY4ODYzNy5qcGc=\"\\r\\n                alt=\"Saint Omer poster\"\\r\\n              />\\r\\n              \\r\\n                <button\\r\\n                  slot=\"imageAction\"\\r\\n                  \\r\\n                  class=\"transparent unset\"\\r\\n                  data-content-type=\"movie\"\\r\\n                  data-mpx-fwsite=\"\"\\r\\n                  data-title=\"Saint Omer\"\\r\\n                  data-video-id=\"\"\\r\\n                  data-video-list=\"rt-hp-poster-list-streaming-service-1\"\\r\\n                  data-track=\"poster\"\\r\\n                  data-position=\"3\"\\r\\n                  data-media-id=\"\"\\r\\n                  \\r\\n                    data-video-player-overlay-url=\"https://player.theplatform.com/p/NGweTC/pdk6_y__7B0iQTi4P/embed/select/media/n4NEwuxUBJKM\"\\r\\n                    data-video-player-overlay-media-url=\"/m/saint_omer\"\\r\\n                  \\r\\n                  aria-label=\"Play Saint Omer trailer\"\\r\\n                >\\r\\n                  <span class=\"sr-only\">Saint Omer</span>\\r\\n                </button>\\r\\n                \\r\\n                <a slot=\"caption\" href=\"/m/saint_omer\" data-track=\"scores\">\\r\\n              \\r\\n                <score-pairs\\r\\n                  audiencesentiment=\"hide\"\\r\\n                  audiencescore=\"hide\"\\r\\n                  criticssentiment=\"positive\"\\r\\n                  criticsscore=\"97\"\\r\\n                  criticscertified=\"criticscertified\"\\r\\n                >\\r\\n                </score-pairs>\\r\\n                <span class=\"p--small\">Saint Omer</span>\\r\\n              \\r\\n                </a>\\r\\n              \\r\\n            </tile-dynamic>\\r\\n          \\r\\n        </tiles-carousel-responsive-item>\\r\\n      \\r\\n        <tiles-carousel-responsive-item slot=\"tile\">\\r\\n          \\r\\n            \\r\\n            <tile-dynamic isvideo data-qa=\"tile\">\\r\\n              <img\\r\\n                slot=\"image\"\\r\\n                loading=\"lazy\"\\r\\n                src=\"https://resizing.flixster.com/Stjbv8FPqSNaUrjXTVGk7_6btBk=/ems.cHJkLWVtcy1hc3NldHMvbW92aWVzLzE5NTg1MWQ0LWQ1ZGMtNGE4OC1hNTVkLWViY2YxY2YyNWUwNy5qcGc=\"\\r\\n                alt=\"Ted K poster\"\\r\\n              />\\r\\n              \\r\\n                <button\\r\\n                  slot=\"imageAction\"\\r\\n                  \\r\\n                  class=\"transparent unset\"\\r\\n                  data-content-type=\"movie\"\\r\\n                  data-mpx-fwsite=\"\"\\r\\n                  data-title=\"Ted K\"\\r\\n                  data-video-id=\"\"\\r\\n                  data-video-list=\"rt-hp-poster-list-streaming-service-1\"\\r\\n                  data-track=\"poster\"\\r\\n                  data-position=\"4\"\\r\\n                  data-media-id=\"\"\\r\\n                  \\r\\n                    data-video-player-overlay-url=\"https://player.theplatform.com/p/NGweTC/pdk6_y__7B0iQTi4P/embed/select/media/7WcgObv8EaOO\"\\r\\n                    data-video-player-overlay-media-url=\"/m/ted_k\"\\r\\n                  \\r\\n                  aria-label=\"Play Ted K trailer\"\\r\\n                >\\r\\n                  <span class=\"sr-only\">Ted K</span>\\r\\n                </button>\\r\\n                \\r\\n                <a slot=\"caption\" href=\"/m/ted_k\" data-track=\"scores\">\\r\\n              \\r\\n                <score-pairs\\r\\n                  audiencesentiment=\"hide\"\\r\\n                  audiencescore=\"hide\"\\r\\n                  criticssentiment=\"positive\"\\r\\n                  criticsscore=\"85\"\\r\\n                  criticscertified=\"criticscertified\"\\r\\n                >\\r\\n                </score-pairs>\\r\\n                <span class=\"p--small\">Ted K</span>\\r\\n              \\r\\n                </a>\\r\\n              \\r\\n            </tile-dynamic>\\r\\n          \\r\\n        </tiles-carousel-responsive-item>\\r\\n      \\r\\n        <tiles-carousel-responsive-item slot=\"tile\">\\r\\n          \\r\\n            <a href=\"/m/is_that_black_enough_for_you\">\\r\\n          \\r\\n            \\r\\n            <tile-dynamic  data-qa=\"tile\">\\r\\n              <img\\r\\n                slot=\"image\"\\r\\n                loading=\"lazy\"\\r\\n                src=\"https://resizing.flixster.com/FMOmi-6s3a-yNNpLZlZeS7UL9uo=/ems.cHJkLWVtcy1hc3NldHMvbW92aWVzLzBlM2IyNmExLTM2NzYtNGNkZi1iNjE1LTQ0MTBlZmEyZGM1ZS5qcGc=\"\\r\\n                alt=\"Is That Black Enough for You?!? poster\"\\r\\n              />\\r\\n              \\r\\n                <div slot=\"caption\" data-track=\"scores\">\\r\\n              \\r\\n                <score-pairs\\r\\n                  audiencesentiment=\"hide\"\\r\\n                  audiencescore=\"hide\"\\r\\n                  criticssentiment=\"positive\"\\r\\n                  criticsscore=\"100\"\\r\\n                  criticscertified=\"criticscertified\"\\r\\n                >\\r\\n                </score-pairs>\\r\\n                <span class=\"p--small\">Is That Black Enough for You?!?</span>\\r\\n              \\r\\n                </div>\\r\\n              \\r\\n            </tile-dynamic>\\r\\n          \\r\\n            </a>\\r\\n          \\r\\n        </tiles-carousel-responsive-item>\\r\\n      \\r\\n        <tiles-carousel-responsive-item slot=\"tile\">\\r\\n          \\r\\n            \\r\\n            <tile-dynamic isvideo data-qa=\"tile\">\\r\\n              <img\\r\\n                slot=\"image\"\\r\\n                loading=\"lazy\"\\r\\n                src=\"https://resizing.flixster.com/vtIcjOYiM-QBXQyXhTFFgQoRkDw=/ems.cHJkLWVtcy1hc3NldHMvbW92aWVzL2JmNjM3ZTc2LTk5ZmMtNGJhNy04MDAzLWI3M2IxNmExNDNkYi5qcGc=\"\\r\\n                alt=\"Puss in Boots: The Last Wish poster\"\\r\\n              />\\r\\n              \\r\\n                <button\\r\\n                  slot=\"imageAction\"\\r\\n                  \\r\\n                  class=\"transparent unset\"\\r\\n                  data-content-type=\"movie\"\\r\\n                  data-mpx-fwsite=\"\"\\r\\n                  data-title=\"Puss in Boots: The Last Wish\"\\r\\n                  data-video-id=\"\"\\r\\n                  data-video-list=\"rt-hp-poster-list-streaming-service-1\"\\r\\n                  data-track=\"poster\"\\r\\n                  data-position=\"6\"\\r\\n                  data-media-id=\"\"\\r\\n                  \\r\\n                    data-video-player-overlay-url=\"https://player.theplatform.com/p/NGweTC/pdk6_y__7B0iQTi4P/embed/select/media/G3eStXA54JGr\"\\r\\n                    data-video-player-overlay-media-url=\"/m/puss_in_boots_the_last_wish\"\\r\\n                  \\r\\n                  aria-label=\"Play Puss in Boots: The Last Wish trailer\"\\r\\n                >\\r\\n                  <span class=\"sr-only\">Puss in Boots: The Last Wish</span>\\r\\n                </button>\\r\\n                \\r\\n                <a slot=\"caption\" href=\"/m/puss_in_boots_the_last_wish\" data-track=\"scores\">\\r\\n              \\r\\n                <score-pairs\\r\\n                  audiencesentiment=\"hide\"\\r\\n                  audiencescore=\"hide\"\\r\\n                  criticssentiment=\"positive\"\\r\\n                  criticsscore=\"96\"\\r\\n                  criticscertified=\"criticscertified\"\\r\\n                >\\r\\n                </score-pairs>\\r\\n                <span class=\"p--small\">Puss in Boots: The Last Wish</span>\\r\\n              \\r\\n                </a>\\r\\n              \\r\\n            </tile-dynamic>\\r\\n          \\r\\n        </tiles-carousel-responsive-item>\\r\\n      \\r\\n        <tiles-carousel-responsive-item slot=\"tile\">\\r\\n          \\r\\n            \\r\\n            <tile-dynamic isvideo data-qa=\"tile\">\\r\\n              <img\\r\\n                slot=\"image\"\\r\\n                loading=\"lazy\"\\r\\n                src=\"https://resizing.flixster.com/gWWM2Ov0VLAuazwELZCVc9grUQI=/ems.cHJkLWVtcy1hc3NldHMvbW92aWVzLzgyMGM0ZDJiLWNmYjAtNGI3NS1hYTgzLTQ5YmU2ZjQwZWE0ZC5qcGc=\"\\r\\n                alt=\"Avatar: The Way of Water poster\"\\r\\n              />\\r\\n              \\r\\n                <button\\r\\n                  slot=\"imageAction\"\\r\\n                  \\r\\n                  class=\"transparent unset\"\\r\\n                  data-content-type=\"movie\"\\r\\n                  data-mpx-fwsite=\"\"\\r\\n                  data-title=\"Avatar: The Way of Water\"\\r\\n                  data-video-id=\"\"\\r\\n                  data-video-list=\"rt-hp-poster-list-streaming-service-1\"\\r\\n                  data-track=\"poster\"\\r\\n                  data-position=\"7\"\\r\\n                  data-media-id=\"\"\\r\\n                  \\r\\n                    data-video-player-overlay-url=\"https://player.theplatform.com/p/NGweTC/pdk6_y__7B0iQTi4P/embed/select/media/knCBWVtdpB_y\"\\r\\n                    data-video-player-overlay-media-url=\"/m/avatar_the_way_of_water\"\\r\\n                  \\r\\n                  aria-label=\"Play Avatar: The Way of Water trailer\"\\r\\n                >\\r\\n                  <span class=\"sr-only\">Avatar: The Way of Water</span>\\r\\n                </button>\\r\\n                \\r\\n                <a slot=\"caption\" href=\"/m/avatar_the_way_of_water\" data-track=\"scores\">\\r\\n              \\r\\n                <score-pairs\\r\\n                  audiencesentiment=\"hide\"\\r\\n                  audiencescore=\"hide\"\\r\\n                  criticssentiment=\"positive\"\\r\\n                  criticsscore=\"77\"\\r\\n                  criticscertified=\"criticscertified\"\\r\\n                >\\r\\n                </score-pairs>\\r\\n                <span class=\"p--small\">Avatar: The Way of Water</span>\\r\\n              \\r\\n                </a>\\r\\n              \\r\\n            </tile-dynamic>\\r\\n          \\r\\n        </tiles-carousel-responsive-item>\\r\\n      \\r\\n        <tiles-carousel-responsive-item slot=\"tile\">\\r\\n          \\r\\n            \\r\\n            <tile-dynamic isvideo data-qa=\"tile\">\\r\\n              <img\\r\\n                slot=\"image\"\\r\\n                loading=\"lazy\"\\r\\n                src=\"https://flxt.tmsimg.com/assets/p22454657_p_v8_ac.jpg\"\\r\\n                alt=\"Roald Dahl&#39;s Matilda the Musical poster\"\\r\\n              />\\r\\n              \\r\\n                <button\\r\\n                  slot=\"imageAction\"\\r\\n                  \\r\\n                  class=\"transparent unset\"\\r\\n                  data-content-type=\"movie\"\\r\\n                  data-mpx-fwsite=\"\"\\r\\n                  data-title=\"Roald Dahl&#39;s Matilda the Musical\"\\r\\n                  data-video-id=\"\"\\r\\n                  data-video-list=\"rt-hp-poster-list-streaming-service-1\"\\r\\n                  data-track=\"poster\"\\r\\n                  data-position=\"8\"\\r\\n                  data-media-id=\"\"\\r\\n                  \\r\\n                    data-video-player-overlay-url=\"https://player.theplatform.com/p/NGweTC/pdk6_y__7B0iQTi4P/embed/select/media/L1B4pf31nu_6\"\\r\\n                    data-video-player-overlay-media-url=\"/m/roald_dahls_matilda_the_musical\"\\r\\n                  \\r\\n                  aria-label=\"Play Roald Dahl&#39;s Matilda the Musical trailer\"\\r\\n                >\\r\\n                  <span class=\"sr-only\">Roald Dahl&#39;s Matilda the Musical</span>\\r\\n                </button>\\r\\n                \\r\\n                <a slot=\"caption\" href=\"/m/roald_dahls_matilda_the_musical\" data-track=\"scores\">\\r\\n              \\r\\n                <score-pairs\\r\\n                  audiencesentiment=\"hide\"\\r\\n                  audiencescore=\"hide\"\\r\\n                  criticssentiment=\"positive\"\\r\\n                  criticsscore=\"92\"\\r\\n                  criticscertified=\"criticscertified\"\\r\\n                >\\r\\n                </score-pairs>\\r\\n                <span class=\"p--small\">Roald Dahl&#39;s Matilda the Musical</span>\\r\\n              \\r\\n                </a>\\r\\n              \\r\\n            </tile-dynamic>\\r\\n          \\r\\n        </tiles-carousel-responsive-item>\\r\\n      \\r\\n        <tiles-carousel-responsive-item slot=\"tile\">\\r\\n          \\r\\n            \\r\\n            <tile-dynamic isvideo data-qa=\"tile\">\\r\\n              <img\\r\\n                slot=\"image\"\\r\\n                loading=\"lazy\"\\r\\n                src=\"https://resizing.flixster.com/9lf5T8BzzwsbvDEx7q10DiGYpZE=/ems.cHJkLWVtcy1hc3NldHMvbW92aWVzLzZkMjM2ZGE2LTg4MDEtNDZlNC1hMmU0LWExMGM1MjJiZjQwMi5qcGc=\"\\r\\n                alt=\"&quot;Sr.&quot; poster\"\\r\\n              />\\r\\n              \\r\\n                <button\\r\\n                  slot=\"imageAction\"\\r\\n                  \\r\\n                  class=\"transparent unset\"\\r\\n                  data-content-type=\"movie\"\\r\\n                  data-mpx-fwsite=\"\"\\r\\n                  data-title=\"&quot;Sr.&quot;\"\\r\\n                  data-video-id=\"\"\\r\\n                  data-video-list=\"rt-hp-poster-list-streaming-service-1\"\\r\\n                  data-track=\"poster\"\\r\\n                  data-position=\"9\"\\r\\n                  data-media-id=\"\"\\r\\n                  \\r\\n                    data-video-player-overlay-url=\"https://player.theplatform.com/p/NGweTC/pdk6_y__7B0iQTi4P/embed/select/media/BqLCZTqUB_kr\"\\r\\n                    data-video-player-overlay-media-url=\"/m/sr\"\\r\\n                  \\r\\n                  aria-label=\"Play &quot;Sr.&quot; trailer\"\\r\\n                >\\r\\n                  <span class=\"sr-only\">&quot;Sr.&quot;</span>\\r\\n                </button>\\r\\n                \\r\\n                <a slot=\"caption\" href=\"/m/sr\" data-track=\"scores\">\\r\\n              \\r\\n                <score-pairs\\r\\n                  audiencesentiment=\"hide\"\\r\\n                  audiencescore=\"hide\"\\r\\n                  criticssentiment=\"positive\"\\r\\n                  criticsscore=\"97\"\\r\\n                  criticscertified=\"criticscertified\"\\r\\n                >\\r\\n                </score-pairs>\\r\\n                <span class=\"p--small\">&quot;Sr.&quot;</span>\\r\\n              \\r\\n                </a>\\r\\n              \\r\\n            </tile-dynamic>\\r\\n          \\r\\n        </tiles-carousel-responsive-item>\\r\\n      \\r\\n        <tiles-carousel-responsive-item slot=\"tile\">\\r\\n          \\r\\n            \\r\\n            <tile-dynamic isvideo data-qa=\"tile\">\\r\\n              <img\\r\\n                slot=\"image\"\\r\\n                loading=\"lazy\"\\r\\n                src=\"https://resizing.flixster.com/bewkINYSfH_9LYdcxDC2LNLEbQA=/ems.cHJkLWVtcy1hc3NldHMvbW92aWVzL2I3NTc0OTI3LTgzNDQtNGE1MS1iMDMzLTk5OWQ2MjU0NmUzNC5qcGc=\"\\r\\n                alt=\"Devotion poster\"\\r\\n              />\\r\\n              \\r\\n                <button\\r\\n                  slot=\"imageAction\"\\r\\n                  \\r\\n                  class=\"transparent unset\"\\r\\n                  data-content-type=\"movie\"\\r\\n                  data-mpx-fwsite=\"\"\\r\\n                  data-title=\"Devotion\"\\r\\n                  data-video-id=\"\"\\r\\n                  data-video-list=\"rt-hp-poster-list-streaming-service-1\"\\r\\n                  data-track=\"poster\"\\r\\n                  data-position=\"10\"\\r\\n                  data-media-id=\"\"\\r\\n                  \\r\\n                    data-video-player-overlay-url=\"https://player.theplatform.com/p/NGweTC/pdk6_y__7B0iQTi4P/embed/select/media/uMGYgU_G1AM4\"\\r\\n                    data-video-player-overlay-media-url=\"/m/devotion_2022\"\\r\\n                  \\r\\n                  aria-label=\"Play Devotion trailer\"\\r\\n                >\\r\\n                  <span class=\"sr-only\">Devotion</span>\\r\\n                </button>\\r\\n                \\r\\n                <a slot=\"caption\" href=\"/m/devotion_2022\" data-track=\"scores\">\\r\\n              \\r\\n                <score-pairs\\r\\n                  audiencesentiment=\"hide\"\\r\\n                  audiencescore=\"hide\"\\r\\n                  criticssentiment=\"positive\"\\r\\n                  criticsscore=\"81\"\\r\\n                  criticscertified=\"criticscertified\"\\r\\n                >\\r\\n                </score-pairs>\\r\\n                <span class=\"p--small\">Devotion</span>\\r\\n              \\r\\n                </a>\\r\\n              \\r\\n            </tile-dynamic>\\r\\n          \\r\\n        </tiles-carousel-responsive-item>\\r\\n      \\r\\n        <tiles-carousel-responsive-item slot=\"tile\">\\r\\n          \\r\\n            \\r\\n            <tile-dynamic isvideo data-qa=\"tile\">\\r\\n              <img\\r\\n                slot=\"image\"\\r\\n                loading=\"lazy\"\\r\\n                src=\"https://resizing.flixster.com/-HjV1R6DIW6dn2QZ5X7vaCGboxI=/ems.cHJkLWVtcy1hc3NldHMvbW92aWVzLzZmOWFkZWNhLWUxOTktNGM3ZS04NzM1LWI1ZDI1OWJmN2MxNS5qcGc=\"\\r\\n                alt=\"You Resemble Me poster\"\\r\\n              />\\r\\n              \\r\\n                <button\\r\\n                  slot=\"imageAction\"\\r\\n                  \\r\\n                  class=\"transparent unset\"\\r\\n                  data-content-type=\"movie\"\\r\\n                  data-mpx-fwsite=\"\"\\r\\n                  data-title=\"You Resemble Me\"\\r\\n                  data-video-id=\"\"\\r\\n                  data-video-list=\"rt-hp-poster-list-streaming-service-1\"\\r\\n                  data-track=\"poster\"\\r\\n                  data-position=\"11\"\\r\\n                  data-media-id=\"\"\\r\\n                  \\r\\n                    data-video-player-overlay-url=\"https://player.theplatform.com/p/NGweTC/pdk6_y__7B0iQTi4P/embed/select/media/JHA9WGm_FVZU\"\\r\\n                    data-video-player-overlay-media-url=\"/m/you_resemble_me\"\\r\\n                  \\r\\n                  aria-label=\"Play You Resemble Me trailer\"\\r\\n                >\\r\\n                  <span class=\"sr-only\">You Resemble Me</span>\\r\\n                </button>\\r\\n                \\r\\n                <a slot=\"caption\" href=\"/m/you_resemble_me\" data-track=\"scores\">\\r\\n              \\r\\n                <score-pairs\\r\\n                  audiencesentiment=\"hide\"\\r\\n                  audiencescore=\"hide\"\\r\\n                  criticssentiment=\"positive\"\\r\\n                  criticsscore=\"93\"\\r\\n                  criticscertified=\"criticscertified\"\\r\\n                >\\r\\n                </score-pairs>\\r\\n                <span class=\"p--small\">You Resemble Me</span>\\r\\n              \\r\\n                </a>\\r\\n              \\r\\n            </tile-dynamic>\\r\\n          \\r\\n        </tiles-carousel-responsive-item>\\r\\n      \\r\\n        <tiles-carousel-responsive-item slot=\"tile\">\\r\\n          \\r\\n            \\r\\n            <tile-dynamic isvideo data-qa=\"tile\">\\r\\n              <img\\r\\n                slot=\"image\"\\r\\n                loading=\"lazy\"\\r\\n                src=\"https://resizing.flixster.com/YK7EnYmnlr7njPaqZ_x-mdAI86A=/ems.cHJkLWVtcy1hc3NldHMvbW92aWVzL2FmZDQxZTlhLTYyN2ItNDc5ZS04NjEzLWU2NmY3Y2JkNTkwMi5qcGc=\"\\r\\n                alt=\"Women Talking poster\"\\r\\n              />\\r\\n              \\r\\n                <button\\r\\n                  slot=\"imageAction\"\\r\\n                  \\r\\n                  class=\"transparent unset\"\\r\\n                  data-content-type=\"movie\"\\r\\n                  data-mpx-fwsite=\"\"\\r\\n                  data-title=\"Women Talking\"\\r\\n                  data-video-id=\"\"\\r\\n                  data-video-list=\"rt-hp-poster-list-streaming-service-1\"\\r\\n                  data-track=\"poster\"\\r\\n                  data-position=\"12\"\\r\\n                  data-media-id=\"\"\\r\\n                  \\r\\n                    data-video-player-overlay-url=\"https://player.theplatform.com/p/NGweTC/pdk6_y__7B0iQTi4P/embed/select/media/1OdupGe0FRoh\"\\r\\n                    data-video-player-overlay-media-url=\"/m/women_talking\"\\r\\n                  \\r\\n                  aria-label=\"Play Women Talking trailer\"\\r\\n                >\\r\\n                  <span class=\"sr-only\">Women Talking</span>\\r\\n                </button>\\r\\n                \\r\\n                <a slot=\"caption\" href=\"/m/women_talking\" data-track=\"scores\">\\r\\n              \\r\\n                <score-pairs\\r\\n                  audiencesentiment=\"hide\"\\r\\n                  audiencescore=\"hide\"\\r\\n                  criticssentiment=\"positive\"\\r\\n                  criticsscore=\"90\"\\r\\n                  criticscertified=\"criticscertified\"\\r\\n                >\\r\\n                </score-pairs>\\r\\n                <span class=\"p--small\">Women Talking</span>\\r\\n              \\r\\n                </a>\\r\\n              \\r\\n            </tile-dynamic>\\r\\n          \\r\\n        </tiles-carousel-responsive-item>\\r\\n      \\r\\n        <tiles-carousel-responsive-item slot=\"tile\">\\r\\n          \\r\\n            \\r\\n            <tile-dynamic isvideo data-qa=\"tile\">\\r\\n              <img\\r\\n                slot=\"image\"\\r\\n                loading=\"lazy\"\\r\\n                src=\"https://resizing.flixster.com/uNtJQj5P_ORimbS6jRGXy2VSGZg=/ems.cHJkLWVtcy1hc3NldHMvbW92aWVzL2JlNGYzOWI0LWQ3ZjctNGRlMC1hNzI4LTI5NDk0Y2MyNzRiOS5qcGc=\"\\r\\n                alt=\"One Fine Morning poster\"\\r\\n              />\\r\\n              \\r\\n                <button\\r\\n                  slot=\"imageAction\"\\r\\n                  \\r\\n                  class=\"transparent unset\"\\r\\n                  data-content-type=\"movie\"\\r\\n                  data-mpx-fwsite=\"\"\\r\\n                  data-title=\"One Fine Morning\"\\r\\n                  data-video-id=\"\"\\r\\n                  data-video-list=\"rt-hp-poster-list-streaming-service-1\"\\r\\n                  data-track=\"poster\"\\r\\n                  data-position=\"13\"\\r\\n                  data-media-id=\"\"\\r\\n                  \\r\\n                    data-video-player-overlay-url=\"https://player.theplatform.com/p/NGweTC/pdk6_y__7B0iQTi4P/embed/select/media/nQoZIJu41oq1\"\\r\\n                    data-video-player-overlay-media-url=\"/m/one_fine_morning_2022\"\\r\\n                  \\r\\n                  aria-label=\"Play One Fine Morning trailer\"\\r\\n                >\\r\\n                  <span class=\"sr-only\">One Fine Morning</span>\\r\\n                </button>\\r\\n                \\r\\n                <a slot=\"caption\" href=\"/m/one_fine_morning_2022\" data-track=\"scores\">\\r\\n              \\r\\n                <score-pairs\\r\\n                  audiencesentiment=\"hide\"\\r\\n                  audiencescore=\"hide\"\\r\\n                  criticssentiment=\"positive\"\\r\\n                  criticsscore=\"88\"\\r\\n                  criticscertified=\"criticscertified\"\\r\\n                >\\r\\n                </score-pairs>\\r\\n                <span class=\"p--small\">One Fine Morning</span>\\r\\n              \\r\\n                </a>\\r\\n              \\r\\n            </tile-dynamic>\\r\\n          \\r\\n        </tiles-carousel-responsive-item>\\r\\n      \\r\\n        <tiles-carousel-responsive-item slot=\"tile\">\\r\\n          \\r\\n            \\r\\n            <tile-dynamic isvideo data-qa=\"tile\">\\r\\n              <img\\r\\n                slot=\"image\"\\r\\n                loading=\"lazy\"\\r\\n                src=\"https://resizing.flixster.com/M34yKDaJFaEss3V9A0qibNdgcRQ=/ems.cHJkLWVtcy1hc3NldHMvbW92aWVzL2MzMDVlYmZmLTlmNDUtNDU2Yy1iNmQ5LTYxMWFiNDMxNDc2Mi5qcGc=\"\\r\\n                alt=\"Living poster\"\\r\\n              />\\r\\n              \\r\\n                <button\\r\\n                  slot=\"imageAction\"\\r\\n                  \\r\\n                  class=\"transparent unset\"\\r\\n                  data-content-type=\"movie\"\\r\\n                  data-mpx-fwsite=\"\"\\r\\n                  data-title=\"Living\"\\r\\n                  data-video-id=\"\"\\r\\n                  data-video-list=\"rt-hp-poster-list-streaming-service-1\"\\r\\n                  data-track=\"poster\"\\r\\n                  data-position=\"14\"\\r\\n                  data-media-id=\"\"\\r\\n                  \\r\\n                    data-video-player-overlay-url=\"https://player.theplatform.com/p/NGweTC/pdk6_y__7B0iQTi4P/embed/select/media/42DyQ1NlQ0kA\"\\r\\n                    data-video-player-overlay-media-url=\"/m/living_2022\"\\r\\n                  \\r\\n                  aria-label=\"Play Living trailer\"\\r\\n                >\\r\\n                  <span class=\"sr-only\">Living</span>\\r\\n                </button>\\r\\n                \\r\\n                <a slot=\"caption\" href=\"/m/living_2022\" data-track=\"scores\">\\r\\n              \\r\\n                <score-pairs\\r\\n                  audiencesentiment=\"hide\"\\r\\n                  audiencescore=\"hide\"\\r\\n                  criticssentiment=\"positive\"\\r\\n                  criticsscore=\"94\"\\r\\n                  criticscertified=\"criticscertified\"\\r\\n                >\\r\\n                </score-pairs>\\r\\n                <span class=\"p--small\">Living</span>\\r\\n              \\r\\n                </a>\\r\\n              \\r\\n            </tile-dynamic>\\r\\n          \\r\\n        </tiles-carousel-responsive-item>\\r\\n      \\r\\n        <tiles-carousel-responsive-item slot=\"tile\">\\r\\n          \\r\\n            \\r\\n            <tile-dynamic isvideo data-qa=\"tile\">\\r\\n              <img\\r\\n                slot=\"image\"\\r\\n                loading=\"lazy\"\\r\\n                src=\"https://resizing.flixster.com/CvT-9DjQQbvT5RG8Sccdd6qK7vw=/ems.cHJkLWVtcy1hc3NldHMvbW92aWVzL2U5NjljYzNkLTJmZjAtNGZmZi1hMGU4LTkyOTZhYWRlZjUyYS5qcGc=\"\\r\\n                alt=\"The Inspection poster\"\\r\\n              />\\r\\n              \\r\\n                <button\\r\\n                  slot=\"imageAction\"\\r\\n                  \\r\\n                  class=\"transparent unset\"\\r\\n                  data-content-type=\"movie\"\\r\\n                  data-mpx-fwsite=\"\"\\r\\n                  data-title=\"The Inspection\"\\r\\n                  data-video-id=\"\"\\r\\n                  data-video-list=\"rt-hp-poster-list-streaming-service-1\"\\r\\n                  data-track=\"poster\"\\r\\n                  data-position=\"15\"\\r\\n                  data-media-id=\"\"\\r\\n                  \\r\\n                    data-video-player-overlay-url=\"https://player.theplatform.com/p/NGweTC/pdk6_y__7B0iQTi4P/embed/select/media/jEY4WiAQjogI\"\\r\\n                    data-video-player-overlay-media-url=\"/m/the_inspection\"\\r\\n                  \\r\\n                  aria-label=\"Play The Inspection trailer\"\\r\\n                >\\r\\n                  <span class=\"sr-only\">The Inspection</span>\\r\\n                </button>\\r\\n                \\r\\n                <a slot=\"caption\" href=\"/m/the_inspection\" data-track=\"scores\">\\r\\n              \\r\\n                <score-pairs\\r\\n                  audiencesentiment=\"hide\"\\r\\n                  audiencescore=\"hide\"\\r\\n                  criticssentiment=\"positive\"\\r\\n                  criticsscore=\"89\"\\r\\n                  criticscertified=\"criticscertified\"\\r\\n                >\\r\\n                </score-pairs>\\r\\n                <span class=\"p--small\">The Inspection</span>\\r\\n              \\r\\n                </a>\\r\\n              \\r\\n            </tile-dynamic>\\r\\n          \\r\\n        </tiles-carousel-responsive-item>\\r\\n      \\r\\n        <tiles-carousel-responsive-item slot=\"tile\">\\r\\n          \\r\\n            \\r\\n            <tile-dynamic isvideo data-qa=\"tile\">\\r\\n              <img\\r\\n                slot=\"image\"\\r\\n                loading=\"lazy\"\\r\\n                src=\"https://resizing.flixster.com/yyxVyKHQxrk4Xvdpo9kuZ7-T3Ls=/ems.cHJkLWVtcy1hc3NldHMvbW92aWVzL2NmOTkzYjhkLWI1YjItNGMzMS04NzA5LWFmZDg1MDBkYTU3ZC5qcGc=\"\\r\\n                alt=\"Corsage poster\"\\r\\n              />\\r\\n              \\r\\n                <button\\r\\n                  slot=\"imageAction\"\\r\\n                  \\r\\n                  class=\"transparent unset\"\\r\\n                  data-content-type=\"movie\"\\r\\n                  data-mpx-fwsite=\"\"\\r\\n                  data-title=\"Corsage\"\\r\\n                  data-video-id=\"\"\\r\\n                  data-video-list=\"rt-hp-poster-list-streaming-service-1\"\\r\\n                  data-track=\"poster\"\\r\\n                  data-position=\"16\"\\r\\n                  data-media-id=\"\"\\r\\n                  \\r\\n                    data-video-player-overlay-url=\"https://player.theplatform.com/p/NGweTC/pdk6_y__7B0iQTi4P/embed/select/media/FaSyQJWOV8ar\"\\r\\n                    data-video-player-overlay-media-url=\"/m/corsage\"\\r\\n                  \\r\\n                  aria-label=\"Play Corsage trailer\"\\r\\n                >\\r\\n                  <span class=\"sr-only\">Corsage</span>\\r\\n                </button>\\r\\n                \\r\\n                <a slot=\"caption\" href=\"/m/corsage\" data-track=\"scores\">\\r\\n              \\r\\n                <score-pairs\\r\\n                  audiencesentiment=\"hide\"\\r\\n                  audiencescore=\"hide\"\\r\\n                  criticssentiment=\"positive\"\\r\\n                  criticsscore=\"85\"\\r\\n                  criticscertified=\"criticscertified\"\\r\\n                >\\r\\n                </score-pairs>\\r\\n                <span class=\"p--small\">Corsage</span>\\r\\n              \\r\\n                </a>\\r\\n              \\r\\n            </tile-dynamic>\\r\\n          \\r\\n        </tiles-carousel-responsive-item>\\r\\n      \\r\\n        <tiles-carousel-responsive-item slot=\"tile\">\\r\\n          \\r\\n            \\r\\n            <tile-dynamic isvideo data-qa=\"tile\">\\r\\n              <img\\r\\n                slot=\"image\"\\r\\n                loading=\"lazy\"\\r\\n                src=\"https://flxt.tmsimg.com/assets/p22885074_p_v10_ab.jpg\"\\r\\n                alt=\"Lady Chatterley&#39;s Lover poster\"\\r\\n              />\\r\\n              \\r\\n                <button\\r\\n                  slot=\"imageAction\"\\r\\n                  \\r\\n                  class=\"transparent unset\"\\r\\n                  data-content-type=\"movie\"\\r\\n                  data-mpx-fwsite=\"\"\\r\\n                  data-title=\"Lady Chatterley&#39;s Lover\"\\r\\n                  data-video-id=\"\"\\r\\n                  data-video-list=\"rt-hp-poster-list-streaming-service-1\"\\r\\n                  data-track=\"poster\"\\r\\n                  data-position=\"17\"\\r\\n                  data-media-id=\"\"\\r\\n                  \\r\\n                    data-video-player-overlay-url=\"https://player.theplatform.com/p/NGweTC/pdk6_y__7B0iQTi4P/embed/select/media/w9DPOY_il4AE\"\\r\\n                    data-video-player-overlay-media-url=\"/m/lady_chatterleys_lover_2022\"\\r\\n                  \\r\\n                  aria-label=\"Play Lady Chatterley&#39;s Lover trailer\"\\r\\n                >\\r\\n                  <span class=\"sr-only\">Lady Chatterley&#39;s Lover</span>\\r\\n                </button>\\r\\n                \\r\\n                <a slot=\"caption\" href=\"/m/lady_chatterleys_lover_2022\" data-track=\"scores\">\\r\\n              \\r\\n                <score-pairs\\r\\n                  audiencesentiment=\"hide\"\\r\\n                  audiencescore=\"hide\"\\r\\n                  criticssentiment=\"positive\"\\r\\n                  criticsscore=\"87\"\\r\\n                  criticscertified=\"criticscertified\"\\r\\n                >\\r\\n                </score-pairs>\\r\\n                <span class=\"p--small\">Lady Chatterley&#39;s Lover</span>\\r\\n              \\r\\n                </a>\\r\\n              \\r\\n            </tile-dynamic>\\r\\n          \\r\\n        </tiles-carousel-responsive-item>\\r\\n      \\r\\n        <tiles-carousel-responsive-item slot=\"tile\">\\r\\n          \\r\\n            \\r\\n            <tile-dynamic isvideo data-qa=\"tile\">\\r\\n              <img\\r\\n                slot=\"image\"\\r\\n                loading=\"lazy\"\\r\\n                src=\"https://resizing.flixster.com/3QJCsYbQ63aLiz5zNEY2nAyLV4I=/ems.cHJkLWVtcy1hc3NldHMvbW92aWVzLzIzMzI2NjRiLWMyMTEtNDI4NC04NzliLWEzZGFiMjNjN2Q2ZS5qcGc=\"\\r\\n                alt=\"A Christmas Story Christmas poster\"\\r\\n              />\\r\\n              \\r\\n                <button\\r\\n                  slot=\"imageAction\"\\r\\n                  \\r\\n                  class=\"transparent unset\"\\r\\n                  data-content-type=\"movie\"\\r\\n                  data-mpx-fwsite=\"\"\\r\\n                  data-title=\"A Christmas Story Christmas\"\\r\\n                  data-video-id=\"\"\\r\\n                  data-video-list=\"rt-hp-poster-list-streaming-service-1\"\\r\\n                  data-track=\"poster\"\\r\\n                  data-position=\"18\"\\r\\n                  data-media-id=\"\"\\r\\n                  \\r\\n                    data-video-player-overlay-url=\"https://player.theplatform.com/p/NGweTC/pdk6_y__7B0iQTi4P/embed/select/media/_7NjlBW0DyOh\"\\r\\n                    data-video-player-overlay-media-url=\"/m/a_christmas_story_christmas\"\\r\\n                  \\r\\n                  aria-label=\"Play A Christmas Story Christmas trailer\"\\r\\n                >\\r\\n                  <span class=\"sr-only\">A Christmas Story Christmas</span>\\r\\n                </button>\\r\\n                \\r\\n                <a slot=\"caption\" href=\"/m/a_christmas_story_christmas\" data-track=\"scores\">\\r\\n              \\r\\n                <score-pairs\\r\\n                  audiencesentiment=\"hide\"\\r\\n                  audiencescore=\"hide\"\\r\\n                  criticssentiment=\"positive\"\\r\\n                  criticsscore=\"80\"\\r\\n                  criticscertified=\"criticscertified\"\\r\\n                >\\r\\n                </score-pairs>\\r\\n                <span class=\"p--small\">A Christmas Story Christmas</span>\\r\\n              \\r\\n                </a>\\r\\n              \\r\\n            </tile-dynamic>\\r\\n          \\r\\n        </tiles-carousel-responsive-item>\\r\\n      \\r\\n        <tiles-carousel-responsive-item slot=\"tile\">\\r\\n          \\r\\n            \\r\\n            <tile-dynamic isvideo data-qa=\"tile\">\\r\\n              <img\\r\\n                slot=\"image\"\\r\\n                loading=\"lazy\"\\r\\n                src=\"https://resizing.flixster.com/368B8C1Y11XaP__jg3rlAassSpc=/ems.cHJkLWVtcy1hc3NldHMvbW92aWVzL2M5ZDY5ZWI3LWYzMTktNDhjOS05MDQ0LWNjODBiNmUyOTNhOC5qcGc=\"\\r\\n                alt=\"The Eternal Daughter poster\"\\r\\n              />\\r\\n              \\r\\n                <button\\r\\n                  slot=\"imageAction\"\\r\\n                  \\r\\n                  class=\"transparent unset\"\\r\\n                  data-content-type=\"movie\"\\r\\n                  data-mpx-fwsite=\"\"\\r\\n                  data-title=\"The Eternal Daughter\"\\r\\n                  data-video-id=\"\"\\r\\n                  data-video-list=\"rt-hp-poster-list-streaming-service-1\"\\r\\n                  data-track=\"poster\"\\r\\n                  data-position=\"19\"\\r\\n                  data-media-id=\"\"\\r\\n                  \\r\\n                    data-video-player-overlay-url=\"https://player.theplatform.com/p/NGweTC/pdk6_y__7B0iQTi4P/embed/select/media/we2oYEMPe_5W\"\\r\\n                    data-video-player-overlay-media-url=\"/m/the_eternal_daughter\"\\r\\n                  \\r\\n                  aria-label=\"Play The Eternal Daughter trailer\"\\r\\n                >\\r\\n                  <span class=\"sr-only\">The Eternal Daughter</span>\\r\\n                </button>\\r\\n                \\r\\n                <a slot=\"caption\" href=\"/m/the_eternal_daughter\" data-track=\"scores\">\\r\\n              \\r\\n                <score-pairs\\r\\n                  audiencesentiment=\"hide\"\\r\\n                  audiencescore=\"hide\"\\r\\n                  criticssentiment=\"positive\"\\r\\n                  criticsscore=\"95\"\\r\\n                  criticscertified=\"criticscertified\"\\r\\n                >\\r\\n                </score-pairs>\\r\\n                <span class=\"p--small\">The Eternal Daughter</span>\\r\\n              \\r\\n                </a>\\r\\n              \\r\\n            </tile-dynamic>\\r\\n          \\r\\n        </tiles-carousel-responsive-item>\\r\\n      \\r\\n        <tiles-carousel-responsive-item slot=\"tile\">\\r\\n          \\r\\n            \\r\\n            <tile-dynamic isvideo data-qa=\"tile\">\\r\\n              <img\\r\\n                slot=\"image\"\\r\\n                loading=\"lazy\"\\r\\n                src=\"https://resizing.flixster.com/oUBxvoxvFBE_kqBF26yH2Yh3s6w=/ems.cHJkLWVtcy1hc3NldHMvbW92aWVzLzQ0YTJlZmQxLTg5MDktNDlhNi04MDlhLWE5NmU1NmFiN2U4Ni5qcGc=\"\\r\\n                alt=\"No Bears poster\"\\r\\n              />\\r\\n              \\r\\n                <button\\r\\n                  slot=\"imageAction\"\\r\\n                  \\r\\n                  class=\"transparent unset\"\\r\\n                  data-content-type=\"movie\"\\r\\n                  data-mpx-fwsite=\"\"\\r\\n                  data-title=\"No Bears\"\\r\\n                  data-video-id=\"\"\\r\\n                  data-video-list=\"rt-hp-poster-list-streaming-service-1\"\\r\\n                  data-track=\"poster\"\\r\\n                  data-position=\"20\"\\r\\n                  data-media-id=\"\"\\r\\n                  \\r\\n                    data-video-player-overlay-url=\"https://player.theplatform.com/p/NGweTC/pdk6_y__7B0iQTi4P/embed/select/media/n6V5qLYNT4NK\"\\r\\n                    data-video-player-overlay-media-url=\"/m/no_bears\"\\r\\n                  \\r\\n                  aria-label=\"Play No Bears trailer\"\\r\\n                >\\r\\n                  <span class=\"sr-only\">No Bears</span>\\r\\n                </button>\\r\\n                \\r\\n                <a slot=\"caption\" href=\"/m/no_bears\" data-track=\"scores\">\\r\\n              \\r\\n                <score-pairs\\r\\n                  audiencesentiment=\"hide\"\\r\\n                  audiencescore=\"hide\"\\r\\n                  criticssentiment=\"positive\"\\r\\n                  criticsscore=\"100\"\\r\\n                  criticscertified=\"criticscertified\"\\r\\n                >\\r\\n                </score-pairs>\\r\\n                <span class=\"p--small\">No Bears</span>\\r\\n              \\r\\n                </a>\\r\\n              \\r\\n            </tile-dynamic>\\r\\n          \\r\\n        </tiles-carousel-responsive-item>\\r\\n      \\r\\n\\r\\n      <button slot=\"scroll-right\">\\r\\n        <rt-icon slot=\"icon-arrow-right\" image icon=\"right-chevron\"></rt-icon>\\r\\n      </button>\\r\\n      \\r\\n    </tiles-carousel-responsive>\\r\\n  </section>\\r\\n\\n</div>\\n\\r\\n\\r\\n        \\r\\n    \\r\\n        <div class=\"ordered-layout__list ordered-layout__list--carousel\" data-curation=\"rt-hp-poster-list-streaming-service-4\">\\n  \\n  \\r\\n  <section class=\"dynamic-poster-list\" data-qa=\"dynamic-poster-list\">\\r\\n    <div class=\"dynamic-poster-list__header-container--hide-h3\">\\r\\n      <div>\\r\\n        \\r\\n          <h2 data-qa=\"title\">GOLDEN GLOBE WINNERS 2023</h2>\\r\\n        \\r\\n\\r\\n        \\r\\n          <a href=\"https://editorial.rottentomatoes.com/article/2023-golden-globe-winners/\" class=\"a--short\" data-track=\"showmore\">View all winners</a>\\r\\n        \\r\\n      </div>\\r\\n\\r\\n      \\r\\n    </div>\\r\\n    \\r\\n    \\r\\n\\r\\n    <tiles-carousel-responsive skeleton=\"panel\">\\r\\n\\r\\n      <button slot=\"scroll-left\">\\r\\n        <rt-icon slot=\"icon-arrow-left\" image icon=\"left-chevron\"></rt-icon>\\r\\n      </button>\\r\\n\\r\\n      \\r\\n        <tiles-carousel-responsive-item slot=\"tile\">\\r\\n          \\r\\n            \\r\\n            <tile-dynamic isvideo data-qa=\"tile\">\\r\\n              <img\\r\\n                slot=\"image\"\\r\\n                loading=\"lazy\"\\r\\n                src=\"https://resizing.flixster.com/sHWlKXB2LojbyFEGXuLICWYopdI=/ems.cHJkLWVtcy1hc3NldHMvbW92aWVzLzA3Y2Y3MTk3LWZkMWUtNGNjNS04YzY0LWI0YjNlNDNmYTRhNC5qcGc=\"\\r\\n                alt=\"The Fabelmans poster\"\\r\\n              />\\r\\n              \\r\\n                <button\\r\\n                  slot=\"imageAction\"\\r\\n                  \\r\\n                  class=\"transparent unset\"\\r\\n                  data-content-type=\"movie\"\\r\\n                  data-mpx-fwsite=\"\"\\r\\n                  data-title=\"The Fabelmans\"\\r\\n                  data-video-id=\"\"\\r\\n                  data-video-list=\"rt-hp-poster-list-streaming-service-4\"\\r\\n                  data-track=\"poster\"\\r\\n                  data-position=\"1\"\\r\\n                  data-media-id=\"\"\\r\\n                  \\r\\n                    data-video-player-overlay-url=\"https://player.theplatform.com/p/NGweTC/pdk6_y__7B0iQTi4P/embed/select/media/L_BptakH3bM_\"\\r\\n                    data-video-player-overlay-media-url=\"/m/the_fabelmans\"\\r\\n                  \\r\\n                  aria-label=\"Play The Fabelmans trailer\"\\r\\n                >\\r\\n                  <span class=\"sr-only\">The Fabelmans</span>\\r\\n                </button>\\r\\n                \\r\\n                <a slot=\"caption\" href=\"/m/the_fabelmans\" data-track=\"scores\">\\r\\n              \\r\\n                <score-pairs\\r\\n                  audiencesentiment=\"hide\"\\r\\n                  audiencescore=\"hide\"\\r\\n                  criticssentiment=\"positive\"\\r\\n                  criticsscore=\"92\"\\r\\n                  criticscertified=\"criticscertified\"\\r\\n                >\\r\\n                </score-pairs>\\r\\n                <span class=\"p--small\">The Fabelmans</span>\\r\\n              \\r\\n                </a>\\r\\n              \\r\\n            </tile-dynamic>\\r\\n          \\r\\n        </tiles-carousel-responsive-item>\\r\\n      \\r\\n        <tiles-carousel-responsive-item slot=\"tile\">\\r\\n          \\r\\n            \\r\\n            <tile-dynamic isvideo data-qa=\"tile\">\\r\\n              <img\\r\\n                slot=\"image\"\\r\\n                loading=\"lazy\"\\r\\n                src=\"https://resizing.flixster.com/SqYohHz5ela5G1qTZ8aKYunK2Oo=/ems.cHJkLWVtcy1hc3NldHMvbW92aWVzLzc4ZjI3ZDBiLTkwMDktNDVkZC1hZmI5LTJiNDdjNWRmZDVjOC5qcGc=\"\\r\\n                alt=\"The Banshees of Inisherin poster\"\\r\\n              />\\r\\n              \\r\\n                <button\\r\\n                  slot=\"imageAction\"\\r\\n                  \\r\\n                  class=\"transparent unset\"\\r\\n                  data-content-type=\"movie\"\\r\\n                  data-mpx-fwsite=\"\"\\r\\n                  data-title=\"The Banshees of Inisherin\"\\r\\n                  data-video-id=\"\"\\r\\n                  data-video-list=\"rt-hp-poster-list-streaming-service-4\"\\r\\n                  data-track=\"poster\"\\r\\n                  data-position=\"2\"\\r\\n                  data-media-id=\"\"\\r\\n                  \\r\\n                    data-video-player-overlay-url=\"https://player.theplatform.com/p/NGweTC/pdk6_y__7B0iQTi4P/embed/select/media/G0WI3edXMiy0\"\\r\\n                    data-video-player-overlay-media-url=\"/m/the_banshees_of_inisherin\"\\r\\n                  \\r\\n                  aria-label=\"Play The Banshees of Inisherin trailer\"\\r\\n                >\\r\\n                  <span class=\"sr-only\">The Banshees of Inisherin</span>\\r\\n                </button>\\r\\n                \\r\\n                <a slot=\"caption\" href=\"/m/the_banshees_of_inisherin\" data-track=\"scores\">\\r\\n              \\r\\n                <score-pairs\\r\\n                  audiencesentiment=\"hide\"\\r\\n                  audiencescore=\"hide\"\\r\\n                  criticssentiment=\"positive\"\\r\\n                  criticsscore=\"97\"\\r\\n                  criticscertified=\"criticscertified\"\\r\\n                >\\r\\n                </score-pairs>\\r\\n                <span class=\"p--small\">The Banshees of Inisherin</span>\\r\\n              \\r\\n                </a>\\r\\n              \\r\\n            </tile-dynamic>\\r\\n          \\r\\n        </tiles-carousel-responsive-item>\\r\\n      \\r\\n        <tiles-carousel-responsive-item slot=\"tile\">\\r\\n          \\r\\n            <a href=\"/tv/abbott_elementary\">\\r\\n          \\r\\n            \\r\\n            <tile-dynamic  data-qa=\"tile\">\\r\\n              <img\\r\\n                slot=\"image\"\\r\\n                loading=\"lazy\"\\r\\n                src=\"https://resizing.flixster.com/IgssURMPLBesN2OrY_kDOrBHKII=/ems.cHJkLWVtcy1hc3NldHMvdHZzZXJpZXMvOTIxNDZmMDQtYzk1Yi00MTA5LTkzZTMtYzZmODA1MWZiM2MzLmpwZw==\"\\r\\n                alt=\"Abbott Elementary poster\"\\r\\n              />\\r\\n              \\r\\n                <div slot=\"caption\" data-track=\"scores\">\\r\\n              \\r\\n                <score-pairs\\r\\n                  audiencesentiment=\"hide\"\\r\\n                  audiencescore=\"hide\"\\r\\n                  criticssentiment=\"positive\"\\r\\n                  criticsscore=\"99\"\\r\\n                  criticscertified=\"false\"\\r\\n                >\\r\\n                </score-pairs>\\r\\n                <span class=\"p--small\">Abbott Elementary</span>\\r\\n              \\r\\n                </div>\\r\\n              \\r\\n            </tile-dynamic>\\r\\n          \\r\\n            </a>\\r\\n          \\r\\n        </tiles-carousel-responsive-item>\\r\\n      \\r\\n        <tiles-carousel-responsive-item slot=\"tile\">\\r\\n          \\r\\n            \\r\\n            <tile-dynamic isvideo data-qa=\"tile\">\\r\\n              <img\\r\\n                slot=\"image\"\\r\\n                loading=\"lazy\"\\r\\n                src=\"https://resizing.flixster.com/QrT-Krzry3Ikh6cH4u9bHCYH_6w=/ems.cHJkLWVtcy1hc3NldHMvdHZzZXJpZXMvNGZmZmJkN2YtZDA4YS00ZjkzLWE3OTMtNTgyNDE5NWM3YjhmLmpwZw==\"\\r\\n                alt=\"House of the Dragon poster\"\\r\\n              />\\r\\n              \\r\\n                <button\\r\\n                  slot=\"imageAction\"\\r\\n                  \\r\\n                  class=\"transparent unset\"\\r\\n                  data-content-type=\"tvSeries\"\\r\\n                  data-mpx-fwsite=\"\"\\r\\n                  data-title=\"House of the Dragon\"\\r\\n                  data-video-id=\"\"\\r\\n                  data-video-list=\"rt-hp-poster-list-streaming-service-4\"\\r\\n                  data-track=\"poster\"\\r\\n                  data-position=\"4\"\\r\\n                  data-media-id=\"\"\\r\\n                  \\r\\n                    data-video-player-overlay-url=\"https://player.theplatform.com/p/NGweTC/pdk6_y__7B0iQTi4P/embed/select/media/j7gSOuK9tVS_\"\\r\\n                    data-video-player-overlay-media-url=\"/tv/house_of_the_dragon\"\\r\\n                  \\r\\n                  aria-label=\"Play House of the Dragon trailer\"\\r\\n                >\\r\\n                  <span class=\"sr-only\">House of the Dragon</span>\\r\\n                </button>\\r\\n                \\r\\n                <a slot=\"caption\" href=\"/tv/house_of_the_dragon\" data-track=\"scores\">\\r\\n              \\r\\n                <score-pairs\\r\\n                  audiencesentiment=\"hide\"\\r\\n                  audiencescore=\"hide\"\\r\\n                  criticssentiment=\"positive\"\\r\\n                  criticsscore=\"93\"\\r\\n                  criticscertified=\"false\"\\r\\n                >\\r\\n                </score-pairs>\\r\\n                <span class=\"p--small\">House of the Dragon</span>\\r\\n              \\r\\n                </a>\\r\\n              \\r\\n            </tile-dynamic>\\r\\n          \\r\\n        </tiles-carousel-responsive-item>\\r\\n      \\r\\n        <tiles-carousel-responsive-item slot=\"tile\">\\r\\n          \\r\\n            \\r\\n            <tile-dynamic isvideo data-qa=\"tile\">\\r\\n              <img\\r\\n                slot=\"image\"\\r\\n                loading=\"lazy\"\\r\\n                src=\"https://resizing.flixster.com/21j7kYKcSY89f0BqEBs-MUCmfkk=/ems.cHJkLWVtcy1hc3NldHMvbW92aWVzL2FiZWNkNjYzLTRkYTAtNGI2My05NmUzLWNkZmM0ZjI2NDk4Zi5qcGc=\"\\r\\n                alt=\"Guillermo del Toro&#39;s Pinocchio poster\"\\r\\n              />\\r\\n              \\r\\n                <button\\r\\n                  slot=\"imageAction\"\\r\\n                  \\r\\n                  class=\"transparent unset\"\\r\\n                  data-content-type=\"movie\"\\r\\n                  data-mpx-fwsite=\"\"\\r\\n                  data-title=\"Guillermo del Toro&#39;s Pinocchio\"\\r\\n                  data-video-id=\"\"\\r\\n                  data-video-list=\"rt-hp-poster-list-streaming-service-4\"\\r\\n                  data-track=\"poster\"\\r\\n                  data-position=\"5\"\\r\\n                  data-media-id=\"\"\\r\\n                  \\r\\n                    data-video-player-overlay-url=\"https://player.theplatform.com/p/NGweTC/pdk6_y__7B0iQTi4P/embed/select/media/yVGQJ5xWVvJq\"\\r\\n                    data-video-player-overlay-media-url=\"/m/guillermo_del_toros_pinocchio\"\\r\\n                  \\r\\n                  aria-label=\"Play Guillermo del Toro&#39;s Pinocchio trailer\"\\r\\n                >\\r\\n                  <span class=\"sr-only\">Guillermo del Toro&#39;s Pinocchio</span>\\r\\n                </button>\\r\\n                \\r\\n                <a slot=\"caption\" href=\"/m/guillermo_del_toros_pinocchio\" data-track=\"scores\">\\r\\n              \\r\\n                <score-pairs\\r\\n                  audiencesentiment=\"hide\"\\r\\n                  audiencescore=\"hide\"\\r\\n                  criticssentiment=\"positive\"\\r\\n                  criticsscore=\"97\"\\r\\n                  criticscertified=\"criticscertified\"\\r\\n                >\\r\\n                </score-pairs>\\r\\n                <span class=\"p--small\">Guillermo del Toro&#39;s Pinocchio</span>\\r\\n              \\r\\n                </a>\\r\\n              \\r\\n            </tile-dynamic>\\r\\n          \\r\\n        </tiles-carousel-responsive-item>\\r\\n      \\r\\n        <tiles-carousel-responsive-item slot=\"tile\">\\r\\n          \\r\\n            <a href=\"/m/argentina_1985\">\\r\\n          \\r\\n            \\r\\n            <tile-dynamic  data-qa=\"tile\">\\r\\n              <img\\r\\n                slot=\"image\"\\r\\n                loading=\"lazy\"\\r\\n                src=\"https://resizing.flixster.com/szJdELts6jHjw_8fuZN3OupeZPY=/ems.cHJkLWVtcy1hc3NldHMvbW92aWVzL2M5Y2QyODk1LWNmMmQtNGUwYS1hMTQyLWNjNzhkMGM2NThlNS5qcGc=\"\\r\\n                alt=\"Argentina, 1985 poster\"\\r\\n              />\\r\\n              \\r\\n                <div slot=\"caption\" data-track=\"scores\">\\r\\n              \\r\\n                <score-pairs\\r\\n                  audiencesentiment=\"hide\"\\r\\n                  audiencescore=\"hide\"\\r\\n                  criticssentiment=\"positive\"\\r\\n                  criticsscore=\"98\"\\r\\n                  criticscertified=\"criticscertified\"\\r\\n                >\\r\\n                </score-pairs>\\r\\n                <span class=\"p--small\">Argentina, 1985</span>\\r\\n              \\r\\n                </div>\\r\\n              \\r\\n            </tile-dynamic>\\r\\n          \\r\\n            </a>\\r\\n          \\r\\n        </tiles-carousel-responsive-item>\\r\\n      \\r\\n        <tiles-carousel-responsive-item slot=\"tile\">\\r\\n          \\r\\n            \\r\\n            <tile-dynamic isvideo data-qa=\"tile\">\\r\\n              <img\\r\\n                slot=\"image\"\\r\\n                loading=\"lazy\"\\r\\n                src=\"https://resizing.flixster.com/mx-agGjjsUK1QMyuv3AJhHI3hgo=/ems.cHJkLWVtcy1hc3NldHMvbW92aWVzLzA3ZjU2MGU1LWMxODItNDlkMC1hYzJhLTY2YzMwOGZkMDhiZi5qcGc=\"\\r\\n                alt=\"Everything Everywhere All at Once poster\"\\r\\n              />\\r\\n              \\r\\n                <button\\r\\n                  slot=\"imageAction\"\\r\\n                  \\r\\n                  class=\"transparent unset\"\\r\\n                  data-content-type=\"movie\"\\r\\n                  data-mpx-fwsite=\"\"\\r\\n                  data-title=\"Everything Everywhere All at Once\"\\r\\n                  data-video-id=\"\"\\r\\n                  data-video-list=\"rt-hp-poster-list-streaming-service-4\"\\r\\n                  data-track=\"poster\"\\r\\n                  data-position=\"7\"\\r\\n                  data-media-id=\"\"\\r\\n                  \\r\\n                    data-video-player-overlay-url=\"https://player.theplatform.com/p/NGweTC/pdk6_y__7B0iQTi4P/embed/select/media/knCBWVtdpB_y\"\\r\\n                    data-video-player-overlay-media-url=\"/m/everything_everywhere_all_at_once\"\\r\\n                  \\r\\n                  aria-label=\"Play Everything Everywhere All at Once trailer\"\\r\\n                >\\r\\n                  <span class=\"sr-only\">Everything Everywhere All at Once</span>\\r\\n                </button>\\r\\n                \\r\\n                <a slot=\"caption\" href=\"/m/everything_everywhere_all_at_once\" data-track=\"scores\">\\r\\n              \\r\\n                <score-pairs\\r\\n                  audiencesentiment=\"hide\"\\r\\n                  audiencescore=\"hide\"\\r\\n                  criticssentiment=\"positive\"\\r\\n                  criticsscore=\"95\"\\r\\n                  criticscertified=\"criticscertified\"\\r\\n                >\\r\\n                </score-pairs>\\r\\n                <span class=\"p--small\">Everything Everywhere All at Once</span>\\r\\n              \\r\\n                </a>\\r\\n              \\r\\n            </tile-dynamic>\\r\\n          \\r\\n        </tiles-carousel-responsive-item>\\r\\n      \\r\\n        <tiles-carousel-responsive-item slot=\"tile\">\\r\\n          \\r\\n            \\r\\n            <tile-dynamic isvideo data-qa=\"tile\">\\r\\n              <img\\r\\n                slot=\"image\"\\r\\n                loading=\"lazy\"\\r\\n                src=\"https://resizing.flixster.com/mYfU74jKBCV9KA_O7ktmk5exwu4=/ems.cHJkLWVtcy1hc3NldHMvbW92aWVzLzczNjAwNTk0LTRlZWEtNDY5Ni1iYWM1LWRhZjI1OWUzODNhNy5qcGc=\"\\r\\n                alt=\"Elvis poster\"\\r\\n              />\\r\\n              \\r\\n                <button\\r\\n                  slot=\"imageAction\"\\r\\n                  \\r\\n                  class=\"transparent unset\"\\r\\n                  data-content-type=\"movie\"\\r\\n                  data-mpx-fwsite=\"\"\\r\\n                  data-title=\"Elvis\"\\r\\n                  data-video-id=\"\"\\r\\n                  data-video-list=\"rt-hp-poster-list-streaming-service-4\"\\r\\n                  data-track=\"poster\"\\r\\n                  data-position=\"8\"\\r\\n                  data-media-id=\"\"\\r\\n                  \\r\\n                    data-video-player-overlay-url=\"https://player.theplatform.com/p/NGweTC/pdk6_y__7B0iQTi4P/embed/select/media/Hek5yhZJt4au\"\\r\\n                    data-video-player-overlay-media-url=\"/m/elvis\"\\r\\n                  \\r\\n                  aria-label=\"Play Elvis trailer\"\\r\\n                >\\r\\n                  <span class=\"sr-only\">Elvis</span>\\r\\n                </button>\\r\\n                \\r\\n                <a slot=\"caption\" href=\"/m/elvis\" data-track=\"scores\">\\r\\n              \\r\\n                <score-pairs\\r\\n                  audiencesentiment=\"hide\"\\r\\n                  audiencescore=\"hide\"\\r\\n                  criticssentiment=\"positive\"\\r\\n                  criticsscore=\"77\"\\r\\n                  criticscertified=\"criticscertified\"\\r\\n                >\\r\\n                </score-pairs>\\r\\n                <span class=\"p--small\">Elvis</span>\\r\\n              \\r\\n                </a>\\r\\n              \\r\\n            </tile-dynamic>\\r\\n          \\r\\n        </tiles-carousel-responsive-item>\\r\\n      \\r\\n        <tiles-carousel-responsive-item slot=\"tile\">\\r\\n          \\r\\n            \\r\\n            <tile-dynamic isvideo data-qa=\"tile\">\\r\\n              <img\\r\\n                slot=\"image\"\\r\\n                loading=\"lazy\"\\r\\n                src=\"https://resizing.flixster.com/wFUHH4yTM6tmK4R-0f6pCrCPpB0=/ems.cHJkLWVtcy1hc3NldHMvbW92aWVzLzBlZGZjZWM1LTVkNmMtNDYzZC1iNjc0LTYwNDY0YTkzYTExYy5qcGc=\"\\r\\n                alt=\"Tár poster\"\\r\\n              />\\r\\n              \\r\\n                <button\\r\\n                  slot=\"imageAction\"\\r\\n                  \\r\\n                  class=\"transparent unset\"\\r\\n                  data-content-type=\"movie\"\\r\\n                  data-mpx-fwsite=\"\"\\r\\n                  data-title=\"Tár\"\\r\\n                  data-video-id=\"\"\\r\\n                  data-video-list=\"rt-hp-poster-list-streaming-service-4\"\\r\\n                  data-track=\"poster\"\\r\\n                  data-position=\"9\"\\r\\n                  data-media-id=\"\"\\r\\n                  \\r\\n                    data-video-player-overlay-url=\"https://player.theplatform.com/p/NGweTC/pdk6_y__7B0iQTi4P/embed/select/media/DWwMyUgoEeY0\"\\r\\n                    data-video-player-overlay-media-url=\"/m/tar_2022\"\\r\\n                  \\r\\n                  aria-label=\"Play Tár trailer\"\\r\\n                >\\r\\n                  <span class=\"sr-only\">Tár</span>\\r\\n                </button>\\r\\n                \\r\\n                <a slot=\"caption\" href=\"/m/tar_2022\" data-track=\"scores\">\\r\\n              \\r\\n                <score-pairs\\r\\n                  audiencesentiment=\"hide\"\\r\\n                  audiencescore=\"hide\"\\r\\n                  criticssentiment=\"positive\"\\r\\n                  criticsscore=\"91\"\\r\\n                  criticscertified=\"criticscertified\"\\r\\n                >\\r\\n                </score-pairs>\\r\\n                <span class=\"p--small\">Tár</span>\\r\\n              \\r\\n                </a>\\r\\n              \\r\\n            </tile-dynamic>\\r\\n          \\r\\n        </tiles-carousel-responsive-item>\\r\\n      \\r\\n        <tiles-carousel-responsive-item slot=\"tile\">\\r\\n          \\r\\n            \\r\\n            <tile-dynamic isvideo data-qa=\"tile\">\\r\\n              <img\\r\\n                slot=\"image\"\\r\\n                loading=\"lazy\"\\r\\n                src=\"https://resizing.flixster.com/QJkeIM6LIvwmRGiLKrNBcpZIk8M=/ems.cHJkLWVtcy1hc3NldHMvbW92aWVzLzAwYzExZjlmLWJlODQtNDY4Mi1iNDhkLWU2YWNmMGIyMDgwMi5qcGc=\"\\r\\n                alt=\"Black Panther: Wakanda Forever poster\"\\r\\n              />\\r\\n              \\r\\n                <button\\r\\n                  slot=\"imageAction\"\\r\\n                  \\r\\n                  class=\"transparent unset\"\\r\\n                  data-content-type=\"movie\"\\r\\n                  data-mpx-fwsite=\"\"\\r\\n                  data-title=\"Black Panther: Wakanda Forever\"\\r\\n                  data-video-id=\"\"\\r\\n                  data-video-list=\"rt-hp-poster-list-streaming-service-4\"\\r\\n                  data-track=\"poster\"\\r\\n                  data-position=\"10\"\\r\\n                  data-media-id=\"\"\\r\\n                  \\r\\n                    data-video-player-overlay-url=\"https://player.theplatform.com/p/NGweTC/pdk6_y__7B0iQTi4P/embed/select/media/uMGYgU_G1AM4\"\\r\\n                    data-video-player-overlay-media-url=\"/m/black_panther_wakanda_forever\"\\r\\n                  \\r\\n                  aria-label=\"Play Black Panther: Wakanda Forever trailer\"\\r\\n                >\\r\\n                  <span class=\"sr-only\">Black Panther: Wakanda Forever</span>\\r\\n                </button>\\r\\n                \\r\\n                <a slot=\"caption\" href=\"/m/black_panther_wakanda_forever\" data-track=\"scores\">\\r\\n              \\r\\n                <score-pairs\\r\\n                  audiencesentiment=\"hide\"\\r\\n                  audiencescore=\"hide\"\\r\\n                  criticssentiment=\"positive\"\\r\\n                  criticsscore=\"84\"\\r\\n                  criticscertified=\"criticscertified\"\\r\\n                >\\r\\n                </score-pairs>\\r\\n                <span class=\"p--small\">Black Panther: Wakanda Forever</span>\\r\\n              \\r\\n                </a>\\r\\n              \\r\\n            </tile-dynamic>\\r\\n          \\r\\n        </tiles-carousel-responsive-item>\\r\\n      \\r\\n        <tiles-carousel-responsive-item slot=\"tile\">\\r\\n          \\r\\n            \\r\\n            <tile-dynamic isvideo data-qa=\"tile\">\\r\\n              <img\\r\\n                slot=\"image\"\\r\\n                loading=\"lazy\"\\r\\n                src=\"https://resizing.flixster.com/BN4S6kzfD9ZbvanjxBmNLYNquLU=/ems.cHJkLWVtcy1hc3NldHMvbW92aWVzL2E2ZTQxYzhkLTFhNTItNDhkMy05ZjA3LTBmYzhjYTc2NWQyMi5qcGc=\"\\r\\n                alt=\"RRR poster\"\\r\\n              />\\r\\n              \\r\\n                <button\\r\\n                  slot=\"imageAction\"\\r\\n                  \\r\\n                  class=\"transparent unset\"\\r\\n                  data-content-type=\"movie\"\\r\\n                  data-mpx-fwsite=\"\"\\r\\n                  data-title=\"RRR\"\\r\\n                  data-video-id=\"\"\\r\\n                  data-video-list=\"rt-hp-poster-list-streaming-service-4\"\\r\\n                  data-track=\"poster\"\\r\\n                  data-position=\"11\"\\r\\n                  data-media-id=\"\"\\r\\n                  \\r\\n                    data-video-player-overlay-url=\"https://player.theplatform.com/p/NGweTC/pdk6_y__7B0iQTi4P/embed/select/media/a5aLWkMC53Y9\"\\r\\n                    data-video-player-overlay-media-url=\"/m/rrr\"\\r\\n                  \\r\\n                  aria-label=\"Play RRR trailer\"\\r\\n                >\\r\\n                  <span class=\"sr-only\">RRR</span>\\r\\n                </button>\\r\\n                \\r\\n                <a slot=\"caption\" href=\"/m/rrr\" data-track=\"scores\">\\r\\n              \\r\\n                <score-pairs\\r\\n                  audiencesentiment=\"hide\"\\r\\n                  audiencescore=\"hide\"\\r\\n                  criticssentiment=\"positive\"\\r\\n                  criticsscore=\"94\"\\r\\n                  criticscertified=\"criticscertified\"\\r\\n                >\\r\\n                </score-pairs>\\r\\n                <span class=\"p--small\">RRR</span>\\r\\n              \\r\\n                </a>\\r\\n              \\r\\n            </tile-dynamic>\\r\\n          \\r\\n        </tiles-carousel-responsive-item>\\r\\n      \\r\\n\\r\\n      <button slot=\"scroll-right\">\\r\\n        <rt-icon slot=\"icon-arrow-right\" image icon=\"right-chevron\"></rt-icon>\\r\\n      </button>\\r\\n      \\r\\n    </tiles-carousel-responsive>\\r\\n  </section>\\r\\n\\n</div>\\n\\r\\n\\r\\n        \\r\\n    \\r\\n</section>\\r\\n\\n        <section id=\"trailers-and-videos\" class=\"trailers-and-videos\" data-qa=\"section:trailers-and-videos\" data-curation=\"\">\\n    <div class=\"trailers-and-videos__header\">\\n        <h2 data-qa=\"trailers-and-videos-title\">Trailers &amp; Videos</h2>\\n        <a class=\"a--short\" href=\"https://editorial.rottentomatoes.com/video-interviews/\" data-qa=\"trailers-and-videos-view-all-link\">\\n            View all\\n        </a>\\n    </div>\\n    <div class=\"trailers-and-videos__body\">\\n        <div class=\"module-1x4\">\\n            <ul class=\"module-1x4__left\">\\n              \\n              <li class=\"trailers-and-videos-item module-1x4__item\" data-qa=\"trailers-and-videos-item\">\\n  <a href=https://editorial.rottentomatoes.com/article/how-david-harbour-became-santa-claus-for-violent-night/ data-qa=\"trailers-and-videos-item-link\">\\n      <div class=\"trailers-and-videos-item__body\">\\n          <div class=\"trailers-and-videos-item__thumbnail-group\">\\n            <img\\n              class=\"trailers-and-videos-item__thumbnail-image home__thumbnail\"\\n              src=\"https://images.fandango.com/cms/assets/f206a6a0-8e0b-11ed-bbb0-99bdf247c629--rttv-thelastofus-550x310.jpg\"\\n              alt=\"&lt;em&gt;The Last of Us&lt;/em&gt;\"\\n              loading=\"lazy\" />\\n            \\n              <rt-badge>Interview</rt-badge>\\n            \\n          </div>\\n          <div class=\"trailers-and-videos-item__info\">\\n              <h3><em>The Last of Us</em></h3>\\n              <p class=\"p--short\">Pedro Pascal & Bella Ramsey on their post-apocalyptic chemisty</p>\\n          </div>\\n        </div>\\n    </a>\\n</li>\\n\\n            </ul>\\n            <ul class=\"module-1x4__right\">\\n                \\n                    \\n                    <li class=\"trailers-and-videos-item module-1x4__item\" data-qa=\"trailers-and-videos-item\">\\n  <a href=https://editorial.rottentomatoes.com/article/m3gan-junket/ data-qa=\"trailers-and-videos-item-link\">\\n      <div class=\"trailers-and-videos-item__body\">\\n          <div class=\"trailers-and-videos-item__thumbnail-group\">\\n            <img\\n              class=\"trailers-and-videos-item__thumbnail-image home__thumbnail\"\\n              src=\"https://images.fandango.com/cms/assets/38bbc4d0-8d3b-11ed-83f2-4f600722b564--rt-megan.jpg\"\\n              alt=\"&lt;em&gt;M3GAN&lt;/em&gt;\"\\n              loading=\"lazy\" />\\n            \\n              <rt-badge>Interview</rt-badge>\\n            \\n          </div>\\n          <div class=\"trailers-and-videos-item__info\">\\n              <h3><em>M3GAN</em></h3>\\n              <p class=\"p--short\">The cast & crew on techno-horror and creepy doll team-ups </p>\\n          </div>\\n        </div>\\n    </a>\\n</li>\\n\\n                \\n                    \\n                    <li class=\"trailers-and-videos-item module-1x4__item\" data-qa=\"trailers-and-videos-item\">\\n  <a href=https://editorial.rottentomatoes.com/article/the-cast-of-babylon-on-the-immortality-of-the-movies/ data-qa=\"trailers-and-videos-item-link\">\\n      <div class=\"trailers-and-videos-item__body\">\\n          <div class=\"trailers-and-videos-item__thumbnail-group\">\\n            <img\\n              class=\"trailers-and-videos-item__thumbnail-image home__thumbnail\"\\n              src=\"https://images.fandango.com/cms/assets/8624b4d0-82fe-11ed-90fe-f325d9bf4959--babylon-junket-rep.jpeg\"\\n              alt=\"&lt;em&gt;Babylon&lt;/em&gt; \"\\n              loading=\"lazy\" />\\n            \\n              <rt-badge>Interview</rt-badge>\\n            \\n          </div>\\n          <div class=\"trailers-and-videos-item__info\">\\n              <h3><em>Babylon</em> </h3>\\n              <p class=\"p--short\">The cast on the immortality of the movies</p>\\n          </div>\\n        </div>\\n    </a>\\n</li>\\n\\n                \\n                    \\n                    <li class=\"trailers-and-videos-item module-1x4__item\" data-qa=\"trailers-and-videos-item\">\\n  <a href=https://editorial.rottentomatoes.com/article/how-brendan-fraser-became-charlie-in-the-whale/ data-qa=\"trailers-and-videos-item-link\">\\n      <div class=\"trailers-and-videos-item__body\">\\n          <div class=\"trailers-and-videos-item__thumbnail-group\">\\n            <img\\n              class=\"trailers-and-videos-item__thumbnail-image home__thumbnail\"\\n              src=\"https://images.fandango.com/cms/assets/af661920-80a0-11ed-90fe-f325d9bf4959--becoming-charlie-the-whale-rep.jpeg\"\\n              alt=\"&lt;em&gt;The Whale&lt;/em&gt; \"\\n              loading=\"lazy\" />\\n            \\n              <rt-badge>Interview</rt-badge>\\n            \\n          </div>\\n          <div class=\"trailers-and-videos-item__info\">\\n              <h3><em>The Whale</em> </h3>\\n              <p class=\"p--short\">How Brendan Fraser became Charlie in <em>The Whale</em></p>\\n          </div>\\n        </div>\\n    </a>\\n</li>\\n\\n                \\n                    \\n                    <li class=\"trailers-and-videos-item module-1x4__item\" data-qa=\"trailers-and-videos-item\">\\n  <a href=https://editorial.rottentomatoes.com/article/the-white-lotus-season-2-cast-interviews/ data-qa=\"trailers-and-videos-item-link\">\\n      <div class=\"trailers-and-videos-item__body\">\\n          <div class=\"trailers-and-videos-item__thumbnail-group\">\\n            <img\\n              class=\"trailers-and-videos-item__thumbnail-image home__thumbnail\"\\n              src=\"https://images.fandango.com/cms/assets/e57dd5e0-5948-11ed-b2f6-e1f3892e3f59--rt-whitelotus-550x310.jpg\"\\n              alt=\"&lt;em&gt;The White Lotus&lt;/em&gt;\"\\n              loading=\"lazy\" />\\n            \\n              <rt-badge>Interview</rt-badge>\\n            \\n          </div>\\n          <div class=\"trailers-and-videos-item__info\">\\n              <h3><em>The White Lotus</em></h3>\\n              <p class=\"p--short\">Season 2 cast on reinventing the series in Italy</p>\\n          </div>\\n        </div>\\n    </a>\\n</li>\\n\\n                \\n            </ul>\\n        </div>\\n    </div>\\n    \\n    \\n    \\n        \\n    \\n    \\n    <div id=\"sponsored_video_ad\" style=\"display:none;\"></div>\\n    <script>\\n        var mps = mps||{}; mps._queue = mps._queue||{}; mps._queue.gptloaded = mps._queue.gptloaded||[];\\n        mps._queue.gptloaded.push(function () {\\n            mps.insertAd(\\'#sponsored_video_ad\\',\\'featuredtrailer\\');\\n        });\\n    </script>\\n\\n\\n\\n    \\n    \\n    \\n        \\n    \\n    <div id=\"featured_ad_video_ad\" style=\"display:none;\"></div>\\n    <script>\\n        var mps = mps||{}; mps._queue = mps._queue||{}; mps._queue.gptloaded = mps._queue.gptloaded||[];\\n        mps._queue.gptloaded.push(function () {\\n            if (mps.getResponsiveSet() != \\'0\\') { //DESKTOP or TABLET\\n                mps.insertAd(\\'#featured_ad_video_ad\\',\\'featuredvideo\\');\\n            }\\n        });\\n    </script>\\n\\n\\n</section>\\n\\n        <section id=\"movie-and-tv-guides\" class=\"movie-and-tv-guides \" data-curation=\"rt-hp-movie-and-tv-guides\" data-qa=\"section:movie-tv-guides\">\\n  <div class=\"movie-and-tv-guides__header \">\\n    <h2 class=\"\" data-qa=\"movie-tv-guides-title\">Movie &amp; TV guides</h2>\\n    <a class=\"a--short \" href=\"https://editorial.rottentomatoes.com/more-related-content/\" data-qa=\"news-view-all-link\">View All</a>\\n  </div>\\n  <div class=\"movie-and-tv-guides__body \">\\n    <ul class=\"movie-and-tv-guides__items\">\\n      \\n        <li class=\"movie-and-tv-guides-item\" data-qa=\"news-article-item\">\\n          <a href=\"https://editorial.rottentomatoes.com/article/most-anticipated-movies-of-2023/\" data-qa=\"news-article-link\">\\n              <img\\n                alt=\"Most Anticipated 2023 Movies\"\\n                class=\"movie-and-tv-guides-item__image home__thumbnail\"\\n                loading=\"lazy\"\\n                src=\"https://resizing.flixster.com/Jr7oCstgF6ZHVx_nvab3b3GEm-s=/370x208/v2/https://images.fandango.com/cms/assets/4dcc0180-8b85-11ed-90fe-f325d9bf4959--h1donsnz.jpeg\"\\n              />\\n              <p class=\"movie-and-tv-guides-item__main\">\\n                  <span class=\"movie-and-tv-guides-item__header \">Most Anticipated 2023 Movies </span>\\n              </p>\\n          </a>\\n        </li>\\n      \\n        <li class=\"movie-and-tv-guides-item\" data-qa=\"news-article-item\">\\n          <a href=\"https://editorial.rottentomatoes.com/article/tv-premiere-dates-2023/\" data-qa=\"news-article-link\">\\n              <img\\n                alt=\"TV Premiere Dates 2023\"\\n                class=\"movie-and-tv-guides-item__image home__thumbnail\"\\n                loading=\"lazy\"\\n                src=\"https://resizing.flixster.com/yjyNQzv5oZhl3V6-CmRCYx6mMF8=/370x208/v2/https://images.fandango.com/cms/assets/fc2a7f00-8c4c-11ed-90fe-f325d9bf4959--9bafdcxq.jpeg\"\\n              />\\n              <p class=\"movie-and-tv-guides-item__main\">\\n                  <span class=\"movie-and-tv-guides-item__header \">TV Premiere Dates 2023 </span>\\n              </p>\\n          </a>\\n        </li>\\n      \\n        <li class=\"movie-and-tv-guides-item\" data-qa=\"news-article-item\">\\n          <a href=\"https://editorial.rottentomatoes.com/guide/2022-horror-movies-ranked/\" data-qa=\"news-article-link\">\\n              <img\\n                alt=\"Best Horror Movies of 2022\"\\n                class=\"movie-and-tv-guides-item__image home__thumbnail\"\\n                loading=\"lazy\"\\n                src=\"https://resizing.flixster.com/PjIHE4942v5BSr32J0jNOCTDptw=/370x208/v2/https://images.fandango.com/cms/assets/3d7939f0-74de-11ed-90fe-f325d9bf4959--themenu.jpg\"\\n              />\\n              <p class=\"movie-and-tv-guides-item__main\">\\n                  <span class=\"movie-and-tv-guides-item__header \">Best Horror Movies of 2022 </span>\\n              </p>\\n          </a>\\n        </li>\\n      \\n        <li class=\"movie-and-tv-guides-item\" data-qa=\"news-article-item\">\\n          <a href=\"https://editorial.rottentomatoes.com/guide/the-best-tv-shows-of-2022/\" data-qa=\"news-article-link\">\\n              <img\\n                alt=\"Best TV & Streaming 2022\"\\n                class=\"movie-and-tv-guides-item__image home__thumbnail\"\\n                loading=\"lazy\"\\n                src=\"https://resizing.flixster.com/TmdpdzpJKiiBkzoveh6BN7LPiA4=/370x208/v2/https://images.fandango.com/cms/assets/66ec2b10-87b4-11ed-90fe-f325d9bf4959--600recruit.jpeg\"\\n              />\\n              <p class=\"movie-and-tv-guides-item__main\">\\n                  <span class=\"movie-and-tv-guides-item__header \">Best TV & Streaming 2022 </span>\\n              </p>\\n          </a>\\n        </li>\\n      \\n    </ul>\\n  </div>\\n</section>\\n\\n\\n        \\n            <section id=\"top-headlines\" class=\"top-headlines\" data-qa=\"section:top-headlines\">\\n  <div class=\"top-headlines__header\">\\n    <h2 data-qa=\"top-headlines-title\">Top Headlines</h2>\\n    <a class=\"a--short\" href=\"https://editorial.rottentomatoes.com/publications/\" data-qa=\"top-headlines-view-all-link\">View All</a>\\n  </div>\\n  <div class=\" top-headlines__body\">\\n    <div class=\"top-headlines__col top-headlines__col-left\">\\n      <ul class=\"top-headlines__list ul--bullet-list\">\\n          \\n            \\n            <li class=\"top-headlines-item\" data-qa=\"top-headlines-item\">\\n    <a target=\"_blank\" href=\"https://editorial.rottentomatoes.com/article/most-anticipated-movies-of-2022/\" rel=\"noopener\" data-qa=\"top-headlines-item-link\">2022&#8217;s Most Anticipated Movies</a>\\n    \\n</li>\\n          \\n            \\n            <li class=\"top-headlines-item\" data-qa=\"top-headlines-item\">\\n    <a target=\"_blank\" href=\"https://editorial.rottentomatoes.com/article/2022-most-anticipated-tv-and-streaming-new-and-returning-shows/\" rel=\"noopener\" data-qa=\"top-headlines-item-link\">2022’s Most Anticipated TV &#038; Streaming</a>\\n    \\n</li>\\n          \\n            \\n            <li class=\"top-headlines-item\" data-qa=\"top-headlines-item\">\\n    <a target=\"_blank\" href=\"https://editorial.rottentomatoes.com/guide/all-marvel-cinematic-universe-movies-ranked/\" rel=\"noopener\" data-qa=\"top-headlines-item-link\">All MCU Movies Ranked By Tomatometer</a>\\n    \\n</li>\\n          \\n            \\n            <li class=\"top-headlines-item\" data-qa=\"top-headlines-item\">\\n    <a target=\"_blank\" href=\"https://editorial.rottentomatoes.com/article/renewed-and-cancelled-tv-shows-2022/\" rel=\"noopener\" data-qa=\"top-headlines-item-link\">Renewed &#038; Cancelled TV Shows 2022</a>\\n    \\n</li>\\n          \\n      </ul>\\n    </div>\\n    <div class=\"top-headlines__col top-headlines__col-right\">\\n      <ul class=\"top-headlines__list ul--bullet-list\">\\n          \\n            \\n            <li class=\"top-headlines-item\" data-qa=\"top-headlines-item\">\\n    <a target=\"_blank\" href=\"https://editorial.rottentomatoes.com/guide/2022-horror-movies-ranked/\" rel=\"noopener\" data-qa=\"top-headlines-item-link\">Best 2022 Horror Movies Ranked By Tomatometer</a>\\n    \\n</li>\\n          \\n            \\n            <li class=\"top-headlines-item\" data-qa=\"top-headlines-item\">\\n    <a target=\"_blank\" href=\"https://editorial.rottentomatoes.com/article/tv-premiere-dates-2022/\" rel=\"noopener\" data-qa=\"top-headlines-item-link\">TV Premiere Dates 2022</a>\\n    \\n</li>\\n          \\n            \\n            <li class=\"top-headlines-item\" data-qa=\"top-headlines-item\">\\n    <a target=\"_blank\" href=\"https://editorial.rottentomatoes.com/guide/worst-horror-movies/\" rel=\"noopener\" data-qa=\"top-headlines-item-link\">The Worst Horror Movies of All Time</a>\\n    \\n</li>\\n          \\n            \\n            <li class=\"top-headlines-item\" data-qa=\"top-headlines-item\">\\n    <a target=\"_blank\" href=\"https://editorial.rottentomatoes.com/guide/best-netflix-shows-and-movies-to-binge-watch-now/\" rel=\"noopener\" data-qa=\"top-headlines-item-link\">Best Netflix Series &#038; Shows</a>\\n    \\n</li>\\n          \\n      </ul>\\n    </div>\\n  </div>\\n</section>\\n\\n        \\n\\n        <div class=\"home-news-list-ad\">\\n            <div class=\"home-news-list-ad__body\"><!-- Glam medrec for overseas users. glamTarget is set globally in body.tag -->\\n                \\n                \\n    \\n    \\n    \\n    <aside id=\"medrec_bottom_ad\" class=\"medrec_ad \" style=\"width:300px\"></aside>\\n        \\n            <script>\\n                var mps = mps||{}; mps._queue = mps._queue||{}; mps._queue.gptloaded = mps._queue.gptloaded||[];\\n                mps._queue.gptloaded.push(function () {\\n                    if (mps.getResponsiveSet() != \\'0\\') { //DESKTOP or TABLET\\n                        mps.insertAd(\\'#medrec_bottom_ad\\',\\'boxadone\\');\\n                    } else if (mps.getResponsiveSet() == \\'0\\' && \\'home\\' == \\'home\\') {\\n                        mps.insertAd(\\'#medrec_bottom_ad\\',\\'mboxadtwo\\');\\n                    }\\n                });\\n            </script>\\n        \\n        \\n        \\n        \\n\\n\\n            </div>\\n        </div>\\n    </section>\\n\\n    <overlay-base hidden>\\n        <video-player-overlay class=\"video-overlay-wrap\" slot=\"content\" data-qa=\"video-overlay\">\\n            <div slot=\"header\">\\n                <button class=\"close-btn rt-icon rt-icon__close\" disabled data-qa=\"video-close-btn\">\\n                    <span class=\"sr-only\">Close video</span>\\n                </button>\\n                <a class=\"cta-btn header-cta button hide\">See Details</a>\\n            </div>\\n            \\n            <video-player slot=\"content\" autoplay></video-player>\\n            \\n            <a slot=\"footer\" class=\"cta-btn footer-cta button hide\">See Details</a>\\n        </video-player-overlay>\\n    </overlay-base>\\n\\n    \\n\\n                </div>\\n            </main>\\n\\n            \\n    \\n    \\n    <div class=\"sleaderboard_wrapper hidden-xs mobile-hidden\">\\n    <div id=\"leaderboard_bottom_ad\" style=\"margin-left:auto;margin-right:auto;display:inline-block\"> </div>\\n    <script>\\n        var mps = mps||{}; mps._queue = mps._queue||{}; mps._queue.gptloaded = mps._queue.gptloaded||[];\\n        mps._queue.gptloaded.push(function () {\\n            if (mps.getResponsiveSet() != \\'0\\') { //DESKTOP or TABLET\\n                mps.insertAd(\\'#leaderboard_bottom_ad\\',\\'bottombanner\\');\\n            }\\n        });\\n    </script>\\n    </div>\\n\\n\\n            \\n                \\n    \\n        \\n    \\n    \\n    <!--\\n    <c:set var=\"onloadJs\">\\n    if(!$(\"#[skin]_ad\").is(\":visible\")){$(\"body\").removeAttr(\"style\");}\\n    </c:set>\\n     -->\\n    <style>#[skin]_ad { height:0px !important; }</style>\\n    \\n    <div id=\"[skin]_ad\"></div>\\n\\n\\n            \\n\\n            <footer class=\"footer container\">\\n    <div class=\"footer__content-desktop-block\" data-qa=\"footer:section\">\\n        <div class=\"footer__content-group\">\\n            <ul class=\"footer__links-list\">\\n                <li class=\"footer__links-list-item\">\\n                    <a href=\"/help_desk\" data-qa=\"footer:link-helpdesk\">Help</a>\\n                </li>\\n                <li class=\"footer__links-list-item\">\\n                    <a href=\"/about\" data-qa=\"footer:link-about\">About Rotten Tomatoes</a>\\n                </li>\\n                <li class=\"footer__links-list-item\">\\n                    <a href=\"/about#whatisthetomatometer\" data-qa=\"footer:link-whats-tmeter\">What\\'s the Tomatometer<sup>&reg;</sup>?</a>\\n                </li>\\n                <li id=\"footer-feedback\" class=\"footer__links-list-item\">\\n                    \\n                </li>\\n            </ul>\\n        </div>\\n        <div class=\"footer__content-group\">\\n            <ul class=\"footer__links-list\">\\n                <li class=\"footer__links-list-item\">\\n                    <a href=\"/critics/criteria\" data-qa=\"footer:link-critic-submission\">Critic Submission</a>\\n                </li>\\n                <li class=\"footer__links-list-item\">\\n                    <a href=\"/help_desk/licensing\" data-qa=\"footer:link-licensing\">Licensing</a>\\n                </li>\\n                <li class=\"footer__links-list-item\">\\n                    <a href=\"https://together.nbcuni.com/advertise/?utm_source=rotten_tomatoes&amp;utm_medium=referral&amp;utm_campaign=property_ad_pages&amp;utm_content=footer\" target=\"_blank\" data-qa=\"footer:link-ads\">Advertise With Us</a>\\n                </li>\\n                <li class=\"footer__links-list-item\">\\n                    <a href=\"//www.fandango.com/careers\" target=\"_blank\" data-qa=\"footer:link-careers\">Careers</a>\\n                </li>\\n            </ul>\\n        </div>\\n        <div class=\"footer__content-group footer__newsletter-block\">\\n            <p class=\"h3 footer__content-group-title\"><span class=\"rt-icon rt-icon__mail footer__newsletter-icon\"></span>Join The Newsletter</p>\\n            <p class=\"footer__newsletter-copy\">Get the freshest reviews, news, and more delivered right to your inbox!</p>\\n            <button class=\"js-cognito-join-newsletter button footer__newsletter-btn\" data-qa=\"footer:newsletter-btn\">Join The Newsletter</button>\\n            <a href=\"https://optout.services.fandango.com/rottentomatoes\" class=\"button footer__newsletter-btn hide\" data-qa=\"footer:newsletter-btn-signed-in\"><span>Join The Newsletter</span></a>\\n        </div>\\n        <div class=\"footer__content-group footer__social-block\" data-qa=\"footer:social\">\\n            <p class=\"h3 footer__content-group-title\">Follow Us</p>\\n            <ul class=\"footer__links-list list-inline\">\\n                <li class=\"footer__links-list-item\">\\n                    <a href=\"//www.facebook.com/rottentomatoes\" aria-label=\"Facebook\" target=\"_blank\" data-qa=\"footer:social-fb\">\\n                        <rt-icon icon=\"facebook-squared\"></rt-icon>\\n                    </a>\\n                </li>\\n                <li class=\"footer__links-list-item\">\\n                    <a href=\"//twitter.com/rottentomatoes\" aria-label=\"Twitter\" target=\"_blank\" data-qa=\"footer:social-twitter\">\\n                        <rt-icon icon=\"twitter\"></rt-icon>\\n                    </a>\\n                </li>\\n                <li class=\"footer__links-list-item\">\\n                    <a href=\"//www.instagram.com/rottentomatoes/\" aria-label=\"Instagram\" target=\"_blank\" data-qa=\"footer:social-instagram\">\\n                        <rt-icon icon=\"instagram\"></rt-icon>\\n                    </a>\\n                </li>\\n                <li class=\"footer__links-list-item\">\\n                    <a href=\"https://www.pinterest.com/rottentomatoes\" aria-label=\"Pinterest\" target=\"_blank\" data-qa=\"footer:social-pinterest\">\\n                        <rt-icon icon=\"pinterest\"></rt-icon>\\n                    </a>\\n                </li>\\n                <li class=\"footer__links-list-item\">\\n                    <a href=\"//www.youtube.com/user/rottentomatoes\" aria-label=\"YouTube\" target=\"_blank\" data-qa=\"footer:social-yt\">\\n                        <rt-icon icon=\"youtube-play\"></rt-icon>\\n                    </a>\\n                </li>\\n            </ul>\\n        </div>\\n    </div>\\n    <div class=\"footer__content-mobile-block\" data-qa=\"mfooter:section\">\\n        <div class=\"footer__content-group\">\\n            <p class=\"footer__copyright-legal\" data-qa=\"mfooter:copyright\">Copyright &copy; Fandango. All rights reserved.</p>\\n            <button class=\"js-cognito-join-newsletter button footer__newsletter-btn\" data-qa=\"mfooter:newsletter-btn\">Join Newsletter</button>\\n            <a href=\"https://optout.services.fandango.com/rottentomatoes\" class=\"button footer__newsletter-btn hide\" data-qa=\"mfooter:newsletter-btn-signed-in\">Join Newsletter</a>\\n            <ul class=\"footer__links-list list-inline\">\\n                <li class=\"footer__links-list-item\">\\n                    <a href=\"//www.fandango.com/policies/privacy-policy\" target=\"_blank\" data-qa=\"mfooter:link-privacy-policy\">\\n                        Privacy Policy\\n                    </a>\\n                </li>\\n                <li class=\"footer__links-list-item\">\\n                    <a href=\"//www.fandango.com/policies/terms-and-policies\" target=\"_blank\" data-qa=\"mfooter:link-terms-policies\">Terms and Policies</a>\\n                </li>\\n                <li class=\"footer__links-list-item\">\\n                    <img src=\"https://images.fandango.com/cms/assets/266533e0-7afb-11ed-83f2-4f600722b564--privacyoptions.svg\" class=\"footer__ccpa-icon\" loading=\"lazy\" alt=\"CCPA icon\" />\\n                    <!-- OneTrust Cookies Settings button start -->\\n                    <a href=\"javascript:void(0)\" id=\"ot-sdk-btn\" class=\"ot-sdk-show-settings mobile\">Cookie Settings</a>\\n                    <!-- OneTrust Cookies Settings button end -->\\n                </li>\\n                <li class=\"footer__links-list-item\">\\n                    <a href=\"//www.fandango.com/californianotice\" target=\"_blank\" data-qa=\"mfooter:link-california-notice\">California Notice</a>\\n                </li>\\n                <li class=\"footer__links-list-item\">\\n                    <a href=\"//www.fandango.com/policies/cookies-and-tracking#cookie_management\" target=\"_blank\" data-qa=\"mfooter:link-adChoices\">Ad Choices</a>\\n                </li>\\n                <li id=\"footer-feedback-mobile\" class=\"footer__links-list-item\">\\n                    \\n                </li>\\n                <li class=\"footer__links-list-item\">\\n                    <a href=\"/faq#accessibility\" data-qa=\"mfooter:link-accessibility\">Accessibility</a>\\n                </li>\\n            </ul>\\n        </div>\\n    </div>\\n    <div class=\"footer__copyright\">\\n        <ul class=\"footer__links-list list-inline list-inline--separator\" data-qa=\"footer:links-list-privacy\">\\n            <li class=\"footer__links-list-item version\" data-qa=\"footer:version\">\\n                <span>V3.1</span>\\n            </li>\\n            <li class=\"footer__links-list-item\">\\n                <a href=\"//www.fandango.com/policies/privacy-policy\" target=\"_blank\" data-qa=\"footer:link-privacy-policy\">\\n                    Privacy Policy\\n                </a>\\n            </li>\\n            <li class=\"footer__links-list-item\">\\n                <a href=\"//www.fandango.com/policies/terms-and-policies\" target=\"_blank\" data-qa=\"footer:link-terms-policies\">Terms and Policies</a>\\n            </li>\\n            <li class=\"footer__links-list-item\">\\n                <img src=\"https://images.fandango.com/cms/assets/266533e0-7afb-11ed-83f2-4f600722b564--privacyoptions.svg\" class=\"footer__ccpa-icon\" loading=\"lazy\" alt=\"CCPA icon\" />\\n                <!-- OneTrust Cookies Settings button start -->\\n                <a href=\"javascript:void(0)\" id=\"ot-sdk-btn\" class=\"ot-sdk-show-settings\">Cookie Settings</a>\\n                <!-- OneTrust Cookies Settings button end -->\\n            </li>\\n            <li class=\"footer__links-list-item\">\\n                <a href=\"//www.fandango.com/californianotice\" target=\"_blank\" data-qa=\"footer:link-california-notice\">California Notice</a>\\n            </li>\\n            <li class=\"footer__links-list-item\">\\n                <a href=\"//www.fandango.com/policies/cookies-and-tracking#cookie_management\" target=\"_blank\" data-qa=\"footer:link-adChoices\">Ad Choices</a>\\n            </li>\\n            <li class=\"footer__links-list-item\">\\n                <a href=\"/faq#accessibility\" data-qa=\"footer:link-accessibility\">Accessibility</a>\\n            </li>\\n        </ul>\\n        <span class=\"footer__copyright-legal\" data-qa=\"footer:copyright\">Copyright &copy; Fandango. All rights reserved.</span>\\n    </div>\\n</footer>\\n\\n        </div>\\n\\n        <!-- PDK -->\\n        <script src=\"//pdk.theplatform.com/current/pdk/tpPdkController.js\"></script>\\n        <!-- End PDK -->\\n\\n        \\n    \\n        <script type=\"text/javascript\">\\n(function (root) {\\n/* -- Data -- */\\nroot.RottenTomatoes || (root.RottenTomatoes = {});\\nroot.RottenTomatoes.context = {\"_routes\":{\"adminManagePeople\":{\"path\":\"https:\\\\u002F\\\\u002Fadmin.flixster.com\\\\u002Fadmin\\\\u002Fmanage-people?id=:id\",\"tokens\":[{\"literal\":\"https:\\\\u002F\\\\u002Fadmin.flixster.com\\\\u002Fadmin\\\\u002Fmanage-people?id=\"},{\"key\":\"id\"}]},\"adminMerge\":{\"path\":\"https:\\\\u002F\\\\u002Fadmin.flixster.com\\\\u002Factor\\\\u002Fmerge?from=:id\",\"tokens\":[{\"literal\":\"https:\\\\u002F\\\\u002Fadmin.flixster.com\\\\u002Factor\\\\u002Fmerge?from=\"},{\"key\":\"id\"}]},\"baseCanonicalUrl\":{\"path\":\"https:\\\\u002F\\\\u002Fwww.rottentomatoes.com\",\"tokens\":[{\"literal\":\"https:\\\\u002F\\\\u002Fwww.rottentomatoes.com\"}]},\"webCriticSourceReviewsNapi\":{\"path\":\"\\\\u002Fnapi\\\\u002Fcritics\\\\u002Fsource\\\\u002F:publicationId\\\\u002F:type(movies|tv)\",\"tokens\":[{\"literal\":\"\\\\u002Fnapi\\\\u002Fcritics\\\\u002Fsource\\\\u002F\"},{\"key\":\"publicationId\"},{\"literal\":\"\\\\u002F\"},{\"key\":\"type\"}]},\"editorialPageCodeOfConduct\":{\"path\":\"https:\\\\u002F\\\\u002Feditorial.rottentomatoes.com\\\\u002Fotg-article\\\\u002Fcommunity-code-of-conduct\",\"tokens\":[{\"literal\":\"https:\\\\u002F\\\\u002Feditorial.rottentomatoes.com\\\\u002Fotg-article\\\\u002Fcommunity-code-of-conduct\"}]},\"editorialPageProductBlog\":{\"path\":\"https:\\\\u002F\\\\u002Feditorial.rottentomatoes.com\\\\u002Frt-product-blog\",\"tokens\":[{\"literal\":\"https:\\\\u002F\\\\u002Feditorial.rottentomatoes.com\\\\u002Frt-product-blog\"}]},\"flixsterGeoLocationApi\":{\"path\":\"https:\\\\u002F\\\\u002Fapi.flixster.com\\\\u002Fticketing\\\\u002Fapi\\\\u002Fv1\\\\u002Fgeoip\",\"tokens\":[{\"literal\":\"https:\\\\u002F\\\\u002Fapi.flixster.com\\\\u002Fticketing\\\\u002Fapi\\\\u002Fv1\\\\u002Fgeoip\"}]},\"commonAutocompleteNapi\":{\"path\":\"\\\\u002Fnapi\\\\u002Flocation\\\\u002Fautocomplete\\\\u002F:text\",\"tokens\":[{\"literal\":\"\\\\u002Fnapi\\\\u002Flocation\\\\u002Fautocomplete\\\\u002F\"},{\"key\":\"text\"}]},\"commonGetLocationFromTextNapi\":{\"path\":\"\\\\u002Fnapi\\\\u002Flocation\\\\u002Ftext\",\"tokens\":[{\"literal\":\"\\\\u002Fnapi\\\\u002Flocation\\\\u002Ftext\"}]},\"webMovieReviewsGetAudienceReviewNapi\":{\"path\":\"\\\\u002Fnapi\\\\u002Fmovie\\\\u002F:movieId\\\\u002Freviews\\\\u002F:type(user|verified_audience)\",\"tokens\":[{\"literal\":\"\\\\u002Fnapi\\\\u002Fmovie\\\\u002F\"},{\"key\":\"movieId\"},{\"literal\":\"\\\\u002Freviews\\\\u002F\"},{\"key\":\"type\"}]},\"webMovieReviewsGetCriticsReviewNapi\":{\"path\":\"\\\\u002Fnapi\\\\u002Fmovie\\\\u002F:movieId\\\\u002FcriticsReviews\\\\u002F:type(all|top_critics)\\\\u002F:sort?\",\"tokens\":[{\"literal\":\"\\\\u002Fnapi\\\\u002Fmovie\\\\u002F\"},{\"key\":\"movieId\"},{\"literal\":\"\\\\u002FcriticsReviews\\\\u002F\"},{\"key\":\"type\"},{\"literal\":\"\\\\u002F\"},{\"key\":\"sort\"},{\"literal\":\"?\"}]},\"commonTrackingFreewheelPixelSyncNapi\":{\"path\":\"\\\\u002Fnapi\\\\u002Ftracking\\\\u002Ffreewheel\\\\u002Fpixelsync\",\"tokens\":[{\"literal\":\"\\\\u002Fnapi\\\\u002Ftracking\\\\u002Ffreewheel\\\\u002Fpixelsync\"}]},\"webTvEpisodeGetReviewsNapi\":{\"path\":\"\\\\u002Fnapi\\\\u002Ftv\\\\u002F:vanity\\\\u002F:tvSeason\\\\u002F:tvEpisode\\\\u002Freviews\\\\u002F:type(all|top_critics)\",\"tokens\":[{\"literal\":\"\\\\u002Fnapi\\\\u002Ftv\\\\u002F\"},{\"key\":\"vanity\"},{\"literal\":\"\\\\u002F\"},{\"key\":\"tvSeason\"},{\"literal\":\"\\\\u002F\"},{\"key\":\"tvEpisode\"},{\"literal\":\"\\\\u002Freviews\\\\u002F\"},{\"key\":\"type\"}]},\"webSeasonReviewsGetReviewsNapi\":{\"path\":\"\\\\u002Fnapi\\\\u002FseasonReviews\\\\u002F:id\",\"tokens\":[{\"literal\":\"\\\\u002Fnapi\\\\u002FseasonReviews\\\\u002F\"},{\"key\":\"id\"}]},\"webTvSeasonGetEpisodesNapi\":{\"path\":\"\\\\u002Fnapi\\\\u002Ftv\\\\u002F:vanity\\\\u002F:tvSeason\\\\u002Fepisodes\",\"tokens\":[{\"literal\":\"\\\\u002Fnapi\\\\u002Ftv\\\\u002F\"},{\"key\":\"vanity\"},{\"literal\":\"\\\\u002F\"},{\"key\":\"tvSeason\"},{\"literal\":\"\\\\u002Fepisodes\"}]},\"commonUserWTSCreateNapi\":{\"path\":\"\\\\u002Fnapi\\\\u002Fuser\\\\u002Fwts\",\"tokens\":[{\"literal\":\"\\\\u002Fnapi\\\\u002Fuser\\\\u002Fwts\"}]},\"commonUserWTSDeleteNapi\":{\"path\":\"\\\\u002Fnapi\\\\u002Fuser\\\\u002Fwts\\\\u002Fdelete\",\"tokens\":[{\"literal\":\"\\\\u002Fnapi\\\\u002Fuser\\\\u002Fwts\\\\u002Fdelete\"}]},\"commonUserRatingCreateNapi\":{\"path\":\"\\\\u002Fnapi\\\\u002Fuser\\\\u002Frating\",\"tokens\":[{\"literal\":\"\\\\u002Fnapi\\\\u002Fuser\\\\u002Frating\"}]},\"commonUserGetWTSNapi\":{\"path\":\"\\\\u002Fnapi\\\\u002Fuser\\\\u002Fwts\",\"tokens\":[{\"literal\":\"\\\\u002Fnapi\\\\u002Fuser\\\\u002Fwts\"}]},\"commonUserGetRatingNapi\":{\"path\":\"\\\\u002Fnapi\\\\u002Fuser\\\\u002Frating\",\"tokens\":[{\"literal\":\"\\\\u002Fnapi\\\\u002Fuser\\\\u002Frating\"}]},\"webUserProfileMovieRatingsNapi\":{\"path\":\"\\\\u002Fnapi\\\\u002FuserProfile\\\\u002FmovieRatings\\\\u002F:userId\",\"tokens\":[{\"literal\":\"\\\\u002Fnapi\\\\u002FuserProfile\\\\u002FmovieRatings\\\\u002F\"},{\"key\":\"userId\"}]},\"webUserProfileTVRatingsNapi\":{\"path\":\"\\\\u002Fnapi\\\\u002FuserProfile\\\\u002FtvRatings\\\\u002F:userId\",\"tokens\":[{\"literal\":\"\\\\u002Fnapi\\\\u002FuserProfile\\\\u002FtvRatings\\\\u002F\"},{\"key\":\"userId\"}]},\"webUserProfileWTSNapi\":{\"path\":\"\\\\u002Fnapi\\\\u002FuserProfile\\\\u002Fwts\\\\u002F:userId\",\"tokens\":[{\"literal\":\"\\\\u002Fnapi\\\\u002FuserProfile\\\\u002Fwts\\\\u002F\"},{\"key\":\"userId\"}]},\"mediaHoundRecommendations\":{\"path\":\"https:\\\\u002F\\\\u002Fapi.mediahound.net\\\\u002Fgraph\\\\u002Frelate\",\"tokens\":[{\"literal\":\"https:\\\\u002F\\\\u002Fapi.mediahound.net\\\\u002Fgraph\\\\u002Frelate\"}]},\"resetClient\":{\"path\":\"\\\\u002Freset-client\",\"tokens\":[{\"literal\":\"\\\\u002Freset-client\"}]},\"tvSeasonCriticAddArticle\":{\"path\":\"https:\\\\u002F\\\\u002Fwww.rottentomatoes.com\\\\u002Fcritics\\\\u002Ftools\\\\u002Ftv\\\\u002F?reviewableId=:seasonId\",\"tokens\":[{\"literal\":\"https:\\\\u002F\\\\u002Fwww.rottentomatoes.com\\\\u002Fcritics\\\\u002Ftools\\\\u002Ftv\\\\u002F?reviewableId=\"},{\"key\":\"seasonId\"}]},\"userAccount\":{\"path\":\"\\\\u002Fuser\\\\u002Faccount\",\"tokens\":[{\"literal\":\"\\\\u002Fuser\\\\u002Faccount\"}]},\"userAccountEmailPrefs\":{\"path\":\"https:\\\\u002F\\\\u002Foptout.services.fandango.com\\\\u002Frottentomatoes\",\"tokens\":[{\"literal\":\"https:\\\\u002F\\\\u002Foptout.services.fandango.com\\\\u002Frottentomatoes\"}]},\"redirectorTheatersTopBoxOffice\":{\"path\":\"\\\\u002Fbrowse\\\\u002Fin-theaters\",\"tokens\":[{\"literal\":\"\\\\u002Fbrowse\\\\u002Fin-theaters\"}]},\"webCritic\":{\"path\":\"\\\\u002Fcritics\\\\u002F:vanity\\\\u002F:type(movies|tv)\",\"tokens\":[{\"literal\":\"\\\\u002Fcritics\\\\u002F\"},{\"key\":\"vanity\"},{\"literal\":\"\\\\u002F\"},{\"key\":\"type\"}]},\"webCriticLanding\":{\"path\":\"\\\\u002Fcritics\\\\u002F:vanity\",\"tokens\":[{\"literal\":\"\\\\u002Fcritics\\\\u002F\"},{\"key\":\"vanity\"}]},\"webSearchResults\":{\"path\":\"\\\\u002Fsearch\\\\u002F\",\"tokens\":[{\"literal\":\"\\\\u002Fsearch\\\\u002F\"}]},\"webShowtimes\":{\"path\":\"\\\\u002F\\\\u002Fwww.fandango.com\\\\u002Fmovies-in-theaters\",\"tokens\":[{\"literal\":\"\\\\u002F\\\\u002Fwww.fandango.com\\\\u002Fmovies-in-theaters\"}]},\"webCriticSource\":{\"path\":\"\\\\u002Fcritics\\\\u002Fsource\\\\u002F:publicationId\",\"tokens\":[{\"literal\":\"\\\\u002Fcritics\\\\u002Fsource\\\\u002F\"},{\"key\":\"publicationId\"}]}}};\\nroot.RottenTomatoes.context || (root.RottenTomatoes.context = {});\\nroot.RottenTomatoes.context.layout = {\"header\":{\"editorial\":{\"bestAndWorstNews\":[{\"ID\":77012,\"author\":20,\"featured_image\":{\"source\":\"https:\\\\u002F\\\\u002Fprd-rteditorial.s3.us-west-2.amazonaws.com\\\\u002Fwp-content\\\\u002Fuploads\\\\u002F2018\\\\u002F02\\\\u002F14193805\\\\u002FMarvel-Movies-Recall2.jpg\"},\"link\":\"https:\\\\u002F\\\\u002Feditorial.rottentomatoes.com\\\\u002Fguide\\\\u002Fall-marvel-cinematic-universe-movies-ranked\\\\u002F\",\"promo_order\":\"\",\"status\":\"publish\",\"title\":\"Marvel Movies Ranked Worst to Best by Tomatometer\",\"type\":\"article\"},{\"ID\":19933,\"author\":20,\"featured_image\":{\"source\":\"https:\\\\u002F\\\\u002Fprd-rteditorial.s3.us-west-2.amazonaws.com\\\\u002Fwp-content\\\\u002Fuploads\\\\u002F2015\\\\u002F06\\\\u002F19171851\\\\u002FJurassic-Park-Franchise-Recall.jpg\"},\"link\":\"https:\\\\u002F\\\\u002Feditorial.rottentomatoes.com\\\\u002Fguide\\\\u002Fjurassic-park-world-movies\\\\u002F\",\"promo_order\":\"\",\"status\":\"publish\",\"title\":\"\\\\u003Cem\\\\u003EJurassic Park\\\\u003C\\\\u002Fem\\\\u003E Movies Ranked By Tomatometer\",\"type\":\"article\"}],\"guides\":[{\"ID\":229910,\"author\":{\"ID\":7,\"username\":\"RT Staff\",\"name\":\"RT Staff\",\"first_name\":\"RT\",\"last_name\":\"Staff\",\"nickname\":\"RT Staff\",\"slug\":\"rt-staff\",\"URL\":\"http:\\\\u002F\\\\u002Fwww.rottentomatoes.com\",\"avatar\":\"https:\\\\u002F\\\\u002Fsecure.gravatar.com\\\\u002Favatar\\\\u002F1da0327e91516c500afa31e67da2395a?s=96\",\"description\":\"Rotten Tomatoes every day.\",\"registered\":\"2015-05-01T22:36:17+00:00\",\"meta\":{\"links\":{\"self\":\"https:\\\\u002F\\\\u002Feditorial.rottentomatoes.com\\\\u002Fwp-json\\\\u002Fusers\\\\u002F7\",\"archives\":\"https:\\\\u002F\\\\u002Feditorial.rottentomatoes.com\\\\u002Fwp-json\\\\u002Fusers\\\\u002F7\\\\u002Fposts\"}}},\"featured_image\":{\"source\":\"https:\\\\u002F\\\\u002Fprd-rteditorial.s3.us-west-2.amazonaws.com\\\\u002Fwp-content\\\\u002Fuploads\\\\u002F2022\\\\u002F01\\\\u002F12130451\\\\u002F660GTA.jpg\"},\"link\":\"https:\\\\u002F\\\\u002Feditorial.rottentomatoes.com\\\\u002Frt-hub\\\\u002Fgolden-tomato-awards-2022\\\\u002F\",\"status\":\"publish\",\"title\":\"Golden Tomato Awards: Best Movies &#038; TV of 2022\",\"type\":\"rt-hub\"},{\"ID\":140214,\"author\":{\"ID\":12,\"username\":\"alex.vo\",\"name\":\"Alex Vo\",\"first_name\":\"Alex\",\"last_name\":\"Vo\",\"nickname\":\"alex.vo\",\"slug\":\"alex-vo\",\"URL\":\"\",\"avatar\":\"https:\\\\u002F\\\\u002Fsecure.gravatar.com\\\\u002Favatar\\\\u002F818ade2039d2a711e0cd70ae46f14952?s=96\",\"description\":\"\",\"registered\":\"2015-05-12T20:00:23+00:00\",\"meta\":{\"links\":{\"self\":\"https:\\\\u002F\\\\u002Feditorial.rottentomatoes.com\\\\u002Fwp-json\\\\u002Fusers\\\\u002F12\",\"archives\":\"https:\\\\u002F\\\\u002Feditorial.rottentomatoes.com\\\\u002Fwp-json\\\\u002Fusers\\\\u002F12\\\\u002Fposts\"}}},\"featured_image\":{\"source\":\"https:\\\\u002F\\\\u002Fprd-rteditorial.s3.us-west-2.amazonaws.com\\\\u002Fwp-content\\\\u002Fuploads\\\\u002F2022\\\\u002F09\\\\u002F12091739\\\\u002FRT_AwardsTour_Thumbnail_600x314_Gradient.jpg\"},\"link\":\"https:\\\\u002F\\\\u002Feditorial.rottentomatoes.com\\\\u002Frt-hub\\\\u002Fawards-tour\\\\u002F\",\"status\":\"publish\",\"title\":\"Awards Tour\",\"type\":\"rt-hub\"}],\"newsItems\":[{\"ID\":230901,\"author\":822,\"featured_image\":{\"source\":\"https:\\\\u002F\\\\u002Fprd-rteditorial.s3.us-west-2.amazonaws.com\\\\u002Fwp-content\\\\u002Fuploads\\\\u002F2022\\\\u002F05\\\\u002F12144145\\\\u002FTop_Gun_Maverick_Reviews-Rep.jpg\"},\"link\":\"https:\\\\u002F\\\\u002Feditorial.rottentomatoes.com\\\\u002Farticle\\\\u002F2023-directors-guild-awards-nominations-the-full-list\\\\u002F\",\"promo_order\":\"\",\"status\":\"publish\",\"title\":\"2023 Directors Guild Awards Nominations: The Full List\",\"type\":\"article\"},{\"ID\":230489,\"author\":825,\"featured_image\":{\"source\":\"https:\\\\u002F\\\\u002Fprd-rteditorial.s3.us-west-2.amazonaws.com\\\\u002Fwp-content\\\\u002Fuploads\\\\u002F2023\\\\u002F01\\\\u002F12151829\\\\u002FHUNTERS_S2_IMG_1_600x314.jpg\"},\"link\":\"https:\\\\u002F\\\\u002Feditorial.rottentomatoes.com\\\\u002Farticle\\\\u002Fhunters-star-logan-lerman-series-creator-david-weil-preview-season-2\\\\u002F\",\"promo_order\":\"\",\"status\":\"publish\",\"title\":\"\\\\u003Cem\\\\u003EHunters\\\\u003C\\\\u002Fem\\\\u003E Star Logan Lerman &amp; Series Creator David Weil on the Resurrection of Al Pacino for Season 2\",\"type\":\"article\"}]},\"trendingTarsSlug\":\"rt-nav-trending\",\"trending\":[{\"header\":\"The Last Of Us\",\"url\":\"https:\\\\u002F\\\\u002Fwww.rottentomatoes.com\\\\u002Ftv\\\\u002Fthe_last_of_us\"},{\"header\":\"M3GAN\",\"url\":\"https:\\\\u002F\\\\u002Fwww.rottentomatoes.com\\\\u002Fm\\\\u002Fm3gan\"},{\"header\":\"Plane\",\"url\":\"https:\\\\u002F\\\\u002Fwww.rottentomatoes.com\\\\u002Fm\\\\u002Fplane\"},{\"header\":\"A Man Called Otto\",\"url\":\"https:\\\\u002F\\\\u002Fwww.rottentomatoes.com\\\\u002Fm\\\\u002Fa_man_called_otto\"}],\"certifiedMedia\":{\"certifiedFreshTvSeason\":{\"header\":null,\"media\":{\"url\":\"\\\\u002Ftv\\\\u002Fthe_last_of_us\\\\u002Fs01\",\"name\":\"The Last of Us: Season 1\",\"score\":97,\"posterImg\":\"https:\\\\u002F\\\\u002Fresizing.flixster.com\\\\u002FEQwjsJzvAePoD3yc8_F4tnKxepw=\\\\u002Ffit-in\\\\u002F180x240\\\\u002Fv2\\\\u002Fhttps:\\\\u002F\\\\u002Fresizing.flixster.com\\\\u002F1t3h8KAxIMmKUCU09OoqpfqD6R0=\\\\u002Fems.cHJkLWVtcy1hc3NldHMvdHZzZWFzb24vZjU3YTRlYjItOTAzNC00MzFjLTg0NGQtODA1ZGU2OWY1NzY1LmpwZw==\"},\"tarsSlug\":\"rt-nav-list-cf-picks\"},\"certifiedFreshMovieInTheater\":{\"header\":null,\"media\":{\"url\":\"\\\\u002Fm\\\\u002Fm3gan\",\"name\":\"M3GAN\",\"score\":95,\"posterImg\":\"https:\\\\u002F\\\\u002Fresizing.flixster.com\\\\u002FLMbScjDLUzsQLgeeoOF0FAhNcC8=\\\\u002Ffit-in\\\\u002F180x240\\\\u002Fv2\\\\u002Fhttps:\\\\u002F\\\\u002Fresizing.flixster.com\\\\u002FrPJASTXFjLpmiVTi3D6RGcq-skM=\\\\u002Fems.cHJkLWVtcy1hc3NldHMvbW92aWVzLzhjYjA0ODBiLTNlNmUtNDlhOS05ZWRlLThlOGQ2MmEyZjlmYS5qcGc=\"}},\"certifiedFreshMovieInTheater4\":{\"header\":null,\"media\":{\"url\":\"\\\\u002Fm\\\\u002Falcarras\",\"name\":\"Alcarràs\",\"score\":90,\"posterImg\":\"https:\\\\u002F\\\\u002Fresizing.flixster.com\\\\u002FH5I6FWEXKIZcT_qxE0bG-xLomFY=\\\\u002Ffit-in\\\\u002F180x240\\\\u002Fv2\\\\u002Fhttps:\\\\u002F\\\\u002Fresizing.flixster.com\\\\u002FPbbehNpv3rq_TDm3xvFqgqqNo54=\\\\u002Fems.cHJkLWVtcy1hc3NldHMvbW92aWVzLzY5ZTBlNjBmLThiMDMtNGJiMC1hNTViLWRkZDkxZjMwMDcwOC5wbmc=\"}},\"certifiedFreshMovieAtHome\":{\"header\":null,\"media\":{\"url\":\"\\\\u002Fm\\\\u002Fis_that_black_enough_for_you\",\"name\":\"Is That Black Enough for You?!?\",\"score\":100,\"posterImg\":\"https:\\\\u002F\\\\u002Fresizing.flixster.com\\\\u002Fjgszf6xabwUB5kLm3NAxAIUfew8=\\\\u002Ffit-in\\\\u002F180x240\\\\u002Fv2\\\\u002Fhttps:\\\\u002F\\\\u002Fresizing.flixster.com\\\\u002FFMOmi-6s3a-yNNpLZlZeS7UL9uo=\\\\u002Fems.cHJkLWVtcy1hc3NldHMvbW92aWVzLzBlM2IyNmExLTM2NzYtNGNkZi1iNjE1LTQ0MTBlZmEyZGM1ZS5qcGc=\"}},\"tarsSlug\":\"rt-nav-list-cf-picks\"},\"tvLists\":{\"newTvTonight\":{\"tarsSlug\":\"rt-hp-text-list-new-tv-this-week\",\"title\":\"New TV Tonight\",\"shows\":[{\"title\":\"Vikings: Valhalla: Season 2\",\"tomatometer\":{\"tomatometer\":null,\"state\":\"\",\"certifiedFresh\":false},\"tvPageUrl\":\"\\\\u002Ftv\\\\u002Fvikings_valhalla\\\\u002Fs02\"},{\"title\":\"Hunters: Season 2\",\"tomatometer\":{\"tomatometer\":50,\"state\":\"rotten\",\"certifiedFresh\":false},\"tvPageUrl\":\"\\\\u002Ftv\\\\u002Fhunters-2020\\\\u002Fs02\"},{\"title\":\"Servant: Season 4\",\"tomatometer\":{\"tomatometer\":100,\"state\":\"fresh\",\"certifiedFresh\":false},\"tvPageUrl\":\"\\\\u002Ftv\\\\u002Fservant\\\\u002Fs04\"},{\"title\":\"Mayfair Witches: Season 1\",\"tomatometer\":{\"tomatometer\":42,\"state\":\"rotten\",\"certifiedFresh\":false},\"tvPageUrl\":\"\\\\u002Ftv\\\\u002Fmayfair_witches\\\\u002Fs01\"},{\"title\":\"Your Honor: Season 2\",\"tomatometer\":{\"tomatometer\":null,\"state\":\"\",\"certifiedFresh\":false},\"tvPageUrl\":\"\\\\u002Ftv\\\\u002Fyour_honor_2020\\\\u002Fs02\"},{\"title\":\"All Creatures Great and Small: Season 3\",\"tomatometer\":{\"tomatometer\":null,\"state\":\"\",\"certifiedFresh\":false},\"tvPageUrl\":\"\\\\u002Ftv\\\\u002Fall_creatures_great_and_small\\\\u002Fs03\"},{\"title\":\"Miss Scarlet and the Duke: Season 3\",\"tomatometer\":{\"tomatometer\":null,\"state\":\"\",\"certifiedFresh\":false},\"tvPageUrl\":\"\\\\u002Ftv\\\\u002Fmiss_scarlet_and_the_duke\\\\u002Fs03\"},{\"title\":\"Vienna Blood: Season 3\",\"tomatometer\":{\"tomatometer\":null,\"state\":\"\",\"certifiedFresh\":false},\"tvPageUrl\":\"\\\\u002Ftv\\\\u002Fvienna_blood\\\\u002Fs03\"},{\"title\":\"Velma: Season 1\",\"tomatometer\":{\"tomatometer\":50,\"state\":\"rotten\",\"certifiedFresh\":false},\"tvPageUrl\":\"\\\\u002Ftv\\\\u002Fvelma\\\\u002Fs01\"},{\"title\":\"Koala Man: Season 1\",\"tomatometer\":{\"tomatometer\":60,\"state\":\"fresh\",\"certifiedFresh\":false},\"tvPageUrl\":\"\\\\u002Ftv\\\\u002Fkoala_man\\\\u002Fs01\"},{\"title\":\"The Climb: Season 1\",\"tomatometer\":{\"tomatometer\":null,\"state\":\"\",\"certifiedFresh\":false},\"tvPageUrl\":\"\\\\u002Ftv\\\\u002Fthe_climb_2022\\\\u002Fs01\"}]},\"mostPopularTvOnRt\":{\"tarsSlug\":\"rt-hp-text-list-most-popular-tv-on-rt\",\"title\":\"Most Popular TV on RT\",\"shows\":[{\"title\":\"The Last of Us: Season 1\",\"tomatometer\":{\"tomatometer\":97,\"state\":\"certified_fresh\",\"certifiedFresh\":true},\"tvPageUrl\":\"\\\\u002Ftv\\\\u002Fthe_last_of_us\\\\u002Fs01\"},{\"title\":\"The White Lotus: Season 2\",\"tomatometer\":{\"tomatometer\":94,\"state\":\"certified_fresh\",\"certifiedFresh\":true},\"tvPageUrl\":\"\\\\u002Ftv\\\\u002Fthe_white_lotus\\\\u002Fs02\"},{\"title\":\"Will Trent: Season 1\",\"tomatometer\":{\"tomatometer\":100,\"state\":\"fresh\",\"certifiedFresh\":false},\"tvPageUrl\":\"\\\\u002Ftv\\\\u002Fwill_trent\\\\u002Fs01\"},{\"title\":\"Kaleidoscope: Season 1\",\"tomatometer\":{\"tomatometer\":48,\"state\":\"rotten\",\"certifiedFresh\":false},\"tvPageUrl\":\"\\\\u002Ftv\\\\u002Fkaleidoscope\\\\u002Fs01\"},{\"title\":\"Velma: Season 1\",\"tomatometer\":{\"tomatometer\":50,\"state\":\"rotten\",\"certifiedFresh\":false},\"tvPageUrl\":\"\\\\u002Ftv\\\\u002Fvelma\\\\u002Fs01\"},{\"title\":\"Willow: Season 1\",\"tomatometer\":{\"tomatometer\":86,\"state\":\"certified_fresh\",\"certifiedFresh\":true},\"tvPageUrl\":\"\\\\u002Ftv\\\\u002Fwillow\\\\u002Fs01\"},{\"title\":\"Servant: Season 4\",\"tomatometer\":{\"tomatometer\":100,\"state\":\"fresh\",\"certifiedFresh\":false},\"tvPageUrl\":\"\\\\u002Ftv\\\\u002Fservant\\\\u002Fs04\"},{\"title\":\"Ginny & Georgia: Season 2\",\"tomatometer\":{\"tomatometer\":75,\"state\":\"fresh\",\"certifiedFresh\":false},\"tvPageUrl\":\"\\\\u002Ftv\\\\u002Fginny_and_georgia\\\\u002Fs02\"},{\"title\":\"Woman of the Dead: Season 1\",\"tomatometer\":{\"tomatometer\":null,\"state\":\"\",\"certifiedFresh\":false},\"tvPageUrl\":\"\\\\u002Ftv\\\\u002Fwoman_of_the_dead\\\\u002Fs01\"},{\"title\":\"The Rig: Season 1\",\"tomatometer\":{\"tomatometer\":64,\"state\":\"fresh\",\"certifiedFresh\":false},\"tvPageUrl\":\"\\\\u002Ftv\\\\u002Fthe_rig\\\\u002Fs01\"}]}},\"legacyItems\":{\"tarsSlug\":\"rt-nav-list-tv-episodic-reviews\",\"tv\":{\"mediaLists\":[{},{},{},{\"title\":\"Episodic Reviews\",\"shows\":[{\"link\":\"\\\\u002Ftv\\\\u002Fandor\\\\u002Fs01\",\"showTitle\":\"Andor: Season 1\"},{\"link\":\"\\\\u002Ftv\\\\u002Fshe_hulk_attorney_at_law\\\\u002Fs01\",\"showTitle\":\"She-Hulk: Attorney at Law: Season 1\"},{\"link\":\"\\\\u002Ftv\\\\u002Fhouse_of_the_dragon\\\\u002Fs01\",\"showTitle\":\"House of the Dragon: Season 1\"},{\"link\":\"\\\\u002Ftv\\\\u002Fthe_lord_of_the_rings_the_rings_of_power\\\\u002Fs01\",\"showTitle\":\"The Lord of the Rings: The Rings of Power: Season 1\"},{\"link\":\"\\\\u002Ftv\\\\u002Fatlanta\\\\u002Fs04\",\"showTitle\":\"Atlanta: Season 4\"}]}]}}},\"links\":{\"moviesInTheaters\":{\"certifiedFresh\":\"\\\\u002Fbrowse\\\\u002Fcf-in-theaters\",\"comingSoon\":\"\\\\u002Fbrowse\\\\u002Fupcoming\",\"openingThisWeek\":\"\\\\u002Fbrowse\\\\u002Fopening\",\"title\":\"\\\\u002Fbrowse\\\\u002Fin-theaters\",\"topBoxOffice\":\"\\\\u002Fbrowse\\\\u002Fin-theaters\"},\"onDvdAndStreaming\":{\"all\":\"\\\\u002Fbrowse\\\\u002Fdvd-streaming-all\",\"certifiedFresh\":\"\\\\u002Fbrowse\\\\u002Fcf-dvd-streaming-all\",\"title\":\"\\\\u002Fdvd\",\"top\":\"\\\\u002Fbrowse\\\\u002Ftop-dvd-streaming\"},\"moreMovies\":{\"topMovies\":\"\\\\u002Ftop\",\"trailers\":\"\\\\u002Ftrailers\"},\"tvTonight\":\"\\\\u002Fbrowse\\\\u002Ftv-list-1\",\"tvPopular\":\"\\\\u002Fbrowse\\\\u002Ftv-list-2\",\"moreTv\":{\"topTv\":\"https:\\\\u002F\\\\u002Fwww.rottentomatoes.com\\\\u002Ftop-tv\",\"certifiedFresh\":\"\\\\u002Fbrowse\\\\u002Ftv-list-3\"},\"editorial\":{\"allTimeLists\":\"https:\\\\u002F\\\\u002Feditorial.rottentomatoes.com\\\\u002Fall-time-lists\\\\u002F\",\"bingeGuide\":\"https:\\\\u002F\\\\u002Feditorial.rottentomatoes.com\\\\u002Fbinge-guide\\\\u002F\",\"comicsOnTv\":\"https:\\\\u002F\\\\u002Feditorial.rottentomatoes.com\\\\u002Fcomics-on-tv\\\\u002F\",\"countdown\":\"https:\\\\u002F\\\\u002Feditorial.rottentomatoes.com\\\\u002Fcountdown\\\\u002F\",\"criticsConsensus\":\"https:\\\\u002F\\\\u002Feditorial.rottentomatoes.com\\\\u002Fcritics-consensus\\\\u002F\",\"fiveFavoriteFilms\":\"https:\\\\u002F\\\\u002Feditorial.rottentomatoes.com\\\\u002Ffive-favorite-films\\\\u002F\",\"guidesHome\":\"https:\\\\u002F\\\\u002Feditorial.rottentomatoes.com\\\\u002Frt-hubs\\\\u002F\",\"home\":\"https:\\\\u002F\\\\u002Feditorial.rottentomatoes.com\\\\u002F\",\"news\":\"https:\\\\u002F\\\\u002Feditorial.rottentomatoes.com\\\\u002Fnews\\\\u002F\",\"nowStreaming\":\"https:\\\\u002F\\\\u002Feditorial.rottentomatoes.com\\\\u002Fnow-streaming\\\\u002F\",\"parentalGuidance\":\"https:\\\\u002F\\\\u002Feditorial.rottentomatoes.com\\\\u002Fparental-guidance\\\\u002F\",\"podcast\":\"https:\\\\u002F\\\\u002Feditorial.rottentomatoes.com\\\\u002Farticle\\\\u002Frotten-tomatoes-is-wrong-a-podcast-from-rotten-tomatoes\\\\u002F\",\"redCarpetRoundup\":\"https:\\\\u002F\\\\u002Feditorial.rottentomatoes.com\\\\u002Fred-carpet-roundup\\\\u002F\",\"scorecards\":\"https:\\\\u002F\\\\u002Feditorial.rottentomatoes.com\\\\u002Fmovie-tv-scorecards\\\\u002F\",\"subCult\":\"https:\\\\u002F\\\\u002Feditorial.rottentomatoes.com\\\\u002Fsub-cult\\\\u002F\",\"theZeros\":\"https:\\\\u002F\\\\u002Feditorial.rottentomatoes.com\\\\u002Fthe-zeros\\\\u002F\",\"totalRecall\":\"https:\\\\u002F\\\\u002Feditorial.rottentomatoes.com\\\\u002Ftotal-recall\\\\u002F\",\"twentyFourFrames\":\"https:\\\\u002F\\\\u002Feditorial.rottentomatoes.com\\\\u002F24-frames\\\\u002F\",\"videoInterviews\":\"https:\\\\u002F\\\\u002Feditorial.rottentomatoes.com\\\\u002Fvideo-interviews\\\\u002F\",\"weekendBoxOffice\":\"https:\\\\u002F\\\\u002Feditorial.rottentomatoes.com\\\\u002Fweekend-box-office\\\\u002F\",\"weeklyKetchup\":\"https:\\\\u002F\\\\u002Feditorial.rottentomatoes.com\\\\u002Fweekly-ketchup\\\\u002F\",\"whatToWatch\":\"https:\\\\u002F\\\\u002Feditorial.rottentomatoes.com\\\\u002Fwhat-to-watch\\\\u002F\"}}};\\nroot.BK = {\"PageName\":\"http:\\\\u002F\\\\u002Fwww.rottentomatoes.com\\\\u002F\",\"SiteID\":37528,\"SiteSection\":\"\"};\\nroot.RottenTomatoes.thirdParty = {\"chartBeat\":{\"auth\":\"64558\",\"domain\":\"rottentomatoes.com\"},\"facebook\":{\"appId\":\"326803741017\",\"version\":\"v6.0\",\"appName\":\"flixstertomatoes\"},\"mpx\":{\"accountPid\":\"NGweTC\",\"playerPid\":\"y__7B0iQTi4P\",\"playerPidPDK6\":\"pdk6_y__7B0iQTi4P\",\"accountId\":\"2474312077\"},\"algoliaSearch\":{\"aId\":\"79FRDP12PN\",\"sId\":\"175588f6e5f8319b27702e4cc4013561\"},\"cognito\":{\"upId\":\"us-west-2_4L0ZX4b1U\",\"clientId\":\"7pu48v8i2n25t4vhes0edck31c\"}};\\nroot.RottenTomatoes.serviceWorker = {\"isServiceWokerOn\":true};\\nroot.__RT__ || (root.__RT__ = {});\\nroot.__RT__.featureFlags = {\"adsCarouselActiveName\":\"rt-sponsored-carousel-list-hulu\",\"adsCarouselHP\":false,\"adsCarouselOP\":false,\"adsHub\":false,\"adsMockDLP\":false,\"adsVideoSpotlightHP\":false,\"amcVas\":false,\"authManagerOptimized\":true,\"authVerboseLogs\":false,\"disableFeatureDetection\":true,\"disableReviewSubmission\":false,\"layoutsMoviePage\":false,\"layoutsMovieReviewsPage\":false,\"layoutsTvEpisodePage\":false,\"layoutsTvEpisodeReviewsPage\":false,\"layoutsTvSeasonPage\":false,\"layoutsTvSeasonReviewsPage\":false,\"layoutsTvSeriesPage\":false,\"legacyBridge\":true,\"modelsCriticsArchivePage\":true,\"modelsCriticsCriteriaPage\":true,\"modelsHomePage\":true,\"modelsPicturesPages\":false,\"modelsTrailersPage\":true,\"mopUseEMSCriticService\":false,\"scoreIntroCard\":false,\"showVerification\":false,\"useCognito\":true,\"useCognitoAccountUpdate\":true,\"useFacebookLogin\":false,\"useOneTrust\":true,\"videoJWP\":false};\\nroot.RottenTomatoes.dtmData = {\"webVersion\":\"node\",\"rtVersion\":3.1,\"loggedInStatus\":\"\",\"customerId\":\"\",\"pageName\":\"rt | homepage\"};\\nroot.RottenTomatoes.context.adsMockDLP = false;\\nroot.RottenTomatoes.context.useFacebookLogin = false;\\nroot.RottenTomatoes.context.disableFeatureDetection = true;\\nroot.RottenTomatoes.context.req = {\"params\":{},\"queries\":{},\"route\":{},\"url\":\"\\\\u002F\",\"secure\":false,\"buildVersion\":undefined};\\nroot.RottenTomatoes.context.config = {};\\nroot.RottenTomatoes.context.gptSite = \"home\";\\n}(this));\\n</script>\\n\\n        <!--[if IE]>\\n        <script src=\"/assets/pizza-pie/javascripts/roma/common/polyfills.js\"></script>\\n        <![endif]-->\\n\\n        <script src=\"/assets/pizza-pie/javascripts/bundles/roma/vendors.3b4c93a4652.js\"></script>\\n\\n        \\n            <script src=\"/assets/pizza-pie/javascripts/bundles/roma/micromodal.0554523c3ba.js\"></script>\\n        \\n\\n        <script src=\"/assets/pizza-pie/javascripts/bundles/roma/templates.af3ccb5710e.js\"></script>\\n\\n        <script src=\"/assets/pizza-pie/javascripts/bundles/roma/default.c2a4c602371.js\"></script>\\n\\n        <script src=\"https://cdn.jsdelivr.net/npm/algoliasearch@4/dist/algoliasearch-lite.umd.js\"></script>\\n\\n        <script src=\"/assets/pizza-pie/javascripts/bundles/roma/search-algolia.d8af7fdea81.js\"></script>\\n        \\n\\n    \\n    <script src=\"/assets/pizza-pie/javascripts/roma/bundles/vendor.30578c60d97.js\"></script>\\n\\n    \\n\\n    <script src=\"/assets/pizza-pie/javascripts/roma/bundles/home.b7a713af0d5.js\"></script>\\n\\n\\n\\n        \\n            <script>\\n                if (window.mps && typeof window.mps.writeFooter === \\'function\\') {\\n                    window.mps.writeFooter();\\n                }\\n            </script>\\n        \\n\\n        <script>\\n            window._satellite && _satellite.pageBottom();\\n        </script>\\n\\n        \\n    </body>\\n</html>\\n'"
            ],
            "application/vnd.google.colaboratory.intrinsic+json": {
              "type": "string"
            }
          },
          "metadata": {},
          "execution_count": 39
        }
      ]
    },
    {
      "cell_type": "code",
      "source": [
        "soup = BeautifulSoup(response.text, 'lxml')"
      ],
      "metadata": {
        "id": "zraIxsAajFFW"
      },
      "execution_count": 40,
      "outputs": []
    },
    {
      "cell_type": "code",
      "source": [
        "uls = soup.find_all('ul', attrs={'slot': 'list-items'})"
      ],
      "metadata": {
        "id": "19M6s46GjSbq"
      },
      "execution_count": 41,
      "outputs": []
    },
    {
      "cell_type": "code",
      "source": [
        "len(uls)"
      ],
      "metadata": {
        "colab": {
          "base_uri": "https://localhost:8080/"
        },
        "id": "4hACZSJ-jmxx",
        "outputId": "4f80442a-5491-4b55-d2a6-d56a18d06383"
      },
      "execution_count": 42,
      "outputs": [
        {
          "output_type": "execute_result",
          "data": {
            "text/plain": [
              "3"
            ]
          },
          "metadata": {},
          "execution_count": 42
        }
      ]
    },
    {
      "cell_type": "code",
      "source": [
        "streaming_chart = uls[0]"
      ],
      "metadata": {
        "id": "DOJPGX75jn3A"
      },
      "execution_count": 43,
      "outputs": []
    },
    {
      "cell_type": "code",
      "source": [
        "lis = streaming_chart.find_all('li')"
      ],
      "metadata": {
        "id": "Q3DtYqXWj_R7"
      },
      "execution_count": 44,
      "outputs": []
    },
    {
      "cell_type": "code",
      "source": [
        "len(lis)"
      ],
      "metadata": {
        "colab": {
          "base_uri": "https://localhost:8080/"
        },
        "id": "RQqVB-V-kTma",
        "outputId": "c8c40b00-612a-43cf-c74b-396575733e28"
      },
      "execution_count": 45,
      "outputs": [
        {
          "output_type": "execute_result",
          "data": {
            "text/plain": [
              "10"
            ]
          },
          "metadata": {},
          "execution_count": 45
        }
      ]
    },
    {
      "cell_type": "code",
      "source": [
        "lis[0]"
      ],
      "metadata": {
        "colab": {
          "base_uri": "https://localhost:8080/"
        },
        "id": "skGX1Omcke1-",
        "outputId": "86f9ff4a-b89c-4357-c732-9fed08a5f605"
      },
      "execution_count": 46,
      "outputs": [
        {
          "output_type": "execute_result",
          "data": {
            "text/plain": [
              "<li>\n",
              "<a href=\"/m/the_menu\">\n",
              "<span class=\"dynamic-text-list__item-title clamp clamp-1\">The Menu</span>\n",
              "</a>\n",
              "<a class=\"dynamic-text-list__tomatometer-group\" href=\"/m/the_menu\">\n",
              "<span class=\"icon icon--tiny icon__certified-fresh\" slot=\"tomatometer-icon\"></span>\n",
              "<span class=\"b--medium \" slot=\"tomatometer-value\">\n",
              "                                \n",
              "                                    89%\n",
              "                                \n",
              "                            </span>\n",
              "</a>\n",
              "</li>"
            ]
          },
          "metadata": {},
          "execution_count": 46
        }
      ]
    },
    {
      "cell_type": "code",
      "source": [
        "uri = 'https://www.rottentomatoes.com' + lis[0].find('a')['href']\n",
        "uri"
      ],
      "metadata": {
        "colab": {
          "base_uri": "https://localhost:8080/",
          "height": 35
        },
        "id": "n0A39DV8khzc",
        "outputId": "56293e76-0ebe-4931-8a6f-bee16426bcad"
      },
      "execution_count": 47,
      "outputs": [
        {
          "output_type": "execute_result",
          "data": {
            "text/plain": [
              "'https://www.rottentomatoes.com/m/the_menu'"
            ],
            "application/vnd.google.colaboratory.intrinsic+json": {
              "type": "string"
            }
          },
          "metadata": {},
          "execution_count": 47
        }
      ]
    },
    {
      "cell_type": "code",
      "source": [
        "spans = lis[0].find_all('span')\n",
        "movie_name = spans[0].text"
      ],
      "metadata": {
        "id": "6_azP_bBk1nl"
      },
      "execution_count": 48,
      "outputs": []
    },
    {
      "cell_type": "code",
      "source": [
        "movie_score = int(spans[2].text.strip('\\n %'))"
      ],
      "metadata": {
        "id": "NCM_QDrclRf1"
      },
      "execution_count": 49,
      "outputs": []
    },
    {
      "cell_type": "code",
      "source": [
        "result = []\n",
        "\n",
        "for li in lis:\n",
        "  uri = 'https://www.rottentomatoes.com' + li.find('a')['href']\n",
        "  spans = li.find_all('span')\n",
        "  movie_name = spans[0].text\n",
        "  movie_score = spans[2].text.strip('\\n %')\n",
        "  print(uri, movie_name, movie_score)\n",
        "  result.append({\n",
        "      'uri': uri, \n",
        "      'movie_name' : movie_name, \n",
        "      'movie_score': movie_score,\n",
        "      })"
      ],
      "metadata": {
        "colab": {
          "base_uri": "https://localhost:8080/"
        },
        "id": "CPS29WhClfED",
        "outputId": "46ea40a9-9414-451d-a094-1b42aad1d58a"
      },
      "execution_count": 50,
      "outputs": [
        {
          "output_type": "stream",
          "name": "stdout",
          "text": [
            "https://www.rottentomatoes.com/m/the_menu The Menu 89\n",
            "https://www.rottentomatoes.com/m/puss_in_boots_the_last_wish Puss in Boots: The Last Wish 96\n",
            "https://www.rottentomatoes.com/m/the_pale_blue_eye The Pale Blue Eye 64\n",
            "https://www.rottentomatoes.com/m/the_banshees_of_inisherin The Banshees of Inisherin 97\n",
            "https://www.rottentomatoes.com/m/the_fabelmans The Fabelmans 92\n",
            "https://www.rottentomatoes.com/m/everything_everywhere_all_at_once Everything Everywhere All at Once 95\n",
            "https://www.rottentomatoes.com/m/glass_onion_a_knives_out_mystery Glass Onion: A Knives Out Mystery 92\n",
            "https://www.rottentomatoes.com/m/mars_one Mars One 97\n",
            "https://www.rottentomatoes.com/m/the_hatchet_wielding_hitchhiker The Hatchet Wielding Hitchhiker - -\n",
            "https://www.rottentomatoes.com/m/devotion_2022 Devotion 81\n"
          ]
        }
      ]
    },
    {
      "cell_type": "code",
      "source": [
        "result"
      ],
      "metadata": {
        "colab": {
          "base_uri": "https://localhost:8080/"
        },
        "id": "a5m7TVRDmNtp",
        "outputId": "8f8c6738-77d2-4cee-bc4d-50f4f7a2f86e"
      },
      "execution_count": 51,
      "outputs": [
        {
          "output_type": "execute_result",
          "data": {
            "text/plain": [
              "[{'uri': 'https://www.rottentomatoes.com/m/the_menu',\n",
              "  'movie_name': 'The Menu',\n",
              "  'movie_score': '89'},\n",
              " {'uri': 'https://www.rottentomatoes.com/m/puss_in_boots_the_last_wish',\n",
              "  'movie_name': 'Puss in Boots: The Last Wish',\n",
              "  'movie_score': '96'},\n",
              " {'uri': 'https://www.rottentomatoes.com/m/the_pale_blue_eye',\n",
              "  'movie_name': 'The Pale Blue Eye',\n",
              "  'movie_score': '64'},\n",
              " {'uri': 'https://www.rottentomatoes.com/m/the_banshees_of_inisherin',\n",
              "  'movie_name': 'The Banshees of Inisherin',\n",
              "  'movie_score': '97'},\n",
              " {'uri': 'https://www.rottentomatoes.com/m/the_fabelmans',\n",
              "  'movie_name': 'The Fabelmans',\n",
              "  'movie_score': '92'},\n",
              " {'uri': 'https://www.rottentomatoes.com/m/everything_everywhere_all_at_once',\n",
              "  'movie_name': 'Everything Everywhere All at Once',\n",
              "  'movie_score': '95'},\n",
              " {'uri': 'https://www.rottentomatoes.com/m/glass_onion_a_knives_out_mystery',\n",
              "  'movie_name': 'Glass Onion: A Knives Out Mystery',\n",
              "  'movie_score': '92'},\n",
              " {'uri': 'https://www.rottentomatoes.com/m/mars_one',\n",
              "  'movie_name': 'Mars One',\n",
              "  'movie_score': '97'},\n",
              " {'uri': 'https://www.rottentomatoes.com/m/the_hatchet_wielding_hitchhiker',\n",
              "  'movie_name': 'The Hatchet Wielding Hitchhiker',\n",
              "  'movie_score': '- -'},\n",
              " {'uri': 'https://www.rottentomatoes.com/m/devotion_2022',\n",
              "  'movie_name': 'Devotion',\n",
              "  'movie_score': '81'}]"
            ]
          },
          "metadata": {},
          "execution_count": 51
        }
      ]
    },
    {
      "cell_type": "code",
      "source": [
        "base_uri = 'https://jsonplaceholder.typicode.com/'\n",
        "\n",
        "users_uri = base_uri + 'users'\n",
        "users_uri"
      ],
      "metadata": {
        "colab": {
          "base_uri": "https://localhost:8080/",
          "height": 35
        },
        "id": "X8Nq1mX6msEB",
        "outputId": "76f94598-e05e-46d6-c041-eeab06a80899"
      },
      "execution_count": 52,
      "outputs": [
        {
          "output_type": "execute_result",
          "data": {
            "text/plain": [
              "'https://jsonplaceholder.typicode.com/users'"
            ],
            "application/vnd.google.colaboratory.intrinsic+json": {
              "type": "string"
            }
          },
          "metadata": {},
          "execution_count": 52
        }
      ]
    },
    {
      "cell_type": "code",
      "source": [
        "response = requests.get(users_uri)"
      ],
      "metadata": {
        "id": "4j2P_NLlqPxn"
      },
      "execution_count": 53,
      "outputs": []
    },
    {
      "cell_type": "code",
      "source": [
        "response.status_code"
      ],
      "metadata": {
        "colab": {
          "base_uri": "https://localhost:8080/"
        },
        "id": "JqEs3k3rqWvF",
        "outputId": "006149ad-5fe8-4db4-c65f-1e999d2405ea"
      },
      "execution_count": 54,
      "outputs": [
        {
          "output_type": "execute_result",
          "data": {
            "text/plain": [
              "200"
            ]
          },
          "metadata": {},
          "execution_count": 54
        }
      ]
    },
    {
      "cell_type": "code",
      "source": [
        "response.text"
      ],
      "metadata": {
        "colab": {
          "base_uri": "https://localhost:8080/",
          "height": 236
        },
        "id": "rNqy5Jt-qYvJ",
        "outputId": "e3c5196a-b429-4c94-f6d7-599cebfa5078"
      },
      "execution_count": 55,
      "outputs": [
        {
          "output_type": "execute_result",
          "data": {
            "text/plain": [
              "'[\\n  {\\n    \"id\": 1,\\n    \"name\": \"Leanne Graham\",\\n    \"username\": \"Bret\",\\n    \"email\": \"Sincere@april.biz\",\\n    \"address\": {\\n      \"street\": \"Kulas Light\",\\n      \"suite\": \"Apt. 556\",\\n      \"city\": \"Gwenborough\",\\n      \"zipcode\": \"92998-3874\",\\n      \"geo\": {\\n        \"lat\": \"-37.3159\",\\n        \"lng\": \"81.1496\"\\n      }\\n    },\\n    \"phone\": \"1-770-736-8031 x56442\",\\n    \"website\": \"hildegard.org\",\\n    \"company\": {\\n      \"name\": \"Romaguera-Crona\",\\n      \"catchPhrase\": \"Multi-layered client-server neural-net\",\\n      \"bs\": \"harness real-time e-markets\"\\n    }\\n  },\\n  {\\n    \"id\": 2,\\n    \"name\": \"Ervin Howell\",\\n    \"username\": \"Antonette\",\\n    \"email\": \"Shanna@melissa.tv\",\\n    \"address\": {\\n      \"street\": \"Victor Plains\",\\n      \"suite\": \"Suite 879\",\\n      \"city\": \"Wisokyburgh\",\\n      \"zipcode\": \"90566-7771\",\\n      \"geo\": {\\n        \"lat\": \"-43.9509\",\\n        \"lng\": \"-34.4618\"\\n      }\\n    },\\n    \"phone\": \"010-692-6593 x09125\",\\n    \"website\": \"anastasia.net\",\\n    \"company\": {\\n      \"name\": \"Deckow-Crist\",\\n      \"catchPhrase\": \"Proactive didactic contingency\",\\n      \"bs\": \"synergize scalable supply-chains\"\\n    }\\n  },\\n  {\\n    \"id\": 3,\\n    \"name\": \"Clementine Bauch\",\\n    \"username\": \"Samantha\",\\n    \"email\": \"Nathan@yesenia.net\",\\n    \"address\": {\\n      \"street\": \"Douglas Extension\",\\n      \"suite\": \"Suite 847\",\\n      \"city\": \"McKenziehaven\",\\n      \"zipcode\": \"59590-4157\",\\n      \"geo\": {\\n        \"lat\": \"-68.6102\",\\n        \"lng\": \"-47.0653\"\\n      }\\n    },\\n    \"phone\": \"1-463-123-4447\",\\n    \"website\": \"ramiro.info\",\\n    \"company\": {\\n      \"name\": \"Romaguera-Jacobson\",\\n      \"catchPhrase\": \"Face to face bifurcated interface\",\\n      \"bs\": \"e-enable strategic applications\"\\n    }\\n  },\\n  {\\n    \"id\": 4,\\n    \"name\": \"Patricia Lebsack\",\\n    \"username\": \"Karianne\",\\n    \"email\": \"Julianne.OConner@kory.org\",\\n    \"address\": {\\n      \"street\": \"Hoeger Mall\",\\n      \"suite\": \"Apt. 692\",\\n      \"city\": \"South Elvis\",\\n      \"zipcode\": \"53919-4257\",\\n      \"geo\": {\\n        \"lat\": \"29.4572\",\\n        \"lng\": \"-164.2990\"\\n      }\\n    },\\n    \"phone\": \"493-170-9623 x156\",\\n    \"website\": \"kale.biz\",\\n    \"company\": {\\n      \"name\": \"Robel-Corkery\",\\n      \"catchPhrase\": \"Multi-tiered zero tolerance productivity\",\\n      \"bs\": \"transition cutting-edge web services\"\\n    }\\n  },\\n  {\\n    \"id\": 5,\\n    \"name\": \"Chelsey Dietrich\",\\n    \"username\": \"Kamren\",\\n    \"email\": \"Lucio_Hettinger@annie.ca\",\\n    \"address\": {\\n      \"street\": \"Skiles Walks\",\\n      \"suite\": \"Suite 351\",\\n      \"city\": \"Roscoeview\",\\n      \"zipcode\": \"33263\",\\n      \"geo\": {\\n        \"lat\": \"-31.8129\",\\n        \"lng\": \"62.5342\"\\n      }\\n    },\\n    \"phone\": \"(254)954-1289\",\\n    \"website\": \"demarco.info\",\\n    \"company\": {\\n      \"name\": \"Keebler LLC\",\\n      \"catchPhrase\": \"User-centric fault-tolerant solution\",\\n      \"bs\": \"revolutionize end-to-end systems\"\\n    }\\n  },\\n  {\\n    \"id\": 6,\\n    \"name\": \"Mrs. Dennis Schulist\",\\n    \"username\": \"Leopoldo_Corkery\",\\n    \"email\": \"Karley_Dach@jasper.info\",\\n    \"address\": {\\n      \"street\": \"Norberto Crossing\",\\n      \"suite\": \"Apt. 950\",\\n      \"city\": \"South Christy\",\\n      \"zipcode\": \"23505-1337\",\\n      \"geo\": {\\n        \"lat\": \"-71.4197\",\\n        \"lng\": \"71.7478\"\\n      }\\n    },\\n    \"phone\": \"1-477-935-8478 x6430\",\\n    \"website\": \"ola.org\",\\n    \"company\": {\\n      \"name\": \"Considine-Lockman\",\\n      \"catchPhrase\": \"Synchronised bottom-line interface\",\\n      \"bs\": \"e-enable innovative applications\"\\n    }\\n  },\\n  {\\n    \"id\": 7,\\n    \"name\": \"Kurtis Weissnat\",\\n    \"username\": \"Elwyn.Skiles\",\\n    \"email\": \"Telly.Hoeger@billy.biz\",\\n    \"address\": {\\n      \"street\": \"Rex Trail\",\\n      \"suite\": \"Suite 280\",\\n      \"city\": \"Howemouth\",\\n      \"zipcode\": \"58804-1099\",\\n      \"geo\": {\\n        \"lat\": \"24.8918\",\\n        \"lng\": \"21.8984\"\\n      }\\n    },\\n    \"phone\": \"210.067.6132\",\\n    \"website\": \"elvis.io\",\\n    \"company\": {\\n      \"name\": \"Johns Group\",\\n      \"catchPhrase\": \"Configurable multimedia task-force\",\\n      \"bs\": \"generate enterprise e-tailers\"\\n    }\\n  },\\n  {\\n    \"id\": 8,\\n    \"name\": \"Nicholas Runolfsdottir V\",\\n    \"username\": \"Maxime_Nienow\",\\n    \"email\": \"Sherwood@rosamond.me\",\\n    \"address\": {\\n      \"street\": \"Ellsworth Summit\",\\n      \"suite\": \"Suite 729\",\\n      \"city\": \"Aliyaview\",\\n      \"zipcode\": \"45169\",\\n      \"geo\": {\\n        \"lat\": \"-14.3990\",\\n        \"lng\": \"-120.7677\"\\n      }\\n    },\\n    \"phone\": \"586.493.6943 x140\",\\n    \"website\": \"jacynthe.com\",\\n    \"company\": {\\n      \"name\": \"Abernathy Group\",\\n      \"catchPhrase\": \"Implemented secondary concept\",\\n      \"bs\": \"e-enable extensible e-tailers\"\\n    }\\n  },\\n  {\\n    \"id\": 9,\\n    \"name\": \"Glenna Reichert\",\\n    \"username\": \"Delphine\",\\n    \"email\": \"Chaim_McDermott@dana.io\",\\n    \"address\": {\\n      \"street\": \"Dayna Park\",\\n      \"suite\": \"Suite 449\",\\n      \"city\": \"Bartholomebury\",\\n      \"zipcode\": \"76495-3109\",\\n      \"geo\": {\\n        \"lat\": \"24.6463\",\\n        \"lng\": \"-168.8889\"\\n      }\\n    },\\n    \"phone\": \"(775)976-6794 x41206\",\\n    \"website\": \"conrad.com\",\\n    \"company\": {\\n      \"name\": \"Yost and Sons\",\\n      \"catchPhrase\": \"Switchable contextually-based project\",\\n      \"bs\": \"aggregate real-time technologies\"\\n    }\\n  },\\n  {\\n    \"id\": 10,\\n    \"name\": \"Clementina DuBuque\",\\n    \"username\": \"Moriah.Stanton\",\\n    \"email\": \"Rey.Padberg@karina.biz\",\\n    \"address\": {\\n      \"street\": \"Kattie Turnpike\",\\n      \"suite\": \"Suite 198\",\\n      \"city\": \"Lebsackbury\",\\n      \"zipcode\": \"31428-2261\",\\n      \"geo\": {\\n        \"lat\": \"-38.2386\",\\n        \"lng\": \"57.2232\"\\n      }\\n    },\\n    \"phone\": \"024-648-3804\",\\n    \"website\": \"ambrose.net\",\\n    \"company\": {\\n      \"name\": \"Hoeger LLC\",\\n      \"catchPhrase\": \"Centralized empowering task-force\",\\n      \"bs\": \"target end-to-end models\"\\n    }\\n  }\\n]'"
            ],
            "application/vnd.google.colaboratory.intrinsic+json": {
              "type": "string"
            }
          },
          "metadata": {},
          "execution_count": 55
        }
      ]
    },
    {
      "cell_type": "code",
      "source": [
        "result = response.json()"
      ],
      "metadata": {
        "id": "4RauK9fGqo7W"
      },
      "execution_count": 56,
      "outputs": []
    },
    {
      "cell_type": "code",
      "source": [
        "result"
      ],
      "metadata": {
        "colab": {
          "base_uri": "https://localhost:8080/"
        },
        "id": "_mGX9MiAqtU9",
        "outputId": "3cb2d6d3-e392-46b6-824b-ff666f08a336"
      },
      "execution_count": 57,
      "outputs": [
        {
          "output_type": "execute_result",
          "data": {
            "text/plain": [
              "[{'id': 1,\n",
              "  'name': 'Leanne Graham',\n",
              "  'username': 'Bret',\n",
              "  'email': 'Sincere@april.biz',\n",
              "  'address': {'street': 'Kulas Light',\n",
              "   'suite': 'Apt. 556',\n",
              "   'city': 'Gwenborough',\n",
              "   'zipcode': '92998-3874',\n",
              "   'geo': {'lat': '-37.3159', 'lng': '81.1496'}},\n",
              "  'phone': '1-770-736-8031 x56442',\n",
              "  'website': 'hildegard.org',\n",
              "  'company': {'name': 'Romaguera-Crona',\n",
              "   'catchPhrase': 'Multi-layered client-server neural-net',\n",
              "   'bs': 'harness real-time e-markets'}},\n",
              " {'id': 2,\n",
              "  'name': 'Ervin Howell',\n",
              "  'username': 'Antonette',\n",
              "  'email': 'Shanna@melissa.tv',\n",
              "  'address': {'street': 'Victor Plains',\n",
              "   'suite': 'Suite 879',\n",
              "   'city': 'Wisokyburgh',\n",
              "   'zipcode': '90566-7771',\n",
              "   'geo': {'lat': '-43.9509', 'lng': '-34.4618'}},\n",
              "  'phone': '010-692-6593 x09125',\n",
              "  'website': 'anastasia.net',\n",
              "  'company': {'name': 'Deckow-Crist',\n",
              "   'catchPhrase': 'Proactive didactic contingency',\n",
              "   'bs': 'synergize scalable supply-chains'}},\n",
              " {'id': 3,\n",
              "  'name': 'Clementine Bauch',\n",
              "  'username': 'Samantha',\n",
              "  'email': 'Nathan@yesenia.net',\n",
              "  'address': {'street': 'Douglas Extension',\n",
              "   'suite': 'Suite 847',\n",
              "   'city': 'McKenziehaven',\n",
              "   'zipcode': '59590-4157',\n",
              "   'geo': {'lat': '-68.6102', 'lng': '-47.0653'}},\n",
              "  'phone': '1-463-123-4447',\n",
              "  'website': 'ramiro.info',\n",
              "  'company': {'name': 'Romaguera-Jacobson',\n",
              "   'catchPhrase': 'Face to face bifurcated interface',\n",
              "   'bs': 'e-enable strategic applications'}},\n",
              " {'id': 4,\n",
              "  'name': 'Patricia Lebsack',\n",
              "  'username': 'Karianne',\n",
              "  'email': 'Julianne.OConner@kory.org',\n",
              "  'address': {'street': 'Hoeger Mall',\n",
              "   'suite': 'Apt. 692',\n",
              "   'city': 'South Elvis',\n",
              "   'zipcode': '53919-4257',\n",
              "   'geo': {'lat': '29.4572', 'lng': '-164.2990'}},\n",
              "  'phone': '493-170-9623 x156',\n",
              "  'website': 'kale.biz',\n",
              "  'company': {'name': 'Robel-Corkery',\n",
              "   'catchPhrase': 'Multi-tiered zero tolerance productivity',\n",
              "   'bs': 'transition cutting-edge web services'}},\n",
              " {'id': 5,\n",
              "  'name': 'Chelsey Dietrich',\n",
              "  'username': 'Kamren',\n",
              "  'email': 'Lucio_Hettinger@annie.ca',\n",
              "  'address': {'street': 'Skiles Walks',\n",
              "   'suite': 'Suite 351',\n",
              "   'city': 'Roscoeview',\n",
              "   'zipcode': '33263',\n",
              "   'geo': {'lat': '-31.8129', 'lng': '62.5342'}},\n",
              "  'phone': '(254)954-1289',\n",
              "  'website': 'demarco.info',\n",
              "  'company': {'name': 'Keebler LLC',\n",
              "   'catchPhrase': 'User-centric fault-tolerant solution',\n",
              "   'bs': 'revolutionize end-to-end systems'}},\n",
              " {'id': 6,\n",
              "  'name': 'Mrs. Dennis Schulist',\n",
              "  'username': 'Leopoldo_Corkery',\n",
              "  'email': 'Karley_Dach@jasper.info',\n",
              "  'address': {'street': 'Norberto Crossing',\n",
              "   'suite': 'Apt. 950',\n",
              "   'city': 'South Christy',\n",
              "   'zipcode': '23505-1337',\n",
              "   'geo': {'lat': '-71.4197', 'lng': '71.7478'}},\n",
              "  'phone': '1-477-935-8478 x6430',\n",
              "  'website': 'ola.org',\n",
              "  'company': {'name': 'Considine-Lockman',\n",
              "   'catchPhrase': 'Synchronised bottom-line interface',\n",
              "   'bs': 'e-enable innovative applications'}},\n",
              " {'id': 7,\n",
              "  'name': 'Kurtis Weissnat',\n",
              "  'username': 'Elwyn.Skiles',\n",
              "  'email': 'Telly.Hoeger@billy.biz',\n",
              "  'address': {'street': 'Rex Trail',\n",
              "   'suite': 'Suite 280',\n",
              "   'city': 'Howemouth',\n",
              "   'zipcode': '58804-1099',\n",
              "   'geo': {'lat': '24.8918', 'lng': '21.8984'}},\n",
              "  'phone': '210.067.6132',\n",
              "  'website': 'elvis.io',\n",
              "  'company': {'name': 'Johns Group',\n",
              "   'catchPhrase': 'Configurable multimedia task-force',\n",
              "   'bs': 'generate enterprise e-tailers'}},\n",
              " {'id': 8,\n",
              "  'name': 'Nicholas Runolfsdottir V',\n",
              "  'username': 'Maxime_Nienow',\n",
              "  'email': 'Sherwood@rosamond.me',\n",
              "  'address': {'street': 'Ellsworth Summit',\n",
              "   'suite': 'Suite 729',\n",
              "   'city': 'Aliyaview',\n",
              "   'zipcode': '45169',\n",
              "   'geo': {'lat': '-14.3990', 'lng': '-120.7677'}},\n",
              "  'phone': '586.493.6943 x140',\n",
              "  'website': 'jacynthe.com',\n",
              "  'company': {'name': 'Abernathy Group',\n",
              "   'catchPhrase': 'Implemented secondary concept',\n",
              "   'bs': 'e-enable extensible e-tailers'}},\n",
              " {'id': 9,\n",
              "  'name': 'Glenna Reichert',\n",
              "  'username': 'Delphine',\n",
              "  'email': 'Chaim_McDermott@dana.io',\n",
              "  'address': {'street': 'Dayna Park',\n",
              "   'suite': 'Suite 449',\n",
              "   'city': 'Bartholomebury',\n",
              "   'zipcode': '76495-3109',\n",
              "   'geo': {'lat': '24.6463', 'lng': '-168.8889'}},\n",
              "  'phone': '(775)976-6794 x41206',\n",
              "  'website': 'conrad.com',\n",
              "  'company': {'name': 'Yost and Sons',\n",
              "   'catchPhrase': 'Switchable contextually-based project',\n",
              "   'bs': 'aggregate real-time technologies'}},\n",
              " {'id': 10,\n",
              "  'name': 'Clementina DuBuque',\n",
              "  'username': 'Moriah.Stanton',\n",
              "  'email': 'Rey.Padberg@karina.biz',\n",
              "  'address': {'street': 'Kattie Turnpike',\n",
              "   'suite': 'Suite 198',\n",
              "   'city': 'Lebsackbury',\n",
              "   'zipcode': '31428-2261',\n",
              "   'geo': {'lat': '-38.2386', 'lng': '57.2232'}},\n",
              "  'phone': '024-648-3804',\n",
              "  'website': 'ambrose.net',\n",
              "  'company': {'name': 'Hoeger LLC',\n",
              "   'catchPhrase': 'Centralized empowering task-force',\n",
              "   'bs': 'target end-to-end models'}}]"
            ]
          },
          "metadata": {},
          "execution_count": 57
        }
      ]
    },
    {
      "cell_type": "code",
      "source": [
        "result[0].keys()"
      ],
      "metadata": {
        "colab": {
          "base_uri": "https://localhost:8080/"
        },
        "id": "54pW1cASq3OK",
        "outputId": "7a9a676a-7458-4878-ab58-572e72c77779"
      },
      "execution_count": 58,
      "outputs": [
        {
          "output_type": "execute_result",
          "data": {
            "text/plain": [
              "dict_keys(['id', 'name', 'username', 'email', 'address', 'phone', 'website', 'company'])"
            ]
          },
          "metadata": {},
          "execution_count": 58
        }
      ]
    },
    {
      "cell_type": "code",
      "source": [
        "response = requests.get('https://finance.yahoo.com/quote/GC%3DF?p=GC%3DF')\n",
        "response.status_code"
      ],
      "metadata": {
        "colab": {
          "base_uri": "https://localhost:8080/"
        },
        "id": "fqUXquDWrBAY",
        "outputId": "3971e2d2-9fcf-4cca-a83d-98ec62ab35c8"
      },
      "execution_count": 59,
      "outputs": [
        {
          "output_type": "execute_result",
          "data": {
            "text/plain": [
              "200"
            ]
          },
          "metadata": {},
          "execution_count": 59
        }
      ]
    },
    {
      "cell_type": "code",
      "source": [
        "soup = BeautifulSoup(response.text, 'lxml')"
      ],
      "metadata": {
        "id": "2LV2jZt1stgW"
      },
      "execution_count": 60,
      "outputs": []
    },
    {
      "cell_type": "code",
      "source": [
        "uls = soup.find_all('div', attrs={'id': 'quoteNewsStream-0-Stream'})"
      ],
      "metadata": {
        "id": "Cpsiqs4QszvE"
      },
      "execution_count": 61,
      "outputs": []
    },
    {
      "cell_type": "code",
      "source": [
        "uls"
      ],
      "metadata": {
        "colab": {
          "base_uri": "https://localhost:8080/"
        },
        "id": "AGBI057GtKBx",
        "outputId": "db081ce3-a484-4a33-895e-f0ed1b819bfe"
      },
      "execution_count": 62,
      "outputs": [
        {
          "output_type": "execute_result",
          "data": {
            "text/plain": [
              "[<div class=\"tdv2-applet-stream Bdc(#e2e2e6) Pos(r) Z(1)\" id=\"quoteNewsStream-0-Stream\" style=\"max-width:900px\"><ul class=\"My(0) P(0) Wow(bw) Ov(h)\"><li class=\"js-stream-content Pos(r)\"><div class=\"Py(14px) Pos(r)\" data-test-locator=\"mega\"><div class=\"Cf\"><div class=\"Fl(start) Pos(r) Mt(2px) W(26.5%) Maw(220px)\"><div class=\"H(0) Ov(h) Bdrs(2px)\" style=\"padding-bottom:88%\"><img alt=\"\" class=\" W(100%) Trsdu(0s)! Bdrs(2px)\" src=\"https://s.yimg.com/uu/api/res/1.2/clny9EnGhKbu.baAdIq6aA--~B/Zmk9c3RyaW07aD0xOTM7cT04MDt3PTIyMDthcHBpZD15dGFjaHlvbg--/https://media.zenfs.com/en/coindesk_75/bfe3376f92bb834557a7e66d5ed8bf0a\" srcset=\"https://s.yimg.com/uu/api/res/1.2/clny9EnGhKbu.baAdIq6aA--~B/Zmk9c3RyaW07aD0xOTM7cT04MDt3PTIyMDthcHBpZD15dGFjaHlvbg--/https://media.zenfs.com/en/coindesk_75/bfe3376f92bb834557a7e66d5ed8bf0a 1x,https://s.yimg.com/uu/api/res/1.2/qYPllZGVSvxqTEyQW5k79A--~B/Zmk9c3RyaW07aD0zODY7cT04MDt3PTQ0MDthcHBpZD15dGFjaHlvbg--/https://media.zenfs.com/en/coindesk_75/bfe3376f92bb834557a7e66d5ed8bf0a 2x\"/></div></div><div class=\"Ov(h) Pend(44px) Pstart(25px)\"><div class=\"C(#959595) Fz(11px) D(ib) Mb(6px)\">CoinDesk</div><h3 class=\"Mb(5px)\"><a class=\"js-content-viewer wafer-caas Fw(b) Fz(18px) Lh(23px) LineClamp(2,46px) Fz(17px)--sm1024 Lh(19px)--sm1024 LineClamp(2,38px)--sm1024 mega-item-header-link Td(n) C(#0078ff):h C(#000) LineClamp(2,46px) LineClamp(2,38px)--sm1024 not-isInStreamVideoEnabled\" data-uuid=\"8137174f-9c1e-35fe-b566-03eb299bac3f\" data-wf-caas-prefetch=\"1\" data-wf-caas-uuid=\"8137174f-9c1e-35fe-b566-03eb299bac3f\" href=\"/news/first-mover-asia-whats-next-030145094.html\"><u class=\"StretchedBox\"></u>First Mover Asia: What's Next for Bitcoin After Biggest One-Day Price Pop in 2 Months?</a></h3><p class=\"Fz(14px) Lh(19px) Fz(13px)--sm1024 Lh(17px)--sm1024 LineClamp(2,38px) LineClamp(2,34px)--sm1024 M(0) D(n)--sm1024 Bxz(bb) Pb(2px)\">Plus: Shaurya Malwa writes that security firms are predicting that blockchain bridges can avoid some of the carnage of 2022 this year by security features built during the bear market.</p><ul class=\"Cf Mt(12px) Fz(12px) Pos(r) Mt(8px)--sm1024\"><li class=\"Fl(start) W(50%) W(100%)--sm1024 Mb(8px)--sm1024\"><a class=\"js-content-viewer wafer-caas Td(n) D(ib) Va(t) W(90%) Mend(10%) C(#0078ff)!:h C(#000) C(#959595):vi\" data-uuid=\"b2adda90-9063-4b31-9811-fe5fc840c6b9\" data-wf-caas-prefetch=\"1\" data-wf-caas-uuid=\"b2adda90-9063-4b31-9811-fe5fc840c6b9\" href=\"/news/fed-officials-see-eye-popping-inflation-data-in-rearview-after-december-slowdown-193316112.html\"><img alt=\"\" class=\" Fl(start) W(29%) Miw(65px) Maw(72px) Mend(10px) Trsdu(0s)! D(n)--sm1024 Bdrs(2px)\" src=\"https://s.yimg.com/uu/api/res/1.2/3qsn8GySx_nFHVJxCRG0kA--~B/Zmk9c3RyaW07aD0xNDQ7cT04MDt3PTE0NDthcHBpZD15dGFjaHlvbg--/https://s.yimg.com/os/creatr-uploaded-images/2023-01/be3850d0-9289-11ed-a377-5e7825831c37\"/><div class=\"Ov(h)\"><div class=\"Lh(15px) Fw(b) LineClamp(3,45px) D(i)--sm1024 Pend(10px)--sm1024\">Fed officials see 'eye-popping' inflation data in rearview after December slowdown</div><div class=\"C(#959595) Fz(11px) Mt(2px) Va(b) D(ib)--sm1024\">Yahoo Finance</div></div></a></li><li class=\"Fl(start) W(50%) W(100%)--sm1024\"><a class=\"js-content-viewer wafer-caas Td(n) D(ib) Va(t) W(90%) Mend(10%) C(#0078ff)!:h C(#000) C(#959595):vi\" data-uuid=\"64a60b11-f6a0-3cca-8122-d96b903b4c99\" data-wf-caas-prefetch=\"1\" data-wf-caas-uuid=\"64a60b11-f6a0-3cca-8122-d96b903b4c99\" href=\"/video/december-cpi-inflation-slows-3rd-142815795.html\"><img alt=\"\" class=\" Fl(start) W(29%) Miw(65px) Maw(72px) Mend(10px) Trsdu(0s)! D(n)--sm1024 Bdrs(2px)\" src=\"https://s.yimg.com/uu/api/res/1.2/KEDLjsd8mDXxEBhrp_pUIA--~B/Zmk9c3RyaW07aD0xNDQ7cT04MDt3PTE0NDthcHBpZD15dGFjaHlvbg--/https://s.yimg.com/os/creatr-uploaded-images/2023-01/54de3db0-9285-11ed-97b7-682f72831605\"/><div class=\"Ov(h)\"><div class=\"Lh(15px) Fw(b) LineClamp(3,45px) D(i)--sm1024 Pend(10px)--sm1024\">December CPI: Inflation slows for 3rd month, falls 0.1% over last month</div><div class=\"C(#959595) Fz(11px) Mt(2px) Va(b) D(ib)--sm1024\">Yahoo Finance Video</div></div></a></li></ul></div></div></div></li><li class=\"js-stream-content Pos(r)\"><div class=\"Py(14px) Pos(r)\" data-test-locator=\"mega\"><div class=\"Cf\"><div class=\"Fl(start) Pos(r) Mt(2px) W(26.5%) Maw(220px)\"><div class=\"H(0) Ov(h) Bdrs(2px)\" style=\"padding-bottom:88%\"><img alt=\"\" class=\" W(100%) Trsdu(0s)! Bdrs(2px)\" src=\"https://s.yimg.com/uu/api/res/1.2/z54TN3fwyIU6OlHc8i0PYQ--~B/Zmk9c3RyaW07aD0xOTM7cT04MDt3PTIyMDthcHBpZD15dGFjaHlvbg--/https://media.zenfs.com/en/reuters.com/17a00c751f57280474612563a50ff6fa\" srcset=\"https://s.yimg.com/uu/api/res/1.2/z54TN3fwyIU6OlHc8i0PYQ--~B/Zmk9c3RyaW07aD0xOTM7cT04MDt3PTIyMDthcHBpZD15dGFjaHlvbg--/https://media.zenfs.com/en/reuters.com/17a00c751f57280474612563a50ff6fa 1x,https://s.yimg.com/uu/api/res/1.2/Sje4p80e8vZ.kiOx_BKHEQ--~B/Zmk9c3RyaW07aD0zODY7cT04MDt3PTQ0MDthcHBpZD15dGFjaHlvbg--/https://media.zenfs.com/en/reuters.com/17a00c751f57280474612563a50ff6fa 2x\"/></div></div><div class=\"Ov(h) Pend(44px) Pstart(25px)\"><div class=\"C(#959595) Fz(11px) D(ib) Mb(6px)\">Reuters</div><h3 class=\"Mb(5px)\"><a class=\"js-content-viewer wafer-caas Fw(b) Fz(18px) Lh(23px) LineClamp(2,46px) Fz(17px)--sm1024 Lh(19px)--sm1024 LineClamp(2,38px)--sm1024 mega-item-header-link Td(n) C(#0078ff):h C(#000) LineClamp(2,46px) LineClamp(2,38px)--sm1024 not-isInStreamVideoEnabled\" data-uuid=\"2bdf9b6d-7575-360a-893e-af1f41cf2da0\" data-wf-caas-prefetch=\"1\" data-wf-caas-uuid=\"2bdf9b6d-7575-360a-893e-af1f41cf2da0\" href=\"/news/gold-set-weekly-gain-smaller-025545186.html\"><u class=\"StretchedBox\"></u>Gold set for weekly gain on smaller U.S. rate-hike bets</a></h3><p class=\"Fz(14px) Lh(19px) Fz(13px)--sm1024 Lh(17px)--sm1024 LineClamp(2,38px) LineClamp(2,34px)--sm1024 M(0) D(n)--sm1024 Bxz(bb) Pb(2px)\">Gold prices ticked higher on Friday and were on track for a fourth consecutive weekly gain, supported by a weaker dollar and expectations of slower interest rate hikes by the U.S. Federal Reserve.  Spot gold was up 0.1% at $1,898.57 per ounce, as of 0234 GMT.</p><ul class=\"Cf Mt(12px) Fz(12px) Pos(r) Mt(8px)--sm1024\"><li class=\"Fl(start) W(50%) W(100%)--sm1024 Mb(8px)--sm1024\"><a class=\"js-content-viewer wafer-caas Td(n) D(ib) Va(t) W(90%) Mend(10%) C(#0078ff)!:h C(#000) C(#959595):vi\" data-uuid=\"e58ba2e5-6233-3436-aa67-e6358bd44808\" data-wf-caas-prefetch=\"1\" data-wf-caas-uuid=\"e58ba2e5-6233-3436-aa67-e6358bd44808\" href=\"/news/gold-flat-traders-await-u-025942664.html\"><img alt=\"\" class=\" Fl(start) W(29%) Miw(65px) Maw(72px) Mend(10px) Trsdu(0s)! D(n)--sm1024 Bdrs(2px)\" src=\"https://s.yimg.com/uu/api/res/1.2/mieNdiHMxQUotlA1SdVB0A--~B/Zmk9c3RyaW07aD0xNDQ7cT04MDt3PTE0NDthcHBpZD15dGFjaHlvbg--/https://media.zenfs.com/en/reuters.com/0e94ef4fe0796c1545e31c02e61ab37e\"/><div class=\"Ov(h)\"><div class=\"Lh(15px) Fw(b) LineClamp(3,45px) D(i)--sm1024 Pend(10px)--sm1024\">Gold hovers near $1,900/oz after U.S. inflation data cements Fed slowdown bets</div><div class=\"C(#959595) Fz(11px) Mt(2px) Va(b) D(ib)--sm1024\">Reuters</div></div></a></li><li class=\"Fl(start) W(50%) W(100%)--sm1024\"><a class=\"js-content-viewer wafer-caas Td(n) D(ib) Va(t) W(90%) Mend(10%) C(#0078ff)!:h C(#000) C(#959595):vi\" data-uuid=\"7784638f-9a9f-31dc-9633-97091f0bafd1\" data-wf-caas-prefetch=\"1\" data-wf-caas-uuid=\"7784638f-9a9f-31dc-9633-97091f0bafd1\" href=\"/news/global-markets-stocks-rise-dollar-212052830.html\"><img alt=\"\" class=\" Fl(start) W(29%) Miw(65px) Maw(72px) Mend(10px) Trsdu(0s)! D(n)--sm1024 Bdrs(2px)\" src=\"https://s.yimg.com/uu/api/res/1.2/JizmDR0ahfmw85d6O8k1bQ--~B/Zmk9c3RyaW07aD0xNDQ7cT04MDt3PTE0NDthcHBpZD15dGFjaHlvbg--/https://s.yimg.com/os/creatr-uploaded-images/2023-01/d2edba30-92be-11ed-a4ef-70b0696dbb7d\"/><div class=\"Ov(h)\"><div class=\"Lh(15px) Fw(b) LineClamp(3,45px) D(i)--sm1024 Pend(10px)--sm1024\">GLOBAL MARKETS-Stocks rise, dollar stumbles after U.S. inflation data</div><div class=\"C(#959595) Fz(11px) Mt(2px) Va(b) D(ib)--sm1024\">Reuters</div></div></a></li></ul></div></div></div></li><li class=\"js-stream-content Pos(r)\"><div class=\"Py(14px) Pos(r)\" data-test-locator=\"mega\"><div class=\"Cf\"><div class=\"Fl(start) Pos(r) Mt(2px) W(26.5%) Maw(220px)\"><div class=\"H(0) Ov(h) Bdrs(2px)\" style=\"padding-bottom:88%\"><img alt=\"\" class=\" W(100%) Trsdu(0s)! Bdrs(2px)\" src=\"https://s.yimg.com/uu/api/res/1.2/jVL9AeRm94rdyMLBkli0nw--~B/Zmk9c3RyaW07aD0xOTM7cT04MDt3PTIyMDthcHBpZD15dGFjaHlvbg--/https://media.zenfs.com/en/reuters.com/e81d219dcecd45b2339a30597b9b5cb1\" srcset=\"https://s.yimg.com/uu/api/res/1.2/jVL9AeRm94rdyMLBkli0nw--~B/Zmk9c3RyaW07aD0xOTM7cT04MDt3PTIyMDthcHBpZD15dGFjaHlvbg--/https://media.zenfs.com/en/reuters.com/e81d219dcecd45b2339a30597b9b5cb1 1x,https://s.yimg.com/uu/api/res/1.2/v0Sh5OZnp27As4CWDMPaog--~B/Zmk9c3RyaW07aD0zODY7cT04MDt3PTQ0MDthcHBpZD15dGFjaHlvbg--/https://media.zenfs.com/en/reuters.com/e81d219dcecd45b2339a30597b9b5cb1 2x\"/></div></div><div class=\"Ov(h) Pend(44px) Pstart(25px)\"><div class=\"C(#959595) Fz(11px) D(ib) Mb(6px)\">Reuters</div><h3 class=\"Mb(5px)\"><a class=\"js-content-viewer wafer-caas Fw(b) Fz(18px) Lh(23px) LineClamp(2,46px) Fz(17px)--sm1024 Lh(19px)--sm1024 LineClamp(2,38px)--sm1024 mega-item-header-link Td(n) C(#0078ff):h C(#000) LineClamp(2,46px) LineClamp(2,38px)--sm1024 not-isInStreamVideoEnabled\" data-uuid=\"09231a2a-231d-34db-9c9e-5a23ab6e116a\" data-wf-caas-prefetch=\"1\" data-wf-caas-uuid=\"09231a2a-231d-34db-9c9e-5a23ab6e116a\" href=\"/news/gold-climbs-8-month-high-003234080.html\"><u class=\"StretchedBox\"></u>Gold climbs 8-month high ahead of U.S. inflation test</a></h3><p class=\"Fz(14px) Lh(19px) Fz(13px)--sm1024 Lh(17px)--sm1024 LineClamp(2,38px) LineClamp(2,34px)--sm1024 M(0) D(n)--sm1024 Bxz(bb) Pb(2px)\">Gold prices scaled an eight-month peak on Wednesday, underpinned by a subdued dollar, although they traded in a tight range as traders positioned themselves for inflation data that could influence the U.S. Federal Reserve's rate-hike stance.  Overall, it looks like gold is currently consolidating into a range as the focus turns to the U.S. consumer price index (CPI) data on Thursday, said Ilya Spivak, head of global macro at Tastylive.  Gold is considered an inflation hedge, but is highly sensitive to rising interest rates, which increase the opportunity cost of holding the non-yielding bullion.</p><ul class=\"Cf Mt(12px) Fz(12px) Pos(r) Mt(8px)--sm1024\"><li class=\"Fl(start) W(50%) W(100%)--sm1024 Mb(8px)--sm1024\"><a class=\"js-content-viewer wafer-caas Td(n) D(ib) Va(t) W(90%) Mend(10%) C(#0078ff)!:h C(#000) C(#959595):vi\" data-uuid=\"33692a62-9c5b-3e46-b0f5-d4f5fad7ca5e\" data-wf-caas-prefetch=\"1\" data-wf-caas-uuid=\"33692a62-9c5b-3e46-b0f5-d4f5fad7ca5e\" href=\"/video/inflation-numbers-thursday-110200030.html\"><img alt=\"\" class=\" Fl(start) W(29%) Miw(65px) Maw(72px) Mend(10px) Trsdu(0s)! D(n)--sm1024 Bdrs(2px)\" src=\"https://s.yimg.com/uu/api/res/1.2/06G39vjtyYN6GQiwC9wm9Q--~B/Zmk9c3RyaW07aD0xNDQ7cT04MDt3PTE0NDthcHBpZD15dGFjaHlvbg--/https://media.zenfs.com/en/video.cbsnewyork.com/6d979936a0c90a12ed58dc1e13acaa60\"/><div class=\"Ov(h)\"><div class=\"Lh(15px) Fw(b) LineClamp(3,45px) D(i)--sm1024 Pend(10px)--sm1024\">New inflation numbers out Thursday</div><div class=\"C(#959595) Fz(11px) Mt(2px) Va(b) D(ib)--sm1024\">CBS-Newyork</div></div></a></li><li class=\"Fl(start) W(50%) W(100%)--sm1024\"><a class=\"js-content-viewer wafer-caas Td(n) D(ib) Va(t) W(90%) Mend(10%) C(#0078ff)!:h C(#000) C(#959595):vi\" data-uuid=\"91ecc364-e62b-39f4-8bfe-473d7a205b03\" data-wf-caas-prefetch=\"1\" data-wf-caas-uuid=\"91ecc364-e62b-39f4-8bfe-473d7a205b03\" href=\"/m/91ecc364-e62b-39f4-8bfe-473d7a205b03/treasuries-rally-after-cpi.html\"><img alt=\"\" class=\" Fl(start) W(29%) Miw(65px) Maw(72px) Mend(10px) Trsdu(0s)! D(n)--sm1024 Bdrs(2px)\" src=\"https://s.yimg.com/uu/api/res/1.2/vh2T9MXiqfpcSxDHn4SwjQ--~B/Zmk9c3RyaW07aD0xNDQ7cT04MDt3PTE0NDthcHBpZD15dGFjaHlvbg--/https://media.zenfs.com/en/Barrons.com/5014520b5f0b5c723d5525e85d99eec5\"/><div class=\"Ov(h)\"><div class=\"Lh(15px) Fw(b) LineClamp(3,45px) D(i)--sm1024 Pend(10px)--sm1024\">Treasuries Rally After CPI Release, Then Falter</div><div class=\"C(#959595) Fz(11px) Mt(2px) Va(b) D(ib)--sm1024\">Barrons.com</div></div></a></li></ul></div></div></div></li><li class=\"js-stream-content Pos(r)\"><div class=\"Py(14px) Pos(r)\" data-test-locator=\"mega\"><div class=\"Cf\"><div class=\"Fl(start) Pos(r) Mt(2px) W(26.5%) Maw(220px)\"><div class=\"H(0) Ov(h) Bdrs(2px)\" style=\"padding-bottom:88%\"><img alt=\"\" class=\" W(100%) Trsdu(0s)! Bdrs(2px)\" src=\"https://s.yimg.com/uu/api/res/1.2/CPnb7Oboi.fDFRjLPwIEjQ--~B/Zmk9c3RyaW07aD0xOTM7cT04MDt3PTIyMDthcHBpZD15dGFjaHlvbg--/https://media.zenfs.com/en/coindesk_75/a4303940bcc5bec874134c17ba880dfd\" srcset=\"https://s.yimg.com/uu/api/res/1.2/CPnb7Oboi.fDFRjLPwIEjQ--~B/Zmk9c3RyaW07aD0xOTM7cT04MDt3PTIyMDthcHBpZD15dGFjaHlvbg--/https://media.zenfs.com/en/coindesk_75/a4303940bcc5bec874134c17ba880dfd 1x,https://s.yimg.com/uu/api/res/1.2/2G5QwjfY.3PnHTeNvaER6w--~B/Zmk9c3RyaW07aD0zODY7cT04MDt3PTQ0MDthcHBpZD15dGFjaHlvbg--/https://media.zenfs.com/en/coindesk_75/a4303940bcc5bec874134c17ba880dfd 2x\"/></div></div><div class=\"Ov(h) Pend(44px) Pstart(25px)\"><div class=\"C(#959595) Fz(11px) D(ib) Mb(6px)\">CoinDesk</div><h3 class=\"Mb(5px)\"><a class=\"js-content-viewer wafer-caas Fw(b) Fz(18px) Lh(23px) LineClamp(2,46px) Fz(17px)--sm1024 Lh(19px)--sm1024 LineClamp(2,38px)--sm1024 mega-item-header-link Td(n) C(#0078ff):h C(#000) LineClamp(2,46px) LineClamp(2,38px)--sm1024 not-isInStreamVideoEnabled\" data-uuid=\"81db14d9-5ec7-3996-8711-27cc82a40c8d\" data-wf-caas-prefetch=\"1\" data-wf-caas-uuid=\"81db14d9-5ec7-3996-8711-27cc82a40c8d\" href=\"/news/crypto-markets-today-bitcoin-tops-222108519.html\"><u class=\"StretchedBox\"></u>Crypto Markets Today: Bitcoin Tops $19K, Blockchain.com Cuts Jobs, Sam Bankman-Fried Blogs</a></h3><p class=\"Fz(14px) Lh(19px) Fz(13px)--sm1024 Lh(17px)--sm1024 LineClamp(2,38px) LineClamp(2,34px)--sm1024 M(0) D(n)--sm1024 Bxz(bb) Pb(2px)\">ALSO: Bitcoin had its best day in two months after the Consumer Price Index (CPI) report shows inflation slowdown, extending this week’s digital-asset rally.</p><ul class=\"Cf Mt(12px) Fz(12px) Pos(r) Mt(8px)--sm1024\"><li class=\"Fl(start) W(50%) W(100%)--sm1024 Mb(8px)--sm1024\"><a class=\"js-content-viewer wafer-caas Td(n) D(ib) Va(t) W(90%) Mend(10%) C(#0078ff)!:h C(#000) C(#959595):vi\" data-uuid=\"cc939bb2-da4f-3f70-aa65-2e83a3672446\" data-wf-caas-prefetch=\"1\" data-wf-caas-uuid=\"cc939bb2-da4f-3f70-aa65-2e83a3672446\" href=\"/video/didn-t-steal-funds-ftx-154819171.html\"><img alt=\"\" class=\" Fl(start) W(29%) Miw(65px) Maw(72px) Mend(10px) Trsdu(0s)! D(n)--sm1024 Bdrs(2px)\" src=\"https://s.yimg.com/uu/api/res/1.2/IhDTnN8TXl_1tnkhgWRV.g--~B/Zmk9c3RyaW07aD0xNDQ7cT04MDt3PTE0NDthcHBpZD15dGFjaHlvbg--/https://s.yimg.com/os/creatr-uploaded-images/2023-01/80041310-9290-11ed-b7fe-d118e2a9a0e2\"/><div class=\"Ov(h)\"><div class=\"Lh(15px) Fw(b) LineClamp(3,45px) D(i)--sm1024 Pend(10px)--sm1024\">‘I didn’t steal funds’: FTX’s Sam Bankman-Fried details defense in new blog post</div><div class=\"C(#959595) Fz(11px) Mt(2px) Va(b) D(ib)--sm1024\">Yahoo Finance Video</div></div></a></li><li class=\"Fl(start) W(50%) W(100%)--sm1024\"><a class=\"js-content-viewer wafer-caas Td(n) D(ib) Va(t) W(90%) Mend(10%) C(#0078ff)!:h C(#000) C(#959595):vi\" data-uuid=\"7c341dc0-bafd-3502-b0df-2584f4d914c1\" data-wf-caas-prefetch=\"1\" data-wf-caas-uuid=\"7c341dc0-bafd-3502-b0df-2584f4d914c1\" href=\"/news/sam-bankman-frieds-father-retains-184605857.html\"><img alt=\"\" class=\" Fl(start) W(29%) Miw(65px) Maw(72px) Mend(10px) Trsdu(0s)! D(n)--sm1024 Bdrs(2px)\" src=\"https://s.yimg.com/uu/api/res/1.2/i_1Zndtf9JqLp.4pr.bOWA--~B/Zmk9c3RyaW07aD0xNDQ7cT04MDt3PTE0NDthcHBpZD15dGFjaHlvbg--/https://media.zenfs.com/en/reuters.com/a744e0a885398ee38eb0d2bed2ea7e9a\"/><div class=\"Ov(h)\"><div class=\"Lh(15px) Fw(b) LineClamp(3,45px) D(i)--sm1024 Pend(10px)--sm1024\">Sam Bankman-Fried's father retains attorney - source</div><div class=\"C(#959595) Fz(11px) Mt(2px) Va(b) D(ib)--sm1024\">Reuters</div></div></a></li></ul></div></div></div></li><li class=\"js-stream-content Pos(r)\"><div class=\"Py(14px) Pos(r)\" data-test-locator=\"mega\"><div class=\"Cf\"><div class=\"Ov(h) Pend(14%) Pend(44px)--sm1024\"><div class=\"C(#959595) Fz(11px) D(ib) Mb(6px)\">Investing.com</div><h3 class=\"Mb(5px)\"><a class=\"js-content-viewer wafer-caas Fw(b) Fz(18px) Lh(23px) LineClamp(2,46px) Fz(17px)--sm1024 Lh(19px)--sm1024 LineClamp(2,38px)--sm1024 mega-item-header-link Td(n) C(#0078ff):h C(#000) LineClamp(2,46px) LineClamp(2,38px)--sm1024 not-isInStreamVideoEnabled\" data-uuid=\"f16f2d4f-a6ec-3bd6-9ba0-92892cc62343\" data-wf-caas-prefetch=\"1\" data-wf-caas-uuid=\"f16f2d4f-a6ec-3bd6-9ba0-92892cc62343\" href=\"/news/gold-set-4th-straight-week-200119699.html\"><u class=\"StretchedBox\"></u>Gold set for 4th straight week of gains after positive CPI data</a></h3><p class=\"Fz(14px) Lh(19px) Fz(13px)--sm1024 Lh(17px)--sm1024 LineClamp(3,57px) LineClamp(3,51px)--sm1024 M(0)\">By Ambar Warrick</p></div></div></div></li><li class=\"js-stream-content Pos(r)\"><div class=\"Py(14px) Pos(r)\" data-test-locator=\"mega\"><div class=\"Cf\"><div class=\"Fl(start) Pos(r) Mt(2px) W(26.5%) Maw(220px)\"><div class=\"H(0) Ov(h) Bdrs(2px)\" style=\"padding-bottom:56%\"><img alt=\"\" class=\" W(100%) Trsdu(0s)! Bdrs(2px)\" src=\"https://s.yimg.com/uu/api/res/1.2/ysGdpn3A2QrRTSTIpEyROQ--~B/Zmk9c3RyaW07aD0xMjM7cT04MDt3PTIyMDthcHBpZD15dGFjaHlvbg--/https://media.zenfs.com/en/Barrons.com/c089d55e84c9e774cc3ec4ca99f24a3e\" srcset=\"https://s.yimg.com/uu/api/res/1.2/ysGdpn3A2QrRTSTIpEyROQ--~B/Zmk9c3RyaW07aD0xMjM7cT04MDt3PTIyMDthcHBpZD15dGFjaHlvbg--/https://media.zenfs.com/en/Barrons.com/c089d55e84c9e774cc3ec4ca99f24a3e 1x,https://s.yimg.com/uu/api/res/1.2/GEQkLgftG6AsARSxhDDm7Q--~B/Zmk9c3RyaW07aD0yNDY7cT04MDt3PTQ0MDthcHBpZD15dGFjaHlvbg--/https://media.zenfs.com/en/Barrons.com/c089d55e84c9e774cc3ec4ca99f24a3e 2x\"/></div></div><div class=\"Ov(h) Pend(44px) Pstart(25px)\"><div class=\"C(#959595) Fz(11px) D(ib) Mb(6px)\">Barrons.com</div><h3 class=\"Mb(5px)\"><a class=\"js-content-viewer wafer-caas Fw(b) Fz(18px) Lh(23px) LineClamp(2,46px) Fz(17px)--sm1024 Lh(19px)--sm1024 LineClamp(2,38px)--sm1024 mega-item-header-link Td(n) C(#0078ff):h C(#000) LineClamp(2,46px) LineClamp(2,38px)--sm1024 not-isInStreamVideoEnabled\" data-uuid=\"e0756aaf-ab71-3310-aff5-3a3f45b95018\" data-wf-caas-prefetch=\"1\" data-wf-caas-uuid=\"e0756aaf-ab71-3310-aff5-3a3f45b95018\" href=\"/m/e0756aaf-ab71-3310-aff5-3a3f45b95018/a-winning-streak-for-gold.html\"><u class=\"StretchedBox\"></u>A Winning Streak for Gold Could Help Miners’ Stocks. 2 to Consider.</a></h3><p class=\"Fz(14px) Lh(19px) Fz(13px)--sm1024 Lh(17px)--sm1024 LineClamp(2,38px) LineClamp(2,34px)--sm1024 M(0)\">While the price of the precious metal has risen 4% over the past year, that rally didn’t fully extend to gold miners’ stocks.  Such a shift would be a welcome change from the pattern that has left long-term investors of gold miners trailing the market.  UBS analyst Cleve Rueckert reiterated Buy ratings on shares of both  Barrick Gold  (ticker: GOLD) and  Newmont  (NEM) on Thursday.</p></div></div></div></li><li class=\"js-stream-content Pos(r)\"><div class=\"Py(14px) Pos(r)\" data-test-locator=\"mega\"><div class=\"Cf\"><div class=\"Fl(start) Pos(r) Mt(2px) W(26.5%) Maw(220px)\"><div class=\"H(0) Ov(h) Bdrs(2px)\" style=\"padding-bottom:88%\"><img alt=\"\" class=\" W(100%) Trsdu(0s)! Bdrs(2px)\" src=\"https://s.yimg.com/uu/api/res/1.2/GgVjmKYHijtDS9ya762yLA--~B/Zmk9c3RyaW07aD0xOTM7cT04MDt3PTIyMDthcHBpZD15dGFjaHlvbg--/https://media.zenfs.com/en/wsj.com/a9f9e0b7575584cffc4ba2e2a9250c50\" srcset=\"https://s.yimg.com/uu/api/res/1.2/GgVjmKYHijtDS9ya762yLA--~B/Zmk9c3RyaW07aD0xOTM7cT04MDt3PTIyMDthcHBpZD15dGFjaHlvbg--/https://media.zenfs.com/en/wsj.com/a9f9e0b7575584cffc4ba2e2a9250c50 1x,https://s.yimg.com/uu/api/res/1.2/aBFGyWUjXG7vw2PzJW3pIg--~B/Zmk9c3RyaW07aD0zODY7cT04MDt3PTQ0MDthcHBpZD15dGFjaHlvbg--/https://media.zenfs.com/en/wsj.com/a9f9e0b7575584cffc4ba2e2a9250c50 2x\"/></div></div><div class=\"Ov(h) Pend(44px) Pstart(25px)\"><div class=\"C(#959595) Fz(11px) D(ib) Mb(6px)\">The Wall Street Journal</div><h3 class=\"Mb(5px)\"><a class=\"js-content-viewer wafer-caas Fw(b) Fz(18px) Lh(23px) LineClamp(2,46px) Fz(17px)--sm1024 Lh(19px)--sm1024 LineClamp(2,38px)--sm1024 mega-item-header-link Td(n) C(#0078ff):h C(#000) LineClamp(2,46px) LineClamp(2,38px)--sm1024 not-isInStreamVideoEnabled\" data-uuid=\"4cf17e3c-97b9-32f4-9b3e-63568ee2cfc6\" data-wf-caas-prefetch=\"1\" data-wf-caas-uuid=\"4cf17e3c-97b9-32f4-9b3e-63568ee2cfc6\" href=\"/m/4cf17e3c-97b9-32f4-9b3e-63568ee2cfc6/saudi-arabia-seeks-to-lure.html\"><u class=\"StretchedBox\"></u>Saudi Arabia Seeks to Lure Global Miners in Bid to Overhaul Its Economy</a></h3><p class=\"Fz(14px) Lh(19px) Fz(13px)--sm1024 Lh(17px)--sm1024 LineClamp(2,38px) LineClamp(2,34px)--sm1024 M(0) D(n)--sm1024 Bxz(bb) Pb(2px)\">Rio Tinto and BHP senior executives were among those who attended a Riyadh conference focused on expanding access to critical minerals.</p><ul class=\"Cf Mt(12px) Fz(12px) Pos(r) Mt(8px)--sm1024\"><li class=\"Fl(start) W(50%) W(100%)--sm1024 Mb(8px)--sm1024\"><a class=\"js-content-viewer wafer-caas Td(n) D(ib) Va(t) W(90%) Mend(10%) C(#0078ff)!:h C(#000) C(#959595):vi\" data-uuid=\"4a68a220-db3d-31fc-84e1-f341b1ebfb77\" data-wf-caas-prefetch=\"1\" data-wf-caas-uuid=\"4a68a220-db3d-31fc-84e1-f341b1ebfb77\" href=\"/news/barrick-gold-signs-deals-saudi-125500487.html\"><img alt=\"\" class=\" Fl(start) W(29%) Miw(65px) Maw(72px) Mend(10px) Trsdu(0s)! D(n)--sm1024 Bdrs(2px)\" src=\"https://s.yimg.com/uu/api/res/1.2/CpBi6ZD9UwpscK3ZI6pE.w--~B/Zmk9c3RyaW07aD0xNDQ7cT04MDt3PTE0NDthcHBpZD15dGFjaHlvbg--/https://media.zenfs.com/en/reuters.com/1d90ef2814e4f0649622c8b0cfa9baae\"/><div class=\"Ov(h)\"><div class=\"Lh(15px) Fw(b) LineClamp(3,45px) D(i)--sm1024 Pend(10px)--sm1024\">Barrick Gold signs deals with Saudi miner Ma'aden for copper exploration</div><div class=\"C(#959595) Fz(11px) Mt(2px) Va(b) D(ib)--sm1024\">Reuters</div></div></a></li><li class=\"Fl(start) W(50%) W(100%)--sm1024\"><a class=\"js-content-viewer wafer-caas Td(n) D(ib) Va(t) W(90%) Mend(10%) C(#0078ff)!:h C(#000) C(#959595):vi\" data-uuid=\"45631a03-f740-3ebc-aae5-e59fb04c1835\" data-wf-caas-prefetch=\"1\" data-wf-caas-uuid=\"45631a03-f740-3ebc-aae5-e59fb04c1835\" href=\"/news/barrick-broadens-copper-saudi-arabia-113000390.html\"><img alt=\"\" class=\" Fl(start) W(29%) Miw(65px) Maw(72px) Mend(10px) Trsdu(0s)! D(n)--sm1024 Bdrs(2px)\" src=\"https://s.yimg.com/uu/api/res/1.2/FV2ukP5vZ27VczlHIp5EXQ--~B/Zmk9c3RyaW07aD0xNDQ7cT04MDt3PTE0NDthcHBpZD15dGFjaHlvbg--/https://media.zenfs.com/en/globenewswire.com/df4c67ea4034c96a68188dfb6651b678\"/><div class=\"Ov(h)\"><div class=\"Lh(15px) Fw(b) LineClamp(3,45px) D(i)--sm1024 Pend(10px)--sm1024\">Barrick Broadens Copper Base in Saudi Arabia</div><div class=\"C(#959595) Fz(11px) Mt(2px) Va(b) D(ib)--sm1024\">GlobeNewswire</div></div></a></li></ul></div></div></div></li><li class=\"js-stream-content Pos(r)\"><div class=\"Py(14px) Pos(r)\" data-test-locator=\"mega\"><div class=\"Cf\"><div class=\"Fl(start) Pos(r) Mt(2px) W(26.5%) Maw(220px)\"><div class=\"H(0) Ov(h) Bdrs(2px)\" style=\"padding-bottom:88%\"><img alt=\"\" class=\" W(100%) Trsdu(0s)! Bdrs(2px)\" src=\"https://s.yimg.com/uu/api/res/1.2/cPnUXJz54IaHSMXDQDOmaQ--~B/Zmk9c3RyaW07aD0xOTM7cT04MDt3PTIyMDthcHBpZD15dGFjaHlvbg--/https://media.zenfs.com/en/bloomberg_markets_842/c9c2ed037a95f4866c714105abb77688\" srcset=\"https://s.yimg.com/uu/api/res/1.2/cPnUXJz54IaHSMXDQDOmaQ--~B/Zmk9c3RyaW07aD0xOTM7cT04MDt3PTIyMDthcHBpZD15dGFjaHlvbg--/https://media.zenfs.com/en/bloomberg_markets_842/c9c2ed037a95f4866c714105abb77688 1x,https://s.yimg.com/uu/api/res/1.2/QjmcGSomXmKFB1gaj5w0Jg--~B/Zmk9c3RyaW07aD0zODY7cT04MDt3PTQ0MDthcHBpZD15dGFjaHlvbg--/https://media.zenfs.com/en/bloomberg_markets_842/c9c2ed037a95f4866c714105abb77688 2x\"/></div></div><div class=\"Ov(h) Pend(44px) Pstart(25px)\"><div class=\"C(#959595) Fz(11px) D(ib) Mb(6px)\">Bloomberg</div><h3 class=\"Mb(5px)\"><a class=\"js-content-viewer wafer-caas Fw(b) Fz(18px) Lh(23px) LineClamp(2,46px) Fz(17px)--sm1024 Lh(19px)--sm1024 LineClamp(2,38px)--sm1024 mega-item-header-link Td(n) C(#0078ff):h C(#000) LineClamp(2,46px) LineClamp(2,38px)--sm1024 not-isInStreamVideoEnabled\" data-uuid=\"39340fc7-d5bc-30c0-a20f-c61816c078ae\" data-wf-caas-prefetch=\"1\" data-wf-caas-uuid=\"39340fc7-d5bc-30c0-a20f-c61816c078ae\" href=\"/news/gold-giant-jpmorgan-may-move-163859220.html\"><u class=\"StretchedBox\"></u>Gold Giant JPMorgan May Move Into Precious Metals Clearing in Zurich</a></h3><p class=\"Fz(14px) Lh(19px) Fz(13px)--sm1024 Lh(17px)--sm1024 LineClamp(2,38px) LineClamp(2,34px)--sm1024 M(0) D(n)--sm1024 Bxz(bb) Pb(2px)\">(Bloomberg) -- JPMorgan Chase &amp; Co. is looking to start clearing precious metals trades in Zurich, something that for years has been dominated by just two Swiss banks.Most Read from BloombergElon Musk Fan With 2,900% Gain Sees $1.5 Million Wiped AwayUS Inflation Cools Again, Putting Fed on Track to DownshiftT-Mobile Considers Buying Ryan Reynolds’s Mint MobileUniversal Plans New Family Resort in Texas, Las Vegas Horror AttractionBond Yields Tumble as Traders Dial Back Fed Wagers: Markets WrapThe</p><ul class=\"Cf Mt(12px) Fz(12px) Pos(r) Mt(8px)--sm1024\"><li class=\"Fl(start) W(50%) W(100%)--sm1024 Mb(8px)--sm1024\"><a class=\"js-content-viewer wafer-caas Td(n) D(ib) Va(t) W(90%) Mend(10%) C(#0078ff)!:h C(#000) C(#959595):vi\" data-uuid=\"416e5103-869c-36e2-8878-613fca56a797\" data-wf-caas-prefetch=\"1\" data-wf-caas-uuid=\"416e5103-869c-36e2-8878-613fca56a797\" href=\"/news/tiger-woods-backed-spac-throws-222406647.html\"><img alt=\"\" class=\" Fl(start) W(29%) Miw(65px) Maw(72px) Mend(10px) Trsdu(0s)! D(n)--sm1024 Bdrs(2px)\" src=\"https://s.yimg.com/uu/api/res/1.2/u5RX09g37M_hF4Emkgr2Yg--~B/Zmk9c3RyaW07aD0xNDQ7cT04MDt3PTE0NDthcHBpZD15dGFjaHlvbg--/https://media.zenfs.com/en/bloomberg_markets_842/353f396a74b2bb5e80a7b0656a67b418\"/><div class=\"Ov(h)\"><div class=\"Lh(15px) Fw(b) LineClamp(3,45px) D(i)--sm1024 Pend(10px)--sm1024\">Tiger Woods-Backed SPAC Throws In the Towel as Industry Crumbles</div><div class=\"C(#959595) Fz(11px) Mt(2px) Va(b) D(ib)--sm1024\">Bloomberg</div></div></a></li><li class=\"Fl(start) W(50%) W(100%)--sm1024\"><a class=\"js-content-viewer wafer-caas Td(n) D(ib) Va(t) W(90%) Mend(10%) C(#0078ff)!:h C(#000) C(#959595):vi\" data-uuid=\"d50c5a02-a4ec-3738-837c-399e1f67a105\" data-wf-caas-prefetch=\"1\" data-wf-caas-uuid=\"d50c5a02-a4ec-3738-837c-399e1f67a105\" href=\"/news/el-salvador-passes-law-allowing-204716737.html\"><img alt=\"\" class=\" Fl(start) W(29%) Miw(65px) Maw(72px) Mend(10px) Trsdu(0s)! D(n)--sm1024 Bdrs(2px)\" src=\"https://s.yimg.com/uu/api/res/1.2/lxeuE7sLqmxLjzP8urrfDw--~B/Zmk9c3RyaW07aD0xNDQ7cT04MDt3PTE0NDthcHBpZD15dGFjaHlvbg--/https://media.zenfs.com/en/bloomberg_markets_842/559a97cce86b0fc70bbd24f5c2d450d9\"/><div class=\"Ov(h)\"><div class=\"Lh(15px) Fw(b) LineClamp(3,45px) D(i)--sm1024 Pend(10px)--sm1024\">El Salvador Passes Law Allowing Bitcoin Bond Issuance</div><div class=\"C(#959595) Fz(11px) Mt(2px) Va(b) D(ib)--sm1024\">Bloomberg</div></div></a></li></ul></div></div></div></li><li class=\"js-stream-content Pos(r)\"><div class=\"Py(14px) Pos(r)\" data-test-locator=\"mega\"><div class=\"Cf\"><div class=\"Fl(start) Pos(r) Mt(2px) W(26.5%) Maw(220px)\"><div class=\"H(0) Ov(h) Bdrs(2px)\" style=\"padding-bottom:88%\"><img alt=\"\" class=\" W(100%) Trsdu(0s)! Bdrs(2px)\" src=\"https://s.yimg.com/uu/api/res/1.2/zMTP.h9V78vTOU.q5rVaDg--~B/Zmk9c3RyaW07aD0xOTM7cT04MDt3PTIyMDthcHBpZD15dGFjaHlvbg--/https://media.zenfs.com/en/bloomberg_markets_842/900434f1c87e9febaedba876f57cc08a\" srcset=\"https://s.yimg.com/uu/api/res/1.2/zMTP.h9V78vTOU.q5rVaDg--~B/Zmk9c3RyaW07aD0xOTM7cT04MDt3PTIyMDthcHBpZD15dGFjaHlvbg--/https://media.zenfs.com/en/bloomberg_markets_842/900434f1c87e9febaedba876f57cc08a 1x,https://s.yimg.com/uu/api/res/1.2/ojAxE_3CY9sMn666txQccw--~B/Zmk9c3RyaW07aD0zODY7cT04MDt3PTQ0MDthcHBpZD15dGFjaHlvbg--/https://media.zenfs.com/en/bloomberg_markets_842/900434f1c87e9febaedba876f57cc08a 2x\"/></div></div><div class=\"Ov(h) Pend(44px) Pstart(25px)\"><div class=\"C(#959595) Fz(11px) D(ib) Mb(6px)\">Bloomberg</div><h3 class=\"Mb(5px)\"><a class=\"js-content-viewer wafer-caas Fw(b) Fz(18px) Lh(23px) LineClamp(2,46px) Fz(17px)--sm1024 Lh(19px)--sm1024 LineClamp(2,38px)--sm1024 mega-item-header-link Td(n) C(#0078ff):h C(#000) LineClamp(2,46px) LineClamp(2,38px)--sm1024 not-isInStreamVideoEnabled\" data-uuid=\"23a155fa-97b8-3a93-9809-bc6db5ad8584\" data-wf-caas-prefetch=\"1\" data-wf-caas-uuid=\"23a155fa-97b8-3a93-9809-bc6db5ad8584\" href=\"/news/barrick-open-mining-ventures-saudi-155844446.html\"><u class=\"StretchedBox\"></u>Barrick Open to Mining Ventures with Saudi Arabia, CEO Says</a></h3><p class=\"Fz(14px) Lh(19px) Fz(13px)--sm1024 Lh(17px)--sm1024 LineClamp(2,38px) LineClamp(2,34px)--sm1024 M(0) D(n)--sm1024 Bxz(bb) Pb(2px)\">(Bloomberg) -- Barrick Gold Corp. is open to developing mining assets across the Middle East, Africa and southern Asia with Saudi Arabia, as the oil-rich country looks to improve its access to critical minerals.Most Read from BloombergUS Inflation Cools Again, Putting Fed on Track to DownshiftElon Musk Fan With 2,900% Gain Sees $1.5 Million Wiped AwayT-Mobile Considers Buying Ryan Reynolds’s Mint MobileUniversal Plans New Family Resort in Texas, Las Vegas Horror AttractionBond Yields Tumble as T</p><ul class=\"Cf Mt(12px) Fz(12px) Pos(r) Mt(8px)--sm1024\"><li class=\"Fl(start) W(50%) W(100%)--sm1024 Mb(8px)--sm1024\"><a class=\"js-content-viewer wafer-caas Td(n) D(ib) Va(t) W(90%) Mend(10%) C(#0078ff)!:h C(#000) C(#959595):vi\" data-uuid=\"eb5d4e25-7692-39b5-b50c-2c7c792a5bed\" data-wf-caas-prefetch=\"1\" data-wf-caas-uuid=\"eb5d4e25-7692-39b5-b50c-2c7c792a5bed\" href=\"/news/japan-seeks-biden-endorsement-security-020956202.html\"><img alt=\"\" class=\" Fl(start) W(29%) Miw(65px) Maw(72px) Mend(10px) Trsdu(0s)! D(n)--sm1024 Bdrs(2px)\" src=\"https://s.yimg.com/uu/api/res/1.2/yqOpi5H9_ro8T4mz1AuFhA--~B/Zmk9c3RyaW07aD0xNDQ7cT04MDt3PTE0NDthcHBpZD15dGFjaHlvbg--/https://media.zenfs.com/en/bloomberg_politics_602/0d7560cb54692765e55b7bc4ce93e7ef\"/><div class=\"Ov(h)\"><div class=\"Lh(15px) Fw(b) LineClamp(3,45px) D(i)--sm1024 Pend(10px)--sm1024\">Japan Seeks Biden Endorsement of Security Overhaul at Summit</div><div class=\"C(#959595) Fz(11px) Mt(2px) Va(b) D(ib)--sm1024\">Bloomberg</div></div></a></li><li class=\"Fl(start) W(50%) W(100%)--sm1024\"><a class=\"js-content-viewer wafer-caas Td(n) D(ib) Va(t) W(90%) Mend(10%) C(#0078ff)!:h C(#000) C(#959595):vi\" data-uuid=\"5dd470b4-9c68-3a38-babf-81f2d47436de\" data-wf-caas-prefetch=\"1\" data-wf-caas-uuid=\"5dd470b4-9c68-3a38-babf-81f2d47436de\" href=\"/news/snowless-davos-tells-world-elite-112341368.html\"><img alt=\"\" class=\" Fl(start) W(29%) Miw(65px) Maw(72px) Mend(10px) Trsdu(0s)! D(n)--sm1024 Bdrs(2px)\" src=\"https://s.yimg.com/uu/api/res/1.2/9B.R1dJskL1dBwWkSy_9Zw--~B/Zmk9c3RyaW07aD0xNDQ7cT04MDt3PTE0NDthcHBpZD15dGFjaHlvbg--/https://media.zenfs.com/en/bloomberg_politics_602/2dcaf031690055e38f0c0e9d3c10b09e\"/><div class=\"Ov(h)\"><div class=\"Lh(15px) Fw(b) LineClamp(3,45px) D(i)--sm1024 Pend(10px)--sm1024\">A Snowless Davos Tells the World’s Elite All They Need to Know</div><div class=\"C(#959595) Fz(11px) Mt(2px) Va(b) D(ib)--sm1024\">Bloomberg</div></div></a></li></ul></div></div></div></li><li class=\"js-stream-content Pos(r)\"><div class=\"Py(14px) Pos(r)\" data-test-locator=\"mega\"><div class=\"Cf\"><div class=\"Ov(h) Pend(14%) Pend(44px)--sm1024\"><div class=\"C(#959595) Fz(11px) D(ib) Mb(6px)\">Insider Monkey</div><h3 class=\"Mb(5px)\"><a class=\"js-content-viewer wafer-caas Fw(b) Fz(18px) Lh(23px) LineClamp(2,46px) Fz(17px)--sm1024 Lh(19px)--sm1024 LineClamp(2,38px)--sm1024 mega-item-header-link Td(n) C(#0078ff):h C(#000) LineClamp(2,46px) LineClamp(2,38px)--sm1024 not-isInStreamVideoEnabled\" data-uuid=\"dff94816-4b47-3ba1-9f88-c3ca54e81037\" data-wf-caas-prefetch=\"1\" data-wf-caas-uuid=\"dff94816-4b47-3ba1-9f88-c3ca54e81037\" href=\"/news/20-biggest-natural-resources-companies-144253686.html\"><u class=\"StretchedBox\"></u>20 Biggest Natural Resources Companies in the World</a></h3><p class=\"Fz(14px) Lh(19px) Fz(13px)--sm1024 Lh(17px)--sm1024 LineClamp(3,57px) LineClamp(3,51px)--sm1024 M(0)\">In this article, we will take a look at the 20 biggest natural resources companies in the world. If you want to skip our introduction about the industry, then take a look at 5 Biggest Natural Resources Companies in the World. Last year proved that if there’s one investment area that can be labeled as […]</p></div></div></div></li></ul></div>]"
            ]
          },
          "metadata": {},
          "execution_count": 62
        }
      ]
    },
    {
      "cell_type": "code",
      "source": [
        "len(uls)"
      ],
      "metadata": {
        "colab": {
          "base_uri": "https://localhost:8080/"
        },
        "id": "GaVmGf_ctLJE",
        "outputId": "a8cdf989-7c37-408b-da47-ef2d2cd4422a"
      },
      "execution_count": 63,
      "outputs": [
        {
          "output_type": "execute_result",
          "data": {
            "text/plain": [
              "1"
            ]
          },
          "metadata": {},
          "execution_count": 63
        }
      ]
    },
    {
      "cell_type": "code",
      "source": [
        "article_board = uls[0]"
      ],
      "metadata": {
        "id": "behc_sDUtNfz"
      },
      "execution_count": 64,
      "outputs": []
    },
    {
      "cell_type": "code",
      "source": [
        "lis = article_board.find_all('li')"
      ],
      "metadata": {
        "id": "l1M6DcHduGCg"
      },
      "execution_count": 65,
      "outputs": []
    },
    {
      "cell_type": "code",
      "source": [
        "len(lis)"
      ],
      "metadata": {
        "colab": {
          "base_uri": "https://localhost:8080/"
        },
        "id": "SNGPR0XCuTrP",
        "outputId": "389d63ce-7ae4-4d5d-935b-f67487f8cf52"
      },
      "execution_count": 66,
      "outputs": [
        {
          "output_type": "execute_result",
          "data": {
            "text/plain": [
              "24"
            ]
          },
          "metadata": {},
          "execution_count": 66
        }
      ]
    },
    {
      "cell_type": "code",
      "source": [
        "article = lis[0]"
      ],
      "metadata": {
        "id": "Oo7-OSFGuUiQ"
      },
      "execution_count": 67,
      "outputs": []
    },
    {
      "cell_type": "code",
      "source": [
        "article = article.find('a')"
      ],
      "metadata": {
        "id": "xI-OQQ_CugWy"
      },
      "execution_count": 68,
      "outputs": []
    },
    {
      "cell_type": "code",
      "source": [
        "title = article.text\n",
        "title"
      ],
      "metadata": {
        "colab": {
          "base_uri": "https://localhost:8080/",
          "height": 54
        },
        "id": "eYFxfHwjvH-M",
        "outputId": "3cb44acb-c59f-40d9-958b-40f054821572"
      },
      "execution_count": 69,
      "outputs": [
        {
          "output_type": "execute_result",
          "data": {
            "text/plain": [
              "\"First Mover Asia: What's Next for Bitcoin After Biggest One-Day Price Pop in 2 Months?\""
            ],
            "application/vnd.google.colaboratory.intrinsic+json": {
              "type": "string"
            }
          },
          "metadata": {},
          "execution_count": 69
        }
      ]
    },
    {
      "cell_type": "code",
      "source": [
        "base_uri = 'https://finance.yahoo.com'\n",
        "uri = base_uri + article['href']"
      ],
      "metadata": {
        "id": "I5RuBEhgux-Y"
      },
      "execution_count": 70,
      "outputs": []
    },
    {
      "cell_type": "code",
      "source": [
        "result = []\n",
        "\n",
        "for li in lis:\n",
        "  article = li.find('a')\n",
        "  title = article.text\n",
        "  uri = base_uri + article['href']\n",
        "  result.append({\n",
        "      'title': title,\n",
        "      'uri': uri,\n",
        "  })\n",
        "\n",
        "result"
      ],
      "metadata": {
        "colab": {
          "base_uri": "https://localhost:8080/"
        },
        "id": "V0gfr8m_vOse",
        "outputId": "3288798b-c9fb-40de-922c-d79a44601d6d"
      },
      "execution_count": 71,
      "outputs": [
        {
          "output_type": "execute_result",
          "data": {
            "text/plain": [
              "[{'title': \"First Mover Asia: What's Next for Bitcoin After Biggest One-Day Price Pop in 2 Months?\",\n",
              "  'uri': 'https://finance.yahoo.com/news/first-mover-asia-whats-next-030145094.html'},\n",
              " {'title': \"Fed officials see 'eye-popping' inflation data in rearview after December slowdownYahoo Finance\",\n",
              "  'uri': 'https://finance.yahoo.com/news/fed-officials-see-eye-popping-inflation-data-in-rearview-after-december-slowdown-193316112.html'},\n",
              " {'title': 'December CPI: Inflation slows for 3rd month, falls 0.1% over last monthYahoo Finance Video',\n",
              "  'uri': 'https://finance.yahoo.com/video/december-cpi-inflation-slows-3rd-142815795.html'},\n",
              " {'title': 'Gold set for weekly gain on smaller U.S. rate-hike bets',\n",
              "  'uri': 'https://finance.yahoo.com/news/gold-set-weekly-gain-smaller-025545186.html'},\n",
              " {'title': 'Gold hovers near $1,900/oz after U.S. inflation data cements Fed slowdown betsReuters',\n",
              "  'uri': 'https://finance.yahoo.com/news/gold-flat-traders-await-u-025942664.html'},\n",
              " {'title': 'GLOBAL MARKETS-Stocks rise, dollar stumbles after U.S. inflation dataReuters',\n",
              "  'uri': 'https://finance.yahoo.com/news/global-markets-stocks-rise-dollar-212052830.html'},\n",
              " {'title': 'Gold climbs 8-month high ahead of U.S. inflation test',\n",
              "  'uri': 'https://finance.yahoo.com/news/gold-climbs-8-month-high-003234080.html'},\n",
              " {'title': 'New inflation numbers out ThursdayCBS-Newyork',\n",
              "  'uri': 'https://finance.yahoo.com/video/inflation-numbers-thursday-110200030.html'},\n",
              " {'title': 'Treasuries Rally After CPI Release, Then FalterBarrons.com',\n",
              "  'uri': 'https://finance.yahoo.com/m/91ecc364-e62b-39f4-8bfe-473d7a205b03/treasuries-rally-after-cpi.html'},\n",
              " {'title': 'Crypto Markets Today: Bitcoin Tops $19K, Blockchain.com Cuts Jobs, Sam Bankman-Fried Blogs',\n",
              "  'uri': 'https://finance.yahoo.com/news/crypto-markets-today-bitcoin-tops-222108519.html'},\n",
              " {'title': '‘I didn’t steal funds’: FTX’s Sam Bankman-Fried details defense in new blog postYahoo Finance Video',\n",
              "  'uri': 'https://finance.yahoo.com/video/didn-t-steal-funds-ftx-154819171.html'},\n",
              " {'title': \"Sam Bankman-Fried's father retains attorney - sourceReuters\",\n",
              "  'uri': 'https://finance.yahoo.com/news/sam-bankman-frieds-father-retains-184605857.html'},\n",
              " {'title': 'Gold set for 4th straight week of gains after positive CPI data',\n",
              "  'uri': 'https://finance.yahoo.com/news/gold-set-4th-straight-week-200119699.html'},\n",
              " {'title': 'A Winning Streak for Gold Could Help Miners’ Stocks. 2 to Consider.',\n",
              "  'uri': 'https://finance.yahoo.com/m/e0756aaf-ab71-3310-aff5-3a3f45b95018/a-winning-streak-for-gold.html'},\n",
              " {'title': 'Saudi Arabia Seeks to Lure Global Miners in Bid to Overhaul Its Economy',\n",
              "  'uri': 'https://finance.yahoo.com/m/4cf17e3c-97b9-32f4-9b3e-63568ee2cfc6/saudi-arabia-seeks-to-lure.html'},\n",
              " {'title': \"Barrick Gold signs deals with Saudi miner Ma'aden for copper explorationReuters\",\n",
              "  'uri': 'https://finance.yahoo.com/news/barrick-gold-signs-deals-saudi-125500487.html'},\n",
              " {'title': 'Barrick Broadens Copper Base in Saudi ArabiaGlobeNewswire',\n",
              "  'uri': 'https://finance.yahoo.com/news/barrick-broadens-copper-saudi-arabia-113000390.html'},\n",
              " {'title': 'Gold Giant JPMorgan May Move Into Precious Metals Clearing in Zurich',\n",
              "  'uri': 'https://finance.yahoo.com/news/gold-giant-jpmorgan-may-move-163859220.html'},\n",
              " {'title': 'Tiger Woods-Backed SPAC\\xa0Throws In the Towel as Industry CrumblesBloomberg',\n",
              "  'uri': 'https://finance.yahoo.com/news/tiger-woods-backed-spac-throws-222406647.html'},\n",
              " {'title': 'El Salvador Passes Law Allowing\\xa0Bitcoin Bond IssuanceBloomberg',\n",
              "  'uri': 'https://finance.yahoo.com/news/el-salvador-passes-law-allowing-204716737.html'},\n",
              " {'title': 'Barrick Open to Mining Ventures with Saudi Arabia, CEO Says',\n",
              "  'uri': 'https://finance.yahoo.com/news/barrick-open-mining-ventures-saudi-155844446.html'},\n",
              " {'title': 'Japan Seeks Biden Endorsement of Security Overhaul at SummitBloomberg',\n",
              "  'uri': 'https://finance.yahoo.com/news/japan-seeks-biden-endorsement-security-020956202.html'},\n",
              " {'title': 'A Snowless Davos Tells the World’s Elite All They Need to KnowBloomberg',\n",
              "  'uri': 'https://finance.yahoo.com/news/snowless-davos-tells-world-elite-112341368.html'},\n",
              " {'title': '20 Biggest Natural Resources Companies in the World',\n",
              "  'uri': 'https://finance.yahoo.com/news/20-biggest-natural-resources-companies-144253686.html'}]"
            ]
          },
          "metadata": {},
          "execution_count": 71
        }
      ]
    },
    {
      "cell_type": "markdown",
      "source": [
        "## Practice"
      ],
      "metadata": {
        "id": "p91hqZNZ5NJ0"
      }
    },
    {
      "cell_type": "code",
      "source": [
        "# request rottentomatoes main page\n",
        "response = requests.get('https://www.rottentomatoes.com/')\n",
        "response.status_code # for test\n",
        "response.text # for test\n",
        "\n",
        "# Start parsing with BeautifulSoup\n",
        "soup = BeautifulSoup(response.text, 'lxml')\n",
        "# find streaming chart <ul> using find_all\n",
        "uls = soup.find_all('ul', attrs={'slot':'list-items'})\n",
        "# select first one of uls\n",
        "streaming_chart = uls[0]\n",
        "# find all li in streaming_chart\n",
        "lis = streaming_chart.find_all('li')\n",
        "len(lis) # for check\n",
        "\n",
        "# Create empty list\n",
        "result = []\n",
        "# for all li in lis\n",
        "for li in lis:\n",
        "  # find and store data\n",
        "  uri = 'https://www.rottentomatos.com' + li.find('a')['href']\n",
        "  spans = li.find_all('span')\n",
        "  movie_name = spans[0].text\n",
        "  movie_score = spans[2].text.strip('\\n %')\n",
        "  #print(uri, movie_name, movie_score) # for test\n",
        "  result.append({\n",
        "      'uri': uri,\n",
        "      'movie_name': movie_name,\n",
        "      'movie_score': movie_score,\n",
        "      })"
      ],
      "metadata": {
        "id": "r8Y0bcZj1QpH"
      },
      "execution_count": 72,
      "outputs": []
    },
    {
      "cell_type": "code",
      "source": [
        "df = df.from_dict(result)\n",
        "df.to_csv('./rottentomato.csv')"
      ],
      "metadata": {
        "id": "1uU4FkHg5WES"
      },
      "execution_count": 73,
      "outputs": []
    },
    {
      "cell_type": "code",
      "source": [
        "result = pd.read_csv('./rottentomato.csv')\n",
        "print(result)"
      ],
      "metadata": {
        "colab": {
          "base_uri": "https://localhost:8080/"
        },
        "id": "dK3HdCmo55Ap",
        "outputId": "dd515ede-1970-4596-b4cd-e36bd2c415fe"
      },
      "execution_count": 74,
      "outputs": [
        {
          "output_type": "stream",
          "name": "stdout",
          "text": [
            "   Unnamed: 0                                                uri  \\\n",
            "0           0           https://www.rottentomatos.com/m/the_menu   \n",
            "1           1  https://www.rottentomatos.com/m/puss_in_boots_...   \n",
            "2           2  https://www.rottentomatos.com/m/the_pale_blue_eye   \n",
            "3           3  https://www.rottentomatos.com/m/the_banshees_o...   \n",
            "4           4      https://www.rottentomatos.com/m/the_fabelmans   \n",
            "5           5  https://www.rottentomatos.com/m/everything_eve...   \n",
            "6           6  https://www.rottentomatos.com/m/glass_onion_a_...   \n",
            "7           7           https://www.rottentomatos.com/m/mars_one   \n",
            "8           8  https://www.rottentomatos.com/m/the_hatchet_wi...   \n",
            "9           9      https://www.rottentomatos.com/m/devotion_2022   \n",
            "\n",
            "                          movie_name movie_score  \n",
            "0                           The Menu          89  \n",
            "1       Puss in Boots: The Last Wish          96  \n",
            "2                  The Pale Blue Eye          64  \n",
            "3          The Banshees of Inisherin          97  \n",
            "4                      The Fabelmans          92  \n",
            "5  Everything Everywhere All at Once          95  \n",
            "6  Glass Onion: A Knives Out Mystery          92  \n",
            "7                           Mars One          97  \n",
            "8    The Hatchet Wielding Hitchhiker         - -  \n",
            "9                           Devotion          81  \n"
          ]
        }
      ]
    },
    {
      "cell_type": "code",
      "source": [
        "json_result = result.transpose().to_dict()\n",
        "json_result"
      ],
      "metadata": {
        "colab": {
          "base_uri": "https://localhost:8080/"
        },
        "id": "FoPz48sI6gN8",
        "outputId": "424a1933-46cc-49b3-d827-c9553057a602"
      },
      "execution_count": 75,
      "outputs": [
        {
          "output_type": "execute_result",
          "data": {
            "text/plain": [
              "{0: {'Unnamed: 0': 0,\n",
              "  'uri': 'https://www.rottentomatos.com/m/the_menu',\n",
              "  'movie_name': 'The Menu',\n",
              "  'movie_score': '89'},\n",
              " 1: {'Unnamed: 0': 1,\n",
              "  'uri': 'https://www.rottentomatos.com/m/puss_in_boots_the_last_wish',\n",
              "  'movie_name': 'Puss in Boots: The Last Wish',\n",
              "  'movie_score': '96'},\n",
              " 2: {'Unnamed: 0': 2,\n",
              "  'uri': 'https://www.rottentomatos.com/m/the_pale_blue_eye',\n",
              "  'movie_name': 'The Pale Blue Eye',\n",
              "  'movie_score': '64'},\n",
              " 3: {'Unnamed: 0': 3,\n",
              "  'uri': 'https://www.rottentomatos.com/m/the_banshees_of_inisherin',\n",
              "  'movie_name': 'The Banshees of Inisherin',\n",
              "  'movie_score': '97'},\n",
              " 4: {'Unnamed: 0': 4,\n",
              "  'uri': 'https://www.rottentomatos.com/m/the_fabelmans',\n",
              "  'movie_name': 'The Fabelmans',\n",
              "  'movie_score': '92'},\n",
              " 5: {'Unnamed: 0': 5,\n",
              "  'uri': 'https://www.rottentomatos.com/m/everything_everywhere_all_at_once',\n",
              "  'movie_name': 'Everything Everywhere All at Once',\n",
              "  'movie_score': '95'},\n",
              " 6: {'Unnamed: 0': 6,\n",
              "  'uri': 'https://www.rottentomatos.com/m/glass_onion_a_knives_out_mystery',\n",
              "  'movie_name': 'Glass Onion: A Knives Out Mystery',\n",
              "  'movie_score': '92'},\n",
              " 7: {'Unnamed: 0': 7,\n",
              "  'uri': 'https://www.rottentomatos.com/m/mars_one',\n",
              "  'movie_name': 'Mars One',\n",
              "  'movie_score': '97'},\n",
              " 8: {'Unnamed: 0': 8,\n",
              "  'uri': 'https://www.rottentomatos.com/m/the_hatchet_wielding_hitchhiker',\n",
              "  'movie_name': 'The Hatchet Wielding Hitchhiker',\n",
              "  'movie_score': '- -'},\n",
              " 9: {'Unnamed: 0': 9,\n",
              "  'uri': 'https://www.rottentomatos.com/m/devotion_2022',\n",
              "  'movie_name': 'Devotion',\n",
              "  'movie_score': '81'}}"
            ]
          },
          "metadata": {},
          "execution_count": 75
        }
      ]
    },
    {
      "cell_type": "code",
      "source": [
        "with open('./rottentomato.json', 'w') as f:\n",
        "  json.dump(json_result, f)"
      ],
      "metadata": {
        "id": "Ukt6KcSs7Py3"
      },
      "execution_count": 76,
      "outputs": []
    },
    {
      "cell_type": "markdown",
      "source": [
        "## Error Handling"
      ],
      "metadata": {
        "id": "H5VnyjIQ-Zsk"
      }
    },
    {
      "cell_type": "code",
      "source": [
        "try:\n",
        "  number = int(input(\"숫자를 입력하세요: \"))\n",
        "except ValueError as e:\n",
        "  print(\"You should input a number.\")\n",
        "  print(e)"
      ],
      "metadata": {
        "colab": {
          "base_uri": "https://localhost:8080/"
        },
        "id": "TFQgnvn-7hXn",
        "outputId": "02c6a365-6ab8-4aa7-ae1d-3c905e560879"
      },
      "execution_count": 77,
      "outputs": [
        {
          "output_type": "stream",
          "name": "stdout",
          "text": [
            "숫자를 입력하세요: hello\n",
            "You should input a number.\n",
            "invalid literal for int() with base 10: 'hello'\n"
          ]
        }
      ]
    },
    {
      "cell_type": "markdown",
      "source": [
        "## Practice"
      ],
      "metadata": {
        "id": "WRGZ4S4vCgNR"
      }
    },
    {
      "cell_type": "code",
      "source": [
        "rand_list = [(randint(1, 1000), randint(1, 1000)) for _ in range(100)]"
      ],
      "metadata": {
        "id": "EDGOZkSE-lzl"
      },
      "execution_count": 78,
      "outputs": []
    },
    {
      "cell_type": "code",
      "source": [
        "rand_mul_list = [(a, b, a * b)for a, b in rand_list]"
      ],
      "metadata": {
        "id": "v5NpYlKCAcXs"
      },
      "execution_count": 79,
      "outputs": []
    },
    {
      "cell_type": "code",
      "source": [
        "df = pd.DataFrame(rand_mul_list)"
      ],
      "metadata": {
        "id": "0Jc7Zoe5BPbb"
      },
      "execution_count": 80,
      "outputs": []
    },
    {
      "cell_type": "code",
      "source": [
        "df.to_csv('./tuple_mul_result.csv')"
      ],
      "metadata": {
        "id": "oqNdbng8B3Qe"
      },
      "execution_count": 81,
      "outputs": []
    }
  ]
}