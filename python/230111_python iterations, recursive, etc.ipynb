{
  "nbformat": 4,
  "nbformat_minor": 0,
  "metadata": {
    "colab": {
      "provenance": [],
      "collapsed_sections": [
        "_uczO46m7aPO",
        "Q-BOCeZYAzOE",
        "zAdPZQblJOCD",
        "2jnO-0ddHKjP",
        "caGbnK20RpPt",
        "2nZ6_it4dbD9"
      ]
    },
    "kernelspec": {
      "name": "python3",
      "display_name": "Python 3"
    },
    "language_info": {
      "name": "python"
    }
  },
  "cells": [
    {
      "cell_type": "markdown",
      "source": [
        "## Practice\n",
        "\n",
        "다음 문제를 해결하세요.\n",
        "1. 사용자가 입력한 임의의 정수(2~100)에 대해 팩토리얼 연산을 수행하세요.\n",
        "2. 다음 2차원 list에 대해 각 요소의 합을 구하세요.\n",
        "\n",
        "```python\n",
        "[\n",
        "  [1, 0, 7, 0],\n",
        "  [0, 2, 0, 9],\n",
        "  [0, 6, 3, 7],\n",
        "  [4, 0, 5, 1],\n",
        "]\n",
        "```"
      ],
      "metadata": {
        "id": "_uczO46m7aPO"
      }
    },
    {
      "cell_type": "code",
      "source": [
        "# 1\n",
        "\n",
        "num = int(input(\"Input a number ( 2- 100 ) : \"))\n",
        "fact1 = 1\n",
        "\n",
        "for i in range(2, num + 1):\n",
        "  fact1 *= i\n",
        "\n",
        "print(fact1)"
      ],
      "metadata": {
        "colab": {
          "base_uri": "https://localhost:8080/"
        },
        "id": "7kAFTJ9p77BZ",
        "outputId": "426662f8-7864-48de-f247-60550be7da12"
      },
      "execution_count": 5,
      "outputs": [
        {
          "output_type": "stream",
          "name": "stdout",
          "text": [
            "Input a number ( 2- 100 ) : 10\n",
            "3628800\n"
          ]
        }
      ]
    },
    {
      "cell_type": "code",
      "source": [
        "from math import factorial\n",
        "\n",
        "factorial(10)"
      ],
      "metadata": {
        "colab": {
          "base_uri": "https://localhost:8080/"
        },
        "id": "PYSzU1ty-9ig",
        "outputId": "cd055b45-3f55-4fc5-cc19-079e1d8f9e67"
      },
      "execution_count": 6,
      "outputs": [
        {
          "output_type": "execute_result",
          "data": {
            "text/plain": [
              "3628800"
            ]
          },
          "metadata": {},
          "execution_count": 6
        }
      ]
    },
    {
      "cell_type": "code",
      "execution_count": 8,
      "metadata": {
        "colab": {
          "base_uri": "https://localhost:8080/"
        },
        "id": "E-gh92ab7DX2",
        "outputId": "a8d87d1c-d1e7-4de8-e154-076bae1031d4"
      },
      "outputs": [
        {
          "output_type": "stream",
          "name": "stdout",
          "text": [
            "45\n"
          ]
        }
      ],
      "source": [
        "# 2\n",
        "\n",
        "item_list = [\n",
        "  [1, 0, 7, 0],\n",
        "  [0, 2, 0, 9],\n",
        "  [0, 6, 3, 7],\n",
        "  [4, 0, 5, 1],\n",
        "]\n",
        "\n",
        "res = 0\n",
        "for item in item_list:\n",
        "  for k in item:\n",
        "    res += k\n",
        "print(res)"
      ]
    },
    {
      "cell_type": "code",
      "source": [
        "res = 0\n",
        "for item in item_list:\n",
        "  res += sum(item)\n",
        "print(res)"
      ],
      "metadata": {
        "colab": {
          "base_uri": "https://localhost:8080/"
        },
        "id": "1ov54PTM8wRl",
        "outputId": "932d8bf0-83c3-4dad-82dc-9f1d2c7ae50f"
      },
      "execution_count": 9,
      "outputs": [
        {
          "output_type": "stream",
          "name": "stdout",
          "text": [
            "45\n"
          ]
        }
      ]
    },
    {
      "cell_type": "markdown",
      "source": [
        "## Dictionary with Iterations"
      ],
      "metadata": {
        "id": "Q-BOCeZYAzOE"
      }
    },
    {
      "cell_type": "code",
      "source": [
        "from re import A\n",
        "a_words = []\n",
        "with open('/content/a_word_list.txt') as f:\n",
        "  textlines = f.readlines()\n",
        "  for item in textlines:\n",
        "    a_words.append(item.replace('\\n', '')) # 한 라인에 담긴 개행문자를 빼줘야 함"
      ],
      "metadata": {
        "id": "8uCgAbz2AxQI"
      },
      "execution_count": 11,
      "outputs": []
    },
    {
      "cell_type": "code",
      "source": [
        "print(a_words)"
      ],
      "metadata": {
        "colab": {
          "base_uri": "https://localhost:8080/"
        },
        "id": "2jJb_xVeBkR4",
        "outputId": "9ebf005a-9f8e-45f5-daba-674c64ba97cf"
      },
      "execution_count": 12,
      "outputs": [
        {
          "output_type": "stream",
          "name": "stdout",
          "text": [
            "['aback', 'abacus', 'abandon', 'abandoned', 'abandonment', 'abashed', 'abate', 'abbey', 'abbr.', 'abbreviate', 'abbreviation', 'ABC', \"ABC's\", 'abdicate', 'abdication', 'abdomen', 'abdominal', 'abduct', 'abduction', 'aberration', 'abet', 'abhor', 'abhorrence', 'abhorrent', 'abide', 'abiding', 'ability', 'abject', 'ablaze', 'able', 'able-bodied', 'ably', 'abnormal', 'abnormality', 'abnormally', 'aboard', 'abolish', 'abolition', 'abolitionist', 'abominable', 'aboriginal', 'aborigine', 'abort', 'abortion', 'abortive', 'abound', 'about', 'about-face', 'above', 'aboveboard', 'abrasive', 'abrasively', 'abreast', 'abridge', 'abridgment', 'abroad', 'abrupt', 'abruptly', 'abruptness', 'abscess', 'abscond', 'absence', 'absent', 'absentee', 'absenteeism', 'absently', 'absent-minded', 'absent-mindedly', 'absent-mindedness', 'absolute', 'absolutely', 'absolve', 'absorb', 'absorbed', 'absorbent', 'absorbing', 'absorption', 'abstain', 'abstention', 'abstinence', 'abstinent', 'abstract', 'abstraction', 'absurd', 'absurdity', 'absurdly', 'abundance', 'abundant', 'abundantly', 'abuse', 'abusive', 'abysmal', 'abysmally', 'abyss', 'AC', 'academic', 'academically', 'academy', 'accelerate', 'acceleration', 'accelerator', 'accent', 'accented', 'accentuate', 'accept', 'acceptability', 'acceptable', 'acceptably', 'acceptance', 'accepted', 'access', 'accessibility', 'accessible', 'accessory', 'accident', 'accidental', 'accidentally', 'accident-prone', 'acclaim', 'acclaimed', 'acclimate', 'acclimation', 'accolade', 'accommodate', 'accommodating', 'accommodation', 'accommodations', 'accompaniment', 'accompanist', 'accompany', 'accomplice', 'accomplish', 'accomplished', 'accomplishment', 'accord', 'accordance', 'accordingly', 'according to', 'accordion', 'accost', 'account', 'accountability', 'accountable', 'accountant', 'accounting', 'accreditation', 'accredited', 'accrue', 'accumulate', 'accumulation', 'accuracy', 'accurate', 'accurately', 'accusation', 'accuse', 'accused', 'accuser', 'accusing', 'accusingly', 'accustom', 'accustomed', 'ace', 'acerbic', 'ache', 'achieve', 'achievement', 'achiever', \"Achilles' heel\", 'achy', 'acid', 'acidic', 'acidity', 'acid rain', 'acknowledge', 'acknowledged', 'acknowledgment', 'acne', 'acorn', 'acoustic', 'acoustics', 'acquaint', 'acquaintance', 'acquainted', 'acquiesce', 'acquiescence', 'acquire', 'acquisition', 'acquit', 'acquittal', 'acre', 'acrid', 'acrimonious', 'acrimony', 'acrobat', 'acrobatic', 'acrobatics', 'acronym', 'across', 'across from', 'across-the-board', 'acrylic', 'ACT', 'act', 'acting', 'action', 'activate', 'activation', 'active', 'activism', 'activist', 'activity', 'actor', 'actress', 'actual', 'actuality', 'actualization', 'actually', 'acumen', 'acupuncture', 'acute', 'acute angle', 'acutely', 'ad', 'A.D.', 'adage', 'adamant', 'adamantly', \"Adam's apple\", 'adapt', 'adaptable', 'adaptation', 'adapter', 'add', 'addict', 'addicted', 'addiction', 'addictive', 'addition', 'additional', 'additionally', 'additive', 'address', 'adept', 'adeptly', 'adequacy', 'adequate', 'adequately', 'adhere', 'adherence', 'adherent', 'adhesion', 'adhesive', 'ad hoc', 'adjacent', 'adjectival', 'adjective', 'adjoin', 'adjoining', 'adjourn', 'adjournment', 'adjudicate', 'adjudicator', 'adjunct', 'adjust', 'adjustable', 'adjustment', 'ad lib', 'ad-lib', 'administer', 'administration', 'administrative', 'administrator', 'admirable', 'admirably', 'admiral', 'admiration', 'admire', 'admirer', 'admiring', 'admiringly', 'admissible', 'admission', 'admit', 'admittance', 'admittedly', 'admonish', 'admonition', 'adobe', 'adolescence', 'adolescent', 'adopt', 'adopted', 'adoption', 'adoptive', 'adorable', 'adoration', 'adore', 'adorn', 'adornment', 'adrenaline', 'adrift', 'adroit', 'adroitly', 'adulation', 'adult', 'adulterate', 'adulteration', 'adultery', 'advance', 'advanced', 'advancement', 'advantage', 'advantageous', 'Advent', 'advent', 'adventure', 'adventurer', 'adventurous', 'adverb', 'adverbial', 'adversary', 'adverse', 'adversely', 'adversity', 'advertise', 'advertisement', 'advertiser', 'advertising', 'advice', 'advisable', 'advise', 'adviser', 'advisory', 'advocacy', 'advocate', 'aerial', 'aerobic', 'aerobics', 'aerodynamic', 'aerodynamics', 'aerosol', 'aerospace', 'aesthetic', 'aesthetically', 'aesthetics', 'afar', 'affable', 'affably', 'affair', 'affairs', 'affect', 'affectation', 'affected', 'affection', 'affectionate', 'affectionately', 'affidavit', 'affiliate', 'affiliated', 'affiliation', 'affinity', 'affirm', 'affirmation', 'affirmative', 'affirmative action', 'affirmatively', 'affix', 'afflict', 'affliction', 'affluence', 'affluent', 'afford', 'affordable', 'affront', 'afloat', 'afraid', 'afresh', 'Africa', 'African', 'African-American', 'after', 'aftereffect', 'afterlife', 'aftermath', 'afternoon', 'aftershave', 'aftershock', 'afterthought', 'afterward', 'afterwards', 'again', 'against', 'age', 'aged', 'agency', 'agenda', 'agent', 'ages', 'aggravate', 'aggravating', 'aggravation', 'aggression', 'aggressive', 'aggressively', 'aggressiveness', 'aggressor', 'aggrieved', 'aghast', 'agile', 'agility', 'aging', 'agitate', 'agitated', 'agitation', 'agitator', 'agnostic', 'agnosticism', 'ago', 'agonize', 'agonized', 'agonizing', 'agonizingly', 'agony', 'agree', 'agreeable', 'agreeably', 'agreed', 'agreement', 'agricultural', 'agriculture', 'ah', 'aha', 'ahead', 'aid', 'aide', 'AIDS', 'ailing', 'ailment', 'aim', 'aimless', 'aimlessly', \"ain't\", 'air', 'air bag', 'air base', 'airborne', 'air-conditioned', 'air conditioner', 'air conditioning', 'aircraft', 'aircraft carrier', 'airfare', 'airfield', 'air force', 'airily', 'airing', 'airless', 'airline', 'airliner', 'airmail', 'airplane', 'airport', 'air raid', 'airs', 'airspace', 'airstrip', 'airtight', 'air time', 'air traffic controller', 'airwaves', 'airy', 'aisle', 'ajar', 'akin', 'a la carte', 'a la mode', 'alarm', 'alarm clock', 'alarmed', 'alarming', 'alarmingly', 'alarmist', 'alas', 'albeit', 'albino', 'album', 'alcohol', 'alcoholic', 'alcoholism', 'alcove', 'alderman', 'alderwoman', 'ale', 'alert', 'alfalfa', 'algae', 'algebra', 'algebraic', 'algorithm', 'alias', 'alibi', 'alien', 'alienate', 'alienation', 'alight', 'align', 'alignment', 'alike', 'alimony', 'alive', 'alkali', 'alkaline', 'all', 'Allah', 'all-American', 'all-around', 'allay', 'all-clear', 'allegation', 'allege', 'alleged', 'allegedly', 'allegiance', 'allegorical', 'allegory', 'allergic', 'allergy', 'alleviate', 'alleviation', 'alley', 'alliance', 'allied', 'alligator', 'all-inclusive', 'allocate', 'allocation', 'allot', 'allotment', 'all-out', 'allow', 'allowable', 'allowance', 'alloy', 'all right', 'all-star', 'allude', 'allure', 'alluring', 'allusion', 'ally', 'alma mater', 'almanac', 'almighty', 'almond', 'almost', 'alms', 'aloft', 'aloha', 'alone', 'along', 'alongside', 'aloof', 'aloud', 'alphabet', 'alphabetical', 'alphabetically', 'alpine', 'already', 'alright', 'also', 'altar', 'alter', 'alteration', 'altercation', 'alternate', 'alternately', 'alternation', 'alternative', 'alternatively', 'although', 'altitude', 'alto', 'altogether', 'altruism', 'altruistic', 'aluminum', 'alumna', 'alumnae', 'alumni', 'alumnus', 'always', 'AM', 'am', 'A.M.', 'amalgamate', 'amalgamation', 'amass', 'amateur', 'amateurish', 'amaze', 'amazed', 'amazement', 'amazing', 'amazingly', 'ambassador', 'ambassadorial', 'amber', 'ambiance', 'ambidextrous', 'ambiguity', 'ambiguous', 'ambiguously', 'ambition', 'ambitious', 'ambitiously', 'ambivalence', 'ambivalent', 'amble', 'ambulance', 'ambush', 'ameliorate', 'amelioration', 'amen', 'amenable', 'amend', 'amendment', 'amends', 'amenity', 'America', 'American', 'Americana', 'American dream', 'American Indian', 'Americanism', 'amiable', 'amiably', 'amicable', 'amicably', 'amid', 'amidst', 'amiss', 'ammo', 'ammonia', 'ammunition', 'amnesia', 'amnesiac', 'amnesty', 'amoeba', 'amok', 'among', 'amongst', 'amoral', 'amorous', 'amorphous', 'amount', 'amp', 'ampere', 'amphetamine', 'amphibian', 'amphibious']\n"
          ]
        }
      ]
    },
    {
      "cell_type": "code",
      "source": [
        "# txt file의 단어의 길이별 단어 수 구하기\n",
        "\n",
        "len_count = {}\n",
        "for i in map(len, a_words):\n",
        "  len_count[i] = len_count.get(i, 0) + 1\n",
        "\n",
        "len_count"
      ],
      "metadata": {
        "colab": {
          "base_uri": "https://localhost:8080/"
        },
        "id": "muScOZqVBotT",
        "outputId": "f7e17d90-5fad-45ed-90bb-59d54e2821c1"
      },
      "execution_count": 13,
      "outputs": [
        {
          "output_type": "execute_result",
          "data": {
            "text/plain": [
              "{5: 67,\n",
              " 6: 80,\n",
              " 7: 85,\n",
              " 9: 89,\n",
              " 11: 47,\n",
              " 10: 86,\n",
              " 12: 25,\n",
              " 3: 14,\n",
              " 8: 96,\n",
              " 4: 28,\n",
              " 13: 15,\n",
              " 15: 4,\n",
              " 17: 1,\n",
              " 2: 5,\n",
              " 14: 12,\n",
              " 16: 4,\n",
              " 18: 1,\n",
              " 22: 1}"
            ]
          },
          "metadata": {},
          "execution_count": 13
        }
      ]
    },
    {
      "cell_type": "code",
      "source": [
        "# 길이 별 단어 분류\n",
        "\n",
        "a_word_by_len = {}\n",
        "for word in a_words:\n",
        "  a_word_by_len.setdefault(len(word), []).append(word)\n",
        "\n",
        "a_word_by_len"
      ],
      "metadata": {
        "colab": {
          "base_uri": "https://localhost:8080/"
        },
        "id": "0JaX_mH0ETNt",
        "outputId": "d31981a2-4b93-4f66-98c5-aa6886a28f9c"
      },
      "execution_count": 14,
      "outputs": [
        {
          "output_type": "execute_result",
          "data": {
            "text/plain": [
              "{5: ['aback',\n",
              "  'abate',\n",
              "  'abbey',\n",
              "  'abbr.',\n",
              "  \"ABC's\",\n",
              "  'abhor',\n",
              "  'abide',\n",
              "  'abort',\n",
              "  'about',\n",
              "  'above',\n",
              "  'abuse',\n",
              "  'abyss',\n",
              "  'acorn',\n",
              "  'acrid',\n",
              "  'actor',\n",
              "  'acute',\n",
              "  'adage',\n",
              "  'adapt',\n",
              "  'adept',\n",
              "  'admit',\n",
              "  'adobe',\n",
              "  'adopt',\n",
              "  'adore',\n",
              "  'adorn',\n",
              "  'adult',\n",
              "  'affix',\n",
              "  'after',\n",
              "  'again',\n",
              "  'agent',\n",
              "  'agile',\n",
              "  'aging',\n",
              "  'agony',\n",
              "  'agree',\n",
              "  'ahead',\n",
              "  \"ain't\",\n",
              "  'aisle',\n",
              "  'alarm',\n",
              "  'album',\n",
              "  'alert',\n",
              "  'algae',\n",
              "  'alias',\n",
              "  'alibi',\n",
              "  'alien',\n",
              "  'align',\n",
              "  'alike',\n",
              "  'alive',\n",
              "  'Allah',\n",
              "  'allay',\n",
              "  'alley',\n",
              "  'allot',\n",
              "  'allow',\n",
              "  'alloy',\n",
              "  'aloft',\n",
              "  'aloha',\n",
              "  'alone',\n",
              "  'along',\n",
              "  'aloof',\n",
              "  'aloud',\n",
              "  'altar',\n",
              "  'alter',\n",
              "  'amass',\n",
              "  'amaze',\n",
              "  'amber',\n",
              "  'amble',\n",
              "  'amend',\n",
              "  'amiss',\n",
              "  'among'],\n",
              " 6: ['abacus',\n",
              "  'abduct',\n",
              "  'abject',\n",
              "  'ablaze',\n",
              "  'aboard',\n",
              "  'abound',\n",
              "  'abroad',\n",
              "  'abrupt',\n",
              "  'absent',\n",
              "  'absorb',\n",
              "  'absurd',\n",
              "  'accent',\n",
              "  'accept',\n",
              "  'access',\n",
              "  'accord',\n",
              "  'accost',\n",
              "  'accrue',\n",
              "  'accuse',\n",
              "  'acidic',\n",
              "  'acquit',\n",
              "  'across',\n",
              "  'acting',\n",
              "  'action',\n",
              "  'active',\n",
              "  'actual',\n",
              "  'acumen',\n",
              "  'addict',\n",
              "  'adhere',\n",
              "  'ad hoc',\n",
              "  'adjoin',\n",
              "  'adjust',\n",
              "  'ad lib',\n",
              "  'ad-lib',\n",
              "  'admire',\n",
              "  'adrift',\n",
              "  'adroit',\n",
              "  'Advent',\n",
              "  'advent',\n",
              "  'adverb',\n",
              "  'advice',\n",
              "  'advise',\n",
              "  'aerial',\n",
              "  'affair',\n",
              "  'affect',\n",
              "  'affirm',\n",
              "  'afford',\n",
              "  'afloat',\n",
              "  'afraid',\n",
              "  'afresh',\n",
              "  'Africa',\n",
              "  'agency',\n",
              "  'agenda',\n",
              "  'aghast',\n",
              "  'agreed',\n",
              "  'ailing',\n",
              "  'airily',\n",
              "  'airing',\n",
              "  'albeit',\n",
              "  'albino',\n",
              "  'alcove',\n",
              "  'alight',\n",
              "  'alkali',\n",
              "  'allege',\n",
              "  'allied',\n",
              "  'allude',\n",
              "  'allure',\n",
              "  'almond',\n",
              "  'almost',\n",
              "  'alpine',\n",
              "  'alumna',\n",
              "  'alumni',\n",
              "  'always',\n",
              "  'amazed',\n",
              "  'ambush',\n",
              "  'amends',\n",
              "  'amidst',\n",
              "  'amoeba',\n",
              "  'amoral',\n",
              "  'amount',\n",
              "  'ampere'],\n",
              " 7: ['abandon',\n",
              "  'abashed',\n",
              "  'abdomen',\n",
              "  'abiding',\n",
              "  'ability',\n",
              "  'abolish',\n",
              "  'abreast',\n",
              "  'abridge',\n",
              "  'abscess',\n",
              "  'abscond',\n",
              "  'absence',\n",
              "  'absolve',\n",
              "  'abstain',\n",
              "  'abusive',\n",
              "  'abysmal',\n",
              "  'academy',\n",
              "  'acclaim',\n",
              "  'account',\n",
              "  'accused',\n",
              "  'accuser',\n",
              "  'acerbic',\n",
              "  'achieve',\n",
              "  'acidity',\n",
              "  'acquire',\n",
              "  'acrobat',\n",
              "  'acronym',\n",
              "  'acrylic',\n",
              "  'actress',\n",
              "  'acutely',\n",
              "  'adamant',\n",
              "  'adapter',\n",
              "  'address',\n",
              "  'adeptly',\n",
              "  'adjourn',\n",
              "  'adjunct',\n",
              "  'admiral',\n",
              "  'admirer',\n",
              "  'adopted',\n",
              "  'advance',\n",
              "  'adverse',\n",
              "  'adviser',\n",
              "  'aerobic',\n",
              "  'aerosol',\n",
              "  'affable',\n",
              "  'affably',\n",
              "  'affairs',\n",
              "  'afflict',\n",
              "  'affront',\n",
              "  'African',\n",
              "  'against',\n",
              "  'agility',\n",
              "  'agitate',\n",
              "  'agonize',\n",
              "  'ailment',\n",
              "  'aimless',\n",
              "  'air bag',\n",
              "  'airfare',\n",
              "  'airless',\n",
              "  'airline',\n",
              "  'airmail',\n",
              "  'airport',\n",
              "  'alarmed',\n",
              "  'alcohol',\n",
              "  'alfalfa',\n",
              "  'algebra',\n",
              "  'alimony',\n",
              "  'alleged',\n",
              "  'allergy',\n",
              "  'all-out',\n",
              "  'almanac',\n",
              "  'already',\n",
              "  'alright',\n",
              "  'alumnae',\n",
              "  'alumnus',\n",
              "  'amateur',\n",
              "  'amazing',\n",
              "  'amenity',\n",
              "  'America',\n",
              "  'amiable',\n",
              "  'amiably',\n",
              "  'ammonia',\n",
              "  'amnesia',\n",
              "  'amnesty',\n",
              "  'amongst',\n",
              "  'amorous'],\n",
              " 9: ['abandoned',\n",
              "  'abdominal',\n",
              "  'abduction',\n",
              "  'abhorrent',\n",
              "  'abolition',\n",
              "  'aborigine',\n",
              "  'absorbent',\n",
              "  'absorbing',\n",
              "  'abstinent',\n",
              "  'absurdity',\n",
              "  'abundance',\n",
              "  'abysmally',\n",
              "  'accessory',\n",
              "  'acclaimed',\n",
              "  'acclimate',\n",
              "  'accompany',\n",
              "  'accordion',\n",
              "  'acid rain',\n",
              "  'acoustics',\n",
              "  'acquiesce',\n",
              "  'acquittal',\n",
              "  'acrobatic',\n",
              "  'actuality',\n",
              "  'adamantly',\n",
              "  'adaptable',\n",
              "  'addiction',\n",
              "  'addictive',\n",
              "  'adherence',\n",
              "  'adjective',\n",
              "  'adjoining',\n",
              "  'admirable',\n",
              "  'admirably',\n",
              "  'admission',\n",
              "  'adoration',\n",
              "  'adornment',\n",
              "  'adulation',\n",
              "  'advantage',\n",
              "  'adventure',\n",
              "  'adverbial',\n",
              "  'adversary',\n",
              "  'adversely',\n",
              "  'adversity',\n",
              "  'advertise',\n",
              "  'advisable',\n",
              "  'aerospace',\n",
              "  'aesthetic',\n",
              "  'affection',\n",
              "  'affidavit',\n",
              "  'affiliate',\n",
              "  'affluence',\n",
              "  'afterlife',\n",
              "  'aftermath',\n",
              "  'afternoon',\n",
              "  'afterward',\n",
              "  'aggravate',\n",
              "  'aggressor',\n",
              "  'aggrieved',\n",
              "  'agitation',\n",
              "  'agonizing',\n",
              "  'agreeable',\n",
              "  'agreeably',\n",
              "  'agreement',\n",
              "  'aimlessly',\n",
              "  'air force',\n",
              "  'a la mode',\n",
              "  'alcoholic',\n",
              "  'algebraic',\n",
              "  'algorithm',\n",
              "  'alignment',\n",
              "  'all-clear',\n",
              "  'allegedly',\n",
              "  'alleviate',\n",
              "  'alligator',\n",
              "  'allotment',\n",
              "  'allowable',\n",
              "  'allowance',\n",
              "  'all right',\n",
              "  'alongside',\n",
              "  'alternate',\n",
              "  'amazement',\n",
              "  'amazingly',\n",
              "  'ambiguity',\n",
              "  'ambiguous',\n",
              "  'ambitious',\n",
              "  'ambulance',\n",
              "  'amendment',\n",
              "  'Americana',\n",
              "  'amorphous',\n",
              "  'amphibian'],\n",
              " 11: ['abandonment',\n",
              "  'able-bodied',\n",
              "  'abnormality',\n",
              "  'absenteeism',\n",
              "  'abstraction',\n",
              "  'accelerator',\n",
              "  'acclimation',\n",
              "  'accommodate',\n",
              "  'accompanist',\n",
              "  'accordingly',\n",
              "  'accountable',\n",
              "  'achievement',\n",
              "  'acknowledge',\n",
              "  'acquisition',\n",
              "  'acrimonious',\n",
              "  'across from',\n",
              "  'acupuncture',\n",
              "  'acute angle',\n",
              "  'adjournment',\n",
              "  'adjudicator',\n",
              "  'adolescence',\n",
              "  'advancement',\n",
              "  'adventurous',\n",
              "  'advertising',\n",
              "  'aerodynamic',\n",
              "  'affectation',\n",
              "  'affiliation',\n",
              "  'affirmation',\n",
              "  'affirmative',\n",
              "  'aftereffect',\n",
              "  'aggravating',\n",
              "  'aggravation',\n",
              "  'agnosticism',\n",
              "  'agonizingly',\n",
              "  'agriculture',\n",
              "  'alarm clock',\n",
              "  'allegorical',\n",
              "  'alleviation',\n",
              "  'altercation',\n",
              "  'alternately',\n",
              "  'alternation',\n",
              "  'alternative',\n",
              "  'ambiguously',\n",
              "  'ambitiously',\n",
              "  'ambivalence',\n",
              "  'Americanism',\n",
              "  'amphetamine'],\n",
              " 10: ['abbreviate',\n",
              "  'abdication',\n",
              "  'aberration',\n",
              "  'abhorrence',\n",
              "  'abnormally',\n",
              "  'abominable',\n",
              "  'aboriginal',\n",
              "  'about-face',\n",
              "  'aboveboard',\n",
              "  'abrasively',\n",
              "  'abridgment',\n",
              "  'abruptness',\n",
              "  'absolutely',\n",
              "  'absorption',\n",
              "  'abstention',\n",
              "  'abstinence',\n",
              "  'abundantly',\n",
              "  'accelerate',\n",
              "  'accentuate',\n",
              "  'acceptable',\n",
              "  'acceptably',\n",
              "  'acceptance',\n",
              "  'accessible',\n",
              "  'accidental',\n",
              "  'accomplice',\n",
              "  'accomplish',\n",
              "  'accordance',\n",
              "  'accountant',\n",
              "  'accounting',\n",
              "  'accredited',\n",
              "  'accumulate',\n",
              "  'accurately',\n",
              "  'accusation',\n",
              "  'accusingly',\n",
              "  'accustomed',\n",
              "  'acquainted',\n",
              "  'acrobatics',\n",
              "  'activation',\n",
              "  'adaptation',\n",
              "  'additional',\n",
              "  'adequately',\n",
              "  'adjectival',\n",
              "  'adjudicate',\n",
              "  'adjustable',\n",
              "  'adjustment',\n",
              "  'administer',\n",
              "  'admiration',\n",
              "  'admiringly',\n",
              "  'admissible',\n",
              "  'admittance',\n",
              "  'admittedly',\n",
              "  'admonition',\n",
              "  'adolescent',\n",
              "  'adrenaline',\n",
              "  'adulterate',\n",
              "  'adventurer',\n",
              "  'advertiser',\n",
              "  'aesthetics',\n",
              "  'affiliated',\n",
              "  'affliction',\n",
              "  'affordable',\n",
              "  'aftershave',\n",
              "  'aftershock',\n",
              "  'afterwards',\n",
              "  'aggression',\n",
              "  'aggressive',\n",
              "  'a la carte',\n",
              "  'alarmingly',\n",
              "  'alcoholism',\n",
              "  'alderwoman',\n",
              "  'alienation',\n",
              "  'all-around',\n",
              "  'allegation',\n",
              "  'allegiance',\n",
              "  'allocation',\n",
              "  'alma mater',\n",
              "  'alteration',\n",
              "  'altogether',\n",
              "  'altruistic',\n",
              "  'amalgamate',\n",
              "  'amateurish',\n",
              "  'ambassador',\n",
              "  'ambivalent',\n",
              "  'ameliorate',\n",
              "  'ammunition',\n",
              "  'amphibious'],\n",
              " 12: ['abbreviation',\n",
              "  'abolitionist',\n",
              "  'academically',\n",
              "  'acceleration',\n",
              "  'accidentally',\n",
              "  'accomplished',\n",
              "  'according to',\n",
              "  'accumulation',\n",
              "  'acknowledged',\n",
              "  'acquaintance',\n",
              "  'acquiescence',\n",
              "  \"Adam's apple\",\n",
              "  'additionally',\n",
              "  'adulteration',\n",
              "  'advantageous',\n",
              "  'aerodynamics',\n",
              "  'affectionate',\n",
              "  'afterthought',\n",
              "  'aggressively',\n",
              "  'agricultural',\n",
              "  'all-American',\n",
              "  'alphabetical',\n",
              "  'amalgamation',\n",
              "  'ambidextrous',\n",
              "  'amelioration'],\n",
              " 3: ['ABC',\n",
              "  'ace',\n",
              "  'ACT',\n",
              "  'act',\n",
              "  'add',\n",
              "  'age',\n",
              "  'ago',\n",
              "  'aha',\n",
              "  'aid',\n",
              "  'aim',\n",
              "  'air',\n",
              "  'ale',\n",
              "  'all',\n",
              "  'amp'],\n",
              " 8: ['abdicate',\n",
              "  'abnormal',\n",
              "  'abortion',\n",
              "  'abortive',\n",
              "  'abrasive',\n",
              "  'abruptly',\n",
              "  'absentee',\n",
              "  'absently',\n",
              "  'absolute',\n",
              "  'absorbed',\n",
              "  'abstract',\n",
              "  'absurdly',\n",
              "  'abundant',\n",
              "  'academic',\n",
              "  'accented',\n",
              "  'accepted',\n",
              "  'accident',\n",
              "  'accolade',\n",
              "  'accuracy',\n",
              "  'accurate',\n",
              "  'accusing',\n",
              "  'accustom',\n",
              "  'achiever',\n",
              "  'acoustic',\n",
              "  'acquaint',\n",
              "  'acrimony',\n",
              "  'activate',\n",
              "  'activism',\n",
              "  'activist',\n",
              "  'activity',\n",
              "  'actually',\n",
              "  'addicted',\n",
              "  'addition',\n",
              "  'additive',\n",
              "  'adequacy',\n",
              "  'adequate',\n",
              "  'adherent',\n",
              "  'adhesion',\n",
              "  'adhesive',\n",
              "  'adjacent',\n",
              "  'admiring',\n",
              "  'admonish',\n",
              "  'adoption',\n",
              "  'adoptive',\n",
              "  'adorable',\n",
              "  'adroitly',\n",
              "  'adultery',\n",
              "  'advanced',\n",
              "  'advisory',\n",
              "  'advocacy',\n",
              "  'advocate',\n",
              "  'aerobics',\n",
              "  'affected',\n",
              "  'affinity',\n",
              "  'affluent',\n",
              "  'agitated',\n",
              "  'agitator',\n",
              "  'agnostic',\n",
              "  'agonized',\n",
              "  'air base',\n",
              "  'airborne',\n",
              "  'aircraft',\n",
              "  'airfield',\n",
              "  'airliner',\n",
              "  'airplane',\n",
              "  'air raid',\n",
              "  'airspace',\n",
              "  'airstrip',\n",
              "  'airtight',\n",
              "  'air time',\n",
              "  'airwaves',\n",
              "  'alarming',\n",
              "  'alarmist',\n",
              "  'alderman',\n",
              "  'alienate',\n",
              "  'alkaline',\n",
              "  'allegory',\n",
              "  'allergic',\n",
              "  'alliance',\n",
              "  'allocate',\n",
              "  'all-star',\n",
              "  'alluring',\n",
              "  'allusion',\n",
              "  'almighty',\n",
              "  'alphabet',\n",
              "  'although',\n",
              "  'altitude',\n",
              "  'altruism',\n",
              "  'aluminum',\n",
              "  'ambiance',\n",
              "  'ambition',\n",
              "  'amenable',\n",
              "  'American',\n",
              "  'amicable',\n",
              "  'amicably',\n",
              "  'amnesiac'],\n",
              " 4: ['abet',\n",
              "  'able',\n",
              "  'ably',\n",
              "  'ache',\n",
              "  'achy',\n",
              "  'acid',\n",
              "  'acne',\n",
              "  'acre',\n",
              "  'A.D.',\n",
              "  'afar',\n",
              "  'aged',\n",
              "  'ages',\n",
              "  'aide',\n",
              "  'AIDS',\n",
              "  'airs',\n",
              "  'airy',\n",
              "  'ajar',\n",
              "  'akin',\n",
              "  'alas',\n",
              "  'ally',\n",
              "  'alms',\n",
              "  'also',\n",
              "  'alto',\n",
              "  'A.M.',\n",
              "  'amen',\n",
              "  'amid',\n",
              "  'ammo',\n",
              "  'amok'],\n",
              " 13: ['absent-minded',\n",
              "  'acceptability',\n",
              "  'accessibility',\n",
              "  'accommodating',\n",
              "  'accommodation',\n",
              "  'accompaniment',\n",
              "  'accreditation',\n",
              "  'actualization',\n",
              "  'administrator',\n",
              "  'advertisement',\n",
              "  'aesthetically',\n",
              "  'affirmatively',\n",
              "  'all-inclusive',\n",
              "  'alternatively',\n",
              "  'ambassadorial'],\n",
              " 15: ['absent-mindedly',\n",
              "  'air-conditioned',\n",
              "  'air conditioner',\n",
              "  'American Indian'],\n",
              " 17: ['absent-mindedness'],\n",
              " 2: ['AC', 'ad', 'ah', 'AM', 'am'],\n",
              " 14: ['accident-prone',\n",
              "  'accommodations',\n",
              "  'accomplishment',\n",
              "  'accountability',\n",
              "  \"Achilles' heel\",\n",
              "  'acknowledgment',\n",
              "  'administration',\n",
              "  'administrative',\n",
              "  'affectionately',\n",
              "  'aggressiveness',\n",
              "  'alphabetically',\n",
              "  'American dream'],\n",
              " 16: ['across-the-board',\n",
              "  'African-American',\n",
              "  'air conditioning',\n",
              "  'aircraft carrier'],\n",
              " 18: ['affirmative action'],\n",
              " 22: ['air traffic controller']}"
            ]
          },
          "metadata": {},
          "execution_count": 14
        }
      ]
    },
    {
      "cell_type": "markdown",
      "source": [
        "## Function"
      ],
      "metadata": {
        "id": "zAdPZQblJOCD"
      }
    },
    {
      "cell_type": "code",
      "source": [
        "def say_hello():\n",
        "  print(\"Hello, world!\")"
      ],
      "metadata": {
        "id": "xH1wAgshFktG"
      },
      "execution_count": 20,
      "outputs": []
    },
    {
      "cell_type": "code",
      "source": [
        "say_hello()"
      ],
      "metadata": {
        "colab": {
          "base_uri": "https://localhost:8080/"
        },
        "id": "86I9tNHZL_IT",
        "outputId": "7b853555-bc23-4817-ce6b-aa7d84bcdd26"
      },
      "execution_count": 150,
      "outputs": [
        {
          "output_type": "stream",
          "name": "stdout",
          "text": [
            "Hi, Fool!\n",
            "You are fool XD\n"
          ]
        }
      ]
    },
    {
      "cell_type": "code",
      "source": [
        "def say_hello(username):\n",
        "  print(f\"Hello, {username}!\")"
      ],
      "metadata": {
        "id": "F1VumBfDlkFR"
      },
      "execution_count": 22,
      "outputs": []
    },
    {
      "cell_type": "code",
      "source": [
        "say_hello"
      ],
      "metadata": {
        "colab": {
          "base_uri": "https://localhost:8080/"
        },
        "id": "Tnu6iylYl-wt",
        "outputId": "22690fcd-b442-49e2-968a-ffaf3b4fc297"
      },
      "execution_count": 25,
      "outputs": [
        {
          "output_type": "execute_result",
          "data": {
            "text/plain": [
              "<function __main__.say_hello(user_name)>"
            ]
          },
          "metadata": {},
          "execution_count": 25
        }
      ]
    },
    {
      "cell_type": "code",
      "source": [
        "say_hello(\"jingnii\")"
      ],
      "metadata": {
        "colab": {
          "base_uri": "https://localhost:8080/"
        },
        "id": "AvKPteOKl7Cx",
        "outputId": "35aace62-e053-4fa7-ec3b-ab52a10cd720"
      },
      "execution_count": 24,
      "outputs": [
        {
          "output_type": "stream",
          "name": "stdout",
          "text": [
            "Hello, jingnii!\n"
          ]
        }
      ]
    },
    {
      "cell_type": "code",
      "source": [
        "def say_hello(username):\n",
        "  return f\"Hello, {username}!\""
      ],
      "metadata": {
        "id": "37mHtk-fmIWw"
      },
      "execution_count": 26,
      "outputs": []
    },
    {
      "cell_type": "code",
      "source": [
        "say_hello(\"jingnii\")"
      ],
      "metadata": {
        "colab": {
          "base_uri": "https://localhost:8080/",
          "height": 35
        },
        "id": "NMc16Dbemue7",
        "outputId": "a880e80b-4ba8-4181-fb58-edddf4de59d5"
      },
      "execution_count": 27,
      "outputs": [
        {
          "output_type": "execute_result",
          "data": {
            "text/plain": [
              "'Hello, jingnii!'"
            ],
            "application/vnd.google.colaboratory.intrinsic+json": {
              "type": "string"
            }
          },
          "metadata": {},
          "execution_count": 27
        }
      ]
    },
    {
      "cell_type": "code",
      "source": [
        "result = say_hello(\"jingnii\")\n",
        "type(result)"
      ],
      "metadata": {
        "colab": {
          "base_uri": "https://localhost:8080/"
        },
        "id": "5kofKOB4m3dU",
        "outputId": "230e913b-b9b9-49ca-d86b-b37775776459"
      },
      "execution_count": 28,
      "outputs": [
        {
          "output_type": "execute_result",
          "data": {
            "text/plain": [
              "str"
            ]
          },
          "metadata": {},
          "execution_count": 28
        }
      ]
    },
    {
      "cell_type": "code",
      "source": [
        "def awesum(num1, num2):\n",
        "  result = num1 + num2 + 3\n",
        "  return result"
      ],
      "metadata": {
        "id": "2FQ15zXrnAPs"
      },
      "execution_count": 29,
      "outputs": []
    },
    {
      "cell_type": "code",
      "source": [
        "awesum(2, 3)"
      ],
      "metadata": {
        "colab": {
          "base_uri": "https://localhost:8080/"
        },
        "id": "_bLnBuixnyxf",
        "outputId": "cc418d42-a6b3-491b-eeef-5a5d195ae826"
      },
      "execution_count": 30,
      "outputs": [
        {
          "output_type": "execute_result",
          "data": {
            "text/plain": [
              "8"
            ]
          },
          "metadata": {},
          "execution_count": 30
        }
      ]
    },
    {
      "cell_type": "code",
      "source": [
        "from random import choice\n",
        "\n",
        "def awesum():\n",
        "  result = choice(range(5))\n",
        "  return result"
      ],
      "metadata": {
        "id": "ejWkE-3-n1Y3"
      },
      "execution_count": 31,
      "outputs": []
    },
    {
      "cell_type": "code",
      "source": [
        "is_return = awesum()\n",
        "is_return"
      ],
      "metadata": {
        "colab": {
          "base_uri": "https://localhost:8080/"
        },
        "id": "2MO8wxJJoz6e",
        "outputId": "fc0f9269-8776-43c3-ee42-13ef0ff54ba5"
      },
      "execution_count": 33,
      "outputs": [
        {
          "output_type": "execute_result",
          "data": {
            "text/plain": [
              "3"
            ]
          },
          "metadata": {},
          "execution_count": 33
        }
      ]
    },
    {
      "cell_type": "code",
      "source": [
        "def mul_return(num):\n",
        "  q = num // 3\n",
        "  r = num % 3\n",
        "  return q, r"
      ],
      "metadata": {
        "id": "BcZNS-3Go1UI"
      },
      "execution_count": 34,
      "outputs": []
    },
    {
      "cell_type": "code",
      "source": [
        "type(mul_return(10))"
      ],
      "metadata": {
        "colab": {
          "base_uri": "https://localhost:8080/"
        },
        "id": "m4EehdnMpqI5",
        "outputId": "7a607fd0-7834-4b3a-ee56-6c233d1a66d7"
      },
      "execution_count": 36,
      "outputs": [
        {
          "output_type": "execute_result",
          "data": {
            "text/plain": [
              "tuple"
            ]
          },
          "metadata": {},
          "execution_count": 36
        }
      ]
    },
    {
      "cell_type": "code",
      "source": [
        "q, r = mul_return(10)\n",
        "print(f\"q = {q}, r = {r}\")"
      ],
      "metadata": {
        "colab": {
          "base_uri": "https://localhost:8080/"
        },
        "id": "mHNXtl8PpiEa",
        "outputId": "2a4aceec-e03f-4126-eb07-ac3c381ea4a3"
      },
      "execution_count": 35,
      "outputs": [
        {
          "output_type": "stream",
          "name": "stdout",
          "text": [
            "q = 3, r = 1\n"
          ]
        }
      ]
    },
    {
      "cell_type": "code",
      "source": [
        "def id_validation(username):\n",
        "  if username == 'admin':\n",
        "    print('You are not admin!')\n",
        "    return\n",
        "  else:\n",
        "    return username"
      ],
      "metadata": {
        "id": "-Hr3-vAdpwuX"
      },
      "execution_count": 37,
      "outputs": []
    },
    {
      "cell_type": "code",
      "source": [
        "id_validation(\"admin\")"
      ],
      "metadata": {
        "colab": {
          "base_uri": "https://localhost:8080/"
        },
        "id": "7gKepxi2qVUh",
        "outputId": "1d1a3264-e222-4e4a-e84d-126e878eca65"
      },
      "execution_count": 38,
      "outputs": [
        {
          "output_type": "stream",
          "name": "stdout",
          "text": [
            "You are not admin!\n"
          ]
        }
      ]
    },
    {
      "cell_type": "code",
      "source": [
        "def say_hello(username='Fool', nick = True):\n",
        "  print(f\"Hi, {username}!\")\n",
        "  if nick:\n",
        "    print(\"You are fool XD\")\n",
        "  else:\n",
        "    print(\"You are not fool\")"
      ],
      "metadata": {
        "id": "-H804sy_qY4v"
      },
      "execution_count": 41,
      "outputs": []
    },
    {
      "cell_type": "code",
      "source": [
        "say_hello()"
      ],
      "metadata": {
        "colab": {
          "base_uri": "https://localhost:8080/"
        },
        "id": "a3gFlmubrWoU",
        "outputId": "deb66333-5fb8-4351-afac-a496531a5c79"
      },
      "execution_count": 42,
      "outputs": [
        {
          "output_type": "stream",
          "name": "stdout",
          "text": [
            "Hi, Fool!\n",
            "You are fool XD\n"
          ]
        }
      ]
    },
    {
      "cell_type": "code",
      "source": [
        "say_hello('test')"
      ],
      "metadata": {
        "colab": {
          "base_uri": "https://localhost:8080/"
        },
        "id": "vTvVlN6RrZUg",
        "outputId": "07cbcea8-93d6-4010-e4c7-2d7a7efea516"
      },
      "execution_count": 43,
      "outputs": [
        {
          "output_type": "stream",
          "name": "stdout",
          "text": [
            "Hi, test!\n",
            "You are fool XD\n"
          ]
        }
      ]
    },
    {
      "cell_type": "code",
      "source": [
        "say_hello('test', False)"
      ],
      "metadata": {
        "colab": {
          "base_uri": "https://localhost:8080/"
        },
        "id": "DxY7iHgYrjc-",
        "outputId": "c2b87cfd-27e2-4fb4-ab46-d58abccd9021"
      },
      "execution_count": 44,
      "outputs": [
        {
          "output_type": "stream",
          "name": "stdout",
          "text": [
            "Hi, test!\n",
            "You are not fool\n"
          ]
        }
      ]
    },
    {
      "cell_type": "code",
      "source": [
        "def mul_sum(*args):\n",
        "  result = 0\n",
        "  print(args, type(args))"
      ],
      "metadata": {
        "id": "PGHK5BQlrleG"
      },
      "execution_count": 45,
      "outputs": []
    },
    {
      "cell_type": "code",
      "source": [
        "mul_sum(1, 2, 3)"
      ],
      "metadata": {
        "colab": {
          "base_uri": "https://localhost:8080/"
        },
        "id": "2e82YvZKswbz",
        "outputId": "6285e094-1232-4851-d152-4d6e560790c8"
      },
      "execution_count": 46,
      "outputs": [
        {
          "output_type": "stream",
          "name": "stdout",
          "text": [
            "(1, 2, 3) <class 'tuple'>\n"
          ]
        }
      ]
    },
    {
      "cell_type": "code",
      "source": [
        "def mul_sum(*args):\n",
        "  result = 0\n",
        "  for item in args:\n",
        "    result += item\n",
        "  return result"
      ],
      "metadata": {
        "id": "ZmwNvg9KsyH0"
      },
      "execution_count": 47,
      "outputs": []
    },
    {
      "cell_type": "code",
      "source": [
        "mul_sum(1,2,3,4,5)"
      ],
      "metadata": {
        "colab": {
          "base_uri": "https://localhost:8080/"
        },
        "id": "2pJVh_Lls7pt",
        "outputId": "804746ad-f706-4889-d6aa-85d0c6363390"
      },
      "execution_count": 48,
      "outputs": [
        {
          "output_type": "execute_result",
          "data": {
            "text/plain": [
              "15"
            ]
          },
          "metadata": {},
          "execution_count": 48
        }
      ]
    },
    {
      "cell_type": "code",
      "source": [
        "def show_kwargs(**kwargs):\n",
        "  print(kwargs, type(kwargs))\n",
        "\n",
        "show_kwargs(hello = \"hello\", name = \"www\")"
      ],
      "metadata": {
        "colab": {
          "base_uri": "https://localhost:8080/"
        },
        "id": "s1AUx205tMCt",
        "outputId": "3122a105-9b51-4150-d0aa-38a1303debc7"
      },
      "execution_count": 54,
      "outputs": [
        {
          "output_type": "stream",
          "name": "stdout",
          "text": [
            "{'hello': 'hello', 'name': 'www'} <class 'dict'>\n"
          ]
        }
      ]
    },
    {
      "cell_type": "code",
      "source": [
        "def set_url(hostname, port, **query):\n",
        "  real_url = f\"https://{hostname}:{port}?\"\n",
        "  for key in query.keys():\n",
        "    real_url += f\"{key}={query[key]}&\"\n",
        "  return real_url"
      ],
      "metadata": {
        "id": "5JXCufk5uPQm"
      },
      "execution_count": 55,
      "outputs": []
    },
    {
      "cell_type": "code",
      "source": [
        "set_url(\"localhost\", \"8080\", utm_source=\"google\", search=True)"
      ],
      "metadata": {
        "colab": {
          "base_uri": "https://localhost:8080/",
          "height": 35
        },
        "id": "uD0OF5UmvSpZ",
        "outputId": "27a1dd9b-854e-40e8-94db-eaabe390d06d"
      },
      "execution_count": 58,
      "outputs": [
        {
          "output_type": "execute_result",
          "data": {
            "text/plain": [
              "'https://localhost:8080?utm_source=google&search=True&'"
            ],
            "application/vnd.google.colaboratory.intrinsic+json": {
              "type": "string"
            }
          },
          "metadata": {},
          "execution_count": 58
        }
      ]
    },
    {
      "cell_type": "code",
      "source": [
        "a = 'hello'\n",
        "\n",
        "def glob_test(a):\n",
        "  a += 'world'\n",
        "  return a\n",
        "\n",
        "print(glob_test(a))\n",
        "print(a)"
      ],
      "metadata": {
        "colab": {
          "base_uri": "https://localhost:8080/"
        },
        "id": "zvuVUdMcC-eJ",
        "outputId": "9c589298-6465-4d12-c201-121b2d7ecf54"
      },
      "execution_count": 63,
      "outputs": [
        {
          "output_type": "stream",
          "name": "stdout",
          "text": [
            "helloworld\n",
            "hello\n"
          ]
        }
      ]
    },
    {
      "cell_type": "code",
      "source": [
        "a = 'hello'\n",
        "\n",
        "def glob_test(b):\n",
        "  b += 'world'\n",
        "  return b"
      ],
      "metadata": {
        "id": "EXg2M9PVDUSL"
      },
      "execution_count": 64,
      "outputs": []
    },
    {
      "cell_type": "code",
      "source": [
        "glob_test(a)"
      ],
      "metadata": {
        "colab": {
          "base_uri": "https://localhost:8080/",
          "height": 35
        },
        "id": "KB8xsdniECFa",
        "outputId": "75d72ed1-4830-43ee-b32d-a62c15ae8523"
      },
      "execution_count": 65,
      "outputs": [
        {
          "output_type": "execute_result",
          "data": {
            "text/plain": [
              "'helloworld'"
            ],
            "application/vnd.google.colaboratory.intrinsic+json": {
              "type": "string"
            }
          },
          "metadata": {},
          "execution_count": 65
        }
      ]
    },
    {
      "cell_type": "code",
      "source": [
        "a"
      ],
      "metadata": {
        "colab": {
          "base_uri": "https://localhost:8080/",
          "height": 35
        },
        "id": "gDYJznBAEDkq",
        "outputId": "2c9e4a2c-2061-4d0b-dc13-0bf14602e204"
      },
      "execution_count": 66,
      "outputs": [
        {
          "output_type": "execute_result",
          "data": {
            "text/plain": [
              "'hello'"
            ],
            "application/vnd.google.colaboratory.intrinsic+json": {
              "type": "string"
            }
          },
          "metadata": {},
          "execution_count": 66
        }
      ]
    },
    {
      "cell_type": "code",
      "source": [
        "def glob_test2(d):\n",
        "  a += 'world' # err: not defined local variable\n",
        "  d += 1\n",
        "  return a, d"
      ],
      "metadata": {
        "id": "0_h4c5SPEEdr"
      },
      "execution_count": 67,
      "outputs": []
    },
    {
      "cell_type": "code",
      "source": [
        "a = 'hello'\n",
        "def glob_test(a):\n",
        "  a += 'world'\n",
        "  return a"
      ],
      "metadata": {
        "id": "NvfZF891EmVq"
      },
      "execution_count": 68,
      "outputs": []
    },
    {
      "cell_type": "code",
      "source": [
        "a = glob_test(a)"
      ],
      "metadata": {
        "id": "iFgb4HWyFScS"
      },
      "execution_count": 69,
      "outputs": []
    },
    {
      "cell_type": "code",
      "source": [
        "print(a)"
      ],
      "metadata": {
        "colab": {
          "base_uri": "https://localhost:8080/"
        },
        "id": "xFkZNaucFUMb",
        "outputId": "9d1ecf8d-0e50-4c2a-9fbf-dbe0271518d5"
      },
      "execution_count": 70,
      "outputs": [
        {
          "output_type": "stream",
          "name": "stdout",
          "text": [
            "helloworld\n"
          ]
        }
      ]
    },
    {
      "cell_type": "code",
      "source": [
        "b = 'hello'\n",
        "def glob_test():\n",
        "  global b\n",
        "  b += 'world'\n",
        "  return b"
      ],
      "metadata": {
        "id": "6Zr1S-UoFVo5"
      },
      "execution_count": 71,
      "outputs": []
    },
    {
      "cell_type": "code",
      "source": [
        "glob_test()"
      ],
      "metadata": {
        "colab": {
          "base_uri": "https://localhost:8080/",
          "height": 35
        },
        "id": "fWLTQfIWF3DM",
        "outputId": "369b9ac3-9a7d-43db-a364-fd231f58dbeb"
      },
      "execution_count": 73,
      "outputs": [
        {
          "output_type": "execute_result",
          "data": {
            "text/plain": [
              "'helloworld'"
            ],
            "application/vnd.google.colaboratory.intrinsic+json": {
              "type": "string"
            }
          },
          "metadata": {},
          "execution_count": 73
        }
      ]
    },
    {
      "cell_type": "markdown",
      "source": [
        "## Practice\n",
        "\n",
        "leap year with function"
      ],
      "metadata": {
        "id": "2jnO-0ddHKjP"
      }
    },
    {
      "cell_type": "code",
      "source": [
        "def is_leap(year):\n",
        "  if year % 4 == 0 and (year % 100 != 0 or year % 400 == 0):\n",
        "    return True\n",
        "  return False\n",
        "\n",
        "for year in [2000, 2100, 2001, 2004, 2400]:\n",
        "  if is_leap(year):\n",
        "    print(f\"{year} is a leap year.\")\n",
        "  else:\n",
        "    print(f\"{year} is not a leap year\")"
      ],
      "metadata": {
        "colab": {
          "base_uri": "https://localhost:8080/"
        },
        "id": "o432vnc1F3xv",
        "outputId": "73a741ec-657d-405c-de6b-05d0985e8228"
      },
      "execution_count": 76,
      "outputs": [
        {
          "output_type": "stream",
          "name": "stdout",
          "text": [
            "2000 is a leap year.\n",
            "2100 is not a leap year\n",
            "2001 is not a leap year\n",
            "2004 is a leap year.\n",
            "2400 is a leap year.\n"
          ]
        }
      ]
    },
    {
      "cell_type": "code",
      "source": [
        "def greeting(username, age):\n",
        "  return f\"Hi, {username}. And you are {age}.\""
      ],
      "metadata": {
        "id": "gRRqRTbmHcQn"
      },
      "execution_count": 78,
      "outputs": []
    },
    {
      "cell_type": "code",
      "source": [
        "greeting('John', 28)"
      ],
      "metadata": {
        "colab": {
          "base_uri": "https://localhost:8080/",
          "height": 35
        },
        "id": "CWW7ojS3OnbM",
        "outputId": "78405a8a-e0ac-4910-a40c-f5d6148ca031"
      },
      "execution_count": 79,
      "outputs": [
        {
          "output_type": "execute_result",
          "data": {
            "text/plain": [
              "'Hi, John. And you are 28.'"
            ],
            "application/vnd.google.colaboratory.intrinsic+json": {
              "type": "string"
            }
          },
          "metadata": {},
          "execution_count": 79
        }
      ]
    },
    {
      "cell_type": "code",
      "source": [
        "greeting(28, 'John') # 예외 처리를 다 해줘야 함"
      ],
      "metadata": {
        "colab": {
          "base_uri": "https://localhost:8080/",
          "height": 35
        },
        "id": "hG6Yy01lOsNT",
        "outputId": "13fa3185-0647-4f8e-bbfb-68b12ae876a0"
      },
      "execution_count": 80,
      "outputs": [
        {
          "output_type": "execute_result",
          "data": {
            "text/plain": [
              "'Hi, 28. And you are John.'"
            ],
            "application/vnd.google.colaboratory.intrinsic+json": {
              "type": "string"
            }
          },
          "metadata": {},
          "execution_count": 80
        }
      ]
    },
    {
      "cell_type": "code",
      "source": [
        "#type annotation을 사용해도 예외처리는 해야함\n",
        "def greeting(username: str, age: int) -> str:\n",
        "  \"\"\"\n",
        "  기능 설명의 용도로 사용하거나, sql query를 날릴 때 사용함\n",
        "  \"\"\"\n",
        "  return f\"Hi, {username}. And you are {age}.\""
      ],
      "metadata": {
        "id": "ysfdqQcaPA-V"
      },
      "execution_count": 86,
      "outputs": []
    },
    {
      "cell_type": "code",
      "source": [
        "greeting?"
      ],
      "metadata": {
        "id": "plnBv_NJPCRC"
      },
      "execution_count": 87,
      "outputs": []
    },
    {
      "cell_type": "code",
      "source": [
        "query = \"\"\"\n",
        "select id, user_name\n",
        "from members;\n",
        "\"\"\""
      ],
      "metadata": {
        "id": "-xJhqNyZQR9T"
      },
      "execution_count": 88,
      "outputs": []
    },
    {
      "cell_type": "markdown",
      "source": [
        "## Recursive"
      ],
      "metadata": {
        "id": "caGbnK20RpPt"
      }
    },
    {
      "cell_type": "code",
      "source": [
        "times = int(input(\"How many times do you want to curse the beast? \"))\n",
        "\n",
        "def recurse_beast(i):\n",
        "  if i == 0:\n",
        "    print(\"curse complete!\")\n",
        "    return\n",
        "  else:\n",
        "    print(f\"fusion! {i - 1} times left\")\n",
        "    return recurse_beast(i - 1)\n",
        "\n",
        "recurse_beast(times)"
      ],
      "metadata": {
        "colab": {
          "base_uri": "https://localhost:8080/"
        },
        "id": "9krMLmvqQn-p",
        "outputId": "534daa13-252f-4e58-ccf8-4140916ccad3"
      },
      "execution_count": 90,
      "outputs": [
        {
          "output_type": "stream",
          "name": "stdout",
          "text": [
            "How many times do you want to curse the beast? 5\n",
            "fusion! 4 times left\n",
            "fusion! 3 times left\n",
            "fusion! 2 times left\n",
            "fusion! 1 times left\n",
            "fusion! 0 times left\n",
            "curse complete!\n"
          ]
        }
      ]
    },
    {
      "cell_type": "code",
      "source": [
        "# Fibonacci\n",
        "\n",
        "def fib(n: int) -> int:\n",
        "  if n <= 1:\n",
        "    return n\n",
        "  else:\n",
        "    return fib(n - 2) + fib(n - 1)\n",
        "\n",
        "# better performance? 1. use cache(by dictionary) 2. use formula"
      ],
      "metadata": {
        "colab": {
          "base_uri": "https://localhost:8080/"
        },
        "id": "0b9YMZsqSOHT",
        "outputId": "f7ddac52-f272-4f5a-f01f-3eeaef4de045"
      },
      "execution_count": 98,
      "outputs": [
        {
          "output_type": "execute_result",
          "data": {
            "text/plain": [
              "2"
            ]
          },
          "metadata": {},
          "execution_count": 98
        }
      ]
    },
    {
      "cell_type": "code",
      "source": [
        "for i in range(2, 15):\n",
        "  print(i, fib(i))"
      ],
      "metadata": {
        "colab": {
          "base_uri": "https://localhost:8080/"
        },
        "id": "YDvE_5RrTplm",
        "outputId": "cea85421-502e-48b7-9872-917c62055109"
      },
      "execution_count": 103,
      "outputs": [
        {
          "output_type": "stream",
          "name": "stdout",
          "text": [
            "2 1\n",
            "3 2\n",
            "4 3\n",
            "5 5\n",
            "6 8\n",
            "7 13\n",
            "8 21\n",
            "9 34\n",
            "10 55\n",
            "11 89\n",
            "12 144\n",
            "13 233\n",
            "14 377\n"
          ]
        }
      ]
    },
    {
      "cell_type": "code",
      "source": [
        "from math import sqrt\n",
        "\n",
        "def fib_form(n: int) -> int:\n",
        "  return int(((1 + sqrt(5))**n - (1 - sqrt(5))**n) / ((2**n) * sqrt(5)))"
      ],
      "metadata": {
        "id": "pvqharqvVcNB"
      },
      "execution_count": 115,
      "outputs": []
    },
    {
      "cell_type": "code",
      "source": [
        "for i in range(2, 15):\n",
        "  print(i, fib_form(i), sep=\": \")"
      ],
      "metadata": {
        "colab": {
          "base_uri": "https://localhost:8080/"
        },
        "id": "yGmDAgAXXCqs",
        "outputId": "de0fb955-1ed1-40b9-ae0e-f14bf2307340"
      },
      "execution_count": 119,
      "outputs": [
        {
          "output_type": "stream",
          "name": "stdout",
          "text": [
            "2: 1\n",
            "3: 2\n",
            "4: 3\n",
            "5: 5\n",
            "6: 8\n",
            "7: 13\n",
            "8: 21\n",
            "9: 34\n",
            "10: 55\n",
            "11: 89\n",
            "12: 144\n",
            "13: 233\n",
            "14: 377\n"
          ]
        }
      ]
    },
    {
      "cell_type": "code",
      "source": [
        "from time import time"
      ],
      "metadata": {
        "id": "daCCr5laYcoQ"
      },
      "execution_count": 120,
      "outputs": []
    },
    {
      "cell_type": "code",
      "source": [
        "s_time = time()\n",
        "fib(35)\n",
        "e_time = time()\n",
        "fib_time = e_time - s_time"
      ],
      "metadata": {
        "id": "aAbbRJX7ccD3"
      },
      "execution_count": 121,
      "outputs": []
    },
    {
      "cell_type": "code",
      "source": [
        "s_time = time()\n",
        "fib_form(35)\n",
        "e_time = time()\n",
        "form_time = e_time - s_time"
      ],
      "metadata": {
        "id": "u5K5K1Pncnly"
      },
      "execution_count": 124,
      "outputs": []
    },
    {
      "cell_type": "code",
      "source": [
        "print(fib_time, form_time)"
      ],
      "metadata": {
        "colab": {
          "base_uri": "https://localhost:8080/"
        },
        "id": "t7WbH7FgcyP4",
        "outputId": "226b4a35-0be4-4ca6-95cd-6494cfd4c042"
      },
      "execution_count": 125,
      "outputs": [
        {
          "output_type": "stream",
          "name": "stdout",
          "text": [
            "4.17823600769043 0.0015118122100830078\n"
          ]
        }
      ]
    },
    {
      "cell_type": "markdown",
      "source": [
        "## Comprehension"
      ],
      "metadata": {
        "id": "ahJMgVcKdler"
      }
    },
    {
      "cell_type": "markdown",
      "source": [
        "### List Comprehension"
      ],
      "metadata": {
        "id": "2nZ6_it4dbD9"
      }
    },
    {
      "cell_type": "code",
      "source": [
        "old_list = [1, 2, 3, 4, 5]\n",
        "doubled_list = []\n",
        "\n",
        "for i in old_list:\n",
        "  doubled_list.append(i * 2)\n",
        "\n",
        "doubled_list"
      ],
      "metadata": {
        "colab": {
          "base_uri": "https://localhost:8080/"
        },
        "id": "JIXgcImhc1Lv",
        "outputId": "afa8bab2-b851-4a82-f994-56d7ae69d179"
      },
      "execution_count": 126,
      "outputs": [
        {
          "output_type": "execute_result",
          "data": {
            "text/plain": [
              "[2, 4, 6, 8, 10]"
            ]
          },
          "metadata": {},
          "execution_count": 126
        }
      ]
    },
    {
      "cell_type": "code",
      "source": [
        "[i * 2 for i in old_list]"
      ],
      "metadata": {
        "colab": {
          "base_uri": "https://localhost:8080/"
        },
        "id": "Xf8t5-LzeV8a",
        "outputId": "79244cad-ee00-43f4-fd55-713f76741839"
      },
      "execution_count": 128,
      "outputs": [
        {
          "output_type": "execute_result",
          "data": {
            "text/plain": [
              "[2, 4, 6, 8, 10]"
            ]
          },
          "metadata": {},
          "execution_count": 128
        }
      ]
    },
    {
      "cell_type": "code",
      "source": [
        "doubled_list = []\n",
        "\n",
        "for i in old_list:\n",
        "  if i % 2 == 0:\n",
        "    doubled_list.append(i * 2)\n",
        "\n",
        "doubled_list"
      ],
      "metadata": {
        "colab": {
          "base_uri": "https://localhost:8080/"
        },
        "id": "4FgR1QPuerLW",
        "outputId": "6be7691c-0d2a-4b5d-e920-7a69d00fdf03"
      },
      "execution_count": 131,
      "outputs": [
        {
          "output_type": "execute_result",
          "data": {
            "text/plain": [
              "[4, 8]"
            ]
          },
          "metadata": {},
          "execution_count": 131
        }
      ]
    },
    {
      "cell_type": "code",
      "source": [
        "[i * 2 for i in old_list if i % 2 == 0]"
      ],
      "metadata": {
        "colab": {
          "base_uri": "https://localhost:8080/"
        },
        "id": "zyEgde7LfLXy",
        "outputId": "ba1c37cd-7587-4485-d396-2f1f7617a1a4"
      },
      "execution_count": 130,
      "outputs": [
        {
          "output_type": "execute_result",
          "data": {
            "text/plain": [
              "[4, 8]"
            ]
          },
          "metadata": {},
          "execution_count": 130
        }
      ]
    },
    {
      "cell_type": "code",
      "source": [
        "doubled_list = []\n",
        "\n",
        "for i in old_list:\n",
        "  if i % 2 == 0:\n",
        "    doubled_list.append(i * 2)\n",
        "  else:\n",
        "    doubled_list.append(i)\n",
        "\n",
        "doubled_list"
      ],
      "metadata": {
        "colab": {
          "base_uri": "https://localhost:8080/"
        },
        "id": "eA9vlO_zfO4i",
        "outputId": "9be4d778-a04c-431c-e501-b1b3837eb4c3"
      },
      "execution_count": 132,
      "outputs": [
        {
          "output_type": "execute_result",
          "data": {
            "text/plain": [
              "[1, 4, 3, 8, 5]"
            ]
          },
          "metadata": {},
          "execution_count": 132
        }
      ]
    },
    {
      "cell_type": "code",
      "source": [
        "# else가 필요한 경우, conditional expression 이용\n",
        "[i * 2 if i % 2 == 0 else i for i in old_list]"
      ],
      "metadata": {
        "colab": {
          "base_uri": "https://localhost:8080/"
        },
        "id": "dEi7qX8Af0JA",
        "outputId": "cd329e92-31e5-470a-a3b0-b27c4b3a43b9"
      },
      "execution_count": 136,
      "outputs": [
        {
          "output_type": "execute_result",
          "data": {
            "text/plain": [
              "[1, 4, 3, 8, 5]"
            ]
          },
          "metadata": {},
          "execution_count": 136
        }
      ]
    },
    {
      "cell_type": "code",
      "source": [
        "doubled_list = []\n",
        "\n",
        "for i in old_list:\n",
        "  if i % 2 == 0:\n",
        "    doubled_list.append(i * 2)\n",
        "  elif i % 3 == 0:\n",
        "    doubled_list.append(i ** 2)\n",
        "  else:\n",
        "    doubled_list.append(i)\n",
        "\n",
        "doubled_list"
      ],
      "metadata": {
        "colab": {
          "base_uri": "https://localhost:8080/"
        },
        "id": "ryG_9Wwqf6-n",
        "outputId": "be2369d3-ac31-410e-ae4a-94cd1c71a3a7"
      },
      "execution_count": 137,
      "outputs": [
        {
          "output_type": "execute_result",
          "data": {
            "text/plain": [
              "[1, 4, 9, 8, 5]"
            ]
          },
          "metadata": {},
          "execution_count": 137
        }
      ]
    },
    {
      "cell_type": "code",
      "source": [
        "[i * 2 if i % 2 == 0 else \n",
        " i ** 2 if i % 3 == 0 else \n",
        " i for i in old_list]"
      ],
      "metadata": {
        "colab": {
          "base_uri": "https://localhost:8080/"
        },
        "id": "F7CiLkqIgXxC",
        "outputId": "b23c18d5-c644-477a-ef74-e61214bf6d7a"
      },
      "execution_count": 140,
      "outputs": [
        {
          "output_type": "execute_result",
          "data": {
            "text/plain": [
              "[1, 4, 9, 8, 5]"
            ]
          },
          "metadata": {},
          "execution_count": 140
        }
      ]
    },
    {
      "cell_type": "code",
      "source": [
        "# fizzbuzz list\n",
        "num_range = [i for i in range(1, 30)]\n",
        "fb_list = []\n",
        "\n",
        "for i in range(1, 30 + 1):\n",
        "  if i% 15 == 0:\n",
        "    fb_list.append('fizzbuzz')\n",
        "  elif i % 3 == 0:\n",
        "    fb_list.append('fizz')\n",
        "  elif i % 5 == 0:\n",
        "    fb_list.append('buzz')\n",
        "  else:\n",
        "    fb_list.append(i)\n",
        "\n",
        "fb_list = [\n",
        "    'fizzbuzz' if i % 15 == 0 else\n",
        "    'fizz' if i % 3 == 0 else\n",
        "    'buzz' if i % 5 == 0 else\n",
        "    i for i in range(1, 30 + 1)\n",
        "]\n",
        "print(fb_list)\n",
        "\n",
        "# List comprehension\n",
        "fb_list = ['fizz' * (i % 3 == 0) + 'buzz' * (i % 5 == 0) or i for i in range(1, 30 + 1)]\n",
        "print(fb_list)"
      ],
      "metadata": {
        "colab": {
          "base_uri": "https://localhost:8080/"
        },
        "id": "MXYd5ya-givp",
        "outputId": "0060818f-ec04-4b10-c268-69f52d5bbb8d"
      },
      "execution_count": 147,
      "outputs": [
        {
          "output_type": "stream",
          "name": "stdout",
          "text": [
            "[1, 2, 'fizz', 4, 'buzz', 'fizz', 7, 8, 'fizz', 'buzz', 11, 'fizz', 13, 14, 'fizzbuzz', 16, 17, 'fizz', 19, 'buzz', 'fizz', 22, 23, 'fizz', 'buzz', 26, 'fizz', 28, 29, 'fizzbuzz']\n",
            "[1, 2, 'fizz', 4, 'buzz', 'fizz', 7, 8, 'fizz', 'buzz', 11, 'fizz', 13, 14, 'fizzbuzz', 16, 17, 'fizz', 19, 'buzz', 'fizz', 22, 23, 'fizz', 'buzz', 26, 'fizz', 28, 29, 'fizzbuzz']\n"
          ]
        }
      ]
    },
    {
      "cell_type": "markdown",
      "source": [
        "### Dictionary Comprehension"
      ],
      "metadata": {
        "id": "qJHrUwyuiz1D"
      }
    },
    {
      "cell_type": "code",
      "source": [
        "old_dict = {1: 1, 2: 2, 3: 3, 4: 4}\n",
        "\n",
        "new_dict = {}\n",
        "\n",
        "for k, v in old_dict.items():\n",
        "  new_dict[k] = v * 2\n",
        "  \n",
        "new_dict"
      ],
      "metadata": {
        "colab": {
          "base_uri": "https://localhost:8080/"
        },
        "id": "7lP_91PrhG9w",
        "outputId": "90f38046-1d86-4193-ad0c-cbbe72d5436e"
      },
      "execution_count": 148,
      "outputs": [
        {
          "output_type": "execute_result",
          "data": {
            "text/plain": [
              "{1: 2, 2: 4, 3: 6, 4: 8}"
            ]
          },
          "metadata": {},
          "execution_count": 148
        }
      ]
    },
    {
      "cell_type": "code",
      "source": [
        "{k:v*2 for k,v in old_dict.items()}"
      ],
      "metadata": {
        "colab": {
          "base_uri": "https://localhost:8080/"
        },
        "id": "c5J9j-VYjY10",
        "outputId": "0dab7881-ec6a-40cb-9ea9-0de2496c2662"
      },
      "execution_count": 149,
      "outputs": [
        {
          "output_type": "execute_result",
          "data": {
            "text/plain": [
              "{1: 2, 2: 4, 3: 6, 4: 8}"
            ]
          },
          "metadata": {},
          "execution_count": 149
        }
      ]
    },
    {
      "cell_type": "code",
      "source": [
        "old_dict = {1: 1, 2: 2, 3: 3, 4: 4}\n",
        "\n",
        "new_dict = {}\n",
        "\n",
        "for k, v in old_dict.items():\n",
        "  if k % 2 == 0:\n",
        "    new_dict[k] = v * 2\n",
        "  \n",
        "new_dict"
      ],
      "metadata": {
        "colab": {
          "base_uri": "https://localhost:8080/"
        },
        "id": "o5ovmPHejaps",
        "outputId": "07a3a598-6865-4496-d2aa-d5a75e2d79f2"
      },
      "execution_count": 151,
      "outputs": [
        {
          "output_type": "execute_result",
          "data": {
            "text/plain": [
              "{2: 4, 4: 8}"
            ]
          },
          "metadata": {},
          "execution_count": 151
        }
      ]
    },
    {
      "cell_type": "code",
      "source": [
        "{k:v*2 for k,v in old_dict.items() if k % 2 == 0}"
      ],
      "metadata": {
        "colab": {
          "base_uri": "https://localhost:8080/"
        },
        "id": "rl5_Dn_Pj4un",
        "outputId": "1132f908-152e-449f-adee-3723b24bf303"
      },
      "execution_count": 152,
      "outputs": [
        {
          "output_type": "execute_result",
          "data": {
            "text/plain": [
              "{2: 4, 4: 8}"
            ]
          },
          "metadata": {},
          "execution_count": 152
        }
      ]
    },
    {
      "cell_type": "code",
      "source": [
        "old_dict = {1: 1, 2: 2, 3: 3, 4: 4}\n",
        "\n",
        "new_dict = {}\n",
        "\n",
        "for k, v in old_dict.items():\n",
        "  if k % 2 == 0:\n",
        "    new_dict[k] = v * 2\n",
        "  else:\n",
        "    new_dict[k] = v\n",
        "  \n",
        "new_dict"
      ],
      "metadata": {
        "colab": {
          "base_uri": "https://localhost:8080/"
        },
        "id": "4_rf86Amj7n2",
        "outputId": "c10bf701-d1e9-4885-b22c-1f5a828b0bfa"
      },
      "execution_count": 153,
      "outputs": [
        {
          "output_type": "execute_result",
          "data": {
            "text/plain": [
              "{1: 1, 2: 4, 3: 3, 4: 8}"
            ]
          },
          "metadata": {},
          "execution_count": 153
        }
      ]
    },
    {
      "cell_type": "code",
      "source": [
        "{k:v*2 if k % 2 == 0 else v for k,v in old_dict.items()}"
      ],
      "metadata": {
        "colab": {
          "base_uri": "https://localhost:8080/"
        },
        "id": "BWpk5N-ikAPi",
        "outputId": "91829dd1-9ab3-4480-ced7-24c1ae065c41"
      },
      "execution_count": 154,
      "outputs": [
        {
          "output_type": "execute_result",
          "data": {
            "text/plain": [
              "{1: 1, 2: 4, 3: 3, 4: 8}"
            ]
          },
          "metadata": {},
          "execution_count": 154
        }
      ]
    }
  ]
}