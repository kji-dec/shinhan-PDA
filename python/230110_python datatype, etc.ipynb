{
  "nbformat": 4,
  "nbformat_minor": 0,
  "metadata": {
    "colab": {
      "provenance": []
    },
    "kernelspec": {
      "name": "python3",
      "display_name": "Python 3"
    },
    "language_info": {
      "name": "python"
    }
  },
  "cells": [
    {
      "cell_type": "markdown",
      "source": [
        "### List"
      ],
      "metadata": {
        "id": "N_2ialZexcxQ"
      }
    },
    {
      "cell_type": "code",
      "execution_count": 1,
      "metadata": {
        "id": "8UZf1oBnvsyX"
      },
      "outputs": [],
      "source": [
        "# 빈 리스트 선언\n",
        "animals = []"
      ]
    },
    {
      "cell_type": "code",
      "source": [
        "# 자료가 담긴 리스트 선언도 가능\n",
        "animals = [\"cat\", \"dog\"]\n",
        "animals"
      ],
      "metadata": {
        "colab": {
          "base_uri": "https://localhost:8080/"
        },
        "id": "qBQnO4YtzKdk",
        "outputId": "0fefb3f0-915f-4c21-d07c-335544e8134d"
      },
      "execution_count": 2,
      "outputs": [
        {
          "output_type": "execute_result",
          "data": {
            "text/plain": [
              "['cat', 'dog']"
            ]
          },
          "metadata": {},
          "execution_count": 2
        }
      ]
    },
    {
      "cell_type": "code",
      "source": [
        "# 추가 시에는 append 사용\n",
        "animals.append(\"hamster\")\n",
        "animals"
      ],
      "metadata": {
        "colab": {
          "base_uri": "https://localhost:8080/"
        },
        "id": "rpUVPKYEzP2V",
        "outputId": "62e4e401-fad1-4605-dd3b-355044481be8"
      },
      "execution_count": 3,
      "outputs": [
        {
          "output_type": "execute_result",
          "data": {
            "text/plain": [
              "['cat', 'dog', 'hamster']"
            ]
          },
          "metadata": {},
          "execution_count": 3
        }
      ]
    },
    {
      "cell_type": "code",
      "source": [
        "animals.pop()"
      ],
      "metadata": {
        "colab": {
          "base_uri": "https://localhost:8080/",
          "height": 0
        },
        "id": "ymITwSmPzbTU",
        "outputId": "a6f3bd6b-32f7-4068-b897-70a6a3593108"
      },
      "execution_count": 4,
      "outputs": [
        {
          "output_type": "execute_result",
          "data": {
            "text/plain": [
              "'hamster'"
            ],
            "application/vnd.google.colaboratory.intrinsic+json": {
              "type": "string"
            }
          },
          "metadata": {},
          "execution_count": 4
        }
      ]
    },
    {
      "cell_type": "code",
      "source": [
        "animals.insert(1, \"hamster\")\n",
        "animals"
      ],
      "metadata": {
        "colab": {
          "base_uri": "https://localhost:8080/"
        },
        "id": "lUcl6K-IzlKy",
        "outputId": "eb123f9a-2f46-48b7-a993-66713ba4024e"
      },
      "execution_count": 5,
      "outputs": [
        {
          "output_type": "execute_result",
          "data": {
            "text/plain": [
              "['cat', 'hamster', 'dog']"
            ]
          },
          "metadata": {},
          "execution_count": 5
        }
      ]
    },
    {
      "cell_type": "code",
      "source": [
        "animals.sort()\n",
        "animals"
      ],
      "metadata": {
        "colab": {
          "base_uri": "https://localhost:8080/"
        },
        "id": "8CFvcKfJ0XAD",
        "outputId": "0234ee3b-b869-4eeb-a77d-2f4d40413c86"
      },
      "execution_count": 6,
      "outputs": [
        {
          "output_type": "execute_result",
          "data": {
            "text/plain": [
              "['cat', 'dog', 'hamster']"
            ]
          },
          "metadata": {},
          "execution_count": 6
        }
      ]
    },
    {
      "cell_type": "code",
      "source": [
        "numbers = [0, 1.6, 1, -91, -1, 10.9, 11, 10]\n",
        "numbers.sort()\n",
        "numbers"
      ],
      "metadata": {
        "colab": {
          "base_uri": "https://localhost:8080/"
        },
        "id": "KWmYJSeu0fpd",
        "outputId": "5f5fbb4d-4442-4d25-f8bc-c8d34eb9b4ab"
      },
      "execution_count": 7,
      "outputs": [
        {
          "output_type": "execute_result",
          "data": {
            "text/plain": [
              "[-91, -1, 0, 1, 1.6, 10, 10.9, 11]"
            ]
          },
          "metadata": {},
          "execution_count": 7
        }
      ]
    },
    {
      "cell_type": "code",
      "source": [
        "numbers.reverse()\n",
        "numbers"
      ],
      "metadata": {
        "colab": {
          "base_uri": "https://localhost:8080/"
        },
        "id": "ZRGeRCrJ0qux",
        "outputId": "6f744530-f632-48e4-98eb-2d01d95c6ccd"
      },
      "execution_count": 8,
      "outputs": [
        {
          "output_type": "execute_result",
          "data": {
            "text/plain": [
              "[11, 10.9, 10, 1.6, 1, 0, -1, -91]"
            ]
          },
          "metadata": {},
          "execution_count": 8
        }
      ]
    },
    {
      "cell_type": "code",
      "source": [
        "numbers = [0, 1.6, 1, -91, -1, 10.9, 11, 10]\n",
        "numbers.sort(reverse=True)\n",
        "numbers"
      ],
      "metadata": {
        "colab": {
          "base_uri": "https://localhost:8080/"
        },
        "id": "RTZ0GTnB1I4N",
        "outputId": "fa009969-b24a-4e97-feab-b2028f5faa7b"
      },
      "execution_count": 9,
      "outputs": [
        {
          "output_type": "execute_result",
          "data": {
            "text/plain": [
              "[11, 10.9, 10, 1.6, 1, 0, -1, -91]"
            ]
          },
          "metadata": {},
          "execution_count": 9
        }
      ]
    },
    {
      "cell_type": "code",
      "source": [
        "numbers.index(0)"
      ],
      "metadata": {
        "colab": {
          "base_uri": "https://localhost:8080/"
        },
        "id": "rTLn8GWd2WJo",
        "outputId": "7112f51b-6024-4d57-98f0-5f242e48db67"
      },
      "execution_count": 10,
      "outputs": [
        {
          "output_type": "execute_result",
          "data": {
            "text/plain": [
              "5"
            ]
          },
          "metadata": {},
          "execution_count": 10
        }
      ]
    },
    {
      "cell_type": "code",
      "source": [
        "numbers[:numbers.index(0)]"
      ],
      "metadata": {
        "colab": {
          "base_uri": "https://localhost:8080/"
        },
        "id": "JH1Fa7_33Gnc",
        "outputId": "50fb0519-0d3b-4772-d11f-a4bd65f25679"
      },
      "execution_count": 11,
      "outputs": [
        {
          "output_type": "execute_result",
          "data": {
            "text/plain": [
              "[11, 10.9, 10, 1.6, 1]"
            ]
          },
          "metadata": {},
          "execution_count": 11
        }
      ]
    },
    {
      "cell_type": "code",
      "source": [
        "numbers[numbers.index(0) + 1:]"
      ],
      "metadata": {
        "colab": {
          "base_uri": "https://localhost:8080/"
        },
        "id": "diFPvxg_3WNj",
        "outputId": "f1b662c9-64fd-4403-e522-a4531deb2784"
      },
      "execution_count": 12,
      "outputs": [
        {
          "output_type": "execute_result",
          "data": {
            "text/plain": [
              "[-1, -91]"
            ]
          },
          "metadata": {},
          "execution_count": 12
        }
      ]
    },
    {
      "cell_type": "code",
      "source": [
        "animals + numbers"
      ],
      "metadata": {
        "colab": {
          "base_uri": "https://localhost:8080/"
        },
        "id": "BHXgkNun3b0J",
        "outputId": "a9e25477-30b7-404b-dcda-c0da3afa4d13"
      },
      "execution_count": 13,
      "outputs": [
        {
          "output_type": "execute_result",
          "data": {
            "text/plain": [
              "['cat', 'dog', 'hamster', 11, 10.9, 10, 1.6, 1, 0, -1, -91]"
            ]
          },
          "metadata": {},
          "execution_count": 13
        }
      ]
    },
    {
      "cell_type": "code",
      "source": [
        "numbers.extend([9, 16, 987])\n",
        "numbers"
      ],
      "metadata": {
        "colab": {
          "base_uri": "https://localhost:8080/"
        },
        "id": "uMDTRPm13tv_",
        "outputId": "f98e1d9c-72e8-4e75-ca2e-a5450662ddf8"
      },
      "execution_count": 14,
      "outputs": [
        {
          "output_type": "execute_result",
          "data": {
            "text/plain": [
              "[11, 10.9, 10, 1.6, 1, 0, -1, -91, 9, 16, 987]"
            ]
          },
          "metadata": {},
          "execution_count": 14
        }
      ]
    },
    {
      "cell_type": "code",
      "source": [
        "0 in numbers"
      ],
      "metadata": {
        "colab": {
          "base_uri": "https://localhost:8080/"
        },
        "id": "Dm_RRHyy30Oj",
        "outputId": "f41cc1b4-1d8c-4074-f8a5-bc8fef13faa1"
      },
      "execution_count": 15,
      "outputs": [
        {
          "output_type": "execute_result",
          "data": {
            "text/plain": [
              "True"
            ]
          },
          "metadata": {},
          "execution_count": 15
        }
      ]
    },
    {
      "cell_type": "code",
      "source": [
        "0 not in numbers"
      ],
      "metadata": {
        "colab": {
          "base_uri": "https://localhost:8080/"
        },
        "id": "lo8tKd3X31ef",
        "outputId": "19151d0b-b05e-4e7e-f068-bdb5119b01bb"
      },
      "execution_count": 16,
      "outputs": [
        {
          "output_type": "execute_result",
          "data": {
            "text/plain": [
              "False"
            ]
          },
          "metadata": {},
          "execution_count": 16
        }
      ]
    },
    {
      "cell_type": "code",
      "source": [
        "6 in numbers"
      ],
      "metadata": {
        "colab": {
          "base_uri": "https://localhost:8080/"
        },
        "id": "c8rqp7l04m--",
        "outputId": "bd67bf9b-b322-4116-c59a-d4a0ebf918ff"
      },
      "execution_count": 17,
      "outputs": [
        {
          "output_type": "execute_result",
          "data": {
            "text/plain": [
              "False"
            ]
          },
          "metadata": {},
          "execution_count": 17
        }
      ]
    },
    {
      "cell_type": "code",
      "source": [
        "6 not in numbers"
      ],
      "metadata": {
        "colab": {
          "base_uri": "https://localhost:8080/"
        },
        "id": "_WLgX4br4o4q",
        "outputId": "6916ae57-4703-41ad-81c3-02d9f42f92c8"
      },
      "execution_count": 18,
      "outputs": [
        {
          "output_type": "execute_result",
          "data": {
            "text/plain": [
              "True"
            ]
          },
          "metadata": {},
          "execution_count": 18
        }
      ]
    },
    {
      "cell_type": "code",
      "source": [
        "if 0 in numbers:\n",
        "  print(\"0 is in numbers\")\n",
        "else:\n",
        "  print(\"0 is not in numbers\")"
      ],
      "metadata": {
        "colab": {
          "base_uri": "https://localhost:8080/"
        },
        "id": "Nd0pzLZM4pwH",
        "outputId": "af328a4c-8e3b-4158-e8ef-26c034805c88"
      },
      "execution_count": 19,
      "outputs": [
        {
          "output_type": "stream",
          "name": "stdout",
          "text": [
            "0 is in numbers\n"
          ]
        }
      ]
    },
    {
      "cell_type": "code",
      "source": [
        "for n in numbers:\n",
        "  if n ==0:\n",
        "    print(\"0 is in numbers\")"
      ],
      "metadata": {
        "colab": {
          "base_uri": "https://localhost:8080/"
        },
        "id": "WUrwdIGF41U0",
        "outputId": "5ffde767-8c54-4ad6-d335-32d8952eadae"
      },
      "execution_count": 20,
      "outputs": [
        {
          "output_type": "stream",
          "name": "stdout",
          "text": [
            "0 is in numbers\n"
          ]
        }
      ]
    },
    {
      "cell_type": "code",
      "source": [
        "numbers[1:4]"
      ],
      "metadata": {
        "colab": {
          "base_uri": "https://localhost:8080/"
        },
        "id": "_BNKGF0Q_Tjg",
        "outputId": "93e8bc5c-9933-4d6b-ee53-7e4b38d343fb"
      },
      "execution_count": 21,
      "outputs": [
        {
          "output_type": "execute_result",
          "data": {
            "text/plain": [
              "[10.9, 10, 1.6]"
            ]
          },
          "metadata": {},
          "execution_count": 21
        }
      ]
    },
    {
      "cell_type": "markdown",
      "source": [
        "### Tuple"
      ],
      "metadata": {
        "id": "Xk8YzuIU5qan"
      }
    },
    {
      "cell_type": "code",
      "source": [
        "animals1 = (\"cat\", \"dog\")"
      ],
      "metadata": {
        "id": "F8AwZ9qB5OpG"
      },
      "execution_count": 22,
      "outputs": []
    },
    {
      "cell_type": "code",
      "source": [
        "animals2 = (\"lion\", \"hamster\")"
      ],
      "metadata": {
        "id": "oqtCW8Ik6NX2"
      },
      "execution_count": 23,
      "outputs": []
    },
    {
      "cell_type": "code",
      "source": [
        "animals1 + animals2"
      ],
      "metadata": {
        "colab": {
          "base_uri": "https://localhost:8080/"
        },
        "id": "DwqnQDPz6jV4",
        "outputId": "8bdf2833-f942-4399-feea-a6462605084d"
      },
      "execution_count": 24,
      "outputs": [
        {
          "output_type": "execute_result",
          "data": {
            "text/plain": [
              "('cat', 'dog', 'lion', 'hamster')"
            ]
          },
          "metadata": {},
          "execution_count": 24
        }
      ]
    },
    {
      "cell_type": "code",
      "source": [
        "animals1 * 3"
      ],
      "metadata": {
        "colab": {
          "base_uri": "https://localhost:8080/"
        },
        "id": "_Ku5QSpn6kk8",
        "outputId": "8ae784fa-04c9-4f24-d173-1dbfc352320c"
      },
      "execution_count": 25,
      "outputs": [
        {
          "output_type": "execute_result",
          "data": {
            "text/plain": [
              "('cat', 'dog', 'cat', 'dog', 'cat', 'dog')"
            ]
          },
          "metadata": {},
          "execution_count": 25
        }
      ]
    },
    {
      "cell_type": "code",
      "source": [
        "x = 1\n",
        "y = -1\n",
        "(x, y) = (y , x)\n",
        "print(f\"x = {x}, y = {y}\")"
      ],
      "metadata": {
        "colab": {
          "base_uri": "https://localhost:8080/"
        },
        "id": "LZO0z22z6poT",
        "outputId": "43eeea24-3188-4d89-a356-0bb515cb2a12"
      },
      "execution_count": 26,
      "outputs": [
        {
          "output_type": "stream",
          "name": "stdout",
          "text": [
            "x = -1, y = 1\n"
          ]
        }
      ]
    },
    {
      "cell_type": "code",
      "source": [
        "# List <-> Tuple\n",
        "\n",
        "animals1 = list(animals1)\n",
        "type(animals1)"
      ],
      "metadata": {
        "colab": {
          "base_uri": "https://localhost:8080/"
        },
        "id": "dMAN1xF37AwL",
        "outputId": "1ff99775-d8fd-4f18-c65a-20f4fee519b4"
      },
      "execution_count": 27,
      "outputs": [
        {
          "output_type": "execute_result",
          "data": {
            "text/plain": [
              "list"
            ]
          },
          "metadata": {},
          "execution_count": 27
        }
      ]
    },
    {
      "cell_type": "code",
      "source": [
        "animals1"
      ],
      "metadata": {
        "colab": {
          "base_uri": "https://localhost:8080/"
        },
        "id": "nfI2SwnS8AbG",
        "outputId": "cf9cbbf1-18cb-413c-a3ce-0b25de8d50ac"
      },
      "execution_count": 28,
      "outputs": [
        {
          "output_type": "execute_result",
          "data": {
            "text/plain": [
              "['cat', 'dog']"
            ]
          },
          "metadata": {},
          "execution_count": 28
        }
      ]
    },
    {
      "cell_type": "code",
      "source": [
        "animals1.append(\"hamster\")"
      ],
      "metadata": {
        "id": "kZUvBcXA8Gip"
      },
      "execution_count": 29,
      "outputs": []
    },
    {
      "cell_type": "code",
      "source": [
        "animals1.sort(reverse=True)\n",
        "animals1"
      ],
      "metadata": {
        "colab": {
          "base_uri": "https://localhost:8080/"
        },
        "id": "IW35Ri8Z8O_O",
        "outputId": "36902a9d-ca0f-4bad-8df7-0445924c81b7"
      },
      "execution_count": 30,
      "outputs": [
        {
          "output_type": "execute_result",
          "data": {
            "text/plain": [
              "['hamster', 'dog', 'cat']"
            ]
          },
          "metadata": {},
          "execution_count": 30
        }
      ]
    },
    {
      "cell_type": "code",
      "source": [
        "animals1 = tuple(animals1)\n",
        "type(animals1)"
      ],
      "metadata": {
        "colab": {
          "base_uri": "https://localhost:8080/"
        },
        "id": "X2CmdqI08QXy",
        "outputId": "5baa95a2-0566-4b13-c9ae-936a74231c6e"
      },
      "execution_count": 31,
      "outputs": [
        {
          "output_type": "execute_result",
          "data": {
            "text/plain": [
              "tuple"
            ]
          },
          "metadata": {},
          "execution_count": 31
        }
      ]
    },
    {
      "cell_type": "code",
      "source": [
        "animals1"
      ],
      "metadata": {
        "colab": {
          "base_uri": "https://localhost:8080/"
        },
        "id": "4B7jMB9V8X-k",
        "outputId": "81ae0d2d-5e88-4132-f595-c8caae6efc04"
      },
      "execution_count": 32,
      "outputs": [
        {
          "output_type": "execute_result",
          "data": {
            "text/plain": [
              "('hamster', 'dog', 'cat')"
            ]
          },
          "metadata": {},
          "execution_count": 32
        }
      ]
    },
    {
      "cell_type": "markdown",
      "source": [
        "### Practice 1\n",
        "\n",
        "list와 tuple을 이용하여 다음의 문제를 해결하세요.\n",
        "\n",
        "1. 변수 animals 에 다음의 자료를 입력하세요.\n",
        "rabbit, cat, dog, aligator, tiger, lion\n",
        "2. animals에 새로운 동물을 3마리 추가하세요.\n",
        "3. animals를 알파벳 내림차순으로 정렬하세요.\n",
        "4. 정렬된 animals의 짝수(index 기준) 동물을 even_animals에 할당하세요."
      ],
      "metadata": {
        "id": "WY7pqjnx_hjD"
      }
    },
    {
      "cell_type": "code",
      "source": [
        "# List\n",
        "\n",
        "animals = [\"rabbit\", \"cat\", \"dog\", \"aligator\", \"tiger\", \"lion\"]\n",
        "animals.extend([\"hamster\", \"bird\", \"chicken\"])\n",
        "animals.sort(reverse = True)\n",
        "even_animals = animals[::2]\n",
        "print(animals)\n",
        "print(even_animals)"
      ],
      "metadata": {
        "colab": {
          "base_uri": "https://localhost:8080/"
        },
        "id": "FjHrHRP2_jOT",
        "outputId": "5e937fd6-0ba9-4b7c-f13a-af329a0b8e69"
      },
      "execution_count": 33,
      "outputs": [
        {
          "output_type": "stream",
          "name": "stdout",
          "text": [
            "['tiger', 'rabbit', 'lion', 'hamster', 'dog', 'chicken', 'cat', 'bird', 'aligator']\n",
            "['tiger', 'lion', 'dog', 'cat', 'aligator']\n"
          ]
        }
      ]
    },
    {
      "cell_type": "code",
      "source": [
        "# Tuple\n",
        "\n",
        "animals_t = (\"rabbit\", \"cat\", \"dog\", \"aligator\", \"tiger\", \"lion\")\n",
        "animals_t = list(animals_t)\n",
        "animals_t.extend([\"hamster\", \"bird\", \"chicken\"])\n",
        "animals_t.sort(reverse = True)\n",
        "animals_t = tuple(animals_t)\n",
        "even_animals_t = animals_t[::2]\n",
        "print(animals_t)\n",
        "print(even_animals_t)"
      ],
      "metadata": {
        "colab": {
          "base_uri": "https://localhost:8080/"
        },
        "id": "ZA6DJMgWAIuk",
        "outputId": "14a9f27a-f05e-4872-91e9-e56f96b933a6"
      },
      "execution_count": 34,
      "outputs": [
        {
          "output_type": "stream",
          "name": "stdout",
          "text": [
            "('tiger', 'rabbit', 'lion', 'hamster', 'dog', 'chicken', 'cat', 'bird', 'aligator')\n",
            "('tiger', 'lion', 'dog', 'cat', 'aligator')\n"
          ]
        }
      ]
    },
    {
      "cell_type": "markdown",
      "source": [
        "### Dictionary"
      ],
      "metadata": {
        "id": "XAa-a9xUClGL"
      }
    },
    {
      "cell_type": "code",
      "source": [
        "#dic_tmp = {}\n",
        "dic = {\n",
        "    'name': 'John',\n",
        "    'surname': 'Doe',\n",
        "}"
      ],
      "metadata": {
        "id": "b1sdYQG0Ajv8"
      },
      "execution_count": 35,
      "outputs": []
    },
    {
      "cell_type": "code",
      "source": [
        "dic2 = dict([('name', 'John'), ('surname', 'Doe')])"
      ],
      "metadata": {
        "id": "3ZEROCkfQbNn"
      },
      "execution_count": 36,
      "outputs": []
    },
    {
      "cell_type": "code",
      "source": [
        "dic['name']"
      ],
      "metadata": {
        "colab": {
          "base_uri": "https://localhost:8080/",
          "height": 35
        },
        "id": "l8KXw7IfRKhn",
        "outputId": "6247d38c-522e-47a2-e260-3ba93cbceba6"
      },
      "execution_count": 37,
      "outputs": [
        {
          "output_type": "execute_result",
          "data": {
            "text/plain": [
              "'John'"
            ],
            "application/vnd.google.colaboratory.intrinsic+json": {
              "type": "string"
            }
          },
          "metadata": {},
          "execution_count": 37
        }
      ]
    },
    {
      "cell_type": "code",
      "source": [
        "dic2"
      ],
      "metadata": {
        "colab": {
          "base_uri": "https://localhost:8080/"
        },
        "id": "3tbvhK3xRL0C",
        "outputId": "202340c0-4262-4c06-bfb5-8eeed8a10700"
      },
      "execution_count": 38,
      "outputs": [
        {
          "output_type": "execute_result",
          "data": {
            "text/plain": [
              "{'name': 'John', 'surname': 'Doe'}"
            ]
          },
          "metadata": {},
          "execution_count": 38
        }
      ]
    },
    {
      "cell_type": "code",
      "source": [
        "dic2['surname']"
      ],
      "metadata": {
        "colab": {
          "base_uri": "https://localhost:8080/",
          "height": 35
        },
        "id": "o6KwuZs5RO42",
        "outputId": "44385cbf-7a91-42d9-bad9-e772f69133a4"
      },
      "execution_count": 39,
      "outputs": [
        {
          "output_type": "execute_result",
          "data": {
            "text/plain": [
              "'Doe'"
            ],
            "application/vnd.google.colaboratory.intrinsic+json": {
              "type": "string"
            }
          },
          "metadata": {},
          "execution_count": 39
        }
      ]
    },
    {
      "cell_type": "code",
      "source": [
        "dic"
      ],
      "metadata": {
        "colab": {
          "base_uri": "https://localhost:8080/"
        },
        "id": "V2d4mDl7RQij",
        "outputId": "214188c3-10d6-4932-ff2f-87182c8f9c7b"
      },
      "execution_count": 40,
      "outputs": [
        {
          "output_type": "execute_result",
          "data": {
            "text/plain": [
              "{'name': 'John', 'surname': 'Doe'}"
            ]
          },
          "metadata": {},
          "execution_count": 40
        }
      ]
    },
    {
      "cell_type": "code",
      "source": [
        "dic['loc'] = 'yeouido'"
      ],
      "metadata": {
        "id": "_lZI3sUXRjVD"
      },
      "execution_count": 41,
      "outputs": []
    },
    {
      "cell_type": "code",
      "source": [
        "dic"
      ],
      "metadata": {
        "colab": {
          "base_uri": "https://localhost:8080/"
        },
        "id": "HG4MDcVxRm4a",
        "outputId": "239622bf-6717-46dc-e1c5-1c3d53899188"
      },
      "execution_count": 42,
      "outputs": [
        {
          "output_type": "execute_result",
          "data": {
            "text/plain": [
              "{'name': 'John', 'surname': 'Doe', 'loc': 'yeouido'}"
            ]
          },
          "metadata": {},
          "execution_count": 42
        }
      ]
    },
    {
      "cell_type": "code",
      "source": [
        "dic['email'] = 'dddd@gmail.com'\n",
        "dic"
      ],
      "metadata": {
        "colab": {
          "base_uri": "https://localhost:8080/"
        },
        "id": "vCYFo7OuRn2u",
        "outputId": "21fb351c-2d64-4601-c715-8075bcbbacc9"
      },
      "execution_count": 43,
      "outputs": [
        {
          "output_type": "execute_result",
          "data": {
            "text/plain": [
              "{'name': 'John', 'surname': 'Doe', 'loc': 'yeouido', 'email': 'dddd@gmail.com'}"
            ]
          },
          "metadata": {},
          "execution_count": 43
        }
      ]
    },
    {
      "cell_type": "code",
      "source": [
        "dic['midterm'] = {}\n",
        "dic"
      ],
      "metadata": {
        "colab": {
          "base_uri": "https://localhost:8080/"
        },
        "id": "vRMkBuExR7h1",
        "outputId": "1fd81304-7621-49ea-fc5c-4628fff07a32"
      },
      "execution_count": 44,
      "outputs": [
        {
          "output_type": "execute_result",
          "data": {
            "text/plain": [
              "{'name': 'John',\n",
              " 'surname': 'Doe',\n",
              " 'loc': 'yeouido',\n",
              " 'email': 'dddd@gmail.com',\n",
              " 'midterm': {}}"
            ]
          },
          "metadata": {},
          "execution_count": 44
        }
      ]
    },
    {
      "cell_type": "code",
      "source": [
        "dic['midterm']['English'] = 100"
      ],
      "metadata": {
        "id": "zirWfsA6Satt"
      },
      "execution_count": 45,
      "outputs": []
    },
    {
      "cell_type": "code",
      "source": [
        "dic"
      ],
      "metadata": {
        "colab": {
          "base_uri": "https://localhost:8080/"
        },
        "id": "vHxuPLskSszV",
        "outputId": "b258e3da-85d4-41b6-fadf-0526c1619317"
      },
      "execution_count": 46,
      "outputs": [
        {
          "output_type": "execute_result",
          "data": {
            "text/plain": [
              "{'name': 'John',\n",
              " 'surname': 'Doe',\n",
              " 'loc': 'yeouido',\n",
              " 'email': 'dddd@gmail.com',\n",
              " 'midterm': {'English': 100}}"
            ]
          },
          "metadata": {},
          "execution_count": 46
        }
      ]
    },
    {
      "cell_type": "code",
      "source": [
        "dic['midterm']['Math'] = 30\n",
        "dic['midterm']['Korean'] = 80\n",
        "dic['midterm']['Science'] = [10, 90, 0, 40]\n",
        "dic"
      ],
      "metadata": {
        "colab": {
          "base_uri": "https://localhost:8080/"
        },
        "id": "Mbzv2o8bSuc-",
        "outputId": "a050156d-b818-4596-d261-b8e884343c57"
      },
      "execution_count": 47,
      "outputs": [
        {
          "output_type": "execute_result",
          "data": {
            "text/plain": [
              "{'name': 'John',\n",
              " 'surname': 'Doe',\n",
              " 'loc': 'yeouido',\n",
              " 'email': 'dddd@gmail.com',\n",
              " 'midterm': {'English': 100,\n",
              "  'Math': 30,\n",
              "  'Korean': 80,\n",
              "  'Science': [10, 90, 0, 40]}}"
            ]
          },
          "metadata": {},
          "execution_count": 47
        }
      ]
    },
    {
      "cell_type": "code",
      "source": [
        "dic['midterm']['Korean'] = 100"
      ],
      "metadata": {
        "id": "DfgyXyQDTE2e"
      },
      "execution_count": 48,
      "outputs": []
    },
    {
      "cell_type": "code",
      "source": [
        "dic"
      ],
      "metadata": {
        "colab": {
          "base_uri": "https://localhost:8080/"
        },
        "id": "W3zM_gWCTccB",
        "outputId": "8fdf9cd9-40f7-4f2a-a026-8df9ebae1b8c"
      },
      "execution_count": 49,
      "outputs": [
        {
          "output_type": "execute_result",
          "data": {
            "text/plain": [
              "{'name': 'John',\n",
              " 'surname': 'Doe',\n",
              " 'loc': 'yeouido',\n",
              " 'email': 'dddd@gmail.com',\n",
              " 'midterm': {'English': 100,\n",
              "  'Math': 30,\n",
              "  'Korean': 100,\n",
              "  'Science': [10, 90, 0, 40]}}"
            ]
          },
          "metadata": {},
          "execution_count": 49
        }
      ]
    },
    {
      "cell_type": "code",
      "source": [
        "del dic['email']"
      ],
      "metadata": {
        "id": "c8YxSbLrTdLn"
      },
      "execution_count": 50,
      "outputs": []
    },
    {
      "cell_type": "code",
      "source": [
        "dic"
      ],
      "metadata": {
        "colab": {
          "base_uri": "https://localhost:8080/"
        },
        "id": "tYbRrtfKT2jF",
        "outputId": "8ed23db8-cbf7-4df4-e861-1487ceea4629"
      },
      "execution_count": 51,
      "outputs": [
        {
          "output_type": "execute_result",
          "data": {
            "text/plain": [
              "{'name': 'John',\n",
              " 'surname': 'Doe',\n",
              " 'loc': 'yeouido',\n",
              " 'midterm': {'English': 100,\n",
              "  'Math': 30,\n",
              "  'Korean': 100,\n",
              "  'Science': [10, 90, 0, 40]}}"
            ]
          },
          "metadata": {},
          "execution_count": 51
        }
      ]
    },
    {
      "cell_type": "code",
      "source": [
        "dic.keys()"
      ],
      "metadata": {
        "colab": {
          "base_uri": "https://localhost:8080/"
        },
        "id": "_QwiVxJoT252",
        "outputId": "550acfd0-2ef6-461b-c7d0-3b01f89e2f74"
      },
      "execution_count": 52,
      "outputs": [
        {
          "output_type": "execute_result",
          "data": {
            "text/plain": [
              "dict_keys(['name', 'surname', 'loc', 'midterm'])"
            ]
          },
          "metadata": {},
          "execution_count": 52
        }
      ]
    },
    {
      "cell_type": "code",
      "source": [
        "dic.values()"
      ],
      "metadata": {
        "colab": {
          "base_uri": "https://localhost:8080/"
        },
        "id": "gyxnIP5jUJhQ",
        "outputId": "70ee76b6-a99b-448f-9dc8-9abe82ddb8c5"
      },
      "execution_count": 53,
      "outputs": [
        {
          "output_type": "execute_result",
          "data": {
            "text/plain": [
              "dict_values(['John', 'Doe', 'yeouido', {'English': 100, 'Math': 30, 'Korean': 100, 'Science': [10, 90, 0, 40]}])"
            ]
          },
          "metadata": {},
          "execution_count": 53
        }
      ]
    },
    {
      "cell_type": "code",
      "source": [
        "dic.items()"
      ],
      "metadata": {
        "colab": {
          "base_uri": "https://localhost:8080/"
        },
        "id": "BM6pbmnkUKpN",
        "outputId": "aaabe3f1-3112-490c-f185-2f03c7aacad7"
      },
      "execution_count": 54,
      "outputs": [
        {
          "output_type": "execute_result",
          "data": {
            "text/plain": [
              "dict_items([('name', 'John'), ('surname', 'Doe'), ('loc', 'yeouido'), ('midterm', {'English': 100, 'Math': 30, 'Korean': 100, 'Science': [10, 90, 0, 40]})])"
            ]
          },
          "metadata": {},
          "execution_count": 54
        }
      ]
    },
    {
      "cell_type": "code",
      "source": [
        "dic.pop('surname')"
      ],
      "metadata": {
        "colab": {
          "base_uri": "https://localhost:8080/",
          "height": 35
        },
        "id": "eBN7dQXGUT21",
        "outputId": "d0851c6c-661c-4e63-993e-e93f160d15b0"
      },
      "execution_count": 55,
      "outputs": [
        {
          "output_type": "execute_result",
          "data": {
            "text/plain": [
              "'Doe'"
            ],
            "application/vnd.google.colaboratory.intrinsic+json": {
              "type": "string"
            }
          },
          "metadata": {},
          "execution_count": 55
        }
      ]
    },
    {
      "cell_type": "code",
      "source": [
        "dic"
      ],
      "metadata": {
        "colab": {
          "base_uri": "https://localhost:8080/"
        },
        "id": "GjBcnWu3UjMI",
        "outputId": "2ffe9fd6-7e31-4da7-8467-5f51d55e54dc"
      },
      "execution_count": 56,
      "outputs": [
        {
          "output_type": "execute_result",
          "data": {
            "text/plain": [
              "{'name': 'John',\n",
              " 'loc': 'yeouido',\n",
              " 'midterm': {'English': 100,\n",
              "  'Math': 30,\n",
              "  'Korean': 100,\n",
              "  'Science': [10, 90, 0, 40]}}"
            ]
          },
          "metadata": {},
          "execution_count": 56
        }
      ]
    },
    {
      "cell_type": "code",
      "source": [
        "# Changed in version 3.7: LIFO order is now guaranteed. In prior versions, popitem() would return an arbitrary key/value pair.\n",
        "dic.popitem()"
      ],
      "metadata": {
        "colab": {
          "base_uri": "https://localhost:8080/"
        },
        "id": "p3x5oEyhUj8T",
        "outputId": "b9e9fdd8-cb15-49df-c3f7-294e54587802"
      },
      "execution_count": 57,
      "outputs": [
        {
          "output_type": "execute_result",
          "data": {
            "text/plain": [
              "('midterm',\n",
              " {'English': 100, 'Math': 30, 'Korean': 100, 'Science': [10, 90, 0, 40]})"
            ]
          },
          "metadata": {},
          "execution_count": 57
        }
      ]
    },
    {
      "cell_type": "code",
      "source": [
        "#존재하지 않는 key를 조회하면 0이 return되도록 한 것\n",
        "dic.get('English', 0)"
      ],
      "metadata": {
        "colab": {
          "base_uri": "https://localhost:8080/"
        },
        "id": "mFl-JDbYVKvs",
        "outputId": "086f2609-5c24-4d1a-93c5-173771df0ed5"
      },
      "execution_count": 58,
      "outputs": [
        {
          "output_type": "execute_result",
          "data": {
            "text/plain": [
              "0"
            ]
          },
          "metadata": {},
          "execution_count": 58
        }
      ]
    },
    {
      "cell_type": "code",
      "source": [
        "dic"
      ],
      "metadata": {
        "colab": {
          "base_uri": "https://localhost:8080/"
        },
        "id": "gfkzWKJsVbbv",
        "outputId": "83f91971-5502-41ed-bc89-5e79b99af377"
      },
      "execution_count": 59,
      "outputs": [
        {
          "output_type": "execute_result",
          "data": {
            "text/plain": [
              "{'name': 'John', 'loc': 'yeouido'}"
            ]
          },
          "metadata": {},
          "execution_count": 59
        }
      ]
    },
    {
      "cell_type": "code",
      "source": [
        "dic.setdefault('English', [])"
      ],
      "metadata": {
        "colab": {
          "base_uri": "https://localhost:8080/"
        },
        "id": "X3V0nn1NWHVW",
        "outputId": "cacf971b-659b-4a46-91a4-331d2603874b"
      },
      "execution_count": 60,
      "outputs": [
        {
          "output_type": "execute_result",
          "data": {
            "text/plain": [
              "[]"
            ]
          },
          "metadata": {},
          "execution_count": 60
        }
      ]
    },
    {
      "cell_type": "code",
      "source": [
        "dic"
      ],
      "metadata": {
        "colab": {
          "base_uri": "https://localhost:8080/"
        },
        "id": "CTNw25uwWMTW",
        "outputId": "3009ae75-c2bb-488c-eec8-ff7a15698395"
      },
      "execution_count": 62,
      "outputs": [
        {
          "output_type": "execute_result",
          "data": {
            "text/plain": [
              "{'name': 'John', 'loc': 'yeouido', 'English': []}"
            ]
          },
          "metadata": {},
          "execution_count": 62
        }
      ]
    },
    {
      "cell_type": "code",
      "source": [
        "dic.setdefault('English', 0)"
      ],
      "metadata": {
        "colab": {
          "base_uri": "https://localhost:8080/"
        },
        "id": "FYGxfeW7WMqd",
        "outputId": "67bf4e51-bc77-40f6-c985-08534ac9c0f5"
      },
      "execution_count": 63,
      "outputs": [
        {
          "output_type": "execute_result",
          "data": {
            "text/plain": [
              "[]"
            ]
          },
          "metadata": {},
          "execution_count": 63
        }
      ]
    },
    {
      "cell_type": "code",
      "source": [
        "dic"
      ],
      "metadata": {
        "colab": {
          "base_uri": "https://localhost:8080/"
        },
        "id": "3OqZS8uHXxeS",
        "outputId": "da475716-ddb5-4c3b-b6cf-29a98512a503"
      },
      "execution_count": 65,
      "outputs": [
        {
          "output_type": "execute_result",
          "data": {
            "text/plain": [
              "{'name': 'John', 'loc': 'yeouido', 'English': []}"
            ]
          },
          "metadata": {},
          "execution_count": 65
        }
      ]
    },
    {
      "cell_type": "code",
      "source": [
        "len(dic)"
      ],
      "metadata": {
        "colab": {
          "base_uri": "https://localhost:8080/"
        },
        "id": "SvwoWOsZXyZg",
        "outputId": "a0c938bc-4c60-4db1-ec7b-bc63b2255b00"
      },
      "execution_count": 66,
      "outputs": [
        {
          "output_type": "execute_result",
          "data": {
            "text/plain": [
              "3"
            ]
          },
          "metadata": {},
          "execution_count": 66
        }
      ]
    },
    {
      "cell_type": "code",
      "source": [
        "dic.update({'loc': 'Republic of Korea', 'name': 'Jane'})\n",
        "dic"
      ],
      "metadata": {
        "colab": {
          "base_uri": "https://localhost:8080/"
        },
        "id": "p7syLf3lY6u_",
        "outputId": "69d6ce08-820f-42eb-fcb9-6fde68555936"
      },
      "execution_count": 70,
      "outputs": [
        {
          "output_type": "execute_result",
          "data": {
            "text/plain": [
              "{'name': 'Jane', 'loc': 'Republic of Korea', 'English': []}"
            ]
          },
          "metadata": {},
          "execution_count": 70
        }
      ]
    },
    {
      "cell_type": "code",
      "source": [
        "contact = {'name':'Guido', 'country':'Netherland'}\n",
        "print(\"{name} is born in {country}\".format(**contact))"
      ],
      "metadata": {
        "colab": {
          "base_uri": "https://localhost:8080/"
        },
        "id": "dMMBo8w4dTzX",
        "outputId": "53f7f5e4-8901-4e29-dcd4-2a0123e20a77"
      },
      "execution_count": 71,
      "outputs": [
        {
          "output_type": "stream",
          "name": "stdout",
          "text": [
            "Guido is born in Netherland\n"
          ]
        }
      ]
    },
    {
      "cell_type": "markdown",
      "source": [
        "### Set\n"
      ],
      "metadata": {
        "id": "WPBWqFKrbyyF"
      }
    },
    {
      "cell_type": "code",
      "source": [
        "faang = {'facebook', 'apple', 'amazon', 'netflix', 'google', 'google'}"
      ],
      "metadata": {
        "id": "up0Stc1gZJVb"
      },
      "execution_count": 72,
      "outputs": []
    },
    {
      "cell_type": "code",
      "source": [
        "faang"
      ],
      "metadata": {
        "colab": {
          "base_uri": "https://localhost:8080/"
        },
        "id": "mzlb7vxVgYlW",
        "outputId": "b527c7c6-2a8c-4705-a614-b19b1d0120b3"
      },
      "execution_count": 73,
      "outputs": [
        {
          "output_type": "execute_result",
          "data": {
            "text/plain": [
              "{'amazon', 'apple', 'facebook', 'google', 'netflix'}"
            ]
          },
          "metadata": {},
          "execution_count": 73
        }
      ]
    },
    {
      "cell_type": "code",
      "source": [
        "split_str = set('facebook')\n",
        "split_str"
      ],
      "metadata": {
        "colab": {
          "base_uri": "https://localhost:8080/"
        },
        "id": "FfEO2MC7gZzU",
        "outputId": "8dd62774-9019-4372-fcd9-19188e175efd"
      },
      "execution_count": 74,
      "outputs": [
        {
          "output_type": "execute_result",
          "data": {
            "text/plain": [
              "{'a', 'b', 'c', 'e', 'f', 'k', 'o'}"
            ]
          },
          "metadata": {},
          "execution_count": 74
        }
      ]
    },
    {
      "cell_type": "code",
      "source": [
        "'microsoft' in faang"
      ],
      "metadata": {
        "colab": {
          "base_uri": "https://localhost:8080/"
        },
        "id": "vr7n-aWugvh_",
        "outputId": "e1e6afae-ac39-41c0-a001-7fb36d0f5dca"
      },
      "execution_count": 75,
      "outputs": [
        {
          "output_type": "execute_result",
          "data": {
            "text/plain": [
              "False"
            ]
          },
          "metadata": {},
          "execution_count": 75
        }
      ]
    },
    {
      "cell_type": "code",
      "source": [
        "'apple' in faang"
      ],
      "metadata": {
        "colab": {
          "base_uri": "https://localhost:8080/"
        },
        "id": "n6Kg_T2WhM1d",
        "outputId": "105fd779-bb62-4a73-874a-970bdb8c0bb0"
      },
      "execution_count": 76,
      "outputs": [
        {
          "output_type": "execute_result",
          "data": {
            "text/plain": [
              "True"
            ]
          },
          "metadata": {},
          "execution_count": 76
        }
      ]
    },
    {
      "cell_type": "code",
      "source": [
        "set_a = set('fastcampus')\n",
        "set_b = set('shinhan')\n",
        "\n",
        "print(set_a | set_b)\n",
        "print(set_a & set_b)\n",
        "print(set_a - set_b)\n",
        "print(set_a ^ set_b)"
      ],
      "metadata": {
        "colab": {
          "base_uri": "https://localhost:8080/"
        },
        "id": "5eSzeGNAhOvl",
        "outputId": "1af20bfb-0e68-42ea-fb7a-1b95607b1ea6"
      },
      "execution_count": 77,
      "outputs": [
        {
          "output_type": "stream",
          "name": "stdout",
          "text": [
            "{'h', 't', 'm', 'p', 'i', 'c', 'u', 'n', 'a', 's', 'f'}\n",
            "{'a', 's'}\n",
            "{'m', 't', 'p', 'c', 'u', 'f'}\n",
            "{'h', 't', 'm', 'i', 'n', 'p', 'c', 'u', 'f'}\n"
          ]
        }
      ]
    },
    {
      "cell_type": "markdown",
      "source": [
        "### Practice 2\n",
        "dictionary와 set을 이용하여 다음 문제를 해결하세요.\n",
        "1. 다음 인적사항을 입력하세요.\n",
        "(list에 각 정보가 dict로 존재)\n",
        "![image](https://user-images.githubusercontent.com/71377968/211449387-df0d399d-25f3-4cf8-9787-1e7adebd5304.png)\n",
        "2. Jane Doe의 Locale을 London, UK 로 수정하세요.\n",
        "3. list의 모든 아이템에 대해 key와 value를 모두 출력하세요.(반복문 쓰지 말 것)\n",
        "4. 다음 list의 중복 아이템을 제거한 뒤, 내림차순으로 정렬하여 출력하세요.\n",
        "\n",
        "```python\n",
        "cities = ['Daejeon', 'Ulsan', 'Seoul', 'Jeju', 'Busan', 'Ulsan', 'Daegu', 'Daejeon', 'Seoul', 'Seoul', 'Daejeon', 'Gwangju', 'Busan', 'Daegu', 'Gwangju', 'Daejeon', 'Ulsan', 'Jeju', 'Gwangju', 'Seoul']\n",
        "```"
      ],
      "metadata": {
        "id": "rHobNEZ0inuh"
      }
    },
    {
      "cell_type": "code",
      "source": [
        "# 1\n",
        "users = [\n",
        "    {\n",
        "        \"name\": \"Jobnny Silverhand\",\n",
        "        \"locale\": \"Night City\",\n",
        "        \"age\": 120,\n",
        "        \"username\": \"Johnny\",\n",
        "     },\n",
        "    {\n",
        "        \"name\": \"John Doe\",\n",
        "        \"locale\": \"CA, USA\",\n",
        "        \"age\": 40,\n",
        "        \"username\": \"Doh\",\n",
        "     },\n",
        "    {\n",
        "        \"name\": \"Jane Doe\",\n",
        "        \"locale\": \"Seoul, Korea\",\n",
        "        \"age\": 24,\n",
        "        \"username\": \"jane-doe\",\n",
        "     },\n",
        "    {\n",
        "        \"name\": \"Foo Bar\",\n",
        "        \"locale\": \"Busan, Korea\",\n",
        "        \"age\": 31,\n",
        "        \"username\": \"foo-bar\",\n",
        "     },\n",
        "]"
      ],
      "metadata": {
        "id": "CG-2tLt-hp2W"
      },
      "execution_count": 79,
      "outputs": []
    },
    {
      "cell_type": "code",
      "source": [
        "# 2\n",
        "\n",
        "users[1][\"locale\"] = \"London, UK\"\n",
        "users"
      ],
      "metadata": {
        "colab": {
          "base_uri": "https://localhost:8080/"
        },
        "id": "NJw9o56PkPBi",
        "outputId": "173ef5fa-954b-45c0-b5bd-3f840b0723c5"
      },
      "execution_count": 82,
      "outputs": [
        {
          "output_type": "execute_result",
          "data": {
            "text/plain": [
              "[{'name': 'Jobnny Silverhand',\n",
              "  'locale': 'Night City',\n",
              "  'age': 120,\n",
              "  'username': 'Johnny'},\n",
              " {'name': 'John Doe', 'locale': 'London, UK', 'age': 40, 'username': 'Doh'},\n",
              " {'name': 'Jane Doe',\n",
              "  'locale': 'Seoul, Korea',\n",
              "  'age': 24,\n",
              "  'username': 'jane-doe'},\n",
              " {'name': 'Foo Bar',\n",
              "  'locale': 'Busan, Korea',\n",
              "  'age': 31,\n",
              "  'username': 'foo-bar'}]"
            ]
          },
          "metadata": {},
          "execution_count": 82
        }
      ]
    },
    {
      "cell_type": "code",
      "source": [
        "users[1].update({\"locale\": \"Seoul, Korea\"})\n",
        "users"
      ],
      "metadata": {
        "colab": {
          "base_uri": "https://localhost:8080/"
        },
        "id": "AOpPaWlVlKt-",
        "outputId": "22edace7-162d-4c77-f30a-34b0f771e1d3"
      },
      "execution_count": 83,
      "outputs": [
        {
          "output_type": "execute_result",
          "data": {
            "text/plain": [
              "[{'name': 'Jobnny Silverhand',\n",
              "  'locale': 'Night City',\n",
              "  'age': 120,\n",
              "  'username': 'Johnny'},\n",
              " {'name': 'John Doe', 'locale': 'Seoul, Korea', 'age': 40, 'username': 'Doh'},\n",
              " {'name': 'Jane Doe',\n",
              "  'locale': 'Seoul, Korea',\n",
              "  'age': 24,\n",
              "  'username': 'jane-doe'},\n",
              " {'name': 'Foo Bar',\n",
              "  'locale': 'Busan, Korea',\n",
              "  'age': 31,\n",
              "  'username': 'foo-bar'}]"
            ]
          },
          "metadata": {},
          "execution_count": 83
        }
      ]
    },
    {
      "cell_type": "code",
      "source": [
        "# 3\n",
        "\n",
        "print(0)\n",
        "print(users[0].items())\n",
        "print(1)\n",
        "print(users[1].items())\n",
        "print(2)\n",
        "print(users[2].items())\n",
        "print(3)\n",
        "print(users[3].items())"
      ],
      "metadata": {
        "colab": {
          "base_uri": "https://localhost:8080/"
        },
        "id": "Y6sinetplppc",
        "outputId": "1f1c9a29-0a96-45e8-8e07-a1864b6e7c10"
      },
      "execution_count": 87,
      "outputs": [
        {
          "output_type": "stream",
          "name": "stdout",
          "text": [
            "0\n",
            "dict_items([('name', 'Jobnny Silverhand'), ('locale', 'Night City'), ('age', 120), ('username', 'Johnny')])\n",
            "1\n",
            "dict_items([('name', 'John Doe'), ('locale', 'Seoul, Korea'), ('age', 40), ('username', 'Doh')])\n",
            "2\n",
            "dict_items([('name', 'Jane Doe'), ('locale', 'Seoul, Korea'), ('age', 24), ('username', 'jane-doe')])\n",
            "3\n",
            "dict_items([('name', 'Foo Bar'), ('locale', 'Busan, Korea'), ('age', 31), ('username', 'foo-bar')])\n"
          ]
        }
      ]
    },
    {
      "cell_type": "code",
      "source": [
        "# 4\n",
        "\n",
        "cities = ['Daejeon', 'Ulsan', 'Seoul', 'Jeju', 'Busan', 'Ulsan', \n",
        "          'Daegu', 'Daejeon', 'Seoul', 'Seoul', 'Daejeon', 'Gwangju', \n",
        "          'Busan', 'Daegu', 'Gwangju', 'Daejeon', 'Ulsan', \n",
        "          'Jeju', 'Gwangju', 'Seoul']\n",
        "cities = set(cities)\n",
        "cities = list(cities)\n",
        "cities.sort(reverse = True)\n",
        "cities"
      ],
      "metadata": {
        "colab": {
          "base_uri": "https://localhost:8080/"
        },
        "id": "CvB5cwQz3ZlA",
        "outputId": "772bbefc-1555-4bb7-9ec7-e9b1b1d8f58a"
      },
      "execution_count": 86,
      "outputs": [
        {
          "output_type": "execute_result",
          "data": {
            "text/plain": [
              "['Ulsan', 'Seoul', 'Jeju', 'Gwangju', 'Daejeon', 'Daegu', 'Busan']"
            ]
          },
          "metadata": {},
          "execution_count": 86
        }
      ]
    },
    {
      "cell_type": "markdown",
      "source": [
        "### Conditional Statement"
      ],
      "metadata": {
        "id": "MuEGo8cOKJrZ"
      }
    },
    {
      "cell_type": "code",
      "source": [
        "wallet = 2000\n",
        "if wallet > 4000:\n",
        "  print(\"Have some Samgim\")\n",
        "elif wallet > 1000:\n",
        "  print(\"Eat chocolate\")\n",
        "else:\n",
        "  print(\"Drink water\")"
      ],
      "metadata": {
        "colab": {
          "base_uri": "https://localhost:8080/"
        },
        "id": "eHqTCz15KMPX",
        "outputId": "304d96e5-e146-4276-a2e0-8dac28ca84f8"
      },
      "execution_count": 90,
      "outputs": [
        {
          "output_type": "stream",
          "name": "stdout",
          "text": [
            "Eat chocolate\n"
          ]
        }
      ]
    },
    {
      "cell_type": "markdown",
      "source": [
        "### Conditional Expression\n",
        "**Ternary Operator**"
      ],
      "metadata": {
        "id": "IkgzTQgjUdgX"
      }
    },
    {
      "cell_type": "code",
      "source": [
        "\"a\" if True else \"b\""
      ],
      "metadata": {
        "colab": {
          "base_uri": "https://localhost:8080/",
          "height": 35
        },
        "id": "bnW4DX_VKoGz",
        "outputId": "959655ac-9b49-4a36-aaa5-911b9ef01336"
      },
      "execution_count": 91,
      "outputs": [
        {
          "output_type": "execute_result",
          "data": {
            "text/plain": [
              "'a'"
            ],
            "application/vnd.google.colaboratory.intrinsic+json": {
              "type": "string"
            }
          },
          "metadata": {},
          "execution_count": 91
        }
      ]
    },
    {
      "cell_type": "code",
      "source": [
        "\"a\" if False else \"b\""
      ],
      "metadata": {
        "colab": {
          "base_uri": "https://localhost:8080/",
          "height": 35
        },
        "id": "3J6npRtmUqPi",
        "outputId": "917ae551-fa77-4d3a-c34d-dd2e89229473"
      },
      "execution_count": 92,
      "outputs": [
        {
          "output_type": "execute_result",
          "data": {
            "text/plain": [
              "'b'"
            ],
            "application/vnd.google.colaboratory.intrinsic+json": {
              "type": "string"
            }
          },
          "metadata": {},
          "execution_count": 92
        }
      ]
    },
    {
      "cell_type": "code",
      "source": [
        "numbers = [1, 3, 5, 7, 9]\n",
        "num = 0\n",
        "\"odd\" if num in numbers else \"even\""
      ],
      "metadata": {
        "colab": {
          "base_uri": "https://localhost:8080/",
          "height": 35
        },
        "id": "OayJaM90U241",
        "outputId": "5add513b-d6cc-4a07-8762-239b9c1ab461"
      },
      "execution_count": 93,
      "outputs": [
        {
          "output_type": "execute_result",
          "data": {
            "text/plain": [
              "'even'"
            ],
            "application/vnd.google.colaboratory.intrinsic+json": {
              "type": "string"
            }
          },
          "metadata": {},
          "execution_count": 93
        }
      ]
    },
    {
      "cell_type": "code",
      "source": [
        "num = 1\n",
        "\"odd\" if num in numbers else \"even\""
      ],
      "metadata": {
        "colab": {
          "base_uri": "https://localhost:8080/",
          "height": 35
        },
        "id": "5fzjAHC1VSQE",
        "outputId": "1a67c797-2925-4d41-be44-6a2ef60ef680"
      },
      "execution_count": 94,
      "outputs": [
        {
          "output_type": "execute_result",
          "data": {
            "text/plain": [
              "'odd'"
            ],
            "application/vnd.google.colaboratory.intrinsic+json": {
              "type": "string"
            }
          },
          "metadata": {},
          "execution_count": 94
        }
      ]
    },
    {
      "cell_type": "code",
      "source": [
        "weekdays = [\"t\", \"w\", \"t\", \"f\"]\n",
        "user_input = \"m\"\n",
        "\n",
        "\"weekday\" if user_input in weekdays else \"hell\" if user_input == \"m\" else \"weekend\""
      ],
      "metadata": {
        "colab": {
          "base_uri": "https://localhost:8080/"
        },
        "id": "UYjmQbw_VbmS",
        "outputId": "1ecfc3d6-e41b-4c5e-c031-f0bd02afdd35"
      },
      "execution_count": 98,
      "outputs": [
        {
          "output_type": "stream",
          "name": "stdout",
          "text": [
            "hell\n"
          ]
        }
      ]
    },
    {
      "cell_type": "markdown",
      "source": [
        "### Practice 3\n",
        "\n",
        "사용자의 입력에 따라 윤년을 구분하기 (conditional statement)"
      ],
      "metadata": {
        "id": "yYHzVWn-X6I7"
      }
    },
    {
      "cell_type": "code",
      "source": [
        "year = int(input(\"Input the year what you want to know if it's leap year : \"))\n",
        "\n",
        "if year % 400 == 0:\n",
        "  print(f\"{year} is a leap year\")\n",
        "elif year % 100 == 0:\n",
        "  print(f\"{year} is not a leap year\")\n",
        "elif year % 4 == 0:\n",
        "  print(f\"{year} is a leap year\")\n",
        "else:\n",
        "    print(f\"{year} is not a leap year\")"
      ],
      "metadata": {
        "colab": {
          "base_uri": "https://localhost:8080/"
        },
        "id": "plEIY7z0WWWk",
        "outputId": "a038e826-3d74-4ae3-f569-6da66179f170"
      },
      "execution_count": 100,
      "outputs": [
        {
          "output_type": "stream",
          "name": "stdout",
          "text": [
            "Input the year what you want to know if it's leap year : 2100\n",
            "2100 is not a leap year\n"
          ]
        }
      ]
    },
    {
      "cell_type": "markdown",
      "source": [
        "### Loop\n",
        "**for, while statement**"
      ],
      "metadata": {
        "id": "A63eTOYAbxPV"
      }
    },
    {
      "cell_type": "code",
      "source": [
        "list(range(10))"
      ],
      "metadata": {
        "colab": {
          "base_uri": "https://localhost:8080/"
        },
        "id": "EaHZKWhtY_Lp",
        "outputId": "9c0a8928-bfca-4c18-9b09-1755c03778b9"
      },
      "execution_count": 102,
      "outputs": [
        {
          "output_type": "execute_result",
          "data": {
            "text/plain": [
              "[0, 1, 2, 3, 4, 5, 6, 7, 8, 9]"
            ]
          },
          "metadata": {},
          "execution_count": 102
        }
      ]
    },
    {
      "cell_type": "code",
      "source": [
        "for i in range(1, 10 + 1):\n",
        "  print(i)"
      ],
      "metadata": {
        "colab": {
          "base_uri": "https://localhost:8080/"
        },
        "id": "nNWKXvPOfU6X",
        "outputId": "277e93a1-9658-4ca0-83ee-a355151b1cd1"
      },
      "execution_count": 104,
      "outputs": [
        {
          "output_type": "stream",
          "name": "stdout",
          "text": [
            "1\n",
            "2\n",
            "3\n",
            "4\n",
            "5\n",
            "6\n",
            "7\n",
            "8\n",
            "9\n",
            "10\n"
          ]
        }
      ]
    },
    {
      "cell_type": "code",
      "source": [
        "for c in \"ShinhanProDigitalAcademy\":\n",
        "  print(c, end = ' ')"
      ],
      "metadata": {
        "colab": {
          "base_uri": "https://localhost:8080/"
        },
        "id": "a8aIurRzf91p",
        "outputId": "95604abf-2687-45b0-ac31-1c30851ae848"
      },
      "execution_count": 105,
      "outputs": [
        {
          "output_type": "stream",
          "name": "stdout",
          "text": [
            "S h i n h a n P r o D i g i t a l A c a d e m y "
          ]
        }
      ]
    },
    {
      "cell_type": "code",
      "source": [
        "for item in [\"cat\", \"dog\", \"hamster\"]:\n",
        "  print(f\"{item} is so cute\")"
      ],
      "metadata": {
        "colab": {
          "base_uri": "https://localhost:8080/"
        },
        "id": "gHTGtAQbgUUR",
        "outputId": "e9182220-98ee-4a84-8280-7368babf57f1"
      },
      "execution_count": 106,
      "outputs": [
        {
          "output_type": "stream",
          "name": "stdout",
          "text": [
            "cat is so cute\n",
            "dog is so cute\n",
            "hamster is so cute\n"
          ]
        }
      ]
    },
    {
      "cell_type": "code",
      "source": [
        "for i in range(1, 100 + 1):\n",
        "  if i % 2 == 0 or i % 3 == 0:\n",
        "    continue\n",
        "  elif i % 17 == 0:\n",
        "    break\n",
        "  else:\n",
        "    print(f\"{i} is survived\")"
      ],
      "metadata": {
        "colab": {
          "base_uri": "https://localhost:8080/"
        },
        "id": "MkWdEgg4grA7",
        "outputId": "1a1e1e76-5cd9-4452-f5b9-13bb32259a2b"
      },
      "execution_count": 108,
      "outputs": [
        {
          "output_type": "stream",
          "name": "stdout",
          "text": [
            "1 is survived\n",
            "5 is survived\n",
            "7 is survived\n",
            "11 is survived\n",
            "13 is survived\n"
          ]
        }
      ]
    },
    {
      "cell_type": "code",
      "source": [
        "i = 0\n",
        "while i < 10:\n",
        "  print(i)\n",
        "  i += 1"
      ],
      "metadata": {
        "colab": {
          "base_uri": "https://localhost:8080/"
        },
        "id": "KVcr85gjhQ6t",
        "outputId": "436310ee-7867-4303-e337-cd5d42878058"
      },
      "execution_count": 110,
      "outputs": [
        {
          "output_type": "stream",
          "name": "stdout",
          "text": [
            "0\n",
            "1\n",
            "2\n",
            "3\n",
            "4\n",
            "5\n",
            "6\n",
            "7\n",
            "8\n",
            "9\n"
          ]
        }
      ]
    },
    {
      "cell_type": "code",
      "source": [
        "user_input = \"\"\n",
        "\n",
        "while user_input != \"taco\":\n",
        "  user_input = input(\"What do you want for dinner? \")\n",
        "  if user_input != \"taco\":\n",
        "    print(f\"I don't want to eat {user_input}.\")\n",
        "  else:\n",
        "    print(\"Right Choice XD !!\")\n",
        "    break"
      ],
      "metadata": {
        "colab": {
          "base_uri": "https://localhost:8080/"
        },
        "id": "C9XxGu4RiQhs",
        "outputId": "1de31d4b-c2aa-4512-db2c-83a6649836b2"
      },
      "execution_count": 114,
      "outputs": [
        {
          "output_type": "stream",
          "name": "stdout",
          "text": [
            "What do you want for dinner? water\n",
            "I don't want to eat water.\n",
            "What do you want for dinner? gimbob\n",
            "I don't want to eat gimbob.\n",
            "What do you want for dinner? tacoyakki\n",
            "I don't want to eat tacoyakki.\n",
            "What do you want for dinner? ramen\n",
            "I don't want to eat ramen.\n",
            "What do you want for dinner? taco\n",
            "Right Choice XD !!\n"
          ]
        }
      ]
    },
    {
      "cell_type": "markdown",
      "source": [
        "### Fizzbuzz"
      ],
      "metadata": {
        "id": "IPfbjm03kUOP"
      }
    },
    {
      "cell_type": "code",
      "source": [
        "dest = int(input(\"Input integer : \"))\n",
        "\n",
        "# 5를 위에 쓰면 읽는 elif문의 수가 많아짐\n",
        "for i in range(1, dest + 1):\n",
        "  if i % 15 == 0:\n",
        "    print(\"fizzbuzz\")\n",
        "  elif i % 3 == 0:\n",
        "    print(\"fizz\")\n",
        "  elif i % 5 == 0:\n",
        "    print(\"buzz\")\n",
        "  else:\n",
        "    print(i)"
      ],
      "metadata": {
        "colab": {
          "base_uri": "https://localhost:8080/"
        },
        "id": "J98JKNJSi8i_",
        "outputId": "2a1fc0b9-abf0-4b63-a9f4-b61bbbc24bde"
      },
      "execution_count": 117,
      "outputs": [
        {
          "output_type": "stream",
          "name": "stdout",
          "text": [
            "Input integer : 30\n",
            "1\n",
            "2\n",
            "fizz\n",
            "4\n",
            "buzz\n",
            "fizz\n",
            "7\n",
            "8\n",
            "fizz\n",
            "buzz\n",
            "11\n",
            "fizz\n",
            "13\n",
            "14\n",
            "fizzbuzz\n",
            "16\n",
            "17\n",
            "fizz\n",
            "19\n",
            "buzz\n",
            "fizz\n",
            "22\n",
            "23\n",
            "fizz\n",
            "buzz\n",
            "26\n",
            "fizz\n",
            "28\n",
            "29\n",
            "fizzbuzz\n"
          ]
        }
      ]
    },
    {
      "cell_type": "code",
      "source": [
        "dest = 20\n",
        "\n",
        "for i in range(1, dest + 1):\n",
        "  if i % 3 == 0 or i % 5 == 0:\n",
        "    print(\"fizz\" * (i % 3 == 0), \"buzz\" * (i % 5 == 0), sep = \"\")\n",
        "  else:\n",
        "    print(i)"
      ],
      "metadata": {
        "colab": {
          "base_uri": "https://localhost:8080/"
        },
        "id": "1mNQUhFOlIbn",
        "outputId": "c21aa626-ffc1-4847-be82-bf5a4b211d0b"
      },
      "execution_count": 124,
      "outputs": [
        {
          "output_type": "stream",
          "name": "stdout",
          "text": [
            "1\n",
            "2\n",
            "fizz\n",
            "4\n",
            "buzz\n",
            "fizz\n",
            "7\n",
            "8\n",
            "fizz\n",
            "buzz\n",
            "11\n",
            "fizz\n",
            "13\n",
            "14\n",
            "fizzbuzz\n",
            "16\n",
            "17\n",
            "fizz\n",
            "19\n",
            "buzz\n"
          ]
        }
      ]
    },
    {
      "cell_type": "code",
      "source": [
        "for i in range( 1, dest + 1):\n",
        "  print(\n",
        "      'fizzbuzz' if i % 15 == 0 else\n",
        "      'fizz' if i % 3 == 0 else\n",
        "      'buzz' if i % 5 == 0 else\n",
        "      i\n",
        "  )"
      ],
      "metadata": {
        "colab": {
          "base_uri": "https://localhost:8080/"
        },
        "id": "QpUu8lhKnmv7",
        "outputId": "7534dee8-4a4a-4f74-ba68-0120ac24b7ab"
      },
      "execution_count": 125,
      "outputs": [
        {
          "output_type": "stream",
          "name": "stdout",
          "text": [
            "1\n",
            "2\n",
            "fizz\n",
            "4\n",
            "buzz\n",
            "fizz\n",
            "7\n",
            "8\n",
            "fizz\n",
            "buzz\n",
            "11\n",
            "fizz\n",
            "13\n",
            "14\n",
            "fizzbuzz\n",
            "16\n",
            "17\n",
            "fizz\n",
            "19\n",
            "buzz\n"
          ]
        }
      ]
    },
    {
      "cell_type": "code",
      "source": [],
      "metadata": {
        "id": "R50ISjsDpozP"
      },
      "execution_count": null,
      "outputs": []
    }
  ]
}