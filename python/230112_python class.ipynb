{
  "nbformat": 4,
  "nbformat_minor": 0,
  "metadata": {
    "colab": {
      "provenance": [],
      "collapsed_sections": [
        "ngvNnEZRxVK7",
        "1_g1xbznpGfd",
        "9TyDHdYSs_Lt"
      ]
    },
    "kernelspec": {
      "name": "python3",
      "display_name": "Python 3"
    },
    "language_info": {
      "name": "python"
    }
  },
  "cells": [
    {
      "cell_type": "code",
      "execution_count": 1,
      "metadata": {
        "colab": {
          "base_uri": "https://localhost:8080/"
        },
        "id": "usz_u7F5uD0B",
        "outputId": "0b53f97d-f97c-4cee-a8fe-339766ccae5b"
      },
      "outputs": [
        {
          "output_type": "stream",
          "name": "stdout",
          "text": [
            "local Seong-su, 140395857929776\n",
            "nonlocal Finance, 140395857932208\n",
            "global Finance, 140395857932208\n"
          ]
        }
      ],
      "source": [
        "def outer_scope():\n",
        "  def inner_local(): \n",
        "    msg = 'Shinhan' \n",
        "  def inner_nonlocal(): \n",
        "    nonlocal msg\n",
        "    msg = 'Finance' \n",
        "  def inner_global(): \n",
        "    global msg\n",
        "    msg = 'FastCampus'\n",
        "  msg = 'Seong-su'\n",
        "  inner_local()\n",
        "  print(f'local {msg}, {id(msg)}')\n",
        "  inner_nonlocal()\n",
        "  print(f'nonlocal {msg}, {id(msg)}')\n",
        "  inner_global()\n",
        "  print(f'global {msg}, {id(msg)}')\n",
        "\n",
        "outer_scope()"
      ]
    },
    {
      "cell_type": "code",
      "source": [
        "msg"
      ],
      "metadata": {
        "colab": {
          "base_uri": "https://localhost:8080/",
          "height": 35
        },
        "id": "Bl849axauHVn",
        "outputId": "66b72e0e-c7c4-49e9-deec-70d4ab6f8680"
      },
      "execution_count": 2,
      "outputs": [
        {
          "output_type": "execute_result",
          "data": {
            "text/plain": [
              "'FastCampus'"
            ],
            "application/vnd.google.colaboratory.intrinsic+json": {
              "type": "string"
            }
          },
          "metadata": {},
          "execution_count": 2
        }
      ]
    },
    {
      "cell_type": "markdown",
      "source": [
        "## Class"
      ],
      "metadata": {
        "id": "ngvNnEZRxVK7"
      }
    },
    {
      "cell_type": "code",
      "source": [
        "# class ClassName\n",
        "\n",
        "class Hero:\n",
        "  pass"
      ],
      "metadata": {
        "id": "hdGIxWYuv7_j"
      },
      "execution_count": 3,
      "outputs": []
    },
    {
      "cell_type": "code",
      "source": [
        "IronMan = Hero()\n",
        "type(IronMan)"
      ],
      "metadata": {
        "colab": {
          "base_uri": "https://localhost:8080/"
        },
        "id": "1QkABCK-xay3",
        "outputId": "0889d963-d334-4ceb-d77b-e1faaa26eda0"
      },
      "execution_count": 4,
      "outputs": [
        {
          "output_type": "execute_result",
          "data": {
            "text/plain": [
              "__main__.Hero"
            ]
          },
          "metadata": {},
          "execution_count": 4
        }
      ]
    },
    {
      "cell_type": "code",
      "source": [
        "Thor = Hero()\n",
        "type(Thor)"
      ],
      "metadata": {
        "colab": {
          "base_uri": "https://localhost:8080/"
        },
        "id": "aXuoPQusxeen",
        "outputId": "ba7b172b-d2bb-42ba-869c-f267d008fd04"
      },
      "execution_count": 5,
      "outputs": [
        {
          "output_type": "execute_result",
          "data": {
            "text/plain": [
              "__main__.Hero"
            ]
          },
          "metadata": {},
          "execution_count": 5
        }
      ]
    },
    {
      "cell_type": "code",
      "source": [
        "CaptainAmerica = Hero()"
      ],
      "metadata": {
        "id": "-XjEwfR0xlsU"
      },
      "execution_count": 6,
      "outputs": []
    },
    {
      "cell_type": "code",
      "source": [
        "class Hero:\n",
        "  health = 100\n",
        "\n",
        "  def __init__(self, name, weapon):\n",
        "    self.name = name\n",
        "    self.weapon = weapon\n",
        "  \n",
        "  def attack(self):\n",
        "    print(f\"attack with {self.weapon}\")"
      ],
      "metadata": {
        "id": "Ca9X6IsqxqHO"
      },
      "execution_count": 7,
      "outputs": []
    },
    {
      "cell_type": "code",
      "source": [
        "IronMan = Hero(\"Tony Stark\", \"Ironman Suit\")"
      ],
      "metadata": {
        "id": "OX6wgleNyYsb"
      },
      "execution_count": 8,
      "outputs": []
    },
    {
      "cell_type": "code",
      "source": [
        "IronMan.attack()"
      ],
      "metadata": {
        "colab": {
          "base_uri": "https://localhost:8080/"
        },
        "id": "h4YgQNAYyh5n",
        "outputId": "787e6225-4d66-4fd9-e2ef-66bcf757828c"
      },
      "execution_count": 9,
      "outputs": [
        {
          "output_type": "stream",
          "name": "stdout",
          "text": [
            "attack with Ironman Suit\n"
          ]
        }
      ]
    },
    {
      "cell_type": "code",
      "source": [
        "IronMan.name"
      ],
      "metadata": {
        "colab": {
          "base_uri": "https://localhost:8080/",
          "height": 0
        },
        "id": "lteyjfFoykQt",
        "outputId": "b7a27b92-d73c-45e2-9b79-977a7cbf6606"
      },
      "execution_count": 10,
      "outputs": [
        {
          "output_type": "execute_result",
          "data": {
            "text/plain": [
              "'Tony Stark'"
            ],
            "application/vnd.google.colaboratory.intrinsic+json": {
              "type": "string"
            }
          },
          "metadata": {},
          "execution_count": 10
        }
      ]
    },
    {
      "cell_type": "code",
      "source": [
        "IronMan.weapon"
      ],
      "metadata": {
        "colab": {
          "base_uri": "https://localhost:8080/",
          "height": 0
        },
        "id": "lFf6_NMFyz8i",
        "outputId": "21064f62-6c25-406b-9b32-0825d2707e51"
      },
      "execution_count": 11,
      "outputs": [
        {
          "output_type": "execute_result",
          "data": {
            "text/plain": [
              "'Ironman Suit'"
            ],
            "application/vnd.google.colaboratory.intrinsic+json": {
              "type": "string"
            }
          },
          "metadata": {},
          "execution_count": 11
        }
      ]
    },
    {
      "cell_type": "code",
      "source": [
        "class SeeAttributes():\n",
        "  \"\"\"\n",
        "  This is docstring\n",
        "  \"\"\"\n",
        "  integer = 2048\n",
        "  def method(self):\n",
        "    return \"ShinhanFinace\""
      ],
      "metadata": {
        "id": "5MQKmW1NzAQQ"
      },
      "execution_count": 12,
      "outputs": []
    },
    {
      "cell_type": "code",
      "source": [
        "shinhan = SeeAttributes()"
      ],
      "metadata": {
        "id": "oQUWqIjpz0KB"
      },
      "execution_count": 13,
      "outputs": []
    },
    {
      "cell_type": "code",
      "source": [
        "shinhan?"
      ],
      "metadata": {
        "id": "pMUov9hdz20i"
      },
      "execution_count": 14,
      "outputs": []
    },
    {
      "cell_type": "code",
      "source": [
        "shinhan.integer"
      ],
      "metadata": {
        "colab": {
          "base_uri": "https://localhost:8080/"
        },
        "id": "cKb6nLObz4Ei",
        "outputId": "8ced8cef-d9f4-4eba-a8f8-59c1f93736df"
      },
      "execution_count": 15,
      "outputs": [
        {
          "output_type": "execute_result",
          "data": {
            "text/plain": [
              "2048"
            ]
          },
          "metadata": {},
          "execution_count": 15
        }
      ]
    },
    {
      "cell_type": "code",
      "source": [
        "shinhan.method()"
      ],
      "metadata": {
        "colab": {
          "base_uri": "https://localhost:8080/",
          "height": 0
        },
        "id": "2iS9lUykz_b5",
        "outputId": "ba7dac0c-0867-4404-ccd5-cd35d80b59d0"
      },
      "execution_count": 16,
      "outputs": [
        {
          "output_type": "execute_result",
          "data": {
            "text/plain": [
              "'ShinhanFinace'"
            ],
            "application/vnd.google.colaboratory.intrinsic+json": {
              "type": "string"
            }
          },
          "metadata": {},
          "execution_count": 16
        }
      ]
    },
    {
      "cell_type": "code",
      "source": [
        "dir(shinhan)"
      ],
      "metadata": {
        "colab": {
          "base_uri": "https://localhost:8080/"
        },
        "id": "rCQDwNhK0Dqt",
        "outputId": "ec7ea988-2665-4835-ce8a-3c6ff6af6807"
      },
      "execution_count": 17,
      "outputs": [
        {
          "output_type": "execute_result",
          "data": {
            "text/plain": [
              "['__class__',\n",
              " '__delattr__',\n",
              " '__dict__',\n",
              " '__dir__',\n",
              " '__doc__',\n",
              " '__eq__',\n",
              " '__format__',\n",
              " '__ge__',\n",
              " '__getattribute__',\n",
              " '__gt__',\n",
              " '__hash__',\n",
              " '__init__',\n",
              " '__init_subclass__',\n",
              " '__le__',\n",
              " '__lt__',\n",
              " '__module__',\n",
              " '__ne__',\n",
              " '__new__',\n",
              " '__reduce__',\n",
              " '__reduce_ex__',\n",
              " '__repr__',\n",
              " '__setattr__',\n",
              " '__sizeof__',\n",
              " '__str__',\n",
              " '__subclasshook__',\n",
              " '__weakref__',\n",
              " 'integer',\n",
              " 'method']"
            ]
          },
          "metadata": {},
          "execution_count": 17
        }
      ]
    },
    {
      "cell_type": "code",
      "source": [
        "shinhan.__doc__"
      ],
      "metadata": {
        "colab": {
          "base_uri": "https://localhost:8080/",
          "height": 0
        },
        "id": "7Yy9D22E0MGR",
        "outputId": "504b9525-a92a-4883-c742-a8fa1b5c7e91"
      },
      "execution_count": 18,
      "outputs": [
        {
          "output_type": "execute_result",
          "data": {
            "text/plain": [
              "'\\n  This is docstring\\n  '"
            ],
            "application/vnd.google.colaboratory.intrinsic+json": {
              "type": "string"
            }
          },
          "metadata": {},
          "execution_count": 18
        }
      ]
    },
    {
      "cell_type": "code",
      "source": [
        "Hulk = Hero(\"Bruce Banner\", \"Radioactive Fist\")\n",
        "Hulk.health = 10000\n",
        "Hulk.health"
      ],
      "metadata": {
        "colab": {
          "base_uri": "https://localhost:8080/"
        },
        "id": "uHXpc5Yq0Y6i",
        "outputId": "de381393-9470-4778-f232-78bac743bb2d"
      },
      "execution_count": 19,
      "outputs": [
        {
          "output_type": "execute_result",
          "data": {
            "text/plain": [
              "10000"
            ]
          },
          "metadata": {},
          "execution_count": 19
        }
      ]
    },
    {
      "cell_type": "code",
      "source": [
        "class Hero:\n",
        "  health = 100\n",
        "  inventory = []\n",
        "\n",
        "  def __init__(self, name, weapon):\n",
        "    self.name = name\n",
        "    self.weapon = weapon\n",
        "  \n",
        "  def attack(self):\n",
        "    print(f\"attack with {self.weapon}\")\n",
        "  \n",
        "  def save_item(self, item):\n",
        "    self.inventory.append(item)"
      ],
      "metadata": {
        "id": "grb-IKxp02er"
      },
      "execution_count": 20,
      "outputs": []
    },
    {
      "cell_type": "code",
      "source": [
        "IronMan = Hero(\"Tony Stark\", \"Impulse Gun\")"
      ],
      "metadata": {
        "id": "N0zWZ_dU1WQ5"
      },
      "execution_count": 21,
      "outputs": []
    },
    {
      "cell_type": "code",
      "source": [
        "IronMan.inventory"
      ],
      "metadata": {
        "colab": {
          "base_uri": "https://localhost:8080/"
        },
        "id": "DkPNwmhF1qse",
        "outputId": "f4aa0335-3fa0-4341-85ea-a9b952d7d88c"
      },
      "execution_count": 22,
      "outputs": [
        {
          "output_type": "execute_result",
          "data": {
            "text/plain": [
              "[]"
            ]
          },
          "metadata": {},
          "execution_count": 22
        }
      ]
    },
    {
      "cell_type": "code",
      "source": [
        "IronMan.save_item('E.D.I.T.H')\n",
        "IronMan.inventory"
      ],
      "metadata": {
        "colab": {
          "base_uri": "https://localhost:8080/"
        },
        "id": "XyHz8a-D1teC",
        "outputId": "0cd81a50-1a5f-4606-f605-705861a3f6ad"
      },
      "execution_count": 23,
      "outputs": [
        {
          "output_type": "execute_result",
          "data": {
            "text/plain": [
              "['E.D.I.T.H']"
            ]
          },
          "metadata": {},
          "execution_count": 23
        }
      ]
    },
    {
      "cell_type": "code",
      "source": [
        "Hulk = Hero('Bruce Banner', 'Radioactive Fist')\n",
        "Hulk.save_item('pants')"
      ],
      "metadata": {
        "id": "nUPTJr0r1vxS"
      },
      "execution_count": 24,
      "outputs": []
    },
    {
      "cell_type": "code",
      "source": [
        "Hulk.inventory # objects of class Hero are all pointing same inventory"
      ],
      "metadata": {
        "colab": {
          "base_uri": "https://localhost:8080/"
        },
        "id": "wr3AajhL2ODV",
        "outputId": "7aff060f-0ed0-464e-f049-24902faf2d41"
      },
      "execution_count": 25,
      "outputs": [
        {
          "output_type": "execute_result",
          "data": {
            "text/plain": [
              "['E.D.I.T.H', 'pants']"
            ]
          },
          "metadata": {},
          "execution_count": 25
        }
      ]
    },
    {
      "cell_type": "code",
      "source": [
        "class Hero:\n",
        "  health = 100\n",
        "\n",
        "  def __init__(self, name, weapon):\n",
        "    self.name = name\n",
        "    self.weapon = weapon\n",
        "    self.inventory = []\n",
        "  \n",
        "  def attack(self):\n",
        "    print(f\"attack with {self.weapon}\")\n",
        "  \n",
        "  def save_item(self, item):\n",
        "    self.inventory.append(item)"
      ],
      "metadata": {
        "id": "oPgKeMHb2PSt"
      },
      "execution_count": 26,
      "outputs": []
    },
    {
      "cell_type": "code",
      "source": [
        "IronMan = Hero(\"Tony Stark\", \"Impulse Gun\")\n",
        "IronMan.save_item('E.D.I.T.H')\n",
        "IronMan.inventory"
      ],
      "metadata": {
        "colab": {
          "base_uri": "https://localhost:8080/"
        },
        "id": "tbzOpZ7b2vp2",
        "outputId": "c2b2cfdb-8559-4ba0-8f8b-3d5987e7c2a2"
      },
      "execution_count": 27,
      "outputs": [
        {
          "output_type": "execute_result",
          "data": {
            "text/plain": [
              "['E.D.I.T.H']"
            ]
          },
          "metadata": {},
          "execution_count": 27
        }
      ]
    },
    {
      "cell_type": "code",
      "source": [
        "Hulk = Hero('Bruce Banner', 'Radioactive Fist')\n",
        "Hulk.save_item('pants')\n",
        "Hulk.inventory"
      ],
      "metadata": {
        "colab": {
          "base_uri": "https://localhost:8080/"
        },
        "id": "V4wlET4d2zVu",
        "outputId": "b7b8257c-1a30-4069-8fc5-ac68599cafb0"
      },
      "execution_count": 28,
      "outputs": [
        {
          "output_type": "execute_result",
          "data": {
            "text/plain": [
              "['pants']"
            ]
          },
          "metadata": {},
          "execution_count": 28
        }
      ]
    },
    {
      "cell_type": "code",
      "source": [
        "class Hero:\n",
        "  health = 100\n",
        "\n",
        "  def __init__(self, name, weapon):\n",
        "    self.name = name\n",
        "    self.weapon = weapon\n",
        "    self.inventory = []\n",
        "  \n",
        "  def attack(self):\n",
        "    print(f\"attack with {self.weapon}\")\n",
        "  \n",
        "  def save_item(self, item):\n",
        "    self.inventory.append(item)\n",
        "  \n",
        "  def __del__(self):\n",
        "    print('I love you 3000.')"
      ],
      "metadata": {
        "id": "la6meSuL25Js"
      },
      "execution_count": 29,
      "outputs": []
    },
    {
      "cell_type": "code",
      "source": [
        "IronMan = Hero('Tony','Gun')"
      ],
      "metadata": {
        "id": "DNpXNVzL3tw1"
      },
      "execution_count": 30,
      "outputs": []
    },
    {
      "cell_type": "code",
      "source": [
        "del IronMan"
      ],
      "metadata": {
        "colab": {
          "base_uri": "https://localhost:8080/"
        },
        "id": "LPLQNPpR33L6",
        "outputId": "19e39753-6446-46e1-9bb4-cdde49b7658b"
      },
      "execution_count": 31,
      "outputs": [
        {
          "output_type": "stream",
          "name": "stdout",
          "text": [
            "I love you 3000.\n"
          ]
        }
      ]
    },
    {
      "cell_type": "code",
      "source": [
        "class Hero:\n",
        "  health = 100\n",
        "\n",
        "  def __init__(self, name, weapon):\n",
        "    self.name = name\n",
        "    self.weapon = weapon\n",
        "    self.inventory = []\n",
        "  \n",
        "  def attack(self):\n",
        "    print(f\"attack with {self.weapon}\")\n",
        "  \n",
        "  def save_item(self, item):\n",
        "    self.inventory.append(item)\n",
        "\n",
        "  def save_item_multiple(self, item, num):\n",
        "    for _ in range(num):\n",
        "      self.save_item(item)\n",
        "\n",
        "  def save_items(self, *items):\n",
        "    # self.inventory.extend(items)\n",
        "    for item in items:\n",
        "      self.save_item(item)\n",
        "      print(f'{item} is now has been stored in inventory.')\n",
        "  \n",
        "  def __del__(self): # deconstructor는 마지막에 두는 게 좋음\n",
        "    print('I love you 3000.')"
      ],
      "metadata": {
        "id": "jt31jmA637nR"
      },
      "execution_count": 32,
      "outputs": []
    },
    {
      "cell_type": "code",
      "source": [
        "IronMan = Hero('Tony', 'Gun')\n",
        "IronMan.inventory"
      ],
      "metadata": {
        "colab": {
          "base_uri": "https://localhost:8080/"
        },
        "id": "CTFDQr5QKtIG",
        "outputId": "7be7c036-3194-42ce-9918-ee65efd932df"
      },
      "execution_count": 33,
      "outputs": [
        {
          "output_type": "execute_result",
          "data": {
            "text/plain": [
              "[]"
            ]
          },
          "metadata": {},
          "execution_count": 33
        }
      ]
    },
    {
      "cell_type": "code",
      "source": [
        "IronMan.save_item_multiple('$10000', 10)"
      ],
      "metadata": {
        "id": "PsqlTgY9Ky7r"
      },
      "execution_count": 34,
      "outputs": []
    },
    {
      "cell_type": "code",
      "source": [
        "IronMan.inventory"
      ],
      "metadata": {
        "colab": {
          "base_uri": "https://localhost:8080/"
        },
        "id": "bZKmbVSDK6qC",
        "outputId": "137469af-a5cb-473f-96cf-9d6e16f37c59"
      },
      "execution_count": 35,
      "outputs": [
        {
          "output_type": "execute_result",
          "data": {
            "text/plain": [
              "['$10000',\n",
              " '$10000',\n",
              " '$10000',\n",
              " '$10000',\n",
              " '$10000',\n",
              " '$10000',\n",
              " '$10000',\n",
              " '$10000',\n",
              " '$10000',\n",
              " '$10000']"
            ]
          },
          "metadata": {},
          "execution_count": 35
        }
      ]
    },
    {
      "cell_type": "code",
      "source": [
        "IronMan.save_items(\"$10\", \"\\ 200\", \"\\ 20000000\")"
      ],
      "metadata": {
        "colab": {
          "base_uri": "https://localhost:8080/"
        },
        "id": "Cct8U7AoLBDX",
        "outputId": "e3c503e1-ecf4-439d-a97e-ac89b68f39fe"
      },
      "execution_count": 36,
      "outputs": [
        {
          "output_type": "stream",
          "name": "stdout",
          "text": [
            "$10 is now has been stored in inventory.\n",
            "\\ 200 is now has been stored in inventory.\n",
            "\\ 20000000 is now has been stored in inventory.\n"
          ]
        }
      ]
    },
    {
      "cell_type": "code",
      "source": [
        "IronMan.inventory"
      ],
      "metadata": {
        "colab": {
          "base_uri": "https://localhost:8080/"
        },
        "id": "aX7p2fRMLywN",
        "outputId": "959e3b97-193a-4936-bc65-651b9e6e2b68"
      },
      "execution_count": 37,
      "outputs": [
        {
          "output_type": "execute_result",
          "data": {
            "text/plain": [
              "['$10000',\n",
              " '$10000',\n",
              " '$10000',\n",
              " '$10000',\n",
              " '$10000',\n",
              " '$10000',\n",
              " '$10000',\n",
              " '$10000',\n",
              " '$10000',\n",
              " '$10000',\n",
              " '$10',\n",
              " '\\\\ 200',\n",
              " '\\\\ 20000000']"
            ]
          },
          "metadata": {},
          "execution_count": 37
        }
      ]
    },
    {
      "cell_type": "code",
      "source": [
        "from prompt_toolkit.filters import is_done\n",
        "from random import randint\n",
        "\n",
        "class Elevator:\n",
        "\n",
        "  def __init__(self, max_cap, cur_cap):\n",
        "    self.elevator_id = randint(1,10000000)\n",
        "    self.space = []\n",
        "    self.max_cap = max_cap\n",
        "    self.cur_cap = cur_cap\n",
        "    self.is_up = True\n",
        "    \n",
        "  def open_(self, weight):\n",
        "    if self.cur_cap + weight <= self.max_cap:\n",
        "      return True\n",
        "    else:\n",
        "      return False\n",
        "  \n",
        "  def go_up(self, start, end, weight):\n",
        "    if not self.is_up:\n",
        "      print(\"elevator is going down now.\")\n",
        "      return True\n",
        "    if open_(weight):\n",
        "      print(\"going up.\")\n",
        "      self.space.append((end, weight))\n",
        "      self.cur_cap += weight\n",
        "    else:\n",
        "      print(\"out of weight.\")\n",
        "  \n",
        "  def go_down(self, start, end, weight):\n",
        "    if self.is_up:\n",
        "      print(\"elevator is going up now.\")\n",
        "      return\n",
        "    if self.cur_cap + weight <= self.max_cap:\n",
        "      print(\"going down.\")\n",
        "      self.space.append((end, weight))\n",
        "      self.space.append((end, weight))\n",
        "      self.cur_cap += weight\n",
        "    else:\n",
        "      print(\"out of weight\")"
      ],
      "metadata": {
        "id": "aLaeE7ioL9Xq"
      },
      "execution_count": 38,
      "outputs": []
    },
    {
      "cell_type": "markdown",
      "source": [],
      "metadata": {
        "id": "cGy4SzXQpKjd"
      }
    },
    {
      "cell_type": "code",
      "source": [
        "class Fried:\n",
        "  pass\n",
        "\n",
        "class Seasoned(Fried):\n",
        "  pass"
      ],
      "metadata": {
        "id": "THB-I7aaZcKi"
      },
      "execution_count": 39,
      "outputs": []
    },
    {
      "cell_type": "code",
      "source": [
        "class Fried:\n",
        "  \n",
        "  def __init__(self, mixture, chicken):\n",
        "    self.mixture = mixture\n",
        "    self.chicken = chicken\n",
        "\n",
        "  def mix(self):\n",
        "    pass\n",
        "  def fry(self):\n",
        "    print(\"Chicken is now frying..\")\n",
        "\n",
        "class Seasoned(Fried):\n",
        "  \n",
        "  def __init__(self, mixture, chicken, sauce):\n",
        "    Fried.__init__(self, mixture, chicken) # This is important!!! #\n",
        "    self.sauce = sauce\n",
        "  \n",
        "  def fry(self):\n",
        "    print(\"Chicken is now frying..\")\n",
        "  \n",
        "  def mix(self, sauce):\n",
        "    print(\"Seasoned Chicken is now mixed ..\")"
      ],
      "metadata": {
        "id": "q9n9gRgqZg2g"
      },
      "execution_count": 40,
      "outputs": []
    },
    {
      "cell_type": "code",
      "source": [
        "class SmartPhone:\n",
        "  def __init__(self, ap, cam):\n",
        "    self.ap = ap\n",
        "    self.cam = cam\n",
        "  \n",
        "  def open_ai(self):\n",
        "    print(\"I don't have faeture like that\")\n",
        "  \n",
        "  def __str__(self):\n",
        "    return f\"I am {self.__class__.__name__}\""
      ],
      "metadata": {
        "id": "UgGNeiBab7B9"
      },
      "execution_count": 41,
      "outputs": []
    },
    {
      "cell_type": "code",
      "source": [
        "SomePhone = SmartPhone('snapdragon', '1MP')\n",
        "SomePhone.open_ai()"
      ],
      "metadata": {
        "colab": {
          "base_uri": "https://localhost:8080/"
        },
        "id": "YAJVJEupc-Jc",
        "outputId": "fd3d7a33-3215-42af-dad0-2a27c8b81db5"
      },
      "execution_count": 42,
      "outputs": [
        {
          "output_type": "stream",
          "name": "stdout",
          "text": [
            "I don't have faeture like that\n"
          ]
        }
      ]
    },
    {
      "cell_type": "code",
      "source": [
        "SomePhone.__str__()"
      ],
      "metadata": {
        "colab": {
          "base_uri": "https://localhost:8080/",
          "height": 0
        },
        "id": "p0Mg1YZOdID3",
        "outputId": "592dad74-5284-436a-d5a5-ad1a15aeb3af"
      },
      "execution_count": 43,
      "outputs": [
        {
          "output_type": "execute_result",
          "data": {
            "text/plain": [
              "'I am SmartPhone'"
            ],
            "application/vnd.google.colaboratory.intrinsic+json": {
              "type": "string"
            }
          },
          "metadata": {},
          "execution_count": 43
        }
      ]
    },
    {
      "cell_type": "code",
      "source": [
        "class IPhone (SmartPhone):\n",
        "  def __init__(self, ap, cam, auth):\n",
        "    SmartPhone.__init__(self, ap, cam)\n",
        "    self.auth = auth\n",
        "  \n",
        "  def open_ai(self):\n",
        "    print('Hey, Siri!')\n",
        "  \n",
        "  def __str__(self):\n",
        "    return f\"I am {self.__class__.__name__}\""
      ],
      "metadata": {
        "id": "Exis0adbda10"
      },
      "execution_count": 44,
      "outputs": []
    },
    {
      "cell_type": "code",
      "source": [
        "IPhone14 = IPhone('A14', '13MP', 'FaceID')"
      ],
      "metadata": {
        "id": "f2CK9cRReOq3"
      },
      "execution_count": 45,
      "outputs": []
    },
    {
      "cell_type": "code",
      "source": [
        "IPhone14.open_ai()"
      ],
      "metadata": {
        "colab": {
          "base_uri": "https://localhost:8080/"
        },
        "id": "MCrliPqeeZNi",
        "outputId": "c46bd446-b056-4da3-9e52-07c43fc2074d"
      },
      "execution_count": 46,
      "outputs": [
        {
          "output_type": "stream",
          "name": "stdout",
          "text": [
            "Hey, Siri!\n"
          ]
        }
      ]
    },
    {
      "cell_type": "code",
      "source": [
        "IPhone14.__str__()"
      ],
      "metadata": {
        "colab": {
          "base_uri": "https://localhost:8080/",
          "height": 0
        },
        "id": "kTpwQ3xOed33",
        "outputId": "f32317bc-4ee9-4914-f4fd-747c193d8ad6"
      },
      "execution_count": 47,
      "outputs": [
        {
          "output_type": "execute_result",
          "data": {
            "text/plain": [
              "'I am IPhone'"
            ],
            "application/vnd.google.colaboratory.intrinsic+json": {
              "type": "string"
            }
          },
          "metadata": {},
          "execution_count": 47
        }
      ]
    },
    {
      "cell_type": "code",
      "source": [
        "class Galaxy (SmartPhone):\n",
        "  def __init__(self, ap, cam, contactless_payment):\n",
        "    super(Galaxy, self).__init__(ap, cam)\n",
        "    self.contactless_payment = contactless_payment\n",
        "  \n",
        "  def open_ai(self):\n",
        "    print('Hi, Bixby!')\n",
        "  \n",
        "  def __str__(self):\n",
        "    return super().__str__()"
      ],
      "metadata": {
        "id": "AjS0Igjderfl"
      },
      "execution_count": 48,
      "outputs": []
    },
    {
      "cell_type": "code",
      "source": [
        "S22 = Galaxy('Hummingbird', '40MP', 'Samsung Pay')"
      ],
      "metadata": {
        "id": "dVUURS_DfiF4"
      },
      "execution_count": 49,
      "outputs": []
    },
    {
      "cell_type": "code",
      "source": [
        "S22.contactless_payment"
      ],
      "metadata": {
        "colab": {
          "base_uri": "https://localhost:8080/",
          "height": 0
        },
        "id": "9NnRYMfJgJ9I",
        "outputId": "376808fe-4887-4006-d6a7-c752a352a190"
      },
      "execution_count": 50,
      "outputs": [
        {
          "output_type": "execute_result",
          "data": {
            "text/plain": [
              "'Samsung Pay'"
            ],
            "application/vnd.google.colaboratory.intrinsic+json": {
              "type": "string"
            }
          },
          "metadata": {},
          "execution_count": 50
        }
      ]
    },
    {
      "cell_type": "code",
      "source": [
        "S22.open_ai()"
      ],
      "metadata": {
        "colab": {
          "base_uri": "https://localhost:8080/"
        },
        "id": "KWwbtiwEgMY8",
        "outputId": "81733e53-d8b2-408f-c5ac-eb187c4cdefd"
      },
      "execution_count": 51,
      "outputs": [
        {
          "output_type": "stream",
          "name": "stdout",
          "text": [
            "Hi, Bixby!\n"
          ]
        }
      ]
    },
    {
      "cell_type": "code",
      "source": [
        "S22.__str__()"
      ],
      "metadata": {
        "colab": {
          "base_uri": "https://localhost:8080/",
          "height": 0
        },
        "id": "y_MLTkOWgRh8",
        "outputId": "e5f73f47-eb69-4970-b57e-17aa7cc5d2ed"
      },
      "execution_count": 52,
      "outputs": [
        {
          "output_type": "execute_result",
          "data": {
            "text/plain": [
              "'I am Galaxy'"
            ],
            "application/vnd.google.colaboratory.intrinsic+json": {
              "type": "string"
            }
          },
          "metadata": {},
          "execution_count": 52
        }
      ]
    },
    {
      "cell_type": "code",
      "source": [
        "class Cafe:\n",
        "  pass\n",
        "\n",
        "class Starbucks(Cafe):\n",
        "  pass\n",
        "\n",
        "class MegaCoffee(Cafe):\n",
        "  pass\n",
        "\n",
        "class TwoSomePlace(Cafe):\n",
        "  pass\n",
        "\n",
        "class Camel(Cafe):\n",
        "  pass"
      ],
      "metadata": {
        "id": "L2SkY2K8gUyu"
      },
      "execution_count": 53,
      "outputs": []
    },
    {
      "cell_type": "code",
      "source": [
        "class AP:\n",
        "  pass\n",
        "\n",
        "class Cam:\n",
        "  pass\n",
        "\n",
        "class SmartPhone:\n",
        "  def __init__(self):\n",
        "    self.ap = AP()\n",
        "    self.cam = Cam()"
      ],
      "metadata": {
        "id": "mv5Bg_8SlNIk"
      },
      "execution_count": 54,
      "outputs": []
    },
    {
      "cell_type": "code",
      "source": [
        "class Hammer:\n",
        "  def __init__(self, name):\n",
        "    self.name = name\n",
        "  \n",
        "  def fly(self):\n",
        "    print(f'now, {self.name} can fly with master')\n",
        "\n",
        "\n",
        "class Thor:\n",
        "  def __init__(self):\n",
        "    self.weapon = None\n",
        "\n",
        "  def recall_hammer(self, weapon):\n",
        "    self.weapon = weapon\n",
        "  \n",
        "  def throw_hammer(self):\n",
        "    weapon = self.weapon\n",
        "    self.weapon = None\n",
        "    return weapon\n",
        "  \n",
        "  def fly(self):\n",
        "    if self.weapon:\n",
        "      self.weapon.fly()\n",
        "    else:\n",
        "      print(\"you can't fly.\")"
      ],
      "metadata": {
        "id": "WFUofQBUlsgw"
      },
      "execution_count": 55,
      "outputs": []
    },
    {
      "cell_type": "code",
      "source": [
        "Thor = Thor()\n",
        "Molnir = Hammer('molnir')"
      ],
      "metadata": {
        "id": "0Avm0OpAmti0"
      },
      "execution_count": 56,
      "outputs": []
    },
    {
      "cell_type": "code",
      "source": [
        "Thor.fly()"
      ],
      "metadata": {
        "colab": {
          "base_uri": "https://localhost:8080/"
        },
        "id": "wnqQ6BVDoKIN",
        "outputId": "a1a89f40-4bfe-444d-935b-281e47bac065"
      },
      "execution_count": 57,
      "outputs": [
        {
          "output_type": "stream",
          "name": "stdout",
          "text": [
            "you can't fly.\n"
          ]
        }
      ]
    },
    {
      "cell_type": "code",
      "source": [
        "Thor.recall_hammer(Molnir)"
      ],
      "metadata": {
        "id": "Ua1swonInmWy"
      },
      "execution_count": 58,
      "outputs": []
    },
    {
      "cell_type": "code",
      "source": [
        "Thor.fly()"
      ],
      "metadata": {
        "colab": {
          "base_uri": "https://localhost:8080/"
        },
        "id": "LpeZ8yfanq79",
        "outputId": "06aa957f-0454-49f0-d918-ffbd320ab6e9"
      },
      "execution_count": 59,
      "outputs": [
        {
          "output_type": "stream",
          "name": "stdout",
          "text": [
            "now, molnir can fly with master\n"
          ]
        }
      ]
    },
    {
      "cell_type": "code",
      "source": [
        "Thor.throw_hammer()\n",
        "Thor.fly()"
      ],
      "metadata": {
        "colab": {
          "base_uri": "https://localhost:8080/"
        },
        "id": "TU7s5jaCnsSN",
        "outputId": "ca61f30c-d847-4814-83c6-0662c1685561"
      },
      "execution_count": 60,
      "outputs": [
        {
          "output_type": "stream",
          "name": "stdout",
          "text": [
            "you can't fly.\n"
          ]
        }
      ]
    },
    {
      "cell_type": "markdown",
      "source": [
        "## Final Practice"
      ],
      "metadata": {
        "id": "1_g1xbznpGfd"
      }
    },
    {
      "cell_type": "code",
      "source": [
        "class Human:\n",
        "  def __init__(self, name):\n",
        "    self.name = name\n",
        "  \n",
        "  def hello(self):\n",
        "    return f\"Hello, {self.name}\"\n",
        "\n",
        "class User(Human):\n",
        "  def __init__(self, name, money):\n",
        "    Human.__init__(self, name)\n",
        "    self.money = money\n",
        "    self.chip = 0\n",
        "  \n",
        "  def change_chip(self, chip_price, num):\n",
        "    if self.money >= chip_price * num:\n",
        "      self.chip += num\n",
        "      return f\"now, you have {self.cihp} chips.\"\n",
        "    return f\"you don't have enough money.\"\n",
        "  \n",
        "  def bet_game(self, chip_num):\n",
        "    if self.chip >= chip_num:\n",
        "      return True\n",
        "    return False\n",
        "\n",
        "    "
      ],
      "metadata": {
        "id": "fz42ll-Uogqs"
      },
      "execution_count": 61,
      "outputs": []
    },
    {
      "cell_type": "markdown",
      "source": [
        "## class, instance, static method"
      ],
      "metadata": {
        "id": "9TyDHdYSs_Lt"
      }
    },
    {
      "cell_type": "code",
      "source": [
        "class Language:\n",
        "  mother_lang = \"Spanish\"\n",
        "\n",
        "  def __init__(self):\n",
        "    self.talk = f\"I can speak {self.mother_lang}\"\n",
        "  \n",
        "  @classmethod\n",
        "  def talk_class_method(cls):\n",
        "    return cls()\n",
        "  \n",
        "  @staticmethod\n",
        "  def talk_static_method():\n",
        "    return Language()\n",
        "  \n",
        "  def tell_lang(self):\n",
        "    print(self.talk)\n",
        "\n",
        "class English(Language):\n",
        "  mother_lang = \"english\""
      ],
      "metadata": {
        "id": "YyyGfgsfs-5r"
      },
      "execution_count": 62,
      "outputs": []
    },
    {
      "cell_type": "code",
      "source": [
        "Bilingual = English()"
      ],
      "metadata": {
        "id": "m-elDVH2td_Y"
      },
      "execution_count": 63,
      "outputs": []
    },
    {
      "cell_type": "code",
      "source": [
        "es = Bilingual.talk_static_method()\n",
        "en = Bilingual.talk_class_method()"
      ],
      "metadata": {
        "id": "hFK1HwDeuXtv"
      },
      "execution_count": 64,
      "outputs": []
    },
    {
      "cell_type": "code",
      "source": [
        "en.tell_lang()"
      ],
      "metadata": {
        "colab": {
          "base_uri": "https://localhost:8080/"
        },
        "id": "iUxG1epWuemP",
        "outputId": "eb4bb0b7-a717-4c15-8d8e-8506cd883455"
      },
      "execution_count": 65,
      "outputs": [
        {
          "output_type": "stream",
          "name": "stdout",
          "text": [
            "I can speak english\n"
          ]
        }
      ]
    },
    {
      "cell_type": "code",
      "source": [
        "es.tell_lang()"
      ],
      "metadata": {
        "colab": {
          "base_uri": "https://localhost:8080/"
        },
        "id": "UftfEMxgugnn",
        "outputId": "37cb49e6-705a-4d9b-9049-77d37495cb29"
      },
      "execution_count": 66,
      "outputs": [
        {
          "output_type": "stream",
          "name": "stdout",
          "text": [
            "I can speak Spanish\n"
          ]
        }
      ]
    },
    {
      "cell_type": "code",
      "source": [
        "from abc import *\n",
        "\n",
        "class SmartPhone(metaclass = ABCMeta):\n",
        "  @abstractmethod\n",
        "  def get_ap(self):\n",
        "    pass"
      ],
      "metadata": {
        "id": "sYX91oxjui8P"
      },
      "execution_count": 67,
      "outputs": []
    },
    {
      "cell_type": "code",
      "source": [
        "# sp = SmartPhone()\n",
        "# TypeError: Can't instantiate abstract class SmartPhone with abstract methods get_ap"
      ],
      "metadata": {
        "id": "PrB3uQSrzlxJ"
      },
      "execution_count": 68,
      "outputs": []
    },
    {
      "cell_type": "markdown",
      "source": [
        "## ETC"
      ],
      "metadata": {
        "id": "HWcIoQta3yM_"
      }
    },
    {
      "cell_type": "code",
      "source": [
        "!pip install requests"
      ],
      "metadata": {
        "colab": {
          "base_uri": "https://localhost:8080/"
        },
        "id": "OjFdA_exz7Te",
        "outputId": "8e9911b7-f1cd-4dd8-fc07-34addb545866"
      },
      "execution_count": 69,
      "outputs": [
        {
          "output_type": "stream",
          "name": "stdout",
          "text": [
            "Looking in indexes: https://pypi.org/simple, https://us-python.pkg.dev/colab-wheels/public/simple/\n",
            "Requirement already satisfied: requests in /usr/local/lib/python3.8/dist-packages (2.25.1)\n",
            "Requirement already satisfied: urllib3<1.27,>=1.21.1 in /usr/local/lib/python3.8/dist-packages (from requests) (1.24.3)\n",
            "Requirement already satisfied: idna<3,>=2.5 in /usr/local/lib/python3.8/dist-packages (from requests) (2.10)\n",
            "Requirement already satisfied: certifi>=2017.4.17 in /usr/local/lib/python3.8/dist-packages (from requests) (2022.12.7)\n",
            "Requirement already satisfied: chardet<5,>=3.0.2 in /usr/local/lib/python3.8/dist-packages (from requests) (4.0.0)\n"
          ]
        }
      ]
    },
    {
      "cell_type": "code",
      "source": [
        "import requests\n",
        "\n",
        "\n",
        "response = requests.get(\"https://www.google.com\")\n",
        "response.status_code"
      ],
      "metadata": {
        "colab": {
          "base_uri": "https://localhost:8080/"
        },
        "id": "O9qZTojF29n-",
        "outputId": "81c01596-2650-4933-e969-e265a006cb57"
      },
      "execution_count": 70,
      "outputs": [
        {
          "output_type": "execute_result",
          "data": {
            "text/plain": [
              "200"
            ]
          },
          "metadata": {},
          "execution_count": 70
        }
      ]
    }
  ]
}