{
  "nbformat": 4,
  "nbformat_minor": 0,
  "metadata": {
    "colab": {
      "provenance": [],
      "collapsed_sections": [
        "X4BOMNEU3KJs",
        "hA0p0anZ7A_V",
        "QTtN-rOS_mCY",
        "9WJwEfDmBaLD",
        "5L5TF0rvwkqD",
        "d9GJvorH1Ox5",
        "KTAp_gf43ae5"
      ]
    },
    "kernelspec": {
      "name": "python3",
      "display_name": "Python 3"
    },
    "language_info": {
      "name": "python"
    }
  },
  "cells": [
    {
      "cell_type": "code",
      "execution_count": null,
      "metadata": {
        "colab": {
          "base_uri": "https://localhost:8080/"
        },
        "id": "flNXA_pcwG05",
        "outputId": "282a93fa-915a-49a8-8609-008698299c9a"
      },
      "outputs": [
        {
          "output_type": "stream",
          "name": "stdout",
          "text": [
            "The Zen of Python, by Tim Peters\n",
            "\n",
            "Beautiful is better than ugly.\n",
            "Explicit is better than implicit.\n",
            "Simple is better than complex.\n",
            "Complex is better than complicated.\n",
            "Flat is better than nested.\n",
            "Sparse is better than dense.\n",
            "Readability counts.\n",
            "Special cases aren't special enough to break the rules.\n",
            "Although practicality beats purity.\n",
            "Errors should never pass silently.\n",
            "Unless explicitly silenced.\n",
            "In the face of ambiguity, refuse the temptation to guess.\n",
            "There should be one-- and preferably only one --obvious way to do it.\n",
            "Although that way may not be obvious at first unless you're Dutch.\n",
            "Now is better than never.\n",
            "Although never is often better than *right* now.\n",
            "If the implementation is hard to explain, it's a bad idea.\n",
            "If the implementation is easy to explain, it may be a good idea.\n",
            "Namespaces are one honking great idea -- let's do more of those!\n"
          ]
        }
      ],
      "source": [
        "import this"
      ]
    },
    {
      "cell_type": "markdown",
      "source": [
        "### Data Type"
      ],
      "metadata": {
        "id": "X4BOMNEU3KJs"
      }
    },
    {
      "cell_type": "code",
      "source": [
        "#str\n",
        "\"Jiin Kim\""
      ],
      "metadata": {
        "colab": {
          "base_uri": "https://localhost:8080/",
          "height": 35
        },
        "id": "zit-KmIzz3TF",
        "outputId": "2687372b-3b1c-4691-86fe-ce4f6e23902a"
      },
      "execution_count": null,
      "outputs": [
        {
          "output_type": "execute_result",
          "data": {
            "text/plain": [
              "'Jiin Kim'"
            ],
            "application/vnd.google.colaboratory.intrinsic+json": {
              "type": "string"
            }
          },
          "metadata": {},
          "execution_count": 2
        }
      ]
    },
    {
      "cell_type": "code",
      "source": [
        "'Jiin Kim'"
      ],
      "metadata": {
        "colab": {
          "base_uri": "https://localhost:8080/",
          "height": 35
        },
        "id": "goRGKIhL3VgZ",
        "outputId": "8ff2e5ed-3ab3-4ac2-8225-34dd0b592627"
      },
      "execution_count": null,
      "outputs": [
        {
          "output_type": "execute_result",
          "data": {
            "text/plain": [
              "'Jiin Kim'"
            ],
            "application/vnd.google.colaboratory.intrinsic+json": {
              "type": "string"
            }
          },
          "metadata": {},
          "execution_count": 3
        }
      ]
    },
    {
      "cell_type": "code",
      "source": [
        "#Check DataType\n",
        "type('Jiin Kim')"
      ],
      "metadata": {
        "colab": {
          "base_uri": "https://localhost:8080/"
        },
        "id": "0PdDtMMe3YQc",
        "outputId": "9e605d12-44fb-4257-e74c-4856f78b0b9b"
      },
      "execution_count": null,
      "outputs": [
        {
          "output_type": "execute_result",
          "data": {
            "text/plain": [
              "str"
            ]
          },
          "metadata": {},
          "execution_count": 4
        }
      ]
    },
    {
      "cell_type": "markdown",
      "source": [
        "python은 인터프리터식 언어이므로 여러 줄로 string을 정의할 때에는 multi-line string을 사용해야 함!"
      ],
      "metadata": {
        "id": "zUW7RM-14mtK"
      }
    },
    {
      "cell_type": "code",
      "source": [
        "# multi-line String\n",
        "\"\"\"\n",
        "Jiin\n",
        "Kim\n",
        "\"\"\""
      ],
      "metadata": {
        "colab": {
          "base_uri": "https://localhost:8080/",
          "height": 35
        },
        "id": "eFrmnU7C3flo",
        "outputId": "946343c3-410b-44af-fc0b-f7c1478ebe72"
      },
      "execution_count": null,
      "outputs": [
        {
          "output_type": "execute_result",
          "data": {
            "text/plain": [
              "'\\nJiin\\nKim\\n'"
            ],
            "application/vnd.google.colaboratory.intrinsic+json": {
              "type": "string"
            }
          },
          "metadata": {},
          "execution_count": 5
        }
      ]
    },
    {
      "cell_type": "code",
      "source": [
        "# Integer\n",
        "3"
      ],
      "metadata": {
        "colab": {
          "base_uri": "https://localhost:8080/"
        },
        "id": "QfFv0GTz31V9",
        "outputId": "0f69ec35-a03f-492a-c6f1-c29ebc47dfff"
      },
      "execution_count": null,
      "outputs": [
        {
          "output_type": "execute_result",
          "data": {
            "text/plain": [
              "3"
            ]
          },
          "metadata": {},
          "execution_count": 6
        }
      ]
    },
    {
      "cell_type": "code",
      "source": [
        "-5"
      ],
      "metadata": {
        "colab": {
          "base_uri": "https://localhost:8080/"
        },
        "id": "3wsDTtye5W-o",
        "outputId": "e583aaba-8114-46e6-94ce-f1641444e849"
      },
      "execution_count": null,
      "outputs": [
        {
          "output_type": "execute_result",
          "data": {
            "text/plain": [
              "-5"
            ]
          },
          "metadata": {},
          "execution_count": 7
        }
      ]
    },
    {
      "cell_type": "code",
      "source": [
        "0"
      ],
      "metadata": {
        "colab": {
          "base_uri": "https://localhost:8080/"
        },
        "id": "jidkLVqG5XkX",
        "outputId": "d9052ae4-6780-4348-9fab-18b5e31005dc"
      },
      "execution_count": null,
      "outputs": [
        {
          "output_type": "execute_result",
          "data": {
            "text/plain": [
              "0"
            ]
          },
          "metadata": {},
          "execution_count": 8
        }
      ]
    },
    {
      "cell_type": "code",
      "source": [
        "# floatign point\n",
        "\n",
        "3.14"
      ],
      "metadata": {
        "colab": {
          "base_uri": "https://localhost:8080/"
        },
        "id": "_2HzciIl5X9v",
        "outputId": "7dc8a175-3e1e-47a4-bcb6-a6dc1ed49f9a"
      },
      "execution_count": null,
      "outputs": [
        {
          "output_type": "execute_result",
          "data": {
            "text/plain": [
              "3.14"
            ]
          },
          "metadata": {},
          "execution_count": 9
        }
      ]
    },
    {
      "cell_type": "code",
      "source": [
        "-1.1"
      ],
      "metadata": {
        "colab": {
          "base_uri": "https://localhost:8080/"
        },
        "id": "r8Yh5FB75d1u",
        "outputId": "a39abc42-c9c0-4581-99b7-a12cb6f6e80a"
      },
      "execution_count": null,
      "outputs": [
        {
          "output_type": "execute_result",
          "data": {
            "text/plain": [
              "-1.1"
            ]
          },
          "metadata": {},
          "execution_count": 10
        }
      ]
    },
    {
      "cell_type": "markdown",
      "source": [
        "### operator"
      ],
      "metadata": {
        "id": "hA0p0anZ7A_V"
      }
    },
    {
      "cell_type": "code",
      "source": [
        "# Arithmetic Operator\n",
        "# + - * / // % **\n",
        "\n",
        "1 + 4"
      ],
      "metadata": {
        "colab": {
          "base_uri": "https://localhost:8080/"
        },
        "id": "IaRP8MzK68Zq",
        "outputId": "f12edd85-524c-4503-b770-aaa8aeb17299"
      },
      "execution_count": null,
      "outputs": [
        {
          "output_type": "execute_result",
          "data": {
            "text/plain": [
              "5"
            ]
          },
          "metadata": {},
          "execution_count": 11
        }
      ]
    },
    {
      "cell_type": "code",
      "source": [
        "1 - 5"
      ],
      "metadata": {
        "colab": {
          "base_uri": "https://localhost:8080/"
        },
        "id": "6bFG3Di36a4O",
        "outputId": "d7f27e81-e5a2-4481-e690-8549c61a9265"
      },
      "execution_count": null,
      "outputs": [
        {
          "output_type": "execute_result",
          "data": {
            "text/plain": [
              "-4"
            ]
          },
          "metadata": {},
          "execution_count": 12
        }
      ]
    },
    {
      "cell_type": "code",
      "source": [
        "3.1 * 5"
      ],
      "metadata": {
        "colab": {
          "base_uri": "https://localhost:8080/"
        },
        "id": "FMi1HT4S7K05",
        "outputId": "a82b1b08-7781-47e6-c36c-ab20bbc22793"
      },
      "execution_count": null,
      "outputs": [
        {
          "output_type": "execute_result",
          "data": {
            "text/plain": [
              "15.5"
            ]
          },
          "metadata": {},
          "execution_count": 13
        }
      ]
    },
    {
      "cell_type": "code",
      "source": [
        "2.3 / 8"
      ],
      "metadata": {
        "colab": {
          "base_uri": "https://localhost:8080/"
        },
        "id": "Cafmhu0Q7L5U",
        "outputId": "131efb76-4031-4585-d15c-7bcd9b22be94"
      },
      "execution_count": null,
      "outputs": [
        {
          "output_type": "execute_result",
          "data": {
            "text/plain": [
              "0.2875"
            ]
          },
          "metadata": {},
          "execution_count": 14
        }
      ]
    },
    {
      "cell_type": "code",
      "source": [
        "9 // 2"
      ],
      "metadata": {
        "colab": {
          "base_uri": "https://localhost:8080/"
        },
        "id": "jADtZOO07Nsx",
        "outputId": "18b8ed15-3f84-4d3f-f432-8e9404f38192"
      },
      "execution_count": null,
      "outputs": [
        {
          "output_type": "execute_result",
          "data": {
            "text/plain": [
              "4"
            ]
          },
          "metadata": {},
          "execution_count": 15
        }
      ]
    },
    {
      "cell_type": "code",
      "source": [
        "9 % 2"
      ],
      "metadata": {
        "colab": {
          "base_uri": "https://localhost:8080/"
        },
        "id": "0qe499y-7QKz",
        "outputId": "907532e9-254b-4b22-d53d-36daa313a4dc"
      },
      "execution_count": null,
      "outputs": [
        {
          "output_type": "execute_result",
          "data": {
            "text/plain": [
              "1"
            ]
          },
          "metadata": {},
          "execution_count": 16
        }
      ]
    },
    {
      "cell_type": "code",
      "source": [
        "3 ** 2"
      ],
      "metadata": {
        "colab": {
          "base_uri": "https://localhost:8080/"
        },
        "id": "hVEigbl_7TPa",
        "outputId": "99fb5776-12f8-4c3a-c230-4d354a4f6063"
      },
      "execution_count": null,
      "outputs": [
        {
          "output_type": "execute_result",
          "data": {
            "text/plain": [
              "9"
            ]
          },
          "metadata": {},
          "execution_count": 17
        }
      ]
    },
    {
      "cell_type": "code",
      "source": [
        "# Comparative Operation\n",
        "# > < >= <= == !=\n",
        "\n",
        "7 > 3"
      ],
      "metadata": {
        "colab": {
          "base_uri": "https://localhost:8080/"
        },
        "id": "xW-3QHFI7VH6",
        "outputId": "23409899-f208-4929-d0b2-797427529571"
      },
      "execution_count": null,
      "outputs": [
        {
          "output_type": "execute_result",
          "data": {
            "text/plain": [
              "True"
            ]
          },
          "metadata": {},
          "execution_count": 19
        }
      ]
    },
    {
      "cell_type": "code",
      "source": [
        "type(7 > 3)"
      ],
      "metadata": {
        "colab": {
          "base_uri": "https://localhost:8080/"
        },
        "id": "FxzIz-T7-qQV",
        "outputId": "852a1e05-8077-482b-ed19-00ae3c8a4214"
      },
      "execution_count": null,
      "outputs": [
        {
          "output_type": "execute_result",
          "data": {
            "text/plain": [
              "bool"
            ]
          },
          "metadata": {},
          "execution_count": 20
        }
      ]
    },
    {
      "cell_type": "code",
      "source": [
        "4 >= 4"
      ],
      "metadata": {
        "colab": {
          "base_uri": "https://localhost:8080/"
        },
        "id": "fJQVkg4h-0il",
        "outputId": "d908299a-5d08-4ebe-ad02-9238fdf2c703"
      },
      "execution_count": null,
      "outputs": [
        {
          "output_type": "execute_result",
          "data": {
            "text/plain": [
              "True"
            ]
          },
          "metadata": {},
          "execution_count": 21
        }
      ]
    },
    {
      "cell_type": "markdown",
      "source": [
        "### Variable"
      ],
      "metadata": {
        "id": "QTtN-rOS_mCY"
      }
    },
    {
      "cell_type": "code",
      "source": [
        "username = \"Jiin\"\n",
        "username"
      ],
      "metadata": {
        "colab": {
          "base_uri": "https://localhost:8080/",
          "height": 35
        },
        "id": "qHzzNqE6_D_N",
        "outputId": "da2a97f4-6ac9-4ca1-e6fd-ae48cf65ed82"
      },
      "execution_count": null,
      "outputs": [
        {
          "output_type": "execute_result",
          "data": {
            "text/plain": [
              "'Jiin'"
            ],
            "application/vnd.google.colaboratory.intrinsic+json": {
              "type": "string"
            }
          },
          "metadata": {},
          "execution_count": 22
        }
      ]
    },
    {
      "cell_type": "code",
      "source": [
        "print(\"Hello, \" + username)\n",
        "# 위에서 사용된 +는 concat 연산자"
      ],
      "metadata": {
        "colab": {
          "base_uri": "https://localhost:8080/"
        },
        "id": "ZRClQywQAEDn",
        "outputId": "259f046d-45cb-4d18-f64c-1054e3f5033d"
      },
      "execution_count": null,
      "outputs": [
        {
          "output_type": "stream",
          "name": "stdout",
          "text": [
            "Hello, Jiin\n"
          ]
        }
      ]
    },
    {
      "cell_type": "code",
      "source": [
        "f1 = 3.14\n",
        "f2 = 2.2231\n",
        "f1 + f2"
      ],
      "metadata": {
        "colab": {
          "base_uri": "https://localhost:8080/"
        },
        "id": "L4TUF2IsARaK",
        "outputId": "b343f323-3331-499b-c4d7-ee6d4ccce7fc"
      },
      "execution_count": null,
      "outputs": [
        {
          "output_type": "execute_result",
          "data": {
            "text/plain": [
              "5.3631"
            ]
          },
          "metadata": {},
          "execution_count": 24
        }
      ]
    },
    {
      "cell_type": "code",
      "source": [
        "f1 - f2"
      ],
      "metadata": {
        "colab": {
          "base_uri": "https://localhost:8080/"
        },
        "id": "sJRI3joWAucV",
        "outputId": "154a242a-3403-4a37-ffa5-ac1ff8c8588b"
      },
      "execution_count": null,
      "outputs": [
        {
          "output_type": "execute_result",
          "data": {
            "text/plain": [
              "0.9169"
            ]
          },
          "metadata": {},
          "execution_count": 25
        }
      ]
    },
    {
      "cell_type": "markdown",
      "source": [
        "### Practice 1\n",
        "\n",
        "반지름`( r=10 )`을 선언한 뒤, 이를 이용하여 원의 지름, 둘레, 넓이, 구의 겉넓이, 부피를 각각\n",
        "출력하는 파이썬 파일을 만들어보세요.`( pi=3.1415 )`"
      ],
      "metadata": {
        "id": "9WJwEfDmBaLD"
      }
    },
    {
      "cell_type": "code",
      "source": [
        "r = 10\n",
        "pi = 3.1415\n",
        "\n",
        "d = 2 * r\n",
        "c = 2 * pi * r\n",
        "a = pi * (r ** 2)\n",
        "gnb = 4 * pi * (r ** 2)\n",
        "v = (4 / 3) * pi * (r ** 3)\n",
        "\n",
        "print(\"지름:\", d)\n",
        "print(\"원 둘레:\", c)\n",
        "print(\"원 넓이:\", a)\n",
        "print(\"구 겉넓이:\", gnb)\n",
        "print(\"구 부피:\", v)"
      ],
      "metadata": {
        "colab": {
          "base_uri": "https://localhost:8080/"
        },
        "id": "42jLfQOGAvoS",
        "outputId": "240efc2f-2253-49d7-99bb-e3b1e438235c"
      },
      "execution_count": null,
      "outputs": [
        {
          "output_type": "stream",
          "name": "stdout",
          "text": [
            "지름: 20\n",
            "원 둘레: 62.830000000000005\n",
            "원 넓이: 314.15000000000003\n",
            "구 겉넓이: 1256.6000000000001\n",
            "구 부피: 4188.666666666666\n"
          ]
        }
      ]
    },
    {
      "cell_type": "markdown",
      "source": [
        "### Type casting"
      ],
      "metadata": {
        "id": "5L5TF0rvwkqD"
      }
    },
    {
      "cell_type": "code",
      "source": [
        "num1 = 1\n",
        "num2 = \"1\""
      ],
      "metadata": {
        "id": "a62GBIpDwkUO"
      },
      "execution_count": 3,
      "outputs": []
    },
    {
      "cell_type": "code",
      "source": [
        "num1 == num2"
      ],
      "metadata": {
        "id": "Afiw6TlxBwHt",
        "colab": {
          "base_uri": "https://localhost:8080/"
        },
        "outputId": "526bcd2c-a757-48fd-e1d4-14e3cd898cd2"
      },
      "execution_count": 4,
      "outputs": [
        {
          "output_type": "execute_result",
          "data": {
            "text/plain": [
              "False"
            ]
          },
          "metadata": {},
          "execution_count": 4
        }
      ]
    },
    {
      "cell_type": "code",
      "source": [
        "type(3)"
      ],
      "metadata": {
        "colab": {
          "base_uri": "https://localhost:8080/"
        },
        "id": "3tY1gVKOwvqW",
        "outputId": "4680cc3f-9d07-46a6-9432-978e1682975c"
      },
      "execution_count": 6,
      "outputs": [
        {
          "output_type": "execute_result",
          "data": {
            "text/plain": [
              "int"
            ]
          },
          "metadata": {},
          "execution_count": 6
        }
      ]
    },
    {
      "cell_type": "code",
      "source": [
        "float(3)"
      ],
      "metadata": {
        "colab": {
          "base_uri": "https://localhost:8080/"
        },
        "id": "aqITpRWuxIrE",
        "outputId": "225d57e0-e189-40c3-cbca-3bc0a4706270"
      },
      "execution_count": 7,
      "outputs": [
        {
          "output_type": "execute_result",
          "data": {
            "text/plain": [
              "3.0"
            ]
          },
          "metadata": {},
          "execution_count": 7
        }
      ]
    },
    {
      "cell_type": "code",
      "source": [
        "type(float(3))"
      ],
      "metadata": {
        "colab": {
          "base_uri": "https://localhost:8080/"
        },
        "id": "d2ipzytaxLfH",
        "outputId": "6ee6c0de-72c8-44b1-d93b-35bf86274deb"
      },
      "execution_count": 8,
      "outputs": [
        {
          "output_type": "execute_result",
          "data": {
            "text/plain": [
              "float"
            ]
          },
          "metadata": {},
          "execution_count": 8
        }
      ]
    },
    {
      "cell_type": "code",
      "source": [
        "int(3.14)"
      ],
      "metadata": {
        "colab": {
          "base_uri": "https://localhost:8080/"
        },
        "id": "Gyf-FGe0xMwo",
        "outputId": "43a8b7e8-5222-4bd1-c374-1d8b1816a64d"
      },
      "execution_count": 9,
      "outputs": [
        {
          "output_type": "execute_result",
          "data": {
            "text/plain": [
              "3"
            ]
          },
          "metadata": {},
          "execution_count": 9
        }
      ]
    },
    {
      "cell_type": "code",
      "source": [
        "int(2.9)"
      ],
      "metadata": {
        "colab": {
          "base_uri": "https://localhost:8080/"
        },
        "id": "47wHsxGfxPdg",
        "outputId": "bc3d764a-8ea2-4e08-ff93-5ee865babef6"
      },
      "execution_count": 10,
      "outputs": [
        {
          "output_type": "execute_result",
          "data": {
            "text/plain": [
              "2"
            ]
          },
          "metadata": {},
          "execution_count": 10
        }
      ]
    },
    {
      "cell_type": "code",
      "source": [
        "int(\"1\")"
      ],
      "metadata": {
        "colab": {
          "base_uri": "https://localhost:8080/"
        },
        "id": "rANC06mZxTvP",
        "outputId": "828cc082-fdeb-4d8e-8cfd-3054f595e41d"
      },
      "execution_count": 11,
      "outputs": [
        {
          "output_type": "execute_result",
          "data": {
            "text/plain": [
              "1"
            ]
          },
          "metadata": {},
          "execution_count": 11
        }
      ]
    },
    {
      "cell_type": "code",
      "source": [
        "type(int(\"1\"))"
      ],
      "metadata": {
        "colab": {
          "base_uri": "https://localhost:8080/"
        },
        "id": "W-g55cjExjfy",
        "outputId": "bd62f40e-873a-4179-b834-4fbdc4aa6312"
      },
      "execution_count": 12,
      "outputs": [
        {
          "output_type": "execute_result",
          "data": {
            "text/plain": [
              "int"
            ]
          },
          "metadata": {},
          "execution_count": 12
        }
      ]
    },
    {
      "cell_type": "code",
      "source": [
        "str(1)"
      ],
      "metadata": {
        "colab": {
          "base_uri": "https://localhost:8080/",
          "height": 35
        },
        "id": "JmplGLZcxm42",
        "outputId": "5881b8a4-473f-45ae-b0a0-4126f277e7b0"
      },
      "execution_count": 13,
      "outputs": [
        {
          "output_type": "execute_result",
          "data": {
            "text/plain": [
              "'1'"
            ],
            "application/vnd.google.colaboratory.intrinsic+json": {
              "type": "string"
            }
          },
          "metadata": {},
          "execution_count": 13
        }
      ]
    },
    {
      "cell_type": "code",
      "source": [
        "type(str(1))"
      ],
      "metadata": {
        "colab": {
          "base_uri": "https://localhost:8080/"
        },
        "id": "M0zCI8i0xokR",
        "outputId": "73dc297d-68d7-4766-b8dc-78d4af780588"
      },
      "execution_count": 14,
      "outputs": [
        {
          "output_type": "execute_result",
          "data": {
            "text/plain": [
              "str"
            ]
          },
          "metadata": {},
          "execution_count": 14
        }
      ]
    },
    {
      "cell_type": "code",
      "source": [
        "input(\"What's your name?\")"
      ],
      "metadata": {
        "colab": {
          "base_uri": "https://localhost:8080/",
          "height": 54
        },
        "id": "th1XoATlxqGl",
        "outputId": "c694fc7b-2e92-4ff1-c8a5-4cebfa9fdd08"
      },
      "execution_count": 15,
      "outputs": [
        {
          "name": "stdout",
          "output_type": "stream",
          "text": [
            "What's your name?Jiin\n"
          ]
        },
        {
          "output_type": "execute_result",
          "data": {
            "text/plain": [
              "'Jiin'"
            ],
            "application/vnd.google.colaboratory.intrinsic+json": {
              "type": "string"
            }
          },
          "metadata": {},
          "execution_count": 15
        }
      ]
    },
    {
      "cell_type": "code",
      "source": [
        "username = input(\"What's your name?\")\n",
        "print(username)"
      ],
      "metadata": {
        "colab": {
          "base_uri": "https://localhost:8080/"
        },
        "id": "b-IdgzIgyPl1",
        "outputId": "bec9899f-0f80-4413-c103-eeecfc648503"
      },
      "execution_count": 16,
      "outputs": [
        {
          "output_type": "stream",
          "name": "stdout",
          "text": [
            "What's your name?Jiin\n",
            "Jiin\n"
          ]
        }
      ]
    },
    {
      "cell_type": "code",
      "source": [
        "age = input(\"How old are you?\")\n",
        "print(age)"
      ],
      "metadata": {
        "colab": {
          "base_uri": "https://localhost:8080/"
        },
        "id": "sOv8qam9yVC7",
        "outputId": "66e08915-aa7d-4a43-edae-40202937520c"
      },
      "execution_count": 18,
      "outputs": [
        {
          "output_type": "stream",
          "name": "stdout",
          "text": [
            "How old are you?24\n",
            "24\n"
          ]
        }
      ]
    },
    {
      "cell_type": "code",
      "source": [
        "age = int(age)\n",
        "print(f\"당신은 30년 뒤, {age + 30}세가 될 것입니다.\")"
      ],
      "metadata": {
        "colab": {
          "base_uri": "https://localhost:8080/"
        },
        "id": "3zHh3no6ybzq",
        "outputId": "aeb8758b-ef03-48f0-86f0-9f29d4d9038a"
      },
      "execution_count": 26,
      "outputs": [
        {
          "output_type": "stream",
          "name": "stdout",
          "text": [
            "당신은 30년 뒤, 54세가 될 것입니다.\n"
          ]
        }
      ]
    },
    {
      "cell_type": "code",
      "source": [
        "age = int(input(\"How old are you?\"))\n",
        "print(f\"당신은 30년 뒤, {str(age + 30)}세가 될 것입니다.\")"
      ],
      "metadata": {
        "colab": {
          "base_uri": "https://localhost:8080/"
        },
        "id": "AjAa7wd_zENW",
        "outputId": "d880a393-29e0-4f71-f943-c9263d38a694"
      },
      "execution_count": 27,
      "outputs": [
        {
          "output_type": "stream",
          "name": "stdout",
          "text": [
            "How old are you?10\n",
            "당신은 30년 뒤, 40세가 될 것입니다.\n"
          ]
        }
      ]
    },
    {
      "cell_type": "code",
      "source": [
        "# input의 결과는 str으로 받는데, evaluate의 경우, 어떤 데이터든 다 받을 수 있게 함.\n",
        "# 하지만 str의 경우, evaluate에서는 변수명, 클래스명 등으로 인식하여 오류가 발생함\n",
        "memo = eval(input(\"Say anything > \"))\n",
        "print(type(memo), memo)"
      ],
      "metadata": {
        "colab": {
          "base_uri": "https://localhost:8080/"
        },
        "id": "Iv60Vn2BzZ6f",
        "outputId": "fcf3a951-75ad-480e-de55-6217d5d43f05"
      },
      "execution_count": 31,
      "outputs": [
        {
          "output_type": "stream",
          "name": "stdout",
          "text": [
            "Say anything > 21\n",
            "<class 'int'> 21\n"
          ]
        }
      ]
    },
    {
      "cell_type": "markdown",
      "source": [
        "### Practice 1-1"
      ],
      "metadata": {
        "id": "d9GJvorH1Ox5"
      }
    },
    {
      "cell_type": "code",
      "source": [
        "r = float(input(\"반지름의 길이를 입력하세요: \"))\n",
        "pi = 3.1415\n",
        "\n",
        "d = round(2 * r, 3)\n",
        "c = round(2 * pi * r, 3)\n",
        "a = round(pi * (r ** 2), 3)\n",
        "gnb = round(4 * pi * (r ** 2), 3)\n",
        "v = round((4 / 3) * pi * (r ** 3), 3)\n",
        "\n",
        "print(\"지름:\", d)\n",
        "print(\"원 둘레:\", c)\n",
        "print(\"원 넓이:\", a)\n",
        "print(\"구 겉넓이:\", gnb)\n",
        "print(\"구 부피:\", v)"
      ],
      "metadata": {
        "colab": {
          "base_uri": "https://localhost:8080/"
        },
        "id": "bG27XJSq0cQX",
        "outputId": "cede41c7-2dae-4578-bece-708de889a98b"
      },
      "execution_count": 35,
      "outputs": [
        {
          "output_type": "stream",
          "name": "stdout",
          "text": [
            "반지름의 길이를 입력하세요: 3.3\n",
            "지름: 6.6\n",
            "원 둘레: 20.734\n",
            "원 넓이: 34.211\n",
            "구 겉넓이: 136.844\n",
            "구 부피: 150.528\n"
          ]
        }
      ]
    },
    {
      "cell_type": "markdown",
      "source": [
        "### String"
      ],
      "metadata": {
        "id": "KTAp_gf43ae5"
      }
    },
    {
      "cell_type": "code",
      "source": [
        "some_string = \"python\""
      ],
      "metadata": {
        "id": "EffDyzbv1ZnU"
      },
      "execution_count": 36,
      "outputs": []
    },
    {
      "cell_type": "code",
      "source": [
        "len(some_string)"
      ],
      "metadata": {
        "colab": {
          "base_uri": "https://localhost:8080/"
        },
        "id": "IwBXWMIe3eKO",
        "outputId": "cff7a4ce-a442-45ca-e220-b264564c8498"
      },
      "execution_count": 37,
      "outputs": [
        {
          "output_type": "execute_result",
          "data": {
            "text/plain": [
              "6"
            ]
          },
          "metadata": {},
          "execution_count": 37
        }
      ]
    },
    {
      "cell_type": "code",
      "source": [
        "some_string[2]"
      ],
      "metadata": {
        "colab": {
          "base_uri": "https://localhost:8080/",
          "height": 35
        },
        "id": "kUgJ8KNV8ZXt",
        "outputId": "ccea89be-7e04-48ff-eb87-d3fbc5aba015"
      },
      "execution_count": 38,
      "outputs": [
        {
          "output_type": "execute_result",
          "data": {
            "text/plain": [
              "'t'"
            ],
            "application/vnd.google.colaboratory.intrinsic+json": {
              "type": "string"
            }
          },
          "metadata": {},
          "execution_count": 38
        }
      ]
    },
    {
      "cell_type": "code",
      "source": [
        "some_string[1:4]"
      ],
      "metadata": {
        "colab": {
          "base_uri": "https://localhost:8080/",
          "height": 35
        },
        "id": "OesOA-9V82GH",
        "outputId": "862f5ec7-af84-47b9-fd02-b72158f2eefe"
      },
      "execution_count": 39,
      "outputs": [
        {
          "output_type": "execute_result",
          "data": {
            "text/plain": [
              "'yth'"
            ],
            "application/vnd.google.colaboratory.intrinsic+json": {
              "type": "string"
            }
          },
          "metadata": {},
          "execution_count": 39
        }
      ]
    },
    {
      "cell_type": "code",
      "source": [
        "some_string[::-1]"
      ],
      "metadata": {
        "colab": {
          "base_uri": "https://localhost:8080/",
          "height": 35
        },
        "id": "CFNeJLfk9H-F",
        "outputId": "f0dcc6f4-037b-414e-ebf0-d3e61cc7f98a"
      },
      "execution_count": 40,
      "outputs": [
        {
          "output_type": "execute_result",
          "data": {
            "text/plain": [
              "'nohtyp'"
            ],
            "application/vnd.google.colaboratory.intrinsic+json": {
              "type": "string"
            }
          },
          "metadata": {},
          "execution_count": 40
        }
      ]
    },
    {
      "cell_type": "code",
      "source": [
        "some_string = \"J\" + some_string[1:]\n",
        "some_string"
      ],
      "metadata": {
        "colab": {
          "base_uri": "https://localhost:8080/",
          "height": 35
        },
        "id": "umDSX90_93hI",
        "outputId": "25b23c27-397f-49af-968f-b9a1057ffb0c"
      },
      "execution_count": 42,
      "outputs": [
        {
          "output_type": "execute_result",
          "data": {
            "text/plain": [
              "'Jython'"
            ],
            "application/vnd.google.colaboratory.intrinsic+json": {
              "type": "string"
            }
          },
          "metadata": {},
          "execution_count": 42
        }
      ]
    },
    {
      "cell_type": "code",
      "source": [
        "func = \"python is easy programming language\"\n",
        "func.count('p')"
      ],
      "metadata": {
        "colab": {
          "base_uri": "https://localhost:8080/"
        },
        "id": "BUoaIhuq-6r-",
        "outputId": "6afd93b9-fec7-45b7-be6c-3309e8fac177"
      },
      "execution_count": 49,
      "outputs": [
        {
          "output_type": "execute_result",
          "data": {
            "text/plain": [
              "2"
            ]
          },
          "metadata": {},
          "execution_count": 49
        }
      ]
    },
    {
      "cell_type": "code",
      "source": [
        "func.find('p')"
      ],
      "metadata": {
        "colab": {
          "base_uri": "https://localhost:8080/"
        },
        "id": "_Vm-hiu-ARxO",
        "outputId": "eca2afb6-c81b-4f1b-f1b3-7727a791dba3"
      },
      "execution_count": 50,
      "outputs": [
        {
          "output_type": "execute_result",
          "data": {
            "text/plain": [
              "0"
            ]
          },
          "metadata": {},
          "execution_count": 50
        }
      ]
    },
    {
      "cell_type": "code",
      "source": [
        "comma = \",\"\n",
        "func = comma.join(func)\n",
        "func"
      ],
      "metadata": {
        "colab": {
          "base_uri": "https://localhost:8080/",
          "height": 35
        },
        "id": "wgSRlEc5AV8m",
        "outputId": "b06ea083-92a1-4149-c6b9-50c117f8ae38"
      },
      "execution_count": 51,
      "outputs": [
        {
          "output_type": "execute_result",
          "data": {
            "text/plain": [
              "'p,y,t,h,o,n, ,i,s, ,e,a,s,y, ,p,r,o,g,r,a,m,m,i,n,g, ,l,a,n,g,u,a,g,e'"
            ],
            "application/vnd.google.colaboratory.intrinsic+json": {
              "type": "string"
            }
          },
          "metadata": {},
          "execution_count": 51
        }
      ]
    },
    {
      "cell_type": "code",
      "source": [
        "func.split(',')"
      ],
      "metadata": {
        "colab": {
          "base_uri": "https://localhost:8080/"
        },
        "id": "5dIXHbDWAX3T",
        "outputId": "8eee20b1-4066-4490-c0c7-c691d87d0b60"
      },
      "execution_count": 52,
      "outputs": [
        {
          "output_type": "execute_result",
          "data": {
            "text/plain": [
              "['p',\n",
              " 'y',\n",
              " 't',\n",
              " 'h',\n",
              " 'o',\n",
              " 'n',\n",
              " ' ',\n",
              " 'i',\n",
              " 's',\n",
              " ' ',\n",
              " 'e',\n",
              " 'a',\n",
              " 's',\n",
              " 'y',\n",
              " ' ',\n",
              " 'p',\n",
              " 'r',\n",
              " 'o',\n",
              " 'g',\n",
              " 'r',\n",
              " 'a',\n",
              " 'm',\n",
              " 'm',\n",
              " 'i',\n",
              " 'n',\n",
              " 'g',\n",
              " ' ',\n",
              " 'l',\n",
              " 'a',\n",
              " 'n',\n",
              " 'g',\n",
              " 'u',\n",
              " 'a',\n",
              " 'g',\n",
              " 'e']"
            ]
          },
          "metadata": {},
          "execution_count": 52
        }
      ]
    },
    {
      "cell_type": "code",
      "source": [
        "some_string = \"python is easy\"\n",
        "some_string.replace(\"python\", \"golang\")"
      ],
      "metadata": {
        "colab": {
          "base_uri": "https://localhost:8080/",
          "height": 35
        },
        "id": "yfWAK5QJAnKA",
        "outputId": "d92b17bd-e0b9-4a74-ca04-6e08fb8dbfb0"
      },
      "execution_count": 54,
      "outputs": [
        {
          "output_type": "execute_result",
          "data": {
            "text/plain": [
              "'golang is easy'"
            ],
            "application/vnd.google.colaboratory.intrinsic+json": {
              "type": "string"
            }
          },
          "metadata": {},
          "execution_count": 54
        }
      ]
    },
    {
      "cell_type": "code",
      "source": [
        "some_string = \"                mic, cable and computer            \""
      ],
      "metadata": {
        "id": "-rbITRvpBCk7"
      },
      "execution_count": 55,
      "outputs": []
    },
    {
      "cell_type": "code",
      "source": [
        "some_string.strip()"
      ],
      "metadata": {
        "colab": {
          "base_uri": "https://localhost:8080/",
          "height": 35
        },
        "id": "TAMhXDyMB30m",
        "outputId": "b169967d-f625-48b2-c0fa-181a443666e2"
      },
      "execution_count": 56,
      "outputs": [
        {
          "output_type": "execute_result",
          "data": {
            "text/plain": [
              "'mic, cable and computer'"
            ],
            "application/vnd.google.colaboratory.intrinsic+json": {
              "type": "string"
            }
          },
          "metadata": {},
          "execution_count": 56
        }
      ]
    },
    {
      "cell_type": "code",
      "source": [
        "some_string = \",.,.,.,.,  .,.,.,.mic, cable and computer,,,,    ,,,,,.,..\"\n",
        "some_string.strip(',. ')"
      ],
      "metadata": {
        "colab": {
          "base_uri": "https://localhost:8080/",
          "height": 35
        },
        "id": "-QvniaytB7Uz",
        "outputId": "29f96038-3952-4617-872f-66dd9739b22d"
      },
      "execution_count": 59,
      "outputs": [
        {
          "output_type": "execute_result",
          "data": {
            "text/plain": [
              "'mic, cable and computer'"
            ],
            "application/vnd.google.colaboratory.intrinsic+json": {
              "type": "string"
            }
          },
          "metadata": {},
          "execution_count": 59
        }
      ]
    },
    {
      "cell_type": "code",
      "source": [
        "some_string.islower()"
      ],
      "metadata": {
        "colab": {
          "base_uri": "https://localhost:8080/"
        },
        "id": "VqEQsgbxCF_x",
        "outputId": "8da9ad3d-0a11-475c-ba11-4eef7bcb2f6e"
      },
      "execution_count": 60,
      "outputs": [
        {
          "output_type": "execute_result",
          "data": {
            "text/plain": [
              "True"
            ]
          },
          "metadata": {},
          "execution_count": 60
        }
      ]
    },
    {
      "cell_type": "code",
      "source": [
        "some_string.isupper()"
      ],
      "metadata": {
        "colab": {
          "base_uri": "https://localhost:8080/"
        },
        "id": "CCwmP-MCCl2j",
        "outputId": "4c38f9fd-effc-4bed-b48a-11abee743a0d"
      },
      "execution_count": 61,
      "outputs": [
        {
          "output_type": "execute_result",
          "data": {
            "text/plain": [
              "False"
            ]
          },
          "metadata": {},
          "execution_count": 61
        }
      ]
    },
    {
      "cell_type": "code",
      "source": [
        "username = input(\"Enter your username > \")\n",
        "user_pw = input(\"Enter your password > \")\n",
        "\n",
        "print(f\"Hello, {username}! Your password is {user_pw}\")"
      ],
      "metadata": {
        "colab": {
          "base_uri": "https://localhost:8080/"
        },
        "id": "EnNL4KJZColc",
        "outputId": "b95bf007-70f8-427f-a041-be0c8075416e"
      },
      "execution_count": 66,
      "outputs": [
        {
          "output_type": "stream",
          "name": "stdout",
          "text": [
            "Enter your username > hello\n",
            "Enter your password > pw\n",
            "Hello, hello! Your password is pw\n"
          ]
        }
      ]
    },
    {
      "cell_type": "code",
      "source": [
        "print(f\"Hello, {username:20}! Your password is {user_pw:*^30}\")"
      ],
      "metadata": {
        "colab": {
          "base_uri": "https://localhost:8080/"
        },
        "id": "d7BL8ESoEJz_",
        "outputId": "1c444512-f2dc-4ae2-ef7b-001a767df540"
      },
      "execution_count": 69,
      "outputs": [
        {
          "output_type": "stream",
          "name": "stdout",
          "text": [
            "Hello, hello               ! Your password is **************pw**************\n"
          ]
        }
      ]
    },
    {
      "cell_type": "code",
      "source": [
        "print(f\"Hello, {username:>20}! Your password is {user_pw:*^30}\")"
      ],
      "metadata": {
        "colab": {
          "base_uri": "https://localhost:8080/"
        },
        "id": "vYS-q70BH-OO",
        "outputId": "6a216419-0308-47d5-c804-b9eae50cfe92"
      },
      "execution_count": 70,
      "outputs": [
        {
          "output_type": "stream",
          "name": "stdout",
          "text": [
            "Hello,                hello! Your password is **************pw**************\n"
          ]
        }
      ]
    },
    {
      "cell_type": "markdown",
      "source": [
        "### Final Practice\n",
        "\n",
        "1. 사용자가 입력한 전화번호를 저장하려합니다. 전화번호의 구분자로 - 또는 를 혼합하\n",
        "여 사용할 때 이를 split과 join을 이용하여 - 로 통일하여 입력 받아 결과물을 출력하세\n",
        "요."
      ],
      "metadata": {
        "id": "7lT-qJbxIy0V"
      }
    },
    {
      "cell_type": "code",
      "source": [
        "# 1\n",
        "\n",
        "phone = input(\"Write your phone numner : \")\n",
        "\"-\".join(phone.split())"
      ],
      "metadata": {
        "colab": {
          "base_uri": "https://localhost:8080/",
          "height": 54
        },
        "id": "qX0573pHIT1S",
        "outputId": "ea99e81f-9bd0-4970-9bbf-1a375e79da8e"
      },
      "execution_count": 82,
      "outputs": [
        {
          "name": "stdout",
          "output_type": "stream",
          "text": [
            "Write your phone numner : 010 0000 0000\n"
          ]
        },
        {
          "output_type": "execute_result",
          "data": {
            "text/plain": [
              "'010-0000-0000'"
            ],
            "application/vnd.google.colaboratory.intrinsic+json": {
              "type": "string"
            }
          },
          "metadata": {},
          "execution_count": 82
        }
      ]
    },
    {
      "cell_type": "markdown",
      "source": [
        "2. 사용자가 다음과 같은 입력을 할때, 그 자료가 알파벳 단독인지, 숫자 단독인지, 알파벳\n",
        "숫자인지, 소문자인지, 대문자인지를 formating 하여 출력하세요.\n",
        "\n",
        "```\n",
        "FAST\n",
        "campus12\n",
        "FastCampus\n",
        "1107\n",
        "dynamite\n",
        "```"
      ],
      "metadata": {
        "id": "RU_nul3mLie2"
      }
    },
    {
      "cell_type": "code",
      "source": [
        "# 2\n",
        "\n",
        "for _ in range (5):\n",
        "  user_input = input(\"Write something : \")\n",
        "  if user_input.isalpha():\n",
        "    print(f\"{user_input} : Only alphabet\")\n",
        "  elif user_input.isdigit():\n",
        "    print(f\"{user_input} : Digit\")\n",
        "  elif user_input.isalnum():\n",
        "    print(f\"{user_input} : Alphabet + Number\")\n",
        "\n",
        "  if user_input.islower():\n",
        "    print(f\"{user_input} : Lower alphabet\")\n",
        "  elif user_input.isupper():\n",
        "    print(f\"{user_input} : Upper alphabet\")\n",
        "  print(\"\")\n"
      ],
      "metadata": {
        "colab": {
          "base_uri": "https://localhost:8080/"
        },
        "id": "3kIf81mJJgra",
        "outputId": "85665c93-c57a-4f2c-cf46-a5612dd85576"
      },
      "execution_count": 83,
      "outputs": [
        {
          "output_type": "stream",
          "name": "stdout",
          "text": [
            "Write something : FAST\n",
            "FAST : Only alphabet\n",
            "FAST : Upper alphabet\n",
            "\n",
            "Write something : campus12\n",
            "campus12 : Alphabet + Number\n",
            "campus12 : Lower alphabet\n",
            "\n",
            "Write something : FastCampus\n",
            "FastCampus : Only alphabet\n",
            "\n",
            "Write something : 1107\n",
            "1107 : Digit\n",
            "\n",
            "Write something : dynamite\n",
            "dynamite : Only alphabet\n",
            "dynamite : Lower alphabet\n",
            "\n"
          ]
        }
      ]
    },
    {
      "cell_type": "code",
      "source": [
        "li = [\"FAST\", \"campus12\", \"FastCampus\", \"1107\", \"dynamite\"]\n",
        "\n",
        "for l in li:\n",
        "  print(f\"is {l} uppercase? {l.isupper()}\")\n",
        "  print(f\"is {l} alphabet with nums? {l.isalnum()}\")\n",
        "  print(f\"is {l} alphabet? {l.isalpha()}\")\n",
        "  print(f\"is {l} nums? {l.isdigit()}\")\n",
        "  print(f\"is {l} lowercase? {l.islower()}\\n\")"
      ],
      "metadata": {
        "colab": {
          "base_uri": "https://localhost:8080/"
        },
        "id": "AX8rDO3zLQKZ",
        "outputId": "e648f94a-10ba-49d4-99df-0f86f4c1cff9"
      },
      "execution_count": 86,
      "outputs": [
        {
          "output_type": "stream",
          "name": "stdout",
          "text": [
            "is FAST uppercase? True\n",
            "is FAST alphabet with nums? True\n",
            "is FAST alphabet? True\n",
            "is FAST nums? False\n",
            "is FAST lowercase? False\n",
            "\n",
            "is campus12 uppercase? False\n",
            "is campus12 alphabet with nums? True\n",
            "is campus12 alphabet? False\n",
            "is campus12 nums? False\n",
            "is campus12 lowercase? True\n",
            "\n",
            "is FastCampus uppercase? False\n",
            "is FastCampus alphabet with nums? True\n",
            "is FastCampus alphabet? True\n",
            "is FastCampus nums? False\n",
            "is FastCampus lowercase? False\n",
            "\n",
            "is 1107 uppercase? False\n",
            "is 1107 alphabet with nums? True\n",
            "is 1107 alphabet? False\n",
            "is 1107 nums? True\n",
            "is 1107 lowercase? False\n",
            "\n",
            "is dynamite uppercase? False\n",
            "is dynamite alphabet with nums? True\n",
            "is dynamite alphabet? True\n",
            "is dynamite nums? False\n",
            "is dynamite lowercase? True\n",
            "\n"
          ]
        }
      ]
    },
    {
      "cell_type": "code",
      "source": [],
      "metadata": {
        "id": "9mBoiAYCQiWi"
      },
      "execution_count": null,
      "outputs": []
    }
  ]
}